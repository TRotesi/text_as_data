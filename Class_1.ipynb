{
 "cells": [
  {
   "cell_type": "markdown",
   "id": "2bac53eb93201d40",
   "metadata": {},
   "source": [
    "### Welcome to SOC 2070 - Text as Data for Social Science Research"
   ]
  },
  {
   "cell_type": "markdown",
   "id": "f9c60cac082cf24c",
   "metadata": {},
   "source": [
    "This is a Markdown cell; it contains formatted text. We'll be using Markdown cells to describe what we are doing with the code and to discuss the results.\n",
    "\n",
    "Make sure you have opened this notebook using the correct Python environment.\n",
    "\n",
    "From the terminal (if using MacOS) or from Anaconda Prompt, you should have run:\n",
    "```\n",
    "conda create -n text_as_data python=3.10\n",
    "conda activate text_as_data\n",
    "conda install anaconda::jupyter\n",
    "conda install anaconda::pandas\n",
    "```"
   ]
  },
  {
   "cell_type": "code",
   "execution_count": 1,
   "id": "8f5cb01b0f32a427",
   "metadata": {
    "ExecuteTime": {
     "end_time": "2024-01-17T16:36:43.652710Z",
     "start_time": "2024-01-17T16:36:43.646683Z"
    },
    "collapsed": false
   },
   "outputs": [
    {
     "name": "stdout",
     "output_type": "stream",
     "text": [
      "Welcome\n"
     ]
    }
   ],
   "source": [
    "#This is a comment in a code cell. Below, we'll write a python line to print a string:\n",
    "print(\"Welcome\")"
   ]
  },
  {
   "cell_type": "markdown",
   "id": "637ae4fb588eb565",
   "metadata": {},
   "source": [
    "Above, you can see the code cell, and directly attached to it, the result from the python code we ran. Since we asked to print the word \"Welcome\", we see this word printed there. "
   ]
  },
  {
   "cell_type": "code",
   "execution_count": 1,
   "id": "8eeefb2ab6b64d6a",
   "metadata": {
    "ExecuteTime": {
     "end_time": "2024-01-26T01:37:57.220503Z",
     "start_time": "2024-01-26T01:37:57.009262Z"
    },
    "collapsed": false
   },
   "outputs": [],
   "source": [
    "import pandas as pd "
   ]
  },
  {
   "cell_type": "markdown",
   "id": "4c00a361857311b7",
   "metadata": {},
   "source": [
    "Now let's try to import one package that we have not installed yet:"
   ]
  },
  {
   "cell_type": "code",
   "execution_count": 2,
   "id": "9e68e5b25f299731",
   "metadata": {
    "ExecuteTime": {
     "end_time": "2024-01-26T01:56:07.330447Z",
     "start_time": "2024-01-26T01:56:05.309646Z"
    },
    "collapsed": false,
    "tags": []
   },
   "outputs": [],
   "source": [
    "import nltk"
   ]
  },
  {
   "cell_type": "markdown",
   "id": "f4bdc970c1fa6bb0",
   "metadata": {},
   "source": [
    "\n",
    "Try installing the package in your environment using \n",
    "```\n",
    "pip install charset\n",
    "pip install charset_normalizer\n",
    "conda install anaconda::nltk\n",
    "```"
   ]
  },
  {
   "cell_type": "code",
   "execution_count": 2,
   "id": "1f2c236488546555",
   "metadata": {
    "ExecuteTime": {
     "end_time": "2024-01-26T01:49:26.759397Z",
     "start_time": "2024-01-26T01:49:26.754144Z"
    },
    "collapsed": false,
    "tags": []
   },
   "outputs": [
    {
     "name": "stdout",
     "output_type": "stream",
     "text": [
      "showing info https://raw.githubusercontent.com/nltk/nltk_data/gh-pages/index.xml\n"
     ]
    },
    {
     "data": {
      "text/plain": [
       "True"
      ]
     },
     "execution_count": 2,
     "metadata": {},
     "output_type": "execute_result"
    }
   ],
   "source": [
    "nltk.download()"
   ]
  },
  {
   "cell_type": "code",
   "execution_count": 3,
   "id": "52781e08687b86ad",
   "metadata": {
    "collapsed": false,
    "tags": []
   },
   "outputs": [
    {
     "name": "stdout",
     "output_type": "stream",
     "text": [
      "*** Introductory Examples for the NLTK Book ***\n",
      "Loading text1, ..., text9 and sent1, ..., sent9\n",
      "Type the name of the text or sentence to view it.\n",
      "Type: 'texts()' or 'sents()' to list the materials.\n",
      "text1: Moby Dick by Herman Melville 1851\n",
      "text2: Sense and Sensibility by Jane Austen 1811\n",
      "text3: The Book of Genesis\n",
      "text4: Inaugural Address Corpus\n",
      "text5: Chat Corpus\n",
      "text6: Monty Python and the Holy Grail\n",
      "text7: Wall Street Journal\n",
      "text8: Personals Corpus\n",
      "text9: The Man Who Was Thursday by G . K . Chesterton 1908\n"
     ]
    }
   ],
   "source": [
    "from nltk.book import *"
   ]
  },
  {
   "cell_type": "code",
   "execution_count": 4,
   "id": "f2bce3b2-70b7-426f-b145-aa966749d1a5",
   "metadata": {
    "tags": []
   },
   "outputs": [
    {
     "name": "stdout",
     "output_type": "stream",
     "text": [
      "text1: Moby Dick by Herman Melville 1851\n",
      "text2: Sense and Sensibility by Jane Austen 1811\n",
      "text3: The Book of Genesis\n",
      "text4: Inaugural Address Corpus\n",
      "text5: Chat Corpus\n",
      "text6: Monty Python and the Holy Grail\n",
      "text7: Wall Street Journal\n",
      "text8: Personals Corpus\n",
      "text9: The Man Who Was Thursday by G . K . Chesterton 1908\n"
     ]
    }
   ],
   "source": [
    "texts()"
   ]
  },
  {
   "cell_type": "code",
   "execution_count": 5,
   "id": "cceaa340-48e8-4f78-a235-a070ba80ce50",
   "metadata": {
    "tags": []
   },
   "outputs": [
    {
     "data": {
      "text/plain": [
       "<Text: Moby Dick by Herman Melville 1851>"
      ]
     },
     "execution_count": 5,
     "metadata": {},
     "output_type": "execute_result"
    }
   ],
   "source": [
    "text1"
   ]
  },
  {
   "cell_type": "code",
   "execution_count": 7,
   "id": "95d24a30-664d-4dfe-8eb6-4cd78bcb00bd",
   "metadata": {
    "tags": []
   },
   "outputs": [
    {
     "data": {
      "text/plain": [
       "nltk.text.Text"
      ]
     },
     "execution_count": 7,
     "metadata": {},
     "output_type": "execute_result"
    }
   ],
   "source": [
    "type(text1)"
   ]
  },
  {
   "cell_type": "code",
   "execution_count": 10,
   "id": "ce5f33a7-df5d-43f0-ae3c-4526d0ed9d4c",
   "metadata": {
    "tags": []
   },
   "outputs": [
    {
     "data": {
      "text/plain": [
       "['_CONTEXT_RE',\n",
       " '_COPY_TOKENS',\n",
       " '__class__',\n",
       " '__delattr__',\n",
       " '__dict__',\n",
       " '__dir__',\n",
       " '__doc__',\n",
       " '__eq__',\n",
       " '__format__',\n",
       " '__ge__',\n",
       " '__getattribute__',\n",
       " '__getitem__',\n",
       " '__gt__',\n",
       " '__hash__',\n",
       " '__init__',\n",
       " '__init_subclass__',\n",
       " '__le__',\n",
       " '__len__',\n",
       " '__lt__',\n",
       " '__module__',\n",
       " '__ne__',\n",
       " '__new__',\n",
       " '__reduce__',\n",
       " '__reduce_ex__',\n",
       " '__repr__',\n",
       " '__setattr__',\n",
       " '__sizeof__',\n",
       " '__str__',\n",
       " '__subclasshook__',\n",
       " '__weakref__',\n",
       " '_context',\n",
       " '_train_default_ngram_lm',\n",
       " 'collocation_list',\n",
       " 'collocations',\n",
       " 'common_contexts',\n",
       " 'concordance',\n",
       " 'concordance_list',\n",
       " 'count',\n",
       " 'dispersion_plot',\n",
       " 'findall',\n",
       " 'generate',\n",
       " 'index',\n",
       " 'name',\n",
       " 'plot',\n",
       " 'readability',\n",
       " 'similar',\n",
       " 'tokens',\n",
       " 'vocab']"
      ]
     },
     "execution_count": 10,
     "metadata": {},
     "output_type": "execute_result"
    }
   ],
   "source": [
    "dir(text1)"
   ]
  },
  {
   "cell_type": "code",
   "execution_count": 15,
   "id": "125ccf00-04e7-4701-b27b-3f26e91797cc",
   "metadata": {
    "tags": []
   },
   "outputs": [
    {
     "data": {
      "text/plain": [
       "[('Sperm', 'Whale'), ('Moby', 'Dick')]"
      ]
     },
     "execution_count": 15,
     "metadata": {},
     "output_type": "execute_result"
    }
   ],
   "source": [
    "text1.collocation_list()[:2]"
   ]
  },
  {
   "cell_type": "code",
   "execution_count": 24,
   "id": "865e99fc-eae1-49b4-b944-cb34d6c81e0e",
   "metadata": {
    "tags": []
   },
   "outputs": [
    {
     "name": "stdout",
     "output_type": "stream",
     "text": [
      "Displaying 21 of 21 matches:\n",
      "ere content to ascribe the peculiar terror he bred , more , as it were , to th\n",
      "uch invested the whale with natural terror , as that unexampled , intelligent \n",
      "rrible in itself , to heighten that terror to the furthest bounds . Witness th\n",
      "you would not have that intensified terror . As for the white shark , the whit\n",
      "me time enforced a certain nameless terror . But there are other instances whe\n",
      "the prime agent in exaggerating the terror of objects otherwise terrible ; nor\n",
      "nimaginative mind is there aught of terror in those appearances whose awfulnes\n",
      " not so , O New Zealand Jack ! thou terror of all cruisers that crossed their \n",
      "turally invested it ; that the full terror of the voyage must be kept withdraw\n",
      "vered more ; yet still they felt no terror ; rather pleasure . For though it w\n",
      " hat betoken his grand features . A terror to the smiling innocence of the vil\n",
      " a thing which carries more of true terror than any other aspect of this dange\n",
      " not at heart feel one whit more of terror , than though seated before your ev\n",
      " becomes a dangling , sharp - edged terror , skittishly curvetting about both \n",
      "whale ' s body may have been a real terror to his foes , in his death his ghos\n",
      " the vial !\" Gabriel called off the terror - stricken crew from the further hu\n",
      "rgin allowed . He became a nameless terror to the ship . Mayhew having conclud\n",
      "ents , this apartment is a scene of terror to all tyros , especially by night \n",
      " unholy adventures , their tales of terror told in words of mirth ; as their u\n",
      " the mariners did run from him in a terror of dismay . CHAPTER 120 The Deck To\n",
      "er , all !\" As if to strike a quick terror into them , by this time being the \n"
     ]
    }
   ],
   "source": [
    "text1.concordance(\"terror\")"
   ]
  },
  {
   "cell_type": "code",
   "execution_count": 23,
   "id": "16c808bc-a361-4602-a71a-bdfdadfd2b8f",
   "metadata": {
    "tags": []
   },
   "outputs": [
    {
     "name": "stdout",
     "output_type": "stream",
     "text": [
      "man whale thing land way ship voyage bone night distance harpooneer\n",
      "sight picture sign sound speed school him it them\n"
     ]
    }
   ],
   "source": [
    "text1.similar(\"terror\")"
   ]
  },
  {
   "cell_type": "code",
   "execution_count": 26,
   "id": "7792f930-694d-4303-99e7-bd51d7e26c75",
   "metadata": {
    "tags": []
   },
   "outputs": [
    {
     "data": {
      "text/plain": [
       "['[',\n",
       " 'Moby',\n",
       " 'Dick',\n",
       " 'by',\n",
       " 'Herman',\n",
       " 'Melville',\n",
       " '1851',\n",
       " ']',\n",
       " 'ETYMOLOGY',\n",
       " '.']"
      ]
     },
     "execution_count": 26,
     "metadata": {},
     "output_type": "execute_result"
    }
   ],
   "source": [
    "text1.tokens[:10]"
   ]
  },
  {
   "cell_type": "code",
   "execution_count": 33,
   "id": "2391fed5-5c3c-41aa-a2e2-5b32fc889c24",
   "metadata": {
    "tags": []
   },
   "outputs": [
    {
     "name": "stdout",
     "output_type": "stream",
     "text": [
      "Displaying 1 of 1 matches:\n",
      "chem . And they journeyed : and the terror of God was upon the cities that wer\n"
     ]
    }
   ],
   "source": [
    "text3.concordance(\"terror\")"
   ]
  },
  {
   "cell_type": "code",
   "execution_count": 34,
   "id": "eb54095b-1340-4a6b-b59d-60ee8bd336c3",
   "metadata": {
    "tags": []
   },
   "outputs": [
    {
     "name": "stdout",
     "output_type": "stream",
     "text": [
      "beginning god face spirit waters good day firmament midst place land\n",
      "gathering herb fruit tree days stars life fowl blessed\n"
     ]
    }
   ],
   "source": [
    "text3.similar(\"terror\")"
   ]
  },
  {
   "cell_type": "code",
   "execution_count": 36,
   "id": "60b4ddbe-5228-4166-8754-7fd2a1e12ff4",
   "metadata": {
    "tags": []
   },
   "outputs": [
    {
     "name": "stdout",
     "output_type": "stream",
     "text": [
      "Displaying 5 of 5 matches:\n",
      "upon the face of the deep . And the Spirit of God moved upon the face of the w\n",
      "they chose . And the LORD said , My spirit shall not always strive with man , \n",
      "ame to pass in the morning that his spirit was troubled ; and he sent and call\n",
      " one as this is , a man in whom the Spirit of God is ? And Pharaoh said unto J\n",
      " Joseph had sent to carry him , the spirit of Jacob their father reviv And Isr\n"
     ]
    }
   ],
   "source": [
    "text3.concordance(\"spirit\")"
   ]
  },
  {
   "cell_type": "code",
   "execution_count": 1,
   "id": "a2ada9eb-8fc7-4660-8799-cf41334ffca5",
   "metadata": {
    "ExecuteTime": {
     "end_time": "2024-01-26T16:34:48.553155Z",
     "start_time": "2024-01-26T16:34:48.548979Z"
    }
   },
   "outputs": [],
   "source": [
    "x=5"
   ]
  }
 ],
 "metadata": {
  "kernelspec": {
   "display_name": "Python 3 (ipykernel)",
   "language": "python",
   "name": "python3"
  },
  "language_info": {
   "codemirror_mode": {
    "name": "ipython",
    "version": 3
   },
   "file_extension": ".py",
   "mimetype": "text/x-python",
   "name": "python",
   "nbconvert_exporter": "python",
   "pygments_lexer": "ipython3",
   "version": "3.10.13"
  }
 },
 "nbformat": 4,
 "nbformat_minor": 5
}
