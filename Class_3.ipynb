{
 "cells": [
  {
   "cell_type": "markdown",
   "source": [
    "# Class 3: Loading Data, Tokenization, Exploratory Analysis\n",
    "For this class we will use the dataset [57,650 Spotify Songs](https://www.kaggle.com/datasets/joebeachcapital/57651-spotify-songs) from Kaggle. You can download directly from the website using their API, but for simplicity you can find the file on Canvas. "
   ],
   "metadata": {
    "collapsed": false
   },
   "id": "a1024c90d07ec66d"
  },
  {
   "cell_type": "markdown",
   "source": [
    "Before starting, we need to install libraries that will turn out useful:\n",
    "```\n",
    "conda install matplotlib\n",
    "conda install -c conda-forge spacy\n",
    "python -m spacy download en_core_web_sm\n",
    "conda install anaconda::scikit-learn\n",
    "conda install anaconda::gensim\n",
    "```\n",
    "We are installing matlib and spaCy. Notice here that for spaCy we are installing a pipeline that is optimized for English. If you need to analyze text in other languages using spaCy, check [this page](https://spacy.io/usage) and select the right pipeline."
   ],
   "metadata": {
    "collapsed": false
   },
   "id": "528f1788bff92145"
  },
  {
   "cell_type": "code",
   "execution_count": 1,
   "outputs": [],
   "source": [
    "import os\n",
    "os.chdir(\"Text_as_data/Data/Class3\")\n",
    "import pandas as pd\n",
    "import matplotlib.pyplot as plt #We will use this package to make plots"
   ],
   "metadata": {
    "collapsed": false,
    "ExecuteTime": {
     "end_time": "2024-02-09T16:32:00.962262Z",
     "start_time": "2024-02-09T16:32:00.041725Z"
    }
   },
   "id": "97131fa260e22a69"
  },
  {
   "cell_type": "code",
   "execution_count": 2,
   "outputs": [],
   "source": [
    "df = pd.read_csv(\"Spotify Million Song Dataset_exported.csv\")"
   ],
   "metadata": {
    "collapsed": false,
    "ExecuteTime": {
     "end_time": "2024-02-09T16:32:01.473180Z",
     "start_time": "2024-02-09T16:32:00.962139Z"
    }
   },
   "id": "75c8413b3dbbf341"
  },
  {
   "cell_type": "code",
   "execution_count": 3,
   "outputs": [],
   "source": [
    "#We won't be using the column \"link\" so let's eliminate\n",
    "df = df.drop(columns=\"link\")"
   ],
   "metadata": {
    "collapsed": false,
    "ExecuteTime": {
     "end_time": "2024-02-09T16:32:01.479174Z",
     "start_time": "2024-02-09T16:32:01.477211Z"
    }
   },
   "id": "5dcab0a02fc6084d"
  },
  {
   "cell_type": "code",
   "execution_count": 4,
   "outputs": [
    {
     "data": {
      "text/plain": "              artist                                    song  \\\ncount          57650                                   57650   \nunique           643                                   44824   \ntop     Donna Summer  Have Yourself A Merry Little Christmas   \nfreq             191                                      35   \n\n                                                     text  \ncount                                               57650  \nunique                                              57494  \ntop     I just came back from a lovely trip along the ...  \nfreq                                                    6  ",
      "text/html": "<div>\n<style scoped>\n    .dataframe tbody tr th:only-of-type {\n        vertical-align: middle;\n    }\n\n    .dataframe tbody tr th {\n        vertical-align: top;\n    }\n\n    .dataframe thead th {\n        text-align: right;\n    }\n</style>\n<table border=\"1\" class=\"dataframe\">\n  <thead>\n    <tr style=\"text-align: right;\">\n      <th></th>\n      <th>artist</th>\n      <th>song</th>\n      <th>text</th>\n    </tr>\n  </thead>\n  <tbody>\n    <tr>\n      <th>count</th>\n      <td>57650</td>\n      <td>57650</td>\n      <td>57650</td>\n    </tr>\n    <tr>\n      <th>unique</th>\n      <td>643</td>\n      <td>44824</td>\n      <td>57494</td>\n    </tr>\n    <tr>\n      <th>top</th>\n      <td>Donna Summer</td>\n      <td>Have Yourself A Merry Little Christmas</td>\n      <td>I just came back from a lovely trip along the ...</td>\n    </tr>\n    <tr>\n      <th>freq</th>\n      <td>191</td>\n      <td>35</td>\n      <td>6</td>\n    </tr>\n  </tbody>\n</table>\n</div>"
     },
     "execution_count": 4,
     "metadata": {},
     "output_type": "execute_result"
    }
   ],
   "source": [
    "df.describe()"
   ],
   "metadata": {
    "collapsed": false,
    "ExecuteTime": {
     "end_time": "2024-02-09T16:32:01.556313Z",
     "start_time": "2024-02-09T16:32:01.482103Z"
    }
   },
   "id": "6b234519ff9d417b"
  },
  {
   "cell_type": "markdown",
   "source": [
    "You can see we have 57650 songs from 643 artists. Already from there we see that Donna Summer has 191 songs. Another way to confirm this is the following:"
   ],
   "metadata": {
    "collapsed": false
   },
   "id": "a9c69136d33185a8"
  },
  {
   "cell_type": "code",
   "execution_count": 5,
   "outputs": [
    {
     "data": {
      "text/plain": "191"
     },
     "execution_count": 5,
     "metadata": {},
     "output_type": "execute_result"
    }
   ],
   "source": [
    "len(df.loc[df[\"artist\"]==\"Donna Summer\"])"
   ],
   "metadata": {
    "collapsed": false,
    "ExecuteTime": {
     "end_time": "2024-02-09T16:32:01.561121Z",
     "start_time": "2024-02-09T16:32:01.554581Z"
    }
   },
   "id": "2abe62ffcd321780"
  },
  {
   "cell_type": "code",
   "execution_count": 6,
   "outputs": [
    {
     "data": {
      "text/plain": "              song\nartist            \n'n Sync         93\nABBA           113\nAce Of Base     74\nAdam Sandler    70\nAdele           54",
      "text/html": "<div>\n<style scoped>\n    .dataframe tbody tr th:only-of-type {\n        vertical-align: middle;\n    }\n\n    .dataframe tbody tr th {\n        vertical-align: top;\n    }\n\n    .dataframe thead th {\n        text-align: right;\n    }\n</style>\n<table border=\"1\" class=\"dataframe\">\n  <thead>\n    <tr style=\"text-align: right;\">\n      <th></th>\n      <th>song</th>\n    </tr>\n    <tr>\n      <th>artist</th>\n      <th></th>\n    </tr>\n  </thead>\n  <tbody>\n    <tr>\n      <th>'n Sync</th>\n      <td>93</td>\n    </tr>\n    <tr>\n      <th>ABBA</th>\n      <td>113</td>\n    </tr>\n    <tr>\n      <th>Ace Of Base</th>\n      <td>74</td>\n    </tr>\n    <tr>\n      <th>Adam Sandler</th>\n      <td>70</td>\n    </tr>\n    <tr>\n      <th>Adele</th>\n      <td>54</td>\n    </tr>\n  </tbody>\n</table>\n</div>"
     },
     "execution_count": 6,
     "metadata": {},
     "output_type": "execute_result"
    }
   ],
   "source": [
    "artists = df[['song', 'artist']].groupby(by=\"artist\").count()\n",
    "artists.head()"
   ],
   "metadata": {
    "collapsed": false,
    "ExecuteTime": {
     "end_time": "2024-02-09T16:32:01.568278Z",
     "start_time": "2024-02-09T16:32:01.558750Z"
    }
   },
   "id": "2212ebbc9a092518"
  },
  {
   "cell_type": "code",
   "execution_count": 7,
   "outputs": [
    {
     "data": {
      "text/plain": "<Figure size 640x480 with 1 Axes>",
      "image/png": "[encoded data removed]"
     },
     "metadata": {},
     "output_type": "display_data"
    }
   ],
   "source": [
    "# Plot the histogram using pandas plot_hist\n",
    "artists['song'].hist(bins=20)\n",
    "plt.title('Histogram of Songs by Artist')\n",
    "plt.xlabel('Number of Songs')\n",
    "plt.ylabel('Number of Artists')\n",
    "plt.show()"
   ],
   "metadata": {
    "collapsed": false,
    "ExecuteTime": {
     "end_time": "2024-02-09T16:32:01.723547Z",
     "start_time": "2024-02-09T16:32:01.565419Z"
    }
   },
   "id": "364b1a3558521e71"
  },
  {
   "cell_type": "markdown",
   "source": [
    "## Songs Songs Songs\n",
    "We are interested in the lyrics of the songs."
   ],
   "metadata": {
    "collapsed": false
   },
   "id": "44d2f5dff5fdebc3"
  },
  {
   "cell_type": "code",
   "execution_count": 8,
   "outputs": [
    {
     "data": {
      "text/plain": "  artist                   song  \\\n0   ABBA  Ahe's My Kind Of Girl   \n1   ABBA       Andante, Andante   \n2   ABBA         As Good As New   \n3   ABBA                   Bang   \n4   ABBA       Bang-A-Boomerang   \n\n                                                text  len  \n0  Look at her face, it's a wonderful face  \\nAnd...  174  \n1  Take it easy with me, please  \\nTouch me gentl...  316  \n2  I'll never know why I had to go  \\nWhy I had t...  354  \n3  Making somebody happy is a question of give an...  243  \n4  Making somebody happy is a question of give an...  241  ",
      "text/html": "<div>\n<style scoped>\n    .dataframe tbody tr th:only-of-type {\n        vertical-align: middle;\n    }\n\n    .dataframe tbody tr th {\n        vertical-align: top;\n    }\n\n    .dataframe thead th {\n        text-align: right;\n    }\n</style>\n<table border=\"1\" class=\"dataframe\">\n  <thead>\n    <tr style=\"text-align: right;\">\n      <th></th>\n      <th>artist</th>\n      <th>song</th>\n      <th>text</th>\n      <th>len</th>\n    </tr>\n  </thead>\n  <tbody>\n    <tr>\n      <th>0</th>\n      <td>ABBA</td>\n      <td>Ahe's My Kind Of Girl</td>\n      <td>Look at her face, it's a wonderful face  \\nAnd...</td>\n      <td>174</td>\n    </tr>\n    <tr>\n      <th>1</th>\n      <td>ABBA</td>\n      <td>Andante, Andante</td>\n      <td>Take it easy with me, please  \\nTouch me gentl...</td>\n      <td>316</td>\n    </tr>\n    <tr>\n      <th>2</th>\n      <td>ABBA</td>\n      <td>As Good As New</td>\n      <td>I'll never know why I had to go  \\nWhy I had t...</td>\n      <td>354</td>\n    </tr>\n    <tr>\n      <th>3</th>\n      <td>ABBA</td>\n      <td>Bang</td>\n      <td>Making somebody happy is a question of give an...</td>\n      <td>243</td>\n    </tr>\n    <tr>\n      <th>4</th>\n      <td>ABBA</td>\n      <td>Bang-A-Boomerang</td>\n      <td>Making somebody happy is a question of give an...</td>\n      <td>241</td>\n    </tr>\n  </tbody>\n</table>\n</div>"
     },
     "execution_count": 8,
     "metadata": {},
     "output_type": "execute_result"
    }
   ],
   "source": [
    "#How many words do these lyrics contain?\n",
    "df['len']=df['text'].str.split(\" \").str.len()\n",
    "df.head()"
   ],
   "metadata": {
    "collapsed": false,
    "ExecuteTime": {
     "end_time": "2024-02-09T16:32:02.246250Z",
     "start_time": "2024-02-09T16:32:01.731359Z"
    }
   },
   "id": "fb02b3d025b6bb0e"
  },
  {
   "cell_type": "code",
   "execution_count": 9,
   "outputs": [
    {
     "data": {
      "text/plain": "<Figure size 640x480 with 1 Axes>",
      "image/png": "[encoded data removed]"
     },
     "metadata": {},
     "output_type": "display_data"
    }
   ],
   "source": [
    "df['len'].hist(bins=20)\n",
    "plt.title('Histogram of Number of Words by Song')\n",
    "plt.xlabel('Number of Words')\n",
    "plt.ylabel('Number of Songs')\n",
    "plt.show()"
   ],
   "metadata": {
    "collapsed": false,
    "ExecuteTime": {
     "end_time": "2024-02-09T16:32:02.554153Z",
     "start_time": "2024-02-09T16:32:02.488662Z"
    }
   },
   "id": "226639bef352b05"
  },
  {
   "cell_type": "code",
   "execution_count": 10,
   "outputs": [
    {
     "data": {
      "text/plain": "Empty DataFrame\nColumns: [artist, song, text, len]\nIndex: []",
      "text/html": "<div>\n<style scoped>\n    .dataframe tbody tr th:only-of-type {\n        vertical-align: middle;\n    }\n\n    .dataframe tbody tr th {\n        vertical-align: top;\n    }\n\n    .dataframe thead th {\n        text-align: right;\n    }\n</style>\n<table border=\"1\" class=\"dataframe\">\n  <thead>\n    <tr style=\"text-align: right;\">\n      <th></th>\n      <th>artist</th>\n      <th>song</th>\n      <th>text</th>\n      <th>len</th>\n    </tr>\n  </thead>\n  <tbody>\n  </tbody>\n</table>\n</div>"
     },
     "execution_count": 10,
     "metadata": {},
     "output_type": "execute_result"
    }
   ],
   "source": [
    "df.loc[df[\"len\"]==0].head(20)"
   ],
   "metadata": {
    "collapsed": false,
    "ExecuteTime": {
     "end_time": "2024-02-09T16:32:02.554973Z",
     "start_time": "2024-02-09T16:32:02.546707Z"
    }
   },
   "id": "83ece7d6fd81d8b3"
  },
  {
   "cell_type": "code",
   "execution_count": 11,
   "outputs": [
    {
     "data": {
      "text/plain": "count    57650.000000\nmean       263.761995\nstd        127.158084\nmin         63.000000\n25%        175.000000\n50%        236.000000\n75%        317.000000\nmax        950.000000\nName: len, dtype: float64"
     },
     "execution_count": 11,
     "metadata": {},
     "output_type": "execute_result"
    }
   ],
   "source": [
    "df['len'].describe()"
   ],
   "metadata": {
    "collapsed": false,
    "ExecuteTime": {
     "end_time": "2024-02-09T16:32:02.555257Z",
     "start_time": "2024-02-09T16:32:02.549442Z"
    }
   },
   "id": "c1ba41a5b302069a"
  },
  {
   "cell_type": "markdown",
   "source": [
    "Let's  look at an \"average\" song in terms of length, we can take a song in the 50th percentile."
   ],
   "metadata": {
    "collapsed": false
   },
   "id": "f94e326ac8b25969"
  },
  {
   "cell_type": "code",
   "execution_count": 12,
   "outputs": [
    {
     "data": {
      "text/plain": "\"Come to my loveland, wander along  \\nBeautiful gardens full of flowers and songs  \\nCome to the sunshine, beaches and sand  \\nHere's the two bluebirds, won't you come to my land  \\n  \\nThe grass is mellow and the sky is blue  \\nMy paradise is waiting here for you  \\n  \\nOh, it's a tropical loveland  \\nOh, I want to share it with you  \\nLife can be funny  \\nHappy and sunny  \\nOh, in my tropical loveland  \\n  \\nCome to my loveland, wander with me  \\nLie with me darling in the shade of a tree  \\nOver the rainbow, under the moon  \\nThat's where my land is, won't you come to me soon?  \\n  \\nJust take my hand, I'll show you everything  \\nThe secrets that my paradise can bring  \\n  \\nOh, it's a tropical loveland  \\nOh, I want to share it with you  \\nLife can be funny  \\nHappy and sunny  \\nOh, in my tropical loveland  \\n  \\nOh, it's a tropical loveland  \\nOh, I want to share it with you  \\n(I want to share it with you)  \\nOh, it's a tropical loveland  \\n(It's a tropical loveland)  \\nOh, I want to share it with you  \\nOh, it's a tropical loveland  \\nOh, I want to share it with you\\n\\n\""
     },
     "execution_count": 12,
     "metadata": {},
     "output_type": "execute_result"
    }
   ],
   "source": [
    "df['text'].loc[df['len']==236].iloc[0]"
   ],
   "metadata": {
    "collapsed": false,
    "ExecuteTime": {
     "end_time": "2024-02-09T16:32:02.564844Z",
     "start_time": "2024-02-09T16:32:02.554087Z"
    }
   },
   "id": "ec060f3f44bf5af8"
  },
  {
   "cell_type": "markdown",
   "source": [
    "You might have noticed the string \\n, which identifies a new line. "
   ],
   "metadata": {
    "collapsed": false
   },
   "id": "f7eabd134edaeba2"
  },
  {
   "cell_type": "code",
   "execution_count": 13,
   "outputs": [
    {
     "name": "stdout",
     "output_type": "stream",
     "text": [
      "How many roads must a man walk down  \n",
      "Before you can call him a man?  \n",
      "How many seas must a white dove sail  \n",
      "Before she sleeps in the sand?  \n",
      "Yes, how many times must the cannon balls fly  \n",
      "Before they're forever banned?  \n",
      "The answer my friend is blowin' in the wind  \n",
      "The answer is blowin' in the wind.  \n",
      "  \n",
      "Yes, how many years can a mountain exist  \n",
      "Before it's washed to the sea?  \n",
      "Yes, how many years can some people exist  \n",
      "Before they're allowed to be free?  \n",
      "Yes, how many times can a man turn his head  \n",
      "Pretending he just doesn't see?  \n",
      "The answer my friend is blowin' in the wind  \n",
      "The answer is blowin' in the wind.  \n",
      "  \n",
      "Yes, how many times must a man look up  \n",
      "Before he can really see the sky?  \n",
      "Yes, how many ears must one man have  \n",
      "Before he can hear people cry?  \n",
      "Yes, how many deaths will it take till he knows  \n",
      "That too many people have died?  \n",
      "The answer my friend is blowin' in the wind  \n",
      "The answer is blowin' in the wind.\n"
     ]
    }
   ],
   "source": [
    "print(df['text'].loc[df['song']==\"Blowin' In The Wind\"].iloc[0])"
   ],
   "metadata": {
    "collapsed": false,
    "ExecuteTime": {
     "end_time": "2024-02-09T16:32:02.565417Z",
     "start_time": "2024-02-09T16:32:02.559687Z"
    }
   },
   "id": "2e9b6608e9fe485d"
  },
  {
   "cell_type": "code",
   "execution_count": 14,
   "outputs": [
    {
     "data": {
      "text/plain": "Index(['artist', 'song', 'text', 'len'], dtype='object')"
     },
     "execution_count": 14,
     "metadata": {},
     "output_type": "execute_result"
    }
   ],
   "source": [
    "df.columns"
   ],
   "metadata": {
    "collapsed": false,
    "ExecuteTime": {
     "end_time": "2024-02-09T16:32:02.567028Z",
     "start_time": "2024-02-09T16:32:02.562191Z"
    }
   },
   "id": "1b7d804732e149a9"
  },
  {
   "cell_type": "markdown",
   "source": [
    "### Keeping track of memory usage "
   ],
   "metadata": {
    "collapsed": false
   },
   "id": "a27f003dcdcddd18"
  },
  {
   "cell_type": "code",
   "execution_count": 15,
   "outputs": [
    {
     "name": "stdout",
     "output_type": "stream",
     "text": [
      "Total memory usage of the DataFrame: 76.14 MB\n"
     ]
    }
   ],
   "source": [
    "# Calculate memory usage\n",
    "total_memory_bytes = df.memory_usage(deep=True).sum()\n",
    "total_memory_megabytes = total_memory_bytes / (1024 ** 2)\n",
    "\n",
    "print(f\"Total memory usage of the DataFrame: {total_memory_megabytes:.2f} MB\")"
   ],
   "metadata": {
    "collapsed": false,
    "ExecuteTime": {
     "end_time": "2024-02-09T16:32:02.646128Z",
     "start_time": "2024-02-09T16:32:02.585324Z"
    }
   },
   "id": "101a811d3446318d"
  },
  {
   "cell_type": "markdown",
   "source": [
    "Here we observe how many megabytes (MB) of memory our dataset occupies. This dataset is sufficiently small and should not cause any problems on your computer. However, as the dataset grows larger, it's crucial to monitor memory usage: it may not be possible to run the code in your laptop! Also, paying attention to memory usage can help us spot elements that make our code inefficient.\n",
    "\n",
    "A prudent approach, particularly with large datasets, is to test your code on a random subset of the data first. This strategy enables faster execution and allows us to address any issues before applying the code to the entire dataset.\n",
    "\n",
    "In class, we will use a random subset of 1000 songs."
   ],
   "metadata": {
    "collapsed": false
   },
   "id": "9606195fdbd2495b"
  },
  {
   "cell_type": "code",
   "execution_count": 16,
   "outputs": [],
   "source": [
    "df = df.sample(n=1000, random_state=123).reset_index(drop=True)"
   ],
   "metadata": {
    "collapsed": false,
    "ExecuteTime": {
     "end_time": "2024-02-09T16:32:02.646316Z",
     "start_time": "2024-02-09T16:32:02.588955Z"
    }
   },
   "id": "5c42fba8fa39bfb5"
  },
  {
   "cell_type": "markdown",
   "source": [
    "# Tokens\n",
    "We now want to create tokens so that we can then proceed to simplify the text. "
   ],
   "metadata": {
    "collapsed": false
   },
   "id": "81a2417299de10a7"
  },
  {
   "cell_type": "markdown",
   "source": [
    "## NLTK\n",
    "For other material, see [NLTK book chapter 3](https://www.nltk.org/book/ch03.html)."
   ],
   "metadata": {
    "collapsed": false
   },
   "id": "6484e3ed26db3dd4"
  },
  {
   "cell_type": "code",
   "execution_count": 17,
   "outputs": [],
   "source": [
    "import nltk\n",
    "df['tokens']=df['text'].apply(nltk.word_tokenize)"
   ],
   "metadata": {
    "collapsed": false,
    "ExecuteTime": {
     "end_time": "2024-02-09T16:32:04.326143Z",
     "start_time": "2024-02-09T16:32:02.591808Z"
    }
   },
   "id": "1e94b0081feaeaac"
  },
  {
   "cell_type": "code",
   "execution_count": 18,
   "outputs": [
    {
     "data": {
      "text/plain": "                                                text  \\\n0  Gone too far  \\nGone too long  \\nMessed it up ...   \n1  Well, your railroad gate, you know I just can'...   \n2  Hobo - I'm hobophobic So what ah ah ah  \\nScar...   \n3  This is the most unusual story  \\nOf a most un...   \n4  There's a girl in the mirror  \\nI wonder who s...   \n\n                                              tokens  \n0  [Gone, too, far, Gone, too, long, Messed, it, ...  \n1  [Well, ,, your, railroad, gate, ,, you, know, ...  \n2  [Hobo, -, I, 'm, hobophobic, So, what, ah, ah,...  \n3  [This, is, the, most, unusual, story, Of, a, m...  \n4  [There, 's, a, girl, in, the, mirror, I, wonde...  ",
      "text/html": "<div>\n<style scoped>\n    .dataframe tbody tr th:only-of-type {\n        vertical-align: middle;\n    }\n\n    .dataframe tbody tr th {\n        vertical-align: top;\n    }\n\n    .dataframe thead th {\n        text-align: right;\n    }\n</style>\n<table border=\"1\" class=\"dataframe\">\n  <thead>\n    <tr style=\"text-align: right;\">\n      <th></th>\n      <th>text</th>\n      <th>tokens</th>\n    </tr>\n  </thead>\n  <tbody>\n    <tr>\n      <th>0</th>\n      <td>Gone too far  \\nGone too long  \\nMessed it up ...</td>\n      <td>[Gone, too, far, Gone, too, long, Messed, it, ...</td>\n    </tr>\n    <tr>\n      <th>1</th>\n      <td>Well, your railroad gate, you know I just can'...</td>\n      <td>[Well, ,, your, railroad, gate, ,, you, know, ...</td>\n    </tr>\n    <tr>\n      <th>2</th>\n      <td>Hobo - I'm hobophobic So what ah ah ah  \\nScar...</td>\n      <td>[Hobo, -, I, 'm, hobophobic, So, what, ah, ah,...</td>\n    </tr>\n    <tr>\n      <th>3</th>\n      <td>This is the most unusual story  \\nOf a most un...</td>\n      <td>[This, is, the, most, unusual, story, Of, a, m...</td>\n    </tr>\n    <tr>\n      <th>4</th>\n      <td>There's a girl in the mirror  \\nI wonder who s...</td>\n      <td>[There, 's, a, girl, in, the, mirror, I, wonde...</td>\n    </tr>\n  </tbody>\n</table>\n</div>"
     },
     "execution_count": 18,
     "metadata": {},
     "output_type": "execute_result"
    }
   ],
   "source": [
    "df[['text', 'tokens']].head()"
   ],
   "metadata": {
    "collapsed": false,
    "ExecuteTime": {
     "end_time": "2024-02-09T16:32:04.332654Z",
     "start_time": "2024-02-09T16:32:04.329028Z"
    }
   },
   "id": "f588281adbe3c4f8"
  },
  {
   "cell_type": "code",
   "execution_count": 19,
   "outputs": [
    {
     "data": {
      "text/plain": "['Gone',\n 'too',\n 'far',\n 'Gone',\n 'too',\n 'long',\n 'Messed',\n 'it',\n 'up',\n 'completely',\n 'Till',\n 'everything',\n 'is',\n 'wrong',\n 'Stop']"
     },
     "execution_count": 19,
     "metadata": {},
     "output_type": "execute_result"
    }
   ],
   "source": [
    "#We can look at the first 15 tokens obtained from the first song. \n",
    "df.loc[0,'tokens'][0:15]"
   ],
   "metadata": {
    "collapsed": false,
    "ExecuteTime": {
     "end_time": "2024-02-09T16:32:04.336172Z",
     "start_time": "2024-02-09T16:32:04.332466Z"
    }
   },
   "id": "65ab0c8714e1f798"
  },
  {
   "cell_type": "markdown",
   "source": [
    "Here we are interested in splitting into words. The task is simple, as tokens we are getting words and punctuation. The format is the one of a list of elements. Notice also that they are ordered as list keep information about the order. We could have accomplished a similar task using .str methods seen above.   \n",
    "\n",
    "Different packages offer various algorithms for tokenization, and depending on the application, you may want to use tokens that are complete words, parts of words such as syllables, or entire sentences."
   ],
   "metadata": {
    "collapsed": false
   },
   "id": "db9de6d82584a1c9"
  },
  {
   "cell_type": "markdown",
   "source": [
    "## Spacy\n",
    "We introduce here *spaCy* another library that we will be using also in the next part of the course. SpaCy too offers a tokenizer, which they explain nicely [in this page](https://spacy.io/usage/linguistic-features#tokenization)."
   ],
   "metadata": {
    "collapsed": false
   },
   "id": "d5e9582c4a52148d"
  },
  {
   "cell_type": "code",
   "execution_count": 20,
   "outputs": [],
   "source": [
    "import spacy"
   ],
   "metadata": {
    "collapsed": false,
    "ExecuteTime": {
     "end_time": "2024-02-09T16:32:05.160572Z",
     "start_time": "2024-02-09T16:32:04.334501Z"
    }
   },
   "id": "21202971bd8baa68"
  },
  {
   "cell_type": "code",
   "execution_count": 21,
   "outputs": [],
   "source": [
    "nlp = spacy.load(\"en_core_web_sm\") #Here we are loading the model with the pipeline for English that we previously downloaded"
   ],
   "metadata": {
    "collapsed": false,
    "ExecuteTime": {
     "end_time": "2024-02-09T16:32:05.447760Z",
     "start_time": "2024-02-09T16:32:05.160857Z"
    }
   },
   "id": "10cc360233332c3e"
  },
  {
   "cell_type": "markdown",
   "source": [
    "This approach is a bit more complex than the previous one, but generally more powerful. However, in this simple case, we might not notice much of a difference."
   ],
   "metadata": {
    "collapsed": false
   },
   "id": "6c8dc15eb2f9ff84"
  },
  {
   "cell_type": "code",
   "execution_count": 22,
   "outputs": [],
   "source": [
    "#Example with the first song\n",
    "song = nlp(df.loc[0,'text'])"
   ],
   "metadata": {
    "collapsed": false,
    "ExecuteTime": {
     "end_time": "2024-02-09T16:32:05.473670Z",
     "start_time": "2024-02-09T16:32:05.451025Z"
    }
   },
   "id": "476794a7b7073763"
  },
  {
   "cell_type": "code",
   "execution_count": 23,
   "outputs": [
    {
     "data": {
      "text/plain": "spacy.tokens.doc.Doc"
     },
     "execution_count": 23,
     "metadata": {},
     "output_type": "execute_result"
    }
   ],
   "source": [
    "type(song)"
   ],
   "metadata": {
    "collapsed": false,
    "ExecuteTime": {
     "end_time": "2024-02-09T16:32:05.481008Z",
     "start_time": "2024-02-09T16:32:05.473831Z"
    }
   },
   "id": "238be7722f90d8c7"
  },
  {
   "cell_type": "code",
   "execution_count": 24,
   "outputs": [
    {
     "name": "stdout",
     "output_type": "stream",
     "text": [
      "Gone\n",
      "too\n",
      "far\n",
      " \n",
      "\n",
      "Gone\n",
      "too\n",
      "long\n",
      " \n",
      "\n",
      "Messed\n",
      "it\n",
      "up\n",
      "completely\n",
      " \n",
      "\n",
      "Till\n",
      "everything\n"
     ]
    }
   ],
   "source": [
    "for token in song[0:15]: #this is a loop! We are iterating through all elements contained in the object song\n",
    "    print(token)"
   ],
   "metadata": {
    "collapsed": false,
    "ExecuteTime": {
     "end_time": "2024-02-09T16:32:05.481259Z",
     "start_time": "2024-02-09T16:32:05.476492Z"
    }
   },
   "id": "8613160ef2e38639"
  },
  {
   "cell_type": "code",
   "execution_count": 25,
   "outputs": [
    {
     "name": "stdout",
     "output_type": "stream",
     "text": [
      "Gone   VERB   go\n",
      "too   ADV   too\n",
      "far   ADV   far\n",
      " \n",
      "   SPACE    \n",
      "\n",
      "Gone   VERB   go\n",
      "too   ADV   too\n",
      "long   ADV   long\n",
      " \n",
      "   SPACE    \n",
      "\n",
      "Messed   VERB   mess\n",
      "it   PRON   it\n",
      "up   ADP   up\n",
      "completely   ADV   completely\n",
      " \n",
      "   SPACE    \n",
      "\n",
      "Till   SCONJ   till\n",
      "everything   PRON   everything\n"
     ]
    }
   ],
   "source": [
    "for token in song[0:15]:\n",
    "    print(token.text, \" \", token.pos_, \" \", token.lemma_)"
   ],
   "metadata": {
    "collapsed": false,
    "ExecuteTime": {
     "end_time": "2024-02-09T16:32:05.482892Z",
     "start_time": "2024-02-09T16:32:05.478643Z"
    }
   },
   "id": "e281c7ab3e096b22"
  },
  {
   "cell_type": "markdown",
   "source": [
    "The example above shows that Spacy has also assigned part of speech tags to all tokens. We don't need this for the moment, so let's go back to the tokens. We want to keep only the text from the tokens.  "
   ],
   "metadata": {
    "collapsed": false
   },
   "id": "36bfe846a4f4ce03"
  },
  {
   "cell_type": "code",
   "execution_count": 26,
   "outputs": [],
   "source": [
    "nlp = spacy.load(\"en_core_web_sm\", disable=[\"parser\", \"ner\", \"lemmatizer\", \"attribute_ruler\"])  #see https://github.com/explosion/spaCy/discussions/8402, we are trying to increase the speed"
   ],
   "metadata": {
    "collapsed": false,
    "ExecuteTime": {
     "end_time": "2024-02-09T16:32:05.731559Z",
     "start_time": "2024-02-09T16:32:05.481635Z"
    }
   },
   "id": "72f4defd2a7ca5fd"
  },
  {
   "cell_type": "code",
   "execution_count": 27,
   "outputs": [],
   "source": [
    "df['tokens_spacy'] = df['text'].apply(lambda x: [token.text for token in nlp(x)])"
   ],
   "metadata": {
    "collapsed": false,
    "ExecuteTime": {
     "end_time": "2024-02-09T16:32:15.388042Z",
     "start_time": "2024-02-09T16:32:05.733070Z"
    }
   },
   "id": "75806304897e4aec"
  },
  {
   "cell_type": "markdown",
   "source": [
    "The code above is quite complex, let's look at its components:\n",
    "-`df['text']` takes the value stored in the column 'text'\n",
    "-`.apply()` is a pandas methods that applies a function that the user specifies\n",
    "-`lambda x:` this is our way to specify a function. In this case, it is a lambda function, which we define after the \":\"\n",
    "-`[token.text for token in nlp(x)]` creates a list `[ ]` obtained by applying the method `.text` to every token obtained when we apply `nlp()` to the input `x`. In this case, `x` will be the value of a cell in the colum 'text'\n",
    "\n",
    "We are doing something similar to what we did in the cell above, but we are writing in a compact way and we are requesting to do this operation for all songs in the dataframe. "
   ],
   "metadata": {
    "collapsed": false
   },
   "id": "fb1fa00012db8975"
  },
  {
   "cell_type": "code",
   "execution_count": 28,
   "outputs": [
    {
     "data": {
      "text/plain": "['Gone',\n 'too',\n 'far',\n ' \\n',\n 'Gone',\n 'too',\n 'long',\n ' \\n',\n 'Messed',\n 'it',\n 'up',\n 'completely',\n ' \\n',\n 'Till',\n 'everything',\n 'is',\n 'wrong',\n ' \\n',\n 'Stop',\n ',',\n 'start',\n 'over',\n ',',\n 'start',\n 'again',\n ' \\n',\n 'Too',\n 'many',\n 'pieces',\n ' \\n',\n 'Too',\n 'much',\n 'to',\n 'chew',\n ' \\n',\n 'How',\n 'can',\n 'you',\n 'ever',\n 'win',\n ' \\n',\n 'When',\n 'you',\n \"'re\",\n 'so',\n 'scared',\n 'to',\n 'loose',\n ' \\n',\n 'You',\n 'better',\n 'stop',\n ',',\n 'start',\n 'over',\n ',',\n 'start',\n 'again',\n ' \\n',\n 'Stop',\n ',',\n 'start',\n 'over',\n ',',\n 'start',\n 'again',\n ' \\n',\n 'Walk',\n 'away',\n ' \\n',\n 'See',\n 'what',\n 'it',\n 'looks',\n 'like',\n 'from',\n 'here',\n ' \\n',\n 'If',\n 'you',\n 'stay',\n 'you',\n 'will',\n 'only',\n 'drown',\n ' \\n',\n 'If',\n 'a',\n 'mass',\n 'of',\n 'fear',\n ' \\n',\n 'You',\n 'need',\n 'to',\n 'sleep',\n ' \\n',\n 'You',\n 'need',\n 'a',\n 'break',\n ' \\n',\n 'You',\n 'got',\n 'to',\n 'find',\n 'out',\n 'before',\n 'it',\n \"'s\",\n 'to',\n 'late',\n ' \\n',\n 'Stop',\n ',',\n 'start',\n 'again',\n ' \\n',\n 'You',\n 'better',\n 'stop',\n ',',\n 'start',\n 'over',\n ',',\n 'start',\n 'again',\n ' \\n\\n']"
     },
     "execution_count": 28,
     "metadata": {},
     "output_type": "execute_result"
    }
   ],
   "source": [
    "df.loc[0, 'tokens_spacy']"
   ],
   "metadata": {
    "collapsed": false,
    "ExecuteTime": {
     "end_time": "2024-02-09T16:32:15.396511Z",
     "start_time": "2024-02-09T16:32:15.393150Z"
    }
   },
   "id": "ffcd00261bb57647"
  },
  {
   "cell_type": "markdown",
   "source": [
    "Notice how the tokens are not exactly the same, every step involves some decisions, even in this relative straightforward tasks."
   ],
   "metadata": {
    "collapsed": false
   },
   "id": "8a287348f35bc345"
  },
  {
   "cell_type": "markdown",
   "source": [
    "### Speed sometimes matters\n",
    "You might have noticed that this last way of calculating tokens, for its complex nature, took more time to run. Depending on how big the dataset is and which operations you need to run with it, it can be important to look at which approach is faster. To illustrate this point, we will create a smaller dataframe with just 1000 and calculate tokens in three different ways."
   ],
   "metadata": {
    "collapsed": false
   },
   "id": "5dc4fb889ae8a46d"
  },
  {
   "cell_type": "code",
   "execution_count": 29,
   "outputs": [
    {
     "name": "stdout",
     "output_type": "stream",
     "text": [
      "CPU times: user 35.4 ms, sys: 2.41 ms, total: 37.8 ms\n",
      "Wall time: 37.3 ms\n"
     ]
    },
    {
     "data": {
      "text/plain": "0      [Gone, too, far, Gone, too, long, Messed, it, ...\n1      [Well, ,, your, railroad, gate, ,, you, know, ...\n2      [Hobo, -, I, ', m, hobophobic, So, what, ah, a...\n3      [This, is, the, most, unusual, story, Of, a, m...\n4      [There, ', s, a, girl, in, the, mirror, I, won...\n                             ...                        \n995    [When, the, sun, is, high, in, the, afternoon,...\n996    [Nobody, ', s, perfect, Not, even, a, perfect,...\n997    [Everybody, is, lazy, Nobody, wants, to, do, a...\n998    [Please, don, ', t, fight, me, baby, This, sil...\n999    [Sunday, ', s, got, a, slave, Monday, ', s, go...\nName: text, Length: 1000, dtype: object"
     },
     "execution_count": 29,
     "metadata": {},
     "output_type": "execute_result"
    }
   ],
   "source": [
    "%%time\n",
    "\n",
    "df['text'].str.replace(r'([^\\w\\s])', r' \\1 ', regex=True).str.split()"
   ],
   "metadata": {
    "collapsed": false,
    "ExecuteTime": {
     "end_time": "2024-02-09T16:32:15.440742Z",
     "start_time": "2024-02-09T16:32:15.402051Z"
    }
   },
   "id": "88a865f4cb467260"
  },
  {
   "cell_type": "markdown",
   "source": [
    "Here we use pandas' string methods and a regular expression:\n",
    "-`[^\\w\\s]` matches any character that is not a word character (denoted by \\w) and not a whitespace character (denoted by \\s).\n",
    "-`r' \\1 '` replaces each match with itself (\\1 refers to the matched character) surrounded by spaces."
   ],
   "metadata": {
    "collapsed": false
   },
   "id": "e95483df7da086b0"
  },
  {
   "cell_type": "code",
   "execution_count": 30,
   "outputs": [
    {
     "name": "stdout",
     "output_type": "stream",
     "text": [
      "CPU times: user 454 ms, sys: 4.09 ms, total: 458 ms\n",
      "Wall time: 463 ms\n"
     ]
    },
    {
     "data": {
      "text/plain": "0      [Gone, too, far, Gone, too, long, Messed, it, ...\n1      [Well, ,, your, railroad, gate, ,, you, know, ...\n2      [Hobo, -, I, 'm, hobophobic, So, what, ah, ah,...\n3      [This, is, the, most, unusual, story, Of, a, m...\n4      [There, 's, a, girl, in, the, mirror, I, wonde...\n                             ...                        \n995    [When, the, sun, is, high, in, the, afternoon,...\n996    [Nobody, 's, perfect, Not, even, a, perfect, s...\n997    [Everybody, is, lazy, Nobody, wants, to, do, a...\n998    [Please, do, n't, fight, me, baby, This, silen...\n999    [Sunday, 's, got, a, slave, Monday, 's, got, o...\nName: text, Length: 1000, dtype: object"
     },
     "execution_count": 30,
     "metadata": {},
     "output_type": "execute_result"
    }
   ],
   "source": [
    "%%time\n",
    "df['text'].apply(nltk.word_tokenize)"
   ],
   "metadata": {
    "collapsed": false,
    "ExecuteTime": {
     "end_time": "2024-02-09T16:32:15.906907Z",
     "start_time": "2024-02-09T16:32:15.474795Z"
    }
   },
   "id": "813f6b649eb915ab"
  },
  {
   "cell_type": "code",
   "execution_count": 31,
   "outputs": [
    {
     "name": "stdout",
     "output_type": "stream",
     "text": [
      "CPU times: user 9.83 s, sys: 206 ms, total: 10 s\n",
      "Wall time: 10.1 s\n"
     ]
    },
    {
     "data": {
      "text/plain": "0      [Gone, too, far,  \\n, Gone, too, long,  \\n, Me...\n1      [Well, ,, your, railroad, gate, ,, you, know, ...\n2      [Hobo, -, I, 'm, hobophobic, So, what, ah, ah,...\n3      [This, is, the, most, unusual, story,  \\n, Of,...\n4      [There, 's, a, girl, in, the, mirror,  \\n, I, ...\n                             ...                        \n995    [When, the, sun, is, high, in, the, afternoon,...\n996    [Nobody, 's, perfect,  \\n, Not, even, a, perfe...\n997    [Everybody, is, lazy,  \\n, Nobody, wants, to, ...\n998    [Please, do, n't, fight, me, baby,  \\n, This, ...\n999    [Sunday, 's, got, a, slave,  \\n, Monday, 's, g...\nName: text, Length: 1000, dtype: object"
     },
     "execution_count": 31,
     "metadata": {},
     "output_type": "execute_result"
    }
   ],
   "source": [
    "%%time\n",
    "nlp = spacy.load(\"en_core_web_sm\", disable=[\"parser\", \"ner\", \"lemmatizer\", \"attribute_ruler\"]) \n",
    "df['text'].apply(lambda x: [token.text for token in nlp(x)])"
   ],
   "metadata": {
    "collapsed": false,
    "ExecuteTime": {
     "end_time": "2024-02-09T16:32:26.059156Z",
     "start_time": "2024-02-09T16:32:15.908161Z"
    }
   },
   "id": "3a4eafc6b87c91cd"
  },
  {
   "cell_type": "markdown",
   "source": [
    "## Simplify Text\n",
    "\n",
    "Now we can simplify the text. We will follow the standard procedure."
   ],
   "metadata": {
    "collapsed": false
   },
   "id": "cc019a56ddad129e"
  },
  {
   "cell_type": "code",
   "execution_count": 32,
   "outputs": [],
   "source": [
    "import re\n",
    "df['tokens_simple']=df['tokens'].apply(lambda x: [re.sub(r'[^\\w\\s]', '', i).lower() for i in x]) #remove puntuaction, lowercase\n",
    "df['tokens_simple'] = df['tokens_simple'].apply(lambda x: [re.sub(r'\\d+', '', i) for i in x]) #remove digits\n",
    "df['tokens_simple']=df['tokens_simple'].apply(lambda x: [i for i in x if len(i)>2]) #remove short tokens"
   ],
   "metadata": {
    "collapsed": false,
    "ExecuteTime": {
     "end_time": "2024-02-09T16:32:26.333390Z",
     "start_time": "2024-02-09T16:32:26.075664Z"
    }
   },
   "id": "18d31d8afda5bf57"
  },
  {
   "cell_type": "markdown",
   "source": [
    "#### Gensim\n",
    "[Gensim](https://radimrehurek.com/gensim/) is another package that offers a convenient way to process text. Let's use the `simple_preprocess()` function."
   ],
   "metadata": {
    "collapsed": false
   },
   "id": "32e2a220f4146cd1"
  },
  {
   "cell_type": "code",
   "execution_count": 33,
   "outputs": [],
   "source": [
    "from gensim.utils import simple_preprocess\n",
    "df['token_gensim'] = df['text'].apply(lambda x: simple_preprocess(x))\n"
   ],
   "metadata": {
    "collapsed": false,
    "ExecuteTime": {
     "end_time": "2024-02-09T16:32:26.568393Z",
     "start_time": "2024-02-09T16:32:26.333725Z"
    }
   },
   "id": "152f43f862deeda9"
  },
  {
   "cell_type": "code",
   "execution_count": 34,
   "outputs": [
    {
     "data": {
      "text/plain": "0    [gone, too, far, gone, too, long, messed, comp...\n1    [well, your, railroad, gate, you, know, just, ...\n2    [hobo, hobophobic, what, scared, bums, not, ju...\n3    [this, the, most, unusual, story, most, unusua...\n4    [there, girl, the, mirror, wonder, who, she, s...\nName: tokens_simple, dtype: object"
     },
     "execution_count": 34,
     "metadata": {},
     "output_type": "execute_result"
    }
   ],
   "source": [
    "df['tokens_simple'].head()"
   ],
   "metadata": {
    "collapsed": false,
    "ExecuteTime": {
     "end_time": "2024-02-09T16:32:26.572662Z",
     "start_time": "2024-02-09T16:32:26.569673Z"
    }
   },
   "id": "6337ccc7a9c5df8f"
  },
  {
   "cell_type": "markdown",
   "source": [
    "#### Stopwords"
   ],
   "metadata": {
    "collapsed": false
   },
   "id": "1455b5cc89a0b840"
  },
  {
   "cell_type": "code",
   "execution_count": 35,
   "outputs": [
    {
     "name": "stdout",
     "output_type": "stream",
     "text": [
      "['i', 'me', 'my', 'myself', 'we', 'our', 'ours', 'ourselves', 'you', \"you're\", \"you've\", \"you'll\", \"you'd\", 'your', 'yours', 'yourself', 'yourselves', 'he', 'him', 'his', 'himself', 'she', \"she's\", 'her', 'hers', 'herself', 'it', \"it's\", 'its', 'itself', 'they', 'them', 'their', 'theirs', 'themselves', 'what', 'which', 'who', 'whom', 'this', 'that', \"that'll\", 'these', 'those', 'am', 'is', 'are', 'was', 'were', 'be', 'been', 'being', 'have', 'has', 'had', 'having', 'do', 'does', 'did', 'doing', 'a', 'an', 'the', 'and', 'but', 'if', 'or', 'because', 'as', 'until', 'while', 'of', 'at', 'by', 'for', 'with', 'about', 'against', 'between', 'into', 'through', 'during', 'before', 'after', 'above', 'below', 'to', 'from', 'up', 'down', 'in', 'out', 'on', 'off', 'over', 'under', 'again', 'further', 'then', 'once', 'here', 'there', 'when', 'where', 'why', 'how', 'all', 'any', 'both', 'each', 'few', 'more', 'most', 'other', 'some', 'such', 'no', 'nor', 'not', 'only', 'own', 'same', 'so', 'than', 'too', 'very', 's', 't', 'can', 'will', 'just', 'don', \"don't\", 'should', \"should've\", 'now', 'd', 'll', 'm', 'o', 're', 've', 'y', 'ain', 'aren', \"aren't\", 'couldn', \"couldn't\", 'didn', \"didn't\", 'doesn', \"doesn't\", 'hadn', \"hadn't\", 'hasn', \"hasn't\", 'haven', \"haven't\", 'isn', \"isn't\", 'ma', 'mightn', \"mightn't\", 'mustn', \"mustn't\", 'needn', \"needn't\", 'shan', \"shan't\", 'shouldn', \"shouldn't\", 'wasn', \"wasn't\", 'weren', \"weren't\", 'won', \"won't\", 'wouldn', \"wouldn't\"]\n"
     ]
    },
    {
     "name": "stderr",
     "output_type": "stream",
     "text": [
      "[nltk_data] Downloading package stopwords to\n",
      "[nltk_data]     /Users/trotesi/nltk_data...\n",
      "[nltk_data]   Package stopwords is already up-to-date!\n"
     ]
    }
   ],
   "source": [
    "nltk.download('stopwords')\n",
    "from nltk.corpus import stopwords\n",
    "stoplist = stopwords.words('english')\n",
    "print(stoplist)"
   ],
   "metadata": {
    "collapsed": false,
    "ExecuteTime": {
     "end_time": "2024-02-09T16:32:26.676317Z",
     "start_time": "2024-02-09T16:32:26.572272Z"
    }
   },
   "id": "14043eba7701c07d"
  },
  {
   "cell_type": "markdown",
   "source": [
    "This is the list of stopwords according to NLTK. Once again, it is possible to find other lists, with more words in them."
   ],
   "metadata": {
    "collapsed": false
   },
   "id": "ade365b503f115a"
  },
  {
   "cell_type": "code",
   "execution_count": 36,
   "outputs": [
    {
     "data": {
      "text/plain": "0    [gone, far, gone, long, messed, completely, ti...\n1    [well, railroad, gate, know, jump, sometimes, ...\n2    [hobo, hobophobic, scared, bums, stink, bad, c...\n3    [unusual, story, unusual, girl, paint, picture...\n4    [girl, mirror, wonder, sometimes, think, know,...\nName: tokens_simple, dtype: object"
     },
     "execution_count": 36,
     "metadata": {},
     "output_type": "execute_result"
    }
   ],
   "source": [
    "#remove stop words\n",
    "df['tokens_simple']=df['tokens_simple'].apply(lambda x: [i for i in x if not i in stoplist]) #remove empty strings\n",
    "df['tokens_simple'].head()"
   ],
   "metadata": {
    "collapsed": false,
    "ExecuteTime": {
     "end_time": "2024-02-09T16:32:26.853359Z",
     "start_time": "2024-02-09T16:32:26.749970Z"
    }
   },
   "id": "609b2cc60fd0cd63"
  },
  {
   "cell_type": "code",
   "execution_count": 37,
   "outputs": [
    {
     "data": {
      "text/plain": "'wonder'"
     },
     "execution_count": 37,
     "metadata": {},
     "output_type": "execute_result"
    }
   ],
   "source": [
    "stemmer = nltk.stem.porter.PorterStemmer()\n",
    "stemmer.stem('wonderful')"
   ],
   "metadata": {
    "collapsed": false,
    "ExecuteTime": {
     "end_time": "2024-02-09T16:32:26.856875Z",
     "start_time": "2024-02-09T16:32:26.853479Z"
    }
   },
   "id": "c905840e66b67011"
  },
  {
   "cell_type": "code",
   "execution_count": 38,
   "outputs": [
    {
     "data": {
      "text/plain": "'famili'"
     },
     "execution_count": 38,
     "metadata": {},
     "output_type": "execute_result"
    }
   ],
   "source": [
    "stemmer.stem('family')"
   ],
   "metadata": {
    "collapsed": false,
    "ExecuteTime": {
     "end_time": "2024-02-09T16:32:26.860332Z",
     "start_time": "2024-02-09T16:32:26.855861Z"
    }
   },
   "id": "fe84a592222361ce"
  },
  {
   "cell_type": "code",
   "execution_count": 39,
   "outputs": [
    {
     "data": {
      "text/plain": "'famili'"
     },
     "execution_count": 39,
     "metadata": {},
     "output_type": "execute_result"
    }
   ],
   "source": [
    "stemmer.stem('families')"
   ],
   "metadata": {
    "collapsed": false,
    "ExecuteTime": {
     "end_time": "2024-02-09T16:32:26.867608Z",
     "start_time": "2024-02-09T16:32:26.858630Z"
    }
   },
   "id": "e664d24b3afdec77"
  },
  {
   "cell_type": "code",
   "execution_count": 40,
   "outputs": [
    {
     "name": "stdout",
     "output_type": "stream",
     "text": [
      "see saw\n"
     ]
    }
   ],
   "source": [
    "print(stemmer.stem('see'), stemmer.stem('saw'))"
   ],
   "metadata": {
    "collapsed": false,
    "ExecuteTime": {
     "end_time": "2024-02-09T16:32:26.868228Z",
     "start_time": "2024-02-09T16:32:26.860992Z"
    }
   },
   "id": "8a2ecf231490c219"
  },
  {
   "cell_type": "code",
   "execution_count": 41,
   "outputs": [
    {
     "name": "stdout",
     "output_type": "stream",
     "text": [
      "look look\n"
     ]
    }
   ],
   "source": [
    "print(stemmer.stem('look'), stemmer.stem('looked'))"
   ],
   "metadata": {
    "collapsed": false,
    "ExecuteTime": {
     "end_time": "2024-02-09T16:32:26.868401Z",
     "start_time": "2024-02-09T16:32:26.863413Z"
    }
   },
   "id": "dee7b2ad87c5fbaf"
  },
  {
   "cell_type": "code",
   "execution_count": 42,
   "outputs": [
    {
     "data": {
      "text/plain": "0    [gone, far, gone, long, mess, complet, till, e...\n1    [well, railroad, gate, know, jump, sometim, ge...\n2    [hobo, hobophob, scare, bum, stink, bad, crack...\n3    [unusu, stori, unusu, girl, paint, pictur, unu...\n4    [girl, mirror, wonder, sometim, think, know, s...\nName: tokens_simple, dtype: object"
     },
     "execution_count": 42,
     "metadata": {},
     "output_type": "execute_result"
    }
   ],
   "source": [
    "#stem\n",
    "df['tokens_simple']=df['tokens_simple'].apply(lambda x: [stemmer.stem(i) for i in x]) \n",
    "df['tokens_simple'].head()"
   ],
   "metadata": {
    "collapsed": false,
    "ExecuteTime": {
     "end_time": "2024-02-09T16:32:27.857330Z",
     "start_time": "2024-02-09T16:32:26.878430Z"
    }
   },
   "id": "8b83bb02c1ae3f9"
  },
  {
   "cell_type": "markdown",
   "source": [
    "### Functions"
   ],
   "metadata": {
    "collapsed": false
   },
   "id": "8633fc1ff49f76f7"
  },
  {
   "cell_type": "code",
   "execution_count": 43,
   "outputs": [],
   "source": [
    "#Here combine the previous steps into one unique function that takes as input a dataframe and returns the same dataframe, with added list of tokens following the same steps we just did\n",
    "\n",
    "def preprocess_text(df, text_column):\n",
    "    # Tokenize\n",
    "    df['tokens'] = df[text_column].apply(nltk.word_tokenize)\n",
    "\n",
    "    # Remove punctuation, lowercase, remove empty strings, filter stopwords, and stem\n",
    "    df['tokens_simple'] = df['tokens'].apply(lambda x: [re.sub(r'[^\\w\\s]', '', token).lower() for token in x])\n",
    "    df['tokens_simple'] = df['tokens_simple'].apply(lambda x: [token for token in x if token and not token in stoplist])\n",
    "    df['tokens_simple'] = df['tokens_simple'].apply(lambda x: [stemmer.stem(token) for token in x])\n",
    "\n",
    "    # Drop the intermediate 'tokens' column if not needed\n",
    "    df.drop(columns=['tokens'], inplace=True)\n",
    "\n",
    "    return df\n"
   ],
   "metadata": {
    "collapsed": false,
    "ExecuteTime": {
     "end_time": "2024-02-09T16:32:27.863344Z",
     "start_time": "2024-02-09T16:32:27.858132Z"
    }
   },
   "id": "d7ead68afe9a320b"
  },
  {
   "cell_type": "markdown",
   "source": [
    "### Building the document-feature matrix\n",
    "\n",
    "One way of representing a set of documents is by using the a document-feature matrix, where each column refers to a token, and each row refers to a document. We can start by looking at how one document, in this case a song, appears in the form of a vector:"
   ],
   "metadata": {
    "collapsed": false
   },
   "id": "5f92a78d2e850f8f"
  },
  {
   "cell_type": "code",
   "execution_count": 44,
   "outputs": [
    {
     "data": {
      "text/plain": "Counter({'start': 9,\n         'stop': 5,\n         'gone': 2,\n         'better': 2,\n         'need': 2,\n         'far': 1,\n         'long': 1,\n         'mess': 1,\n         'complet': 1,\n         'till': 1,\n         'everyth': 1,\n         'wrong': 1,\n         'mani': 1,\n         'piec': 1,\n         'much': 1,\n         'chew': 1,\n         'ever': 1,\n         'win': 1,\n         'scare': 1,\n         'loos': 1,\n         'walk': 1,\n         'away': 1,\n         'see': 1,\n         'look': 1,\n         'like': 1,\n         'stay': 1,\n         'drown': 1,\n         'mass': 1,\n         'fear': 1,\n         'sleep': 1,\n         'break': 1,\n         'got': 1,\n         'find': 1,\n         'late': 1})"
     },
     "execution_count": 44,
     "metadata": {},
     "output_type": "execute_result"
    }
   ],
   "source": [
    "from collections import Counter\n",
    "Counter(df.loc[0,'tokens_simple'])"
   ],
   "metadata": {
    "collapsed": false,
    "ExecuteTime": {
     "end_time": "2024-02-09T16:32:27.866465Z",
     "start_time": "2024-02-09T16:32:27.861060Z"
    }
   },
   "id": "c26c01db54a096bd"
  },
  {
   "cell_type": "markdown",
   "source": [
    "These are tokens that appear in the first song. If this song was to appear as a row in the document-feature matrix, we would also see many 0s, for all tokens that appear in other songs, but not in the first one. \n",
    "\n",
    "Let's now count the ow many times each token appears in the dataset. One simple way to do this is to initialize a counter and then add the counts song by song. "
   ],
   "metadata": {
    "collapsed": false
   },
   "id": "dfd36668ad36faa8"
  },
  {
   "cell_type": "code",
   "execution_count": 45,
   "outputs": [],
   "source": [
    "counts = Counter(df.loc[0,'tokens_simple'])\n",
    "for i in range(1, len(df)):\n",
    "    counts += Counter(df.loc[i,'tokens_simple'])"
   ],
   "metadata": {
    "collapsed": false,
    "ExecuteTime": {
     "end_time": "2024-02-09T16:32:27.979493Z",
     "start_time": "2024-02-09T16:32:27.869123Z"
    }
   },
   "id": "ce9f29503c479d60"
  },
  {
   "cell_type": "code",
   "execution_count": 46,
   "outputs": [
    {
     "data": {
      "text/plain": "Counter({'love': 1653,\n         'know': 1313,\n         'like': 1120,\n         'got': 983,\n         'come': 928,\n         'get': 908,\n         'want': 874,\n         'time': 827,\n         'see': 810,\n         'never': 764,\n         'one': 753,\n         'babi': 734,\n         'say': 711,\n         'let': 711,\n         'make': 662,\n         'feel': 658,\n         'take': 626,\n         'way': 559,\n         'day': 552,\n         'need': 535,\n         'yeah': 526,\n         'heart': 525,\n         'back': 522,\n         'caus': 517,\n         'night': 500,\n         'life': 495,\n         'gon': 492,\n         'look': 445,\n         'could': 441,\n         'tell': 438,\n         'away': 430,\n         'girl': 425,\n         'think': 420,\n         'well': 419,\n         'right': 412,\n         'good': 409,\n         'man': 397,\n         'choru': 396,\n         'home': 395,\n         'thing': 379,\n         'give': 355,\n         'eye': 348,\n         'world': 347,\n         'said': 321,\n         'long': 308,\n         'tri': 304,\n         'wan': 302,\n         'mind': 299,\n         'still': 293,\n         'live': 291,\n         'dream': 290,\n         'hear': 289,\n         'around': 285,\n         'everi': 283,\n         'littl': 281,\n         'someth': 280,\n         'keep': 269,\n         'alway': 267,\n         'would': 264,\n         'leav': 260,\n         'talk': 260,\n         'run': 255,\n         'noth': 244,\n         'ever': 241,\n         'tonight': 237,\n         'hey': 237,\n         'light': 235,\n         'chang': 234,\n         'hold': 233,\n         'hand': 233,\n         'wait': 232,\n         'cri': 232,\n         'new': 228,\n         'walk': 227,\n         'call': 224,\n         'die': 224,\n         'find': 223,\n         'sing': 223,\n         'head': 223,\n         'much': 219,\n         'anoth': 219,\n         'turn': 217,\n         'stay': 211,\n         'boy': 204,\n         'stop': 202,\n         'gone': 200,\n         'play': 200,\n         'lie': 200,\n         'believ': 197,\n         'god': 197,\n         'place': 196,\n         'start': 194,\n         'even': 191,\n         'friend': 191,\n         'show': 188,\n         'stand': 186,\n         'name': 182,\n         'fall': 182,\n         'care': 181,\n         'free': 181,\n         'fire': 181,\n         'everyth': 180,\n         'old': 177,\n         'better': 176,\n         'song': 176,\n         'work': 175,\n         'realli': 173,\n         'go': 173,\n         'hard': 172,\n         'pleas': 171,\n         'break': 169,\n         'alon': 168,\n         'soul': 166,\n         'insid': 162,\n         'face': 162,\n         'hope': 161,\n         'last': 161,\n         'blue': 161,\n         'wish': 160,\n         'put': 159,\n         'rememb': 158,\n         'everybodi': 157,\n         'peopl': 154,\n         'road': 153,\n         'forev': 151,\n         'sweet': 150,\n         'made': 150,\n         'bring': 149,\n         'word': 149,\n         'close': 148,\n         'tear': 147,\n         'end': 146,\n         'ye': 144,\n         'rock': 144,\n         'someon': 144,\n         'enough': 143,\n         'use': 141,\n         'matter': 141,\n         'mine': 140,\n         'seem': 139,\n         'mayb': 138,\n         'true': 138,\n         'lone': 138,\n         'watch': 137,\n         'lord': 136,\n         'woman': 135,\n         'danc': 135,\n         'sun': 135,\n         'left': 134,\n         'two': 134,\n         'hide': 134,\n         'burn': 134,\n         'may': 133,\n         'rain': 132,\n         'touch': 131,\n         'heaven': 130,\n         'togeth': 130,\n         'done': 130,\n         'ride': 128,\n         'wrong': 127,\n         'thought': 126,\n         'sky': 126,\n         'must': 124,\n         'far': 123,\n         'knew': 123,\n         'bad': 123,\n         'came': 123,\n         'door': 123,\n         'big': 123,\n         'high': 122,\n         'smile': 121,\n         'street': 121,\n         'side': 121,\n         'lost': 120,\n         'without': 118,\n         'till': 117,\n         'line': 117,\n         'took': 116,\n         'mani': 115,\n         'crazi': 115,\n         'nobodi': 114,\n         'help': 114,\n         'fli': 112,\n         'pain': 110,\n         'fight': 110,\n         'ask': 110,\n         'fun': 110,\n         'kiss': 109,\n         'town': 109,\n         'roll': 109,\n         'star': 108,\n         'ooh': 108,\n         'goodby': 107,\n         'mean': 107,\n         'nigga': 106,\n         'move': 105,\n         'game': 105,\n         'morn': 105,\n         'year': 105,\n         'fool': 103,\n         'blood': 103,\n         'cold': 102,\n         'found': 101,\n         'miss': 100,\n         'sleep': 99,\n         'moon': 99,\n         'real': 99,\n         'today': 99,\n         'soon': 99,\n         'wind': 98,\n         'hell': 98,\n         'best': 98,\n         'lay': 98,\n         'heard': 97,\n         'dead': 97,\n         'fine': 96,\n         'laugh': 96,\n         'grow': 95,\n         'hit': 95,\n         'low': 95,\n         'breath': 94,\n         'understand': 94,\n         'fuck': 94,\n         'beat': 93,\n         'deep': 93,\n         'guess': 93,\n         'angel': 92,\n         'open': 92,\n         'sometim': 91,\n         'wonder': 91,\n         'citi': 91,\n         'slow': 90,\n         'told': 90,\n         'sound': 89,\n         'seen': 89,\n         'forget': 89,\n         'white': 88,\n         'young': 88,\n         'hurt': 87,\n         'somebodi': 87,\n         'arm': 86,\n         'honey': 86,\n         'differ': 85,\n         'kind': 85,\n         'room': 84,\n         'late': 83,\n         'black': 82,\n         'anymor': 82,\n         'went': 82,\n         'wit': 82,\n         'hate': 81,\n         'aliv': 81,\n         'save': 80,\n         'kill': 80,\n         'sure': 80,\n         'set': 80,\n         'knee': 80,\n         'els': 79,\n         'alright': 79,\n         'strong': 79,\n         'happi': 79,\n         'meet': 79,\n         'dark': 79,\n         'perfect': 79,\n         'brother': 78,\n         'knock': 77,\n         'drive': 77,\n         'car': 77,\n         'bodi': 76,\n         'child': 76,\n         'readi': 76,\n         'full': 75,\n         'listen': 75,\n         'feet': 75,\n         'daddi': 75,\n         'reach': 74,\n         'though': 74,\n         'lose': 73,\n         'sad': 73,\n         'nowher': 73,\n         'along': 73,\n         'sit': 72,\n         'money': 72,\n         'round': 72,\n         'blow': 71,\n         'bitch': 71,\n         'shake': 71,\n         'learn': 71,\n         'ring': 71,\n         'chanc': 71,\n         'tomorrow': 70,\n         'kid': 69,\n         'reason': 69,\n         'sea': 69,\n         'might': 69,\n         'behind': 69,\n         'wild': 69,\n         'wake': 69,\n         'goe': 69,\n         'happen': 68,\n         'hang': 68,\n         'first': 68,\n         'fill': 68,\n         'water': 67,\n         'sinc': 67,\n         'ground': 66,\n         'everyon': 66,\n         'shadow': 66,\n         'fear': 65,\n         'broken': 65,\n         'bala': 65,\n         'shit': 65,\n         'cool': 65,\n         'push': 65,\n         'send': 65,\n         'hous': 64,\n         'drink': 64,\n         'moment': 64,\n         'beauti': 64,\n         'cut': 64,\n         'begin': 63,\n         'til': 63,\n         'pretti': 63,\n         'bed': 63,\n         'truth': 62,\n         'anyth': 62,\n         'apart': 62,\n         'shine': 61,\n         'easi': 61,\n         'war': 61,\n         'across': 61,\n         'chica': 61,\n         'land': 60,\n         'part': 59,\n         'strang': 59,\n         'whole': 59,\n         'drum': 59,\n         'lover': 58,\n         'troubl': 58,\n         'check': 58,\n         'meant': 58,\n         'rise': 58,\n         'thank': 58,\n         'wall': 57,\n         'peac': 57,\n         'goin': 57,\n         'lot': 57,\n         'three': 57,\n         'rest': 56,\n         'somewher': 56,\n         'voic': 56,\n         'floor': 56,\n         'lead': 56,\n         'pass': 55,\n         'air': 55,\n         'huh': 55,\n         'carri': 55,\n         'blind': 54,\n         'bout': 54,\n         'mad': 54,\n         'jump': 53,\n         'tini': 53,\n         'music': 53,\n         'born': 53,\n         'stori': 52,\n         'step': 52,\n         'power': 52,\n         'realiz': 52,\n         'quit': 52,\n         'mama': 52,\n         'saw': 52,\n         'pick': 52,\n         'afraid': 51,\n         'upon': 51,\n         'pray': 51,\n         'space': 51,\n         'bell': 51,\n         'memori': 51,\n         'river': 51,\n         'children': 50,\n         'lip': 50,\n         'next': 50,\n         'throw': 50,\n         'promis': 49,\n         'fast': 49,\n         'gun': 49,\n         'vers': 49,\n         'nice': 49,\n         'someday': 49,\n         'pictur': 48,\n         'share': 48,\n         'worri': 48,\n         'jack': 48,\n         'mari': 47,\n         'catch': 47,\n         'mountain': 47,\n         'pretend': 47,\n         'snow': 46,\n         'babe': 46,\n         'dress': 46,\n         'bright': 46,\n         'cross': 45,\n         'stone': 45,\n         'confus': 45,\n         'jesu': 45,\n         'repeat': 45,\n         'york': 45,\n         'control': 44,\n         'fade': 44,\n         'treat': 44,\n         'pay': 44,\n         'front': 44,\n         'wear': 44,\n         'darl': 44,\n         'pull': 44,\n         'wing': 44,\n         'top': 44,\n         'eat': 44,\n         'movin': 44,\n         'boom': 44,\n         'self': 44,\n         'follow': 43,\n         'gold': 43,\n         'longer': 43,\n         'felt': 43,\n         'past': 43,\n         'sight': 43,\n         'hair': 43,\n         'fell': 43,\n         'prais': 43,\n         'guy': 43,\n         'window': 43,\n         'damn': 43,\n         'school': 43,\n         'becom': 43,\n         'mother': 43,\n         'lookin': 42,\n         'track': 42,\n         'wast': 42,\n         'glass': 42,\n         'minut': 42,\n         'father': 42,\n         'lucki': 42,\n         'son': 42,\n         'shot': 42,\n         'ass': 42,\n         'sick': 41,\n         'job': 41,\n         'smoke': 41,\n         'brain': 41,\n         'plan': 41,\n         'hour': 41,\n         'final': 41,\n         'less': 41,\n         'surviv': 41,\n         'joy': 41,\n         'whatev': 41,\n         'slip': 41,\n         'tire': 41,\n         'king': 41,\n         'red': 41,\n         'snoop': 41,\n         'hot': 40,\n         'answer': 40,\n         'stranger': 40,\n         'empti': 40,\n         'ladi': 40,\n         'everyday': 40,\n         'christma': 40,\n         'poor': 40,\n         'straight': 40,\n         'summer': 40,\n         'wine': 39,\n         'trust': 39,\n         'act': 39,\n         'worth': 39,\n         'scream': 39,\n         'sail': 39,\n         'diamond': 39,\n         'speak': 39,\n         'read': 39,\n         'news': 39,\n         'train': 39,\n         'dear': 39,\n         'loud': 39,\n         'gim': 39,\n         'search': 38,\n         'nothin': 38,\n         'busi': 38,\n         'bit': 38,\n         'ice': 38,\n         'four': 38,\n         'rais': 38,\n         'anybodi': 37,\n         'law': 37,\n         'parti': 37,\n         'write': 37,\n         'finger': 37,\n         'anyon': 37,\n         'sorri': 37,\n         'regga': 37,\n         'yet': 36,\n         'steal': 36,\n         'mile': 36,\n         'corner': 36,\n         'death': 36,\n         'met': 36,\n         'men': 36,\n         'dog': 36,\n         'whistl': 36,\n         'american': 36,\n         'magic': 35,\n         'kept': 35,\n         'drop': 35,\n         'warm': 35,\n         'tast': 35,\n         'shall': 35,\n         'flame': 35,\n         'yea': 35,\n         'faith': 35,\n         'heal': 35,\n         'dirti': 35,\n         'count': 35,\n         'holi': 35,\n         'join': 35,\n         'billi': 35,\n         'edg': 34,\n         'buy': 34,\n         'bang': 34,\n         'ago': 34,\n         'shout': 34,\n         'sign': 34,\n         'number': 34,\n         'stare': 34,\n         'style': 34,\n         'radio': 34,\n         'piec': 33,\n         'key': 33,\n         'near': 33,\n         'dont': 33,\n         'blame': 33,\n         'cloud': 33,\n         'flow': 33,\n         'dogg': 33,\n         'doncha': 33,\n         'natur': 32,\n         'funni': 32,\n         'five': 32,\n         'earth': 32,\n         'bird': 32,\n         'tree': 32,\n         'somehow': 32,\n         'tough': 32,\n         'shoe': 32,\n         'brown': 32,\n         'tight': 32,\n         'messag': 32,\n         'backyard': 32,\n         'brawl': 32,\n         'win': 31,\n         'ghost': 31,\n         'storm': 31,\n         'luck': 31,\n         'gettin': 31,\n         'million': 31,\n         'regret': 31,\n         'stupid': 31,\n         'thousand': 31,\n         'great': 31,\n         'drift': 31,\n         'case': 31,\n         'prove': 31,\n         'second': 31,\n         'broke': 31,\n         'phone': 31,\n         'green': 31,\n         'downtown': 31,\n         'feelin': 31,\n         'soft': 31,\n         'higher': 31,\n         'bore': 31,\n         'harri': 31,\n         'outsid': 30,\n         'lift': 30,\n         'spirit': 30,\n         'clear': 30,\n         'dad': 30,\n         'rhythm': 30,\n         'gave': 30,\n         'bye': 30,\n         'choos': 30,\n         'crowd': 30,\n         'whoa': 30,\n         'devil': 30,\n         'bless': 30,\n         'hill': 30,\n         'alreadi': 30,\n         'spread': 30,\n         'silver': 30,\n         'chain': 30,\n         'hole': 30,\n         'half': 29,\n         'secret': 29,\n         'everywher': 29,\n         'mistak': 29,\n         'caught': 29,\n         'weak': 29,\n         'lock': 29,\n         'kick': 29,\n         'brought': 29,\n         'famili': 29,\n         'mouth': 29,\n         'belong': 29,\n         'sorrow': 29,\n         'ocean': 29,\n         'sunshin': 29,\n         'somethin': 29,\n         'steadi': 29,\n         'ang': 29,\n         'mirror': 28,\n         'bridg': 28,\n         'whiskey': 28,\n         'pride': 28,\n         'band': 28,\n         'field': 28,\n         'dawn': 28,\n         'women': 28,\n         'neon': 28,\n         'poison': 28,\n         'whenev': 28,\n         'known': 28,\n         'hello': 28,\n         'pour': 28,\n         'toe': 28,\n         'sunday': 28,\n         'hoo': 28,\n         'ima': 28,\n         'shark': 28,\n         'mongoloid': 28,\n         'drown': 27,\n         'held': 27,\n         'rap': 27,\n         'build': 27,\n         'silenc': 27,\n         'spend': 27,\n         'race': 27,\n         'yesterday': 27,\n         'rose': 27,\n         'within': 27,\n         'grace': 27,\n         'bottl': 27,\n         'amen': 27,\n         'proud': 27,\n         'bet': 27,\n         'outlaw': 27,\n         'foolish': 27,\n         'glori': 27,\n         'yeezi': 27,\n         'mmm': 27,\n         'loos': 26,\n         'six': 26,\n         'spin': 26,\n         'insan': 26,\n         'danger': 26,\n         'winter': 26,\n         'heavi': 26,\n         'sunset': 26,\n         'feed': 26,\n         'tie': 26,\n         'later': 26,\n         'instead': 26,\n         'ami': 26,\n         'wheel': 25,\n         'fantasi': 25,\n         'shoot': 25,\n         'state': 25,\n         'doubt': 25,\n         'drag': 25,\n         'guitar': 25,\n         'float': 25,\n         'hung': 25,\n         'shame': 25,\n         'human': 25,\n         'lamour': 25,\n         'desir': 25,\n         'beach': 25,\n         'gal': 25,\n         'stick': 25,\n         'fail': 25,\n         'brave': 25,\n         'stood': 25,\n         'telephon': 25,\n         'cotton': 25,\n         'daughter': 25,\n         'welcom': 25,\n         'slave': 25,\n         'forgiv': 25,\n         'doodoo': 25,\n         'mess': 24,\n         'fate': 24,\n         'fuckin': 24,\n         'doin': 24,\n         'tryin': 24,\n         'pack': 24,\n         'sand': 24,\n         'brand': 24,\n         'scene': 24,\n         'glad': 24,\n         'candi': 24,\n         'thinkin': 24,\n         'sin': 24,\n         'romanc': 24,\n         'okay': 24,\n         'glow': 24,\n         'bone': 24,\n         'forward': 24,\n         'chase': 24,\n         'whisper': 24,\n         'climb': 24,\n         'borderston': 24,\n         'compani': 23,\n         'rhyme': 23,\n         'daylight': 23,\n         'draw': 23,\n         'plain': 23,\n         'ten': 23,\n         'sent': 23,\n         'yall': 23,\n         'talkin': 23,\n         'almost': 23,\n         'sister': 23,\n         'built': 23,\n         'oooh': 23,\n         'bomb': 23,\n         'club': 23,\n         'bobbi': 23,\n         'bel': 23,\n         'freddi': 23,\n         'mahia': 23,\n         'scare': 22,\n         'sens': 22,\n         'rich': 22,\n         'cat': 22,\n         'comin': 22,\n         'merci': 22,\n         'sell': 22,\n         'hundr': 22,\n         'kinda': 22,\n         'lovin': 22,\n         'rollin': 22,\n         'wife': 22,\n         'walkin': 22,\n         'bar': 22,\n         'suit': 22,\n         'futur': 22,\n         'older': 22,\n         'ball': 22,\n         'skin': 22,\n         'midnight': 22,\n         'swim': 22,\n         'ador': 22,\n         'automat': 22,\n         'viciou': 22,\n         'jail': 21,\n         'dri': 21,\n         'livin': 21,\n         'given': 21,\n         'dollar': 21,\n         'age': 21,\n         'haunt': 21,\n         'return': 21,\n         'special': 21,\n         'evil': 21,\n         'mom': 21,\n         'desert': 21,\n         'sweat': 21,\n         'stuff': 21,\n         'wave': 21,\n         'crash': 21,\n         'cloth': 21,\n         'guid': 21,\n         'besid': 21,\n         'decid': 21,\n         'heat': 21,\n         'spent': 21,\n         'deni': 21,\n         'damag': 21,\n         'beg': 21,\n         'paper': 21,\n         'suppos': 21,\n         'freedom': 21,\n         'woohoo': 21,\n         'beep': 21,\n         'homeless': 21,\n         'woah': 21,\n         'sed': 21,\n         'pocket': 20,\n         'crawl': 20,\n         'loneli': 20,\n         'ship': 20,\n         'tender': 20,\n         'dime': 20,\n         'season': 20,\n         'runnin': 20,\n         'weather': 20,\n         'quickli': 20,\n         'ear': 20,\n         'travel': 20,\n         'letter': 20,\n         'mysteri': 20,\n         'copi': 20,\n         'famou': 20,\n         'problem': 20,\n         'hungri': 20,\n         'rush': 20,\n         'bow': 20,\n         'clean': 20,\n         'rule': 20,\n         'mister': 20,\n         'demon': 20,\n         'fought': 20,\n         'bleed': 20,\n         'motherfuck': 20,\n         'cuz': 20,\n         'sex': 20,\n         'rockin': 20,\n         'hesit': 20,\n         'shove': 20,\n         'fortun': 19,\n         'deal': 19,\n         'fact': 19,\n         'load': 19,\n         'satisfi': 19,\n         'question': 19,\n         'figur': 19,\n         'cmon': 19,\n         'protect': 19,\n         'spell': 19,\n         'bay': 19,\n         'grab': 19,\n         'twist': 19,\n         'hurri': 19,\n         'incred': 19,\n         'diphtheria': 19,\n         'awak': 19,\n         'solo': 19,\n         'fit': 19,\n         'expect': 19,\n         'friday': 19,\n         'card': 19,\n         'offer': 19,\n         'vision': 19,\n         'foot': 19,\n         'wide': 19,\n         'prayer': 19,\n         'tick': 19,\n         'taken': 19,\n         'havin': 19,\n         'queen': 19,\n         'laughter': 19,\n         'disappear': 19,\n         'north': 19,\n         'surpris': 19,\n         'main': 19,\n         'pressur': 19,\n         'vain': 19,\n         'clock': 19,\n         'muscl': 19,\n         'countri': 19,\n         'aka': 19,\n         'jingl': 19,\n         'silva': 19,\n         'hook': 18,\n         'ohh': 18,\n         'sink': 18,\n         'safe': 18,\n         'battl': 18,\n         'thi': 18,\n         'nation': 18,\n         'spare': 18,\n         'preciou': 18,\n         'appear': 18,\n         'ran': 18,\n         'wound': 18,\n         'crown': 18,\n         'imagin': 18,\n         'hall': 18,\n         'sweetest': 18,\n         'cover': 18,\n         'enjoy': 18,\n         'earn': 18,\n         'cours': 18,\n         'highway': 18,\n         'gypsi': 18,\n         'small': 18,\n         'park': 18,\n         'sigh': 18,\n         'paradis': 18,\n         'weird': 18,\n         'winner': 18,\n         'playin': 18,\n         'hoe': 18,\n         'store': 18,\n         'bill': 18,\n         'workin': 18,\n         'flash': 18,\n         'banana': 18,\n         'chest': 18,\n         'gee': 18,\n         'parent': 18,\n         'bug': 17,\n         'doo': 17,\n         'paint': 17,\n         'wick': 17,\n         'least': 17,\n         'simpl': 17,\n         'stronger': 17,\n         'beer': 17,\n         'heartach': 17,\n         'becam': 17,\n         'dig': 17,\n         'flesh': 17,\n         'soldier': 17,\n         'anyway': 17,\n         'escap': 17,\n         'nail': 17,\n         'singl': 17,\n         'gift': 17,\n         'joe': 17,\n         'shore': 17,\n         'makin': 17,\n         'direct': 17,\n         'other': 17,\n         'eight': 17,\n         'sayin': 17,\n         'histori': 17,\n         'careless': 17,\n         'christ': 17,\n         'legit': 17,\n         'fair': 17,\n         'point': 17,\n         'hip': 17,\n         'color': 17,\n         'mr': 17,\n         'crack': 17,\n         'swingin': 17,\n         'ooooh': 17,\n         'rye': 17,\n         'ray': 17,\n         'bound': 17,\n         'suffer': 17,\n         'paromppapompom': 17,\n         'violent': 17,\n         'jam': 17,\n         'complet': 16,\n         'railroad': 16,\n         'traffic': 16,\n         'hors': 16,\n         'forgot': 16,\n         'crime': 16,\n         'distanc': 16,\n         'middl': 16,\n         'hunger': 16,\n         'tall': 16,\n         'hat': 16,\n         'callin': 16,\n         'golden': 16,\n         'whose': 16,\n         'tongu': 16,\n         'melt': 16,\n         'paid': 16,\n         'mark': 16,\n         'probabl': 16,\n         'deserv': 16,\n         'leavin': 16,\n         'short': 16,\n         'lean': 16,\n         'sunris': 16,\n         'bust': 16,\n         'freak': 16,\n         'moonlight': 16,\n         'movi': 16,\n         'emot': 16,\n         'wash': 16,\n         'explain': 16,\n         'notic': 16,\n         'string': 16,\n         'treasur': 16,\n         'destini': 16,\n         'week': 16,\n         'ash': 16,\n         'depend': 16,\n         'cha': 16,\n         'maggi': 16,\n         'puppet': 16,\n         'backroom': 16,\n         'wowomp': 16,\n         'kau': 16,\n         'donna': 16,\n         'tbird': 16,\n         ...})"
     },
     "execution_count": 46,
     "metadata": {},
     "output_type": "execute_result"
    }
   ],
   "source": [
    "counts"
   ],
   "metadata": {
    "collapsed": false,
    "ExecuteTime": {
     "end_time": "2024-02-09T16:32:27.993556Z",
     "start_time": "2024-02-09T16:32:27.985438Z"
    }
   },
   "id": "c9ad5ca9df4546c6"
  },
  {
   "cell_type": "code",
   "execution_count": 47,
   "outputs": [
    {
     "data": {
      "text/plain": "8421"
     },
     "execution_count": 47,
     "metadata": {},
     "output_type": "execute_result"
    }
   ],
   "source": [
    "len(counts)"
   ],
   "metadata": {
    "collapsed": false,
    "ExecuteTime": {
     "end_time": "2024-02-09T16:32:27.997051Z",
     "start_time": "2024-02-09T16:32:27.992491Z"
    }
   },
   "id": "b7b9da3d7477d381"
  },
  {
   "cell_type": "markdown",
   "source": [
    "Even with a limited number of songs, we have 8421 tokens."
   ],
   "metadata": {
    "collapsed": false
   },
   "id": "c2a9523a2660cca9"
  },
  {
   "cell_type": "code",
   "execution_count": 48,
   "outputs": [
    {
     "data": {
      "text/plain": "<Figure size 1000x600 with 1 Axes>",
      "image/png": "[encoded data removed]"
     },
     "metadata": {},
     "output_type": "display_data"
    }
   ],
   "source": [
    "frequencies = list(counts.values())\n",
    "\n",
    "# Plot the histogram\n",
    "plt.figure(figsize=(10, 6))  # Set the figure size (optional)\n",
    "plt.hist(frequencies, bins=50, edgecolor='k')  # Adjust the number of bins for better resolution\n",
    "plt.title('Distribution of Word Counts')  # Add a title to the histogram\n",
    "plt.xlabel('Word Count')  # Label for the x-axis\n",
    "plt.ylabel('Number of Words')  # Label for the y-axis\n",
    "#plt.yscale('log', nonpositive='clip')  # Use a log scale for the y-axis to better display the distribution\n",
    "plt.show()"
   ],
   "metadata": {
    "collapsed": false,
    "ExecuteTime": {
     "end_time": "2024-02-09T16:32:28.116847Z",
     "start_time": "2024-02-09T16:32:27.999484Z"
    }
   },
   "id": "93184ac762aa1d55"
  },
  {
   "cell_type": "code",
   "execution_count": 49,
   "outputs": [
    {
     "data": {
      "text/plain": "<Figure size 1000x600 with 1 Axes>",
      "image/png": "[encoded data removed]"
     },
     "metadata": {},
     "output_type": "display_data"
    }
   ],
   "source": [
    "plt.figure(figsize=(10, 6))  # Set the figure size (optional)\n",
    "plt.hist(frequencies, bins=range(1, 11), edgecolor='k', align='left')  # Specify bins for counts 1 through 10\n",
    "plt.title('Distribution of Word Counts for Counts Below 10')  # Add a title to the histogram\n",
    "plt.xlabel('Word Count')  # Label for the x-axis\n",
    "plt.ylabel('Number of Words')  # Label for the y-axis\n",
    "plt.xticks(range(1, 11))  # Set x-ticks to show each word count value\n",
    "plt.xlim(0, 10)  # Limit the x-axis to show up to count 10\n",
    "plt.show()"
   ],
   "metadata": {
    "collapsed": false,
    "ExecuteTime": {
     "end_time": "2024-02-09T16:32:28.313944Z",
     "start_time": "2024-02-09T16:32:28.114584Z"
    }
   },
   "id": "dd606efb70a8502d"
  },
  {
   "cell_type": "markdown",
   "source": [
    "This is common, there are words that are rare (could also be due to typos). In this case, this is also due to the fact that we are only using 1000 songs. Let's see some of these words. "
   ],
   "metadata": {
    "collapsed": false
   },
   "id": "f3722a2ef69a822f"
  },
  {
   "cell_type": "code",
   "execution_count": 50,
   "outputs": [
    {
     "data": {
      "text/plain": "['finlli',\n 'penitentiari',\n 'riverboat',\n 'persian',\n 'drunkard',\n 'hobophob',\n 'cracker',\n 'lysol',\n 'infest',\n 'endocrin',\n 'suckin',\n 'bipolar',\n 'savin',\n 'discret',\n 'practual',\n 'mystic',\n 'wreckag',\n 'daforc',\n 'coars',\n 'mismanag',\n 'hare',\n 'liquifi',\n 'hernia',\n 'knucl',\n 'india',\n 'dubplat',\n 'cheddar',\n 'click',\n 'clack',\n 'aiyyo',\n 'circumcis',\n 'unnatur',\n 'junki',\n 'flask',\n 'hardhead',\n 'coldheart',\n 'tattl',\n 'tor',\n 'dustfil',\n 'meaningless',\n 'serenad',\n 'fightin',\n 'martian',\n 'bassi',\n 'bach',\n 'maraca',\n 'voiceov',\n 'frontier',\n 'flake',\n 'crocodil',\n 'inspect',\n 'philistin',\n 'strung',\n 'hampstead',\n 'incid',\n 'rig',\n 'harpsichord',\n 'glade',\n 'unshown',\n 'playth',\n 'neckti',\n 'remnant',\n 'recent',\n 'marbl',\n 'monsieur',\n 'fez',\n 'ambassador',\n 'attendezv',\n 'sil',\n 'plait',\n 'upstair',\n 'horsedrawn',\n 'handwritten',\n 'chandeli',\n 'volcano',\n 'erupt',\n 'boiler',\n 'beaucoup',\n 'cronkit',\n 'hardluck',\n 'defil',\n 'desecr',\n 'unbound',\n 'litali',\n 'pere',\n 'peu',\n 'dire',\n 'quell',\n 'oubli',\n 'lenfer',\n 'davoir',\n 'dit',\n 'oui',\n 'lumier',\n 'fou',\n 'linfini',\n 'entend',\n 'voix',\n 'lappel',\n 'voit']"
     },
     "execution_count": 50,
     "metadata": {},
     "output_type": "execute_result"
    }
   ],
   "source": [
    "[word for word, count in counts.items() if count == 1][0:100] #print the first 100"
   ],
   "metadata": {
    "collapsed": false,
    "ExecuteTime": {
     "end_time": "2024-02-09T16:32:28.320203Z",
     "start_time": "2024-02-09T16:32:28.314712Z"
    }
   },
   "id": "586d8694078b4a3f"
  },
  {
   "cell_type": "markdown",
   "source": [
    "### Vectorization\n",
    "\n",
    "In principle, you may build the document-feature matrix using the counts above, document by document. In practice, there are packages we can use that include additional features.  \n",
    "\n",
    "We will now consider the vectorizer available with [scikit-learn](https://scikit-learn.org/stable/) a popular python library for machine learnig. We will now use the Count Vectorizer, an overview of the Bag of Word representation by scikit-learn is available [here](https://scikit-learn.org/stable/modules/feature_extraction.html#text-feature-extraction). Documentation for the CountVectorizer class is availabel [here](https://scikit-learn.org/stable/modules/generated/sklearn.feature_extraction.text.CountVectorizer.html#sklearn.feature_extraction.text.CountVectorizer). Notice that this class offers some built-in options to simplify the text and tokenize.\n",
    "\n",
    "A CountVectorizer expects strings as inputs, while now our data appear as lists of tokens. We will need to join these tokens first."
   ],
   "metadata": {
    "collapsed": false
   },
   "id": "fb60832a05401634"
  },
  {
   "cell_type": "code",
   "execution_count": 51,
   "outputs": [],
   "source": [
    "from sklearn.feature_extraction.text import CountVectorizer\n",
    "vectorizer = CountVectorizer(tokenizer=None,\n",
    "                             lowercase=False,\n",
    "                             min_df=0.005,  #minimum document frequency\n",
    "                             max_df=0.95,\n",
    "                             #binarybool, default=False  <-- use this if you want binary\n",
    "                             )\n",
    "\n",
    "X = vectorizer.fit_transform(df['tokens_simple'].apply(lambda tokens: \" \".join(tokens)))"
   ],
   "metadata": {
    "collapsed": false,
    "ExecuteTime": {
     "end_time": "2024-02-09T16:32:28.397549Z",
     "start_time": "2024-02-09T16:32:28.355268Z"
    }
   },
   "id": "4d789ef92d86ec31"
  },
  {
   "cell_type": "markdown",
   "source": [
    "Please note that when we use CountVectorizer, it returns a CountVectorizer object (vectorizer) and a csr_matrix object (X). The abbreviation \"csr\" refers to Compressed Sparse Row matrix, an efficient format for storing matrices with a high volume of zeroes. This format significantly reduces memory usage and speeds up computations involving sparse data."
   ],
   "metadata": {
    "collapsed": false
   },
   "id": "b897062d5cbd015e"
  },
  {
   "cell_type": "code",
   "execution_count": 52,
   "outputs": [
    {
     "data": {
      "text/plain": "(1000, 1683)"
     },
     "execution_count": 52,
     "metadata": {},
     "output_type": "execute_result"
    }
   ],
   "source": [
    "X.shape"
   ],
   "metadata": {
    "collapsed": false,
    "ExecuteTime": {
     "end_time": "2024-02-09T16:32:28.397910Z",
     "start_time": "2024-02-09T16:32:28.362627Z"
    }
   },
   "id": "a6b92a3e7840590b"
  },
  {
   "cell_type": "markdown",
   "source": [
    "The X matrix has 1000 rows (the number of documents) and 1683 columns (the number of tokens). With respect to the list of tokens we are missing tokens that are too common or too uncommon according to our filter."
   ],
   "metadata": {
    "collapsed": false
   },
   "id": "234399e9e4613bbc"
  },
  {
   "cell_type": "code",
   "execution_count": 53,
   "outputs": [
    {
     "data": {
      "text/plain": "array(['abl', 'absolut', 'abus', ..., 'york', 'young', 'zone'],\n      dtype=object)"
     },
     "execution_count": 53,
     "metadata": {},
     "output_type": "execute_result"
    }
   ],
   "source": [
    "vectorizer.get_feature_names_out()"
   ],
   "metadata": {
    "collapsed": false,
    "ExecuteTime": {
     "end_time": "2024-02-09T16:32:28.398096Z",
     "start_time": "2024-02-09T16:32:28.365850Z"
    }
   },
   "id": "bb5c85a6ad0b9214"
  },
  {
   "cell_type": "code",
   "execution_count": 54,
   "outputs": [
    {
     "name": "stdout",
     "output_type": "stream",
     "text": [
      "[[0 0 0 0 0 0 0 0 0 0 0 0 0 0 0 0 0 0 0 0 0 0 0 0 0 0 0 0 0 0 0 0 0 0 0 0\n",
      "  0 0 0 0 0 0 0 0 0 0 0 0 0 0 0 0 0 0 0 0 0 0 0 0 0 0 0 0 0 0 0 0 0 0 0 1\n",
      "  0 0 0 0 0 0 0 0 0 0 0 0 0 0 0 0 0 0 0 0 0 0 0 0 0 0 0 0]]\n"
     ]
    }
   ],
   "source": [
    "row_dense = X[0].toarray()\n",
    "\n",
    "print(row_dense[:, 0:100])"
   ],
   "metadata": {
    "collapsed": false,
    "ExecuteTime": {
     "end_time": "2024-02-09T16:32:28.398269Z",
     "start_time": "2024-02-09T16:32:28.368517Z"
    }
   },
   "id": "aa99999be5cee092"
  },
  {
   "cell_type": "code",
   "execution_count": 55,
   "outputs": [
    {
     "data": {
      "text/plain": "'away'"
     },
     "execution_count": 55,
     "metadata": {},
     "output_type": "execute_result"
    }
   ],
   "source": [
    "vectorizer.get_feature_names_out()[71]"
   ],
   "metadata": {
    "collapsed": false,
    "ExecuteTime": {
     "end_time": "2024-02-09T16:32:28.398430Z",
     "start_time": "2024-02-09T16:32:28.372073Z"
    }
   },
   "id": "da3dea94d8b315e2"
  },
  {
   "cell_type": "markdown",
   "source": [
    "We have seen considered the whole process step by step. In practice, it is often simpler to use methods from packages, especially when the set of tokens needed is standard and there are no special choices involved."
   ],
   "metadata": {
    "collapsed": false
   },
   "id": "cc41a4a2da19a0e2"
  },
  {
   "cell_type": "markdown",
   "source": [
    "### Considering n-grams"
   ],
   "metadata": {
    "collapsed": false
   },
   "id": "d96e40cde005bb85"
  },
  {
   "cell_type": "markdown",
   "source": [
    "What if instead of unigrams we were considering bigrams as well?"
   ],
   "metadata": {
    "collapsed": false
   },
   "id": "ee78550c99056722"
  },
  {
   "cell_type": "code",
   "execution_count": 56,
   "outputs": [],
   "source": [
    "from sklearn.feature_extraction.text import CountVectorizer\n",
    "vectorizer2 = CountVectorizer(tokenizer=None,\n",
    "                             lowercase=False,\n",
    "                             ngram_range=(1,2)\n",
    "                             )\n",
    "\n",
    "X2 = vectorizer2.fit_transform(df['tokens_simple'].apply(lambda tokens: \" \".join(tokens)))"
   ],
   "metadata": {
    "collapsed": false,
    "ExecuteTime": {
     "end_time": "2024-02-09T16:32:28.507318Z",
     "start_time": "2024-02-09T16:32:28.431964Z"
    }
   },
   "id": "f60cbd71c8732548"
  },
  {
   "cell_type": "code",
   "execution_count": 57,
   "outputs": [
    {
     "data": {
      "text/plain": "(1000, 69352)"
     },
     "execution_count": 57,
     "metadata": {},
     "output_type": "execute_result"
    }
   ],
   "source": [
    "X2.shape"
   ],
   "metadata": {
    "collapsed": false,
    "ExecuteTime": {
     "end_time": "2024-02-09T16:32:28.509841Z",
     "start_time": "2024-02-09T16:32:28.507663Z"
    }
   },
   "id": "173fc0e788b890ac"
  },
  {
   "cell_type": "code",
   "execution_count": 58,
   "outputs": [
    {
     "data": {
      "text/plain": "array(['aaaaaaaah', 'aaaaaaaah may', 'aaaaaaah', ..., 'zoom zoom', 'zwei',\n       'zwei herren'], dtype=object)"
     },
     "execution_count": 58,
     "metadata": {},
     "output_type": "execute_result"
    }
   ],
   "source": [
    "vectorizer2.get_feature_names_out()"
   ],
   "metadata": {
    "collapsed": false,
    "ExecuteTime": {
     "end_time": "2024-02-09T16:32:28.546704Z",
     "start_time": "2024-02-09T16:32:28.521724Z"
    }
   },
   "id": "3affbb768ba11286"
  },
  {
   "cell_type": "markdown",
   "source": [
    "Again, we could consider filtering out some bigrams."
   ],
   "metadata": {
    "collapsed": false
   },
   "id": "9345d0b504becbca"
  },
  {
   "cell_type": "markdown",
   "source": [
    "Let's now consider bigrams, to try to identify if there are bigrams that seem to have meaning. With the basic approach available using NLTK, we need to put all text we have as a unique sequence of tokens, losing therefore the separation between songs. "
   ],
   "metadata": {
    "collapsed": false
   },
   "id": "40037c26ffe86c2f"
  },
  {
   "cell_type": "code",
   "execution_count": 59,
   "outputs": [],
   "source": [
    "text_tokens_all = [token for song in df['tokens_simple'] for token in song]"
   ],
   "metadata": {
    "collapsed": false,
    "ExecuteTime": {
     "end_time": "2024-02-09T16:32:28.553788Z",
     "start_time": "2024-02-09T16:32:28.530070Z"
    }
   },
   "id": "123bcff050d0fc15"
  },
  {
   "cell_type": "code",
   "execution_count": 60,
   "outputs": [],
   "source": [
    "bigram_measures = nltk.collocations.BigramAssocMeasures()\n",
    "finder = nltk.collocations.BigramCollocationFinder.from_words(text_tokens_all)"
   ],
   "metadata": {
    "collapsed": false,
    "ExecuteTime": {
     "end_time": "2024-02-09T16:32:28.612232Z",
     "start_time": "2024-02-09T16:32:28.588560Z"
    }
   },
   "id": "d4238dabd55a92ae"
  },
  {
   "cell_type": "code",
   "execution_count": 61,
   "outputs": [
    {
     "data": {
      "text/plain": "[('love', 'love'),\n ('yeah', 'yeah'),\n ('feel', 'like'),\n ('know', 'know'),\n ('come', 'back'),\n ('never', 'never'),\n ('come', 'come'),\n ('chang', 'mind'),\n ('got', 'get'),\n ('bala', 'bala'),\n ('know', 'love'),\n ('one', 'day'),\n ('want', 'want'),\n ('hey', 'hey'),\n ('good', 'good')]"
     },
     "execution_count": 61,
     "metadata": {},
     "output_type": "execute_result"
    }
   ],
   "source": [
    "finder.nbest(bigram_measures.raw_freq, 15) "
   ],
   "metadata": {
    "collapsed": false,
    "ExecuteTime": {
     "end_time": "2024-02-09T16:32:28.722127Z",
     "start_time": "2024-02-09T16:32:28.625128Z"
    }
   },
   "id": "80ba5d1702bae6e0"
  },
  {
   "cell_type": "markdown",
   "source": [
    "These are the 15 most common bigrams, what do you notice?"
   ],
   "metadata": {
    "collapsed": false
   },
   "id": "80df0a1e74ddf5cb"
  },
  {
   "cell_type": "markdown",
   "source": [
    "### Discovery: Find associated words\n",
    "We can use pointwise mutual information to detect which combinations of tokens appear to be more commonly related."
   ],
   "metadata": {
    "collapsed": false
   },
   "id": "a989743ffa9890cb"
  },
  {
   "cell_type": "code",
   "execution_count": 62,
   "outputs": [
    {
     "data": {
      "text/plain": "[('abod', 'glasgow'),\n ('abund', 'thicken'),\n ('accompagnera', 'passando'),\n ('achiev', 'result'),\n ('acorn', 'schall'),\n ('addictionsubtract', 'ad'),\n ('africa', 'brazil'),\n ('africu', 'tex'),\n ('afrika', 'korp'),\n ('agetai', 'unmei')]"
     },
     "execution_count": 62,
     "metadata": {},
     "output_type": "execute_result"
    }
   ],
   "source": [
    "finder.nbest(bigram_measures.pmi, 10)"
   ],
   "metadata": {
    "collapsed": false,
    "ExecuteTime": {
     "end_time": "2024-02-09T16:32:28.832944Z",
     "start_time": "2024-02-09T16:32:28.740077Z"
    }
   },
   "id": "b7636b5a60e831bb"
  },
  {
   "cell_type": "code",
   "execution_count": 63,
   "outputs": [
    {
     "data": {
      "text/plain": "[('bossa', 'nova'),\n ('isat', 'isa'),\n ('lunch', 'gina'),\n ('marlon', 'brando'),\n ('aise', 'adda'),\n ('aquarium', 'diver'),\n ('desk', 'clerk'),\n ('gya', 'nisaar'),\n ('handbag', 'gladrag'),\n ('mujhay', 'dekha')]"
     },
     "execution_count": 63,
     "metadata": {},
     "output_type": "execute_result"
    }
   ],
   "source": [
    "finder.apply_freq_filter(4) #Filter, at leat 5 occurrences\n",
    "finder.nbest(bigram_measures.pmi, 10)"
   ],
   "metadata": {
    "collapsed": false,
    "ExecuteTime": {
     "end_time": "2024-02-09T16:32:28.848401Z",
     "start_time": "2024-02-09T16:32:28.838794Z"
    }
   },
   "id": "62ac08a548386114"
  },
  {
   "cell_type": "markdown",
   "source": [
    "Remember that here we are considering songs, which aspects of songwriting do you believe might influence the detection of bigrams? Also, we haven't excluded songs that are not in English, so we detect combinations between tokens in other languages as well."
   ],
   "metadata": {
    "collapsed": false
   },
   "id": "a5afee1d348afa39"
  },
  {
   "cell_type": "markdown",
   "source": [
    "### Measurement: Keywords by Artist\n"
   ],
   "metadata": {
    "collapsed": false
   },
   "id": "68e7203f06e8b5a7"
  },
  {
   "cell_type": "code",
   "execution_count": 64,
   "outputs": [
    {
     "name": "stdout",
     "output_type": "stream",
     "text": [
      "[('love', 1653), ('know', 1313), ('like', 1120), ('got', 983), ('come', 928), ('get', 908), ('want', 874), ('time', 827), ('see', 810), ('never', 764)]\n"
     ]
    }
   ],
   "source": [
    "sum_words = X.sum(axis=0)\n",
    "words_freq = [(word, sum_words[0, idx]) for word, idx in vectorizer.vocabulary_.items()]\n",
    "words_freq = sorted(words_freq, key = lambda x: x[1], reverse=True)\n",
    "\n",
    "print(words_freq[:10])"
   ],
   "metadata": {
    "collapsed": false,
    "ExecuteTime": {
     "end_time": "2024-02-09T16:32:28.853689Z",
     "start_time": "2024-02-09T16:32:28.850547Z"
    }
   },
   "id": "34f0feb9c26f5532"
  },
  {
   "cell_type": "code",
   "execution_count": 65,
   "outputs": [],
   "source": [
    "word_counts = pd.DataFrame(X.toarray(), columns=vectorizer.get_feature_names_out()) #convert to array, needed for merging\n",
    "word_counts['artist'] = df['artist'] #add information about the artist\n",
    "word_frequencies_by_artist = word_counts.groupby('artist').sum() #group by artist\n",
    "\n",
    "#We still need to divide by the number of keywords to get the frequency\n",
    "row_sums = word_frequencies_by_artist.sum(axis=1)\n",
    "word_frequencies_by_artist = word_frequencies_by_artist.div(row_sums, axis=0)"
   ],
   "metadata": {
    "collapsed": false,
    "ExecuteTime": {
     "end_time": "2024-02-09T16:32:28.889836Z",
     "start_time": "2024-02-09T16:32:28.853367Z"
    }
   },
   "id": "7d56f05a291e5a18"
  },
  {
   "cell_type": "code",
   "execution_count": 66,
   "outputs": [
    {
     "data": {
      "text/plain": "troubl     0.098592\nlove       0.070423\ngirl       0.056338\ngot        0.049296\nworri      0.042254\n             ...   \nfreez      0.000000\nfreedom    0.000000\nfree       0.000000\nfreak      0.000000\nzone       0.000000\nName: The Beatles, Length: 1683, dtype: float64"
     },
     "execution_count": 66,
     "metadata": {},
     "output_type": "execute_result"
    }
   ],
   "source": [
    "word_frequencies_by_artist.loc['The Beatles', :].sort_values(ascending=False)"
   ],
   "metadata": {
    "collapsed": false,
    "ExecuteTime": {
     "end_time": "2024-02-09T16:32:28.898189Z",
     "start_time": "2024-02-09T16:32:28.866309Z"
    }
   },
   "id": "922301bcf689c334"
  },
  {
   "cell_type": "markdown",
   "source": [
    "### Measurement: Sentiment Analysis"
   ],
   "metadata": {
    "collapsed": false
   },
   "id": "45a97287e8e87a8f"
  },
  {
   "cell_type": "markdown",
   "source": [
    "We can now move to a simple example of dictionary methods, that is, sentiment analysis. We will use VADER included in the NLTK library to do this, main sources [here](https://www.nltk.org/howto/sentiment.html) and [here](https://github.com/cjhutto/vaderSentiment).\n",
    "\n",
    "Notice that this approach has several limitations, if you want to implement sentiment analysis in your project, consider using tools that we will describe in the second part of the course. \n",
    "\n",
    "VADER is an example of a dictionary method, where terms in the lexicon have an associate positive/negative score. As it is targeted to social media, it adds additional rules that modify the intensity of the score based on the capitalization or other surrounding words. "
   ],
   "metadata": {
    "collapsed": false
   },
   "id": "b444cbb773402c78"
  },
  {
   "cell_type": "code",
   "execution_count": 67,
   "outputs": [
    {
     "name": "stderr",
     "output_type": "stream",
     "text": [
      "[nltk_data] Downloading package vader_lexicon to\n",
      "[nltk_data]     /Users/trotesi/nltk_data...\n",
      "[nltk_data]   Package vader_lexicon is already up-to-date!\n"
     ]
    }
   ],
   "source": [
    "from nltk.sentiment.vader import SentimentIntensityAnalyzer\n",
    "nltk.download('vader_lexicon')\n",
    "sid = SentimentIntensityAnalyzer()\n",
    "vader_lexicon = sid.lexicon"
   ],
   "metadata": {
    "collapsed": false,
    "ExecuteTime": {
     "end_time": "2024-02-09T16:32:28.898733Z",
     "start_time": "2024-02-09T16:32:28.869822Z"
    }
   },
   "id": "d027eafcad92de22"
  },
  {
   "cell_type": "code",
   "execution_count": 68,
   "outputs": [
    {
     "data": {
      "text/plain": "dict"
     },
     "execution_count": 68,
     "metadata": {},
     "output_type": "execute_result"
    }
   ],
   "source": [
    "type(vader_lexicon)"
   ],
   "metadata": {
    "collapsed": false,
    "ExecuteTime": {
     "end_time": "2024-02-09T16:32:28.898938Z",
     "start_time": "2024-02-09T16:32:28.880497Z"
    }
   },
   "id": "9f1a8269b1bd6499"
  },
  {
   "cell_type": "code",
   "execution_count": 69,
   "outputs": [
    {
     "data": {
      "text/plain": "2.0"
     },
     "execution_count": 69,
     "metadata": {},
     "output_type": "execute_result"
    }
   ],
   "source": [
    "vader_lexicon[\":)\"]"
   ],
   "metadata": {
    "collapsed": false,
    "ExecuteTime": {
     "end_time": "2024-02-09T16:32:28.899093Z",
     "start_time": "2024-02-09T16:32:28.882860Z"
    }
   },
   "id": "f8612d66bcc85e26"
  },
  {
   "cell_type": "code",
   "execution_count": 70,
   "outputs": [
    {
     "data": {
      "text/plain": "3.2"
     },
     "execution_count": 70,
     "metadata": {},
     "output_type": "execute_result"
    }
   ],
   "source": [
    "vader_lexicon[\"love\"]"
   ],
   "metadata": {
    "collapsed": false,
    "ExecuteTime": {
     "end_time": "2024-02-09T16:32:28.899235Z",
     "start_time": "2024-02-09T16:32:28.885301Z"
    }
   },
   "id": "94ddfe94e6ebfb2f"
  },
  {
   "cell_type": "code",
   "execution_count": 71,
   "outputs": [
    {
     "data": {
      "text/plain": "-2.7"
     },
     "execution_count": 71,
     "metadata": {},
     "output_type": "execute_result"
    }
   ],
   "source": [
    "vader_lexicon[\"hate\"]"
   ],
   "metadata": {
    "collapsed": false,
    "ExecuteTime": {
     "end_time": "2024-02-09T16:32:28.899487Z",
     "start_time": "2024-02-09T16:32:28.887584Z"
    }
   },
   "id": "8a68ca7d55717ae6"
  },
  {
   "cell_type": "code",
   "execution_count": 72,
   "outputs": [
    {
     "data": {
      "text/plain": "-3.4"
     },
     "execution_count": 72,
     "metadata": {},
     "output_type": "execute_result"
    }
   ],
   "source": [
    "vader_lexicon[\"cancer\"]"
   ],
   "metadata": {
    "collapsed": false,
    "ExecuteTime": {
     "end_time": "2024-02-09T16:32:28.901424Z",
     "start_time": "2024-02-09T16:32:28.889933Z"
    }
   },
   "id": "2a9a238b1b1c2292"
  },
  {
   "cell_type": "code",
   "execution_count": 73,
   "outputs": [],
   "source": [
    "sid = SentimentIntensityAnalyzer()\n",
    "df['sentiment_VADER'] = df['text'].apply(lambda x: sid.polarity_scores(x)['compound'])"
   ],
   "metadata": {
    "collapsed": false,
    "ExecuteTime": {
     "end_time": "2024-02-09T16:32:29.843044Z",
     "start_time": "2024-02-09T16:32:28.940153Z"
    }
   },
   "id": "3847cbc6cb2e7109"
  },
  {
   "cell_type": "code",
   "execution_count": 74,
   "outputs": [
    {
     "data": {
      "text/plain": "              artist                  song  \\\n24      Culture Club          The War Song   \n461         Kid Rock          Is That You?   \n823       Snoop Dogg      Don't Be Foolish   \n810         Ice Cube         Check Yo Self   \n421           Slayer      Chemical Warfare   \n..               ...                   ...   \n110        Morrissey          My Love Life   \n193              Zox           Stupid Song   \n122  Luther Vandross          Heaven Knows   \n422       Gucci Mane  Mr. And Mrs. Perfect   \n157    Tracy Chapman           Freedom Now   \n\n                                                  text  len  \\\n24   War war is stupid and people are stupid  \\nAnd...  401   \n461  Violent J Violent J is that you?  \\nI'm on the...  704   \n823  [snoop dogg]  \\nYo dogg, niggas always asking ...  746   \n810  Yeah! Word is bond!  \\nDas EFX in this ya know...  684   \n421  Frantic minds are terrified  \\nLife lies in a ...  381   \n..                                                 ...  ...   \n110  Aah...  \\nCome on to my house  \\nCome on and d...  303   \n193  All I want to do is write a stupid song  \\nWit...  474   \n122  Heaven knows I love you,  \\nheaven knows how m...  495   \n422  She badd, she straight, she fine as hell.  \\nU...  628   \n157  They throwed him in jail  \\nAnd they kept him ...  346   \n\n                                                tokens  \\\n24   [War, war, is, stupid, and, people, are, stupi...   \n461  [Violent, J, Violent, J, is, that, you, ?, I, ...   \n823  [[, snoop, dogg, ], Yo, dogg, ,, niggas, alway...   \n810  [Yeah, !, Word, is, bond, !, Das, EFX, in, thi...   \n421  [Frantic, minds, are, terrified, Life, lies, i...   \n..                                                 ...   \n110  [Aah, ..., Come, on, to, my, house, Come, on, ...   \n193  [All, I, want, to, do, is, write, a, stupid, s...   \n122  [Heaven, knows, I, love, you, ,, heaven, knows...   \n422  [She, badd, ,, she, straight, ,, she, fine, as...   \n157  [They, throwed, him, in, jail, And, they, kept...   \n\n                                          tokens_spacy  \\\n24   [War, war, is, stupid, and, people, are, stupi...   \n461  [Violent, J, Violent, J, is, that, you, ?,  \\n...   \n823  [[, snoop, dogg, ],  \\n, Yo, dogg, ,, niggas, ...   \n810  [Yeah, !, Word, is, bond, !,  \\n, Das, EFX, in...   \n421  [Frantic, minds, are, terrified,  \\n, Life, li...   \n..                                                 ...   \n110  [Aah, ...,  \\n, Come, on, to, my, house,  \\n, ...   \n193  [All, I, want, to, do, is, write, a, stupid, s...   \n122  [Heaven, knows, I, love, you, ,,  \\n, heaven, ...   \n422  [She, badd, ,, she, straight, ,, she, fine, as...   \n157  [They, throwed, him, in, jail,  \\n, And, they,...   \n\n                                         tokens_simple  \\\n24   [war, war, stupid, peopl, stupid, love, mean, ...   \n461  [violent, violent, microphon, whatcha, want, v...   \n823  [snoop, dogg, dogg, nigga, alway, ask, muthafu...   \n810  [yeah, word, bond, da, efx, know, sayin, strai...   \n421  [frantic, mind, terrifi, life, lie, grave, sil...   \n..                                                 ...   \n110  [aah, come, hous, come, someth, new, know, lov...   \n193  [want, write, stupid, song, three, line, choru...   \n122  [heaven, know, love, heaven, know, much, care,...   \n422  [badd, straight, fine, hell, wuz, wuz, wuz, wi...   \n157  [throw, jail, kept, hope, die, bodi, spirit, w...   \n\n                                          token_gensim  sentiment_VADER  \n24   [war, war, is, stupid, and, people, are, stupi...          -0.9995  \n461  [violent, violent, is, that, you, on, the, mic...          -0.9994  \n823  [snoop, dogg, yo, dogg, niggas, always, asking...          -0.9992  \n810  [yeah, word, is, bond, das, efx, in, this, ya,...          -0.9990  \n421  [frantic, minds, are, terrified, life, lies, i...          -0.9989  \n..                                                 ...              ...  \n110  [aah, come, on, to, my, house, come, on, and, ...           0.9995  \n193  [all, want, to, do, is, write, stupid, song, w...           0.9996  \n122  [heaven, knows, love, you, heaven, knows, how,...           0.9997  \n422  [she, badd, she, straight, she, fine, as, hell...           0.9997  \n157  [they, throwed, him, in, jail, and, they, kept...           0.9998  \n\n[1000 rows x 9 columns]",
      "text/html": "<div>\n<style scoped>\n    .dataframe tbody tr th:only-of-type {\n        vertical-align: middle;\n    }\n\n    .dataframe tbody tr th {\n        vertical-align: top;\n    }\n\n    .dataframe thead th {\n        text-align: right;\n    }\n</style>\n<table border=\"1\" class=\"dataframe\">\n  <thead>\n    <tr style=\"text-align: right;\">\n      <th></th>\n      <th>artist</th>\n      <th>song</th>\n      <th>text</th>\n      <th>len</th>\n      <th>tokens</th>\n      <th>tokens_spacy</th>\n      <th>tokens_simple</th>\n      <th>token_gensim</th>\n      <th>sentiment_VADER</th>\n    </tr>\n  </thead>\n  <tbody>\n    <tr>\n      <th>24</th>\n      <td>Culture Club</td>\n      <td>The War Song</td>\n      <td>War war is stupid and people are stupid  \\nAnd...</td>\n      <td>401</td>\n      <td>[War, war, is, stupid, and, people, are, stupi...</td>\n      <td>[War, war, is, stupid, and, people, are, stupi...</td>\n      <td>[war, war, stupid, peopl, stupid, love, mean, ...</td>\n      <td>[war, war, is, stupid, and, people, are, stupi...</td>\n      <td>-0.9995</td>\n    </tr>\n    <tr>\n      <th>461</th>\n      <td>Kid Rock</td>\n      <td>Is That You?</td>\n      <td>Violent J Violent J is that you?  \\nI'm on the...</td>\n      <td>704</td>\n      <td>[Violent, J, Violent, J, is, that, you, ?, I, ...</td>\n      <td>[Violent, J, Violent, J, is, that, you, ?,  \\n...</td>\n      <td>[violent, violent, microphon, whatcha, want, v...</td>\n      <td>[violent, violent, is, that, you, on, the, mic...</td>\n      <td>-0.9994</td>\n    </tr>\n    <tr>\n      <th>823</th>\n      <td>Snoop Dogg</td>\n      <td>Don't Be Foolish</td>\n      <td>[snoop dogg]  \\nYo dogg, niggas always asking ...</td>\n      <td>746</td>\n      <td>[[, snoop, dogg, ], Yo, dogg, ,, niggas, alway...</td>\n      <td>[[, snoop, dogg, ],  \\n, Yo, dogg, ,, niggas, ...</td>\n      <td>[snoop, dogg, dogg, nigga, alway, ask, muthafu...</td>\n      <td>[snoop, dogg, yo, dogg, niggas, always, asking...</td>\n      <td>-0.9992</td>\n    </tr>\n    <tr>\n      <th>810</th>\n      <td>Ice Cube</td>\n      <td>Check Yo Self</td>\n      <td>Yeah! Word is bond!  \\nDas EFX in this ya know...</td>\n      <td>684</td>\n      <td>[Yeah, !, Word, is, bond, !, Das, EFX, in, thi...</td>\n      <td>[Yeah, !, Word, is, bond, !,  \\n, Das, EFX, in...</td>\n      <td>[yeah, word, bond, da, efx, know, sayin, strai...</td>\n      <td>[yeah, word, is, bond, das, efx, in, this, ya,...</td>\n      <td>-0.9990</td>\n    </tr>\n    <tr>\n      <th>421</th>\n      <td>Slayer</td>\n      <td>Chemical Warfare</td>\n      <td>Frantic minds are terrified  \\nLife lies in a ...</td>\n      <td>381</td>\n      <td>[Frantic, minds, are, terrified, Life, lies, i...</td>\n      <td>[Frantic, minds, are, terrified,  \\n, Life, li...</td>\n      <td>[frantic, mind, terrifi, life, lie, grave, sil...</td>\n      <td>[frantic, minds, are, terrified, life, lies, i...</td>\n      <td>-0.9989</td>\n    </tr>\n    <tr>\n      <th>...</th>\n      <td>...</td>\n      <td>...</td>\n      <td>...</td>\n      <td>...</td>\n      <td>...</td>\n      <td>...</td>\n      <td>...</td>\n      <td>...</td>\n      <td>...</td>\n    </tr>\n    <tr>\n      <th>110</th>\n      <td>Morrissey</td>\n      <td>My Love Life</td>\n      <td>Aah...  \\nCome on to my house  \\nCome on and d...</td>\n      <td>303</td>\n      <td>[Aah, ..., Come, on, to, my, house, Come, on, ...</td>\n      <td>[Aah, ...,  \\n, Come, on, to, my, house,  \\n, ...</td>\n      <td>[aah, come, hous, come, someth, new, know, lov...</td>\n      <td>[aah, come, on, to, my, house, come, on, and, ...</td>\n      <td>0.9995</td>\n    </tr>\n    <tr>\n      <th>193</th>\n      <td>Zox</td>\n      <td>Stupid Song</td>\n      <td>All I want to do is write a stupid song  \\nWit...</td>\n      <td>474</td>\n      <td>[All, I, want, to, do, is, write, a, stupid, s...</td>\n      <td>[All, I, want, to, do, is, write, a, stupid, s...</td>\n      <td>[want, write, stupid, song, three, line, choru...</td>\n      <td>[all, want, to, do, is, write, stupid, song, w...</td>\n      <td>0.9996</td>\n    </tr>\n    <tr>\n      <th>122</th>\n      <td>Luther Vandross</td>\n      <td>Heaven Knows</td>\n      <td>Heaven knows I love you,  \\nheaven knows how m...</td>\n      <td>495</td>\n      <td>[Heaven, knows, I, love, you, ,, heaven, knows...</td>\n      <td>[Heaven, knows, I, love, you, ,,  \\n, heaven, ...</td>\n      <td>[heaven, know, love, heaven, know, much, care,...</td>\n      <td>[heaven, knows, love, you, heaven, knows, how,...</td>\n      <td>0.9997</td>\n    </tr>\n    <tr>\n      <th>422</th>\n      <td>Gucci Mane</td>\n      <td>Mr. And Mrs. Perfect</td>\n      <td>She badd, she straight, she fine as hell.  \\nU...</td>\n      <td>628</td>\n      <td>[She, badd, ,, she, straight, ,, she, fine, as...</td>\n      <td>[She, badd, ,, she, straight, ,, she, fine, as...</td>\n      <td>[badd, straight, fine, hell, wuz, wuz, wuz, wi...</td>\n      <td>[she, badd, she, straight, she, fine, as, hell...</td>\n      <td>0.9997</td>\n    </tr>\n    <tr>\n      <th>157</th>\n      <td>Tracy Chapman</td>\n      <td>Freedom Now</td>\n      <td>They throwed him in jail  \\nAnd they kept him ...</td>\n      <td>346</td>\n      <td>[They, throwed, him, in, jail, And, they, kept...</td>\n      <td>[They, throwed, him, in, jail,  \\n, And, they,...</td>\n      <td>[throw, jail, kept, hope, die, bodi, spirit, w...</td>\n      <td>[they, throwed, him, in, jail, and, they, kept...</td>\n      <td>0.9998</td>\n    </tr>\n  </tbody>\n</table>\n<p>1000 rows × 9 columns</p>\n</div>"
     },
     "execution_count": 74,
     "metadata": {},
     "output_type": "execute_result"
    }
   ],
   "source": [
    "df.sort_values(by='sentiment_VADER', ascending=True)"
   ],
   "metadata": {
    "collapsed": false,
    "ExecuteTime": {
     "end_time": "2024-02-09T16:32:29.860967Z",
     "start_time": "2024-02-09T16:32:29.843295Z"
    }
   },
   "id": "7f16b097c7cdb834"
  },
  {
   "cell_type": "code",
   "execution_count": 75,
   "outputs": [
    {
     "data": {
      "text/plain": "              artist                  song  \\\n157    Tracy Chapman           Freedom Now   \n422       Gucci Mane  Mr. And Mrs. Perfect   \n122  Luther Vandross          Heaven Knows   \n193              Zox           Stupid Song   \n110        Morrissey          My Love Life   \n..               ...                   ...   \n421           Slayer      Chemical Warfare   \n810         Ice Cube         Check Yo Self   \n823       Snoop Dogg      Don't Be Foolish   \n461         Kid Rock          Is That You?   \n24      Culture Club          The War Song   \n\n                                                  text  len  \\\n157  They throwed him in jail  \\nAnd they kept him ...  346   \n422  She badd, she straight, she fine as hell.  \\nU...  628   \n122  Heaven knows I love you,  \\nheaven knows how m...  495   \n193  All I want to do is write a stupid song  \\nWit...  474   \n110  Aah...  \\nCome on to my house  \\nCome on and d...  303   \n..                                                 ...  ...   \n421  Frantic minds are terrified  \\nLife lies in a ...  381   \n810  Yeah! Word is bond!  \\nDas EFX in this ya know...  684   \n823  [snoop dogg]  \\nYo dogg, niggas always asking ...  746   \n461  Violent J Violent J is that you?  \\nI'm on the...  704   \n24   War war is stupid and people are stupid  \\nAnd...  401   \n\n                                                tokens  \\\n157  [They, throwed, him, in, jail, And, they, kept...   \n422  [She, badd, ,, she, straight, ,, she, fine, as...   \n122  [Heaven, knows, I, love, you, ,, heaven, knows...   \n193  [All, I, want, to, do, is, write, a, stupid, s...   \n110  [Aah, ..., Come, on, to, my, house, Come, on, ...   \n..                                                 ...   \n421  [Frantic, minds, are, terrified, Life, lies, i...   \n810  [Yeah, !, Word, is, bond, !, Das, EFX, in, thi...   \n823  [[, snoop, dogg, ], Yo, dogg, ,, niggas, alway...   \n461  [Violent, J, Violent, J, is, that, you, ?, I, ...   \n24   [War, war, is, stupid, and, people, are, stupi...   \n\n                                          tokens_spacy  \\\n157  [They, throwed, him, in, jail,  \\n, And, they,...   \n422  [She, badd, ,, she, straight, ,, she, fine, as...   \n122  [Heaven, knows, I, love, you, ,,  \\n, heaven, ...   \n193  [All, I, want, to, do, is, write, a, stupid, s...   \n110  [Aah, ...,  \\n, Come, on, to, my, house,  \\n, ...   \n..                                                 ...   \n421  [Frantic, minds, are, terrified,  \\n, Life, li...   \n810  [Yeah, !, Word, is, bond, !,  \\n, Das, EFX, in...   \n823  [[, snoop, dogg, ],  \\n, Yo, dogg, ,, niggas, ...   \n461  [Violent, J, Violent, J, is, that, you, ?,  \\n...   \n24   [War, war, is, stupid, and, people, are, stupi...   \n\n                                         tokens_simple  \\\n157  [throw, jail, kept, hope, die, bodi, spirit, w...   \n422  [badd, straight, fine, hell, wuz, wuz, wuz, wi...   \n122  [heaven, know, love, heaven, know, much, care,...   \n193  [want, write, stupid, song, three, line, choru...   \n110  [aah, come, hous, come, someth, new, know, lov...   \n..                                                 ...   \n421  [frantic, mind, terrifi, life, lie, grave, sil...   \n810  [yeah, word, bond, da, efx, know, sayin, strai...   \n823  [snoop, dogg, dogg, nigga, alway, ask, muthafu...   \n461  [violent, violent, microphon, whatcha, want, v...   \n24   [war, war, stupid, peopl, stupid, love, mean, ...   \n\n                                          token_gensim  sentiment_VADER  \n157  [they, throwed, him, in, jail, and, they, kept...           0.9998  \n422  [she, badd, she, straight, she, fine, as, hell...           0.9997  \n122  [heaven, knows, love, you, heaven, knows, how,...           0.9997  \n193  [all, want, to, do, is, write, stupid, song, w...           0.9996  \n110  [aah, come, on, to, my, house, come, on, and, ...           0.9995  \n..                                                 ...              ...  \n421  [frantic, minds, are, terrified, life, lies, i...          -0.9989  \n810  [yeah, word, is, bond, das, efx, in, this, ya,...          -0.9990  \n823  [snoop, dogg, yo, dogg, niggas, always, asking...          -0.9992  \n461  [violent, violent, is, that, you, on, the, mic...          -0.9994  \n24   [war, war, is, stupid, and, people, are, stupi...          -0.9995  \n\n[1000 rows x 9 columns]",
      "text/html": "<div>\n<style scoped>\n    .dataframe tbody tr th:only-of-type {\n        vertical-align: middle;\n    }\n\n    .dataframe tbody tr th {\n        vertical-align: top;\n    }\n\n    .dataframe thead th {\n        text-align: right;\n    }\n</style>\n<table border=\"1\" class=\"dataframe\">\n  <thead>\n    <tr style=\"text-align: right;\">\n      <th></th>\n      <th>artist</th>\n      <th>song</th>\n      <th>text</th>\n      <th>len</th>\n      <th>tokens</th>\n      <th>tokens_spacy</th>\n      <th>tokens_simple</th>\n      <th>token_gensim</th>\n      <th>sentiment_VADER</th>\n    </tr>\n  </thead>\n  <tbody>\n    <tr>\n      <th>157</th>\n      <td>Tracy Chapman</td>\n      <td>Freedom Now</td>\n      <td>They throwed him in jail  \\nAnd they kept him ...</td>\n      <td>346</td>\n      <td>[They, throwed, him, in, jail, And, they, kept...</td>\n      <td>[They, throwed, him, in, jail,  \\n, And, they,...</td>\n      <td>[throw, jail, kept, hope, die, bodi, spirit, w...</td>\n      <td>[they, throwed, him, in, jail, and, they, kept...</td>\n      <td>0.9998</td>\n    </tr>\n    <tr>\n      <th>422</th>\n      <td>Gucci Mane</td>\n      <td>Mr. And Mrs. Perfect</td>\n      <td>She badd, she straight, she fine as hell.  \\nU...</td>\n      <td>628</td>\n      <td>[She, badd, ,, she, straight, ,, she, fine, as...</td>\n      <td>[She, badd, ,, she, straight, ,, she, fine, as...</td>\n      <td>[badd, straight, fine, hell, wuz, wuz, wuz, wi...</td>\n      <td>[she, badd, she, straight, she, fine, as, hell...</td>\n      <td>0.9997</td>\n    </tr>\n    <tr>\n      <th>122</th>\n      <td>Luther Vandross</td>\n      <td>Heaven Knows</td>\n      <td>Heaven knows I love you,  \\nheaven knows how m...</td>\n      <td>495</td>\n      <td>[Heaven, knows, I, love, you, ,, heaven, knows...</td>\n      <td>[Heaven, knows, I, love, you, ,,  \\n, heaven, ...</td>\n      <td>[heaven, know, love, heaven, know, much, care,...</td>\n      <td>[heaven, knows, love, you, heaven, knows, how,...</td>\n      <td>0.9997</td>\n    </tr>\n    <tr>\n      <th>193</th>\n      <td>Zox</td>\n      <td>Stupid Song</td>\n      <td>All I want to do is write a stupid song  \\nWit...</td>\n      <td>474</td>\n      <td>[All, I, want, to, do, is, write, a, stupid, s...</td>\n      <td>[All, I, want, to, do, is, write, a, stupid, s...</td>\n      <td>[want, write, stupid, song, three, line, choru...</td>\n      <td>[all, want, to, do, is, write, stupid, song, w...</td>\n      <td>0.9996</td>\n    </tr>\n    <tr>\n      <th>110</th>\n      <td>Morrissey</td>\n      <td>My Love Life</td>\n      <td>Aah...  \\nCome on to my house  \\nCome on and d...</td>\n      <td>303</td>\n      <td>[Aah, ..., Come, on, to, my, house, Come, on, ...</td>\n      <td>[Aah, ...,  \\n, Come, on, to, my, house,  \\n, ...</td>\n      <td>[aah, come, hous, come, someth, new, know, lov...</td>\n      <td>[aah, come, on, to, my, house, come, on, and, ...</td>\n      <td>0.9995</td>\n    </tr>\n    <tr>\n      <th>...</th>\n      <td>...</td>\n      <td>...</td>\n      <td>...</td>\n      <td>...</td>\n      <td>...</td>\n      <td>...</td>\n      <td>...</td>\n      <td>...</td>\n      <td>...</td>\n    </tr>\n    <tr>\n      <th>421</th>\n      <td>Slayer</td>\n      <td>Chemical Warfare</td>\n      <td>Frantic minds are terrified  \\nLife lies in a ...</td>\n      <td>381</td>\n      <td>[Frantic, minds, are, terrified, Life, lies, i...</td>\n      <td>[Frantic, minds, are, terrified,  \\n, Life, li...</td>\n      <td>[frantic, mind, terrifi, life, lie, grave, sil...</td>\n      <td>[frantic, minds, are, terrified, life, lies, i...</td>\n      <td>-0.9989</td>\n    </tr>\n    <tr>\n      <th>810</th>\n      <td>Ice Cube</td>\n      <td>Check Yo Self</td>\n      <td>Yeah! Word is bond!  \\nDas EFX in this ya know...</td>\n      <td>684</td>\n      <td>[Yeah, !, Word, is, bond, !, Das, EFX, in, thi...</td>\n      <td>[Yeah, !, Word, is, bond, !,  \\n, Das, EFX, in...</td>\n      <td>[yeah, word, bond, da, efx, know, sayin, strai...</td>\n      <td>[yeah, word, is, bond, das, efx, in, this, ya,...</td>\n      <td>-0.9990</td>\n    </tr>\n    <tr>\n      <th>823</th>\n      <td>Snoop Dogg</td>\n      <td>Don't Be Foolish</td>\n      <td>[snoop dogg]  \\nYo dogg, niggas always asking ...</td>\n      <td>746</td>\n      <td>[[, snoop, dogg, ], Yo, dogg, ,, niggas, alway...</td>\n      <td>[[, snoop, dogg, ],  \\n, Yo, dogg, ,, niggas, ...</td>\n      <td>[snoop, dogg, dogg, nigga, alway, ask, muthafu...</td>\n      <td>[snoop, dogg, yo, dogg, niggas, always, asking...</td>\n      <td>-0.9992</td>\n    </tr>\n    <tr>\n      <th>461</th>\n      <td>Kid Rock</td>\n      <td>Is That You?</td>\n      <td>Violent J Violent J is that you?  \\nI'm on the...</td>\n      <td>704</td>\n      <td>[Violent, J, Violent, J, is, that, you, ?, I, ...</td>\n      <td>[Violent, J, Violent, J, is, that, you, ?,  \\n...</td>\n      <td>[violent, violent, microphon, whatcha, want, v...</td>\n      <td>[violent, violent, is, that, you, on, the, mic...</td>\n      <td>-0.9994</td>\n    </tr>\n    <tr>\n      <th>24</th>\n      <td>Culture Club</td>\n      <td>The War Song</td>\n      <td>War war is stupid and people are stupid  \\nAnd...</td>\n      <td>401</td>\n      <td>[War, war, is, stupid, and, people, are, stupi...</td>\n      <td>[War, war, is, stupid, and, people, are, stupi...</td>\n      <td>[war, war, stupid, peopl, stupid, love, mean, ...</td>\n      <td>[war, war, is, stupid, and, people, are, stupi...</td>\n      <td>-0.9995</td>\n    </tr>\n  </tbody>\n</table>\n<p>1000 rows × 9 columns</p>\n</div>"
     },
     "execution_count": 75,
     "metadata": {},
     "output_type": "execute_result"
    }
   ],
   "source": [
    "df.sort_values(by='sentiment_VADER', ascending=False)"
   ],
   "metadata": {
    "collapsed": false,
    "ExecuteTime": {
     "end_time": "2024-02-09T16:32:29.899240Z",
     "start_time": "2024-02-09T16:32:29.859900Z"
    }
   },
   "id": "7c94b37102a7a9f7"
  },
  {
   "cell_type": "markdown",
   "source": [
    "There are more advanced tools for sentiment analysis, most of them done using transformers. See for example [this page](https://huggingface.co/blog/sentiment-analysis-python). We will go back to these methods in the second part of the course."
   ],
   "metadata": {
    "collapsed": false
   },
   "id": "96b03f22454a99e9"
  },
  {
   "cell_type": "code",
   "execution_count": 75,
   "outputs": [],
   "source": [],
   "metadata": {
    "collapsed": false,
    "ExecuteTime": {
     "end_time": "2024-02-09T16:32:29.899402Z",
     "start_time": "2024-02-09T16:32:29.875771Z"
    }
   },
   "id": "f3fe690dd53c430f"
  }
 ],
 "metadata": {
  "kernelspec": {
   "display_name": "Python 3",
   "language": "python",
   "name": "python3"
  },
  "language_info": {
   "codemirror_mode": {
    "name": "ipython",
    "version": 2
   },
   "file_extension": ".py",
   "mimetype": "text/x-python",
   "name": "python",
   "nbconvert_exporter": "python",
   "pygments_lexer": "ipython2",
   "version": "2.7.6"
  }
 },
 "nbformat": 4,
 "nbformat_minor": 5
}
