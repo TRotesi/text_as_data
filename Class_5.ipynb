{
 "cells": [
  {
   "cell_type": "markdown",
   "source": [
    "# Class 5: Dimension Reduction, Topic Modeling\n",
    "\n",
    "For this class we will use the American Stories dataset from Melissa Dell. "
   ],
   "metadata": {
    "collapsed": false
   },
   "id": "c1faaed40dda4902"
  },
  {
   "cell_type": "markdown",
   "source": [
    "Need to install additional packages. Run this on the terminal or on Anaconda Prompt. Remember to activate the environment.\n",
    "```\n",
    "conda activate text_as_data\n",
    "conda install conda-forge::datasets\n",
    "conda install conda-forge::pyldavis\n",
    "```\n",
    "To download the dataset, follow the instructions AmericanStories page on Hugging Face.\n"
   ],
   "metadata": {
    "collapsed": false
   },
   "id": "b6bbd347cf94975f"
  },
  {
   "cell_type": "code",
   "execution_count": 105,
   "outputs": [],
   "source": [
    "import pandas as pd\n",
    "import re\n",
    "import matplotlib.pyplot as plt\n",
    "import numpy as np\n"
   ],
   "metadata": {
    "collapsed": false,
    "ExecuteTime": {
     "end_time": "2024-02-23T02:24:21.409579Z",
     "start_time": "2024-02-23T02:24:21.324431Z"
    }
   },
   "id": "ec41fa2cee85fb8e"
  },
  {
   "cell_type": "code",
   "execution_count": 106,
   "outputs": [],
   "source": [
    "from datasets import load_dataset\n",
    "#  Download data for the year 1958 \n",
    "dataset = load_dataset(\"dell-research-harvard/AmericanStories\",\n",
    "                       \"subset_years\",\n",
    "                       year_list=[\"1958\"],\n",
    "                       trust_remote_code=True\n",
    "                       )"
   ],
   "metadata": {
    "collapsed": false,
    "ExecuteTime": {
     "end_time": "2024-02-23T02:24:22.216365Z",
     "start_time": "2024-02-23T02:24:21.377459Z"
    }
   },
   "id": "5061da0bdcace32e"
  },
  {
   "cell_type": "code",
   "execution_count": 107,
   "outputs": [
    {
     "name": "stdout",
     "output_type": "stream",
     "text": [
      "DatasetDict({\n",
      "    1958: Dataset({\n",
      "        features: ['article_id', 'newspaper_name', 'edition', 'date', 'page', 'headline', 'byline', 'article'],\n",
      "        num_rows: 98688\n",
      "    })\n",
      "})\n"
     ]
    }
   ],
   "source": [
    "print(dataset)\n"
   ],
   "metadata": {
    "collapsed": false,
    "ExecuteTime": {
     "end_time": "2024-02-23T02:24:22.219728Z",
     "start_time": "2024-02-23T02:24:22.217196Z"
    }
   },
   "id": "42cb962028c4223f"
  },
  {
   "cell_type": "markdown",
   "source": [
    "The object `dataset` that we just created is a `DatasetDict`, which is a class from the *Hugging Face* datasets package. This library is specifically designed to offer ways to handle _large_ datasets that you would not be able to load on your laptop's RAM memory. We may cover some of these topics later in the course, but if you are curious you can find more information directly on [Hugging Face](https://huggingface.co/learn/nlp-course/chapter5/1?fw=pt).\n",
    "\n",
    "For simplicity, let's convert it to Pandas and obtain a pandas DataFrame. We can then measure the size of the dataframe in terms of RAM memory usage."
   ],
   "metadata": {
    "collapsed": false
   },
   "id": "3afe75dd3e1339d9"
  },
  {
   "cell_type": "code",
   "execution_count": 108,
   "outputs": [
    {
     "name": "stdout",
     "output_type": "stream",
     "text": [
      "<class 'pandas.core.frame.DataFrame'>\n"
     ]
    }
   ],
   "source": [
    "df = dataset['1958'].to_pandas()\n",
    "print(type(df))"
   ],
   "metadata": {
    "collapsed": false,
    "ExecuteTime": {
     "end_time": "2024-02-23T02:24:22.681719Z",
     "start_time": "2024-02-23T02:24:22.219821Z"
    }
   },
   "id": "5c9412022068656f"
  },
  {
   "cell_type": "code",
   "execution_count": 109,
   "outputs": [
    {
     "name": "stdout",
     "output_type": "stream",
     "text": [
      "Total memory usage of the DataFrame: 121.74 MB\n"
     ]
    }
   ],
   "source": [
    "# Calculate memory usage\n",
    "total_memory_bytes = df.memory_usage(deep=True).sum()\n",
    "total_memory_megabytes = total_memory_bytes / (1024 ** 2)\n",
    "\n",
    "print(f\"Total memory usage of the DataFrame: {total_memory_megabytes:.2f} MB\")"
   ],
   "metadata": {
    "collapsed": false,
    "ExecuteTime": {
     "end_time": "2024-02-23T02:24:22.759199Z",
     "start_time": "2024-02-23T02:24:22.729345Z"
    }
   },
   "id": "aa84093f8aca5a3b"
  },
  {
   "cell_type": "code",
   "execution_count": 110,
   "outputs": [
    {
     "data": {
      "text/plain": "                                          article_id newspaper_name edition  \\\n0  2_1958-07-12_p36_sn83045462_00280608804_195807...  Evening star.      01   \n1  3_1958-07-12_p36_sn83045462_00280608804_195807...  Evening star.      01   \n2  4_1958-07-12_p36_sn83045462_00280608804_195807...  Evening star.      01   \n3  5_1958-07-12_p36_sn83045462_00280608804_195807...  Evening star.      01   \n4  7_1958-07-12_p36_sn83045462_00280608804_195807...  Evening star.      01   \n\n         date page                               headline byline  \\\n0  1958-07-12  p36          You Con Bleach\\nOld Furniture          \n1  1958-07-12  p36                SeuIonts\\n\\n\\nDescribed          \n2  1958-07-12  p36  Dwellings Approved\\nIn Prince Georges          \n3  1958-07-12  p36                                                 \n4  1958-07-12  p36      SILVER SPRING\\n\\nsloo Wire Avenue          \n\n                                             article  \n0  Sometimes when you take\\non the old finish fro...  \n1  New types Of coverings f0r\\nfloors, walls, cei...  \n2  Recent building permits is\\nsued By Prince Geo...  \n3  Edward Walters, Bi2f b3rd ave,\\nCamp springs o...  \n4  Lovely, large brick home on beau.\\niaininr. Il...  ",
      "text/html": "<div>\n<style scoped>\n    .dataframe tbody tr th:only-of-type {\n        vertical-align: middle;\n    }\n\n    .dataframe tbody tr th {\n        vertical-align: top;\n    }\n\n    .dataframe thead th {\n        text-align: right;\n    }\n</style>\n<table border=\"1\" class=\"dataframe\">\n  <thead>\n    <tr style=\"text-align: right;\">\n      <th></th>\n      <th>article_id</th>\n      <th>newspaper_name</th>\n      <th>edition</th>\n      <th>date</th>\n      <th>page</th>\n      <th>headline</th>\n      <th>byline</th>\n      <th>article</th>\n    </tr>\n  </thead>\n  <tbody>\n    <tr>\n      <th>0</th>\n      <td>2_1958-07-12_p36_sn83045462_00280608804_195807...</td>\n      <td>Evening star.</td>\n      <td>01</td>\n      <td>1958-07-12</td>\n      <td>p36</td>\n      <td>You Con Bleach\\nOld Furniture</td>\n      <td></td>\n      <td>Sometimes when you take\\non the old finish fro...</td>\n    </tr>\n    <tr>\n      <th>1</th>\n      <td>3_1958-07-12_p36_sn83045462_00280608804_195807...</td>\n      <td>Evening star.</td>\n      <td>01</td>\n      <td>1958-07-12</td>\n      <td>p36</td>\n      <td>SeuIonts\\n\\n\\nDescribed</td>\n      <td></td>\n      <td>New types Of coverings f0r\\nfloors, walls, cei...</td>\n    </tr>\n    <tr>\n      <th>2</th>\n      <td>4_1958-07-12_p36_sn83045462_00280608804_195807...</td>\n      <td>Evening star.</td>\n      <td>01</td>\n      <td>1958-07-12</td>\n      <td>p36</td>\n      <td>Dwellings Approved\\nIn Prince Georges</td>\n      <td></td>\n      <td>Recent building permits is\\nsued By Prince Geo...</td>\n    </tr>\n    <tr>\n      <th>3</th>\n      <td>5_1958-07-12_p36_sn83045462_00280608804_195807...</td>\n      <td>Evening star.</td>\n      <td>01</td>\n      <td>1958-07-12</td>\n      <td>p36</td>\n      <td></td>\n      <td></td>\n      <td>Edward Walters, Bi2f b3rd ave,\\nCamp springs o...</td>\n    </tr>\n    <tr>\n      <th>4</th>\n      <td>7_1958-07-12_p36_sn83045462_00280608804_195807...</td>\n      <td>Evening star.</td>\n      <td>01</td>\n      <td>1958-07-12</td>\n      <td>p36</td>\n      <td>SILVER SPRING\\n\\nsloo Wire Avenue</td>\n      <td></td>\n      <td>Lovely, large brick home on beau.\\niaininr. Il...</td>\n    </tr>\n  </tbody>\n</table>\n</div>"
     },
     "execution_count": 110,
     "metadata": {},
     "output_type": "execute_result"
    }
   ],
   "source": [
    "df.head()"
   ],
   "metadata": {
    "collapsed": false,
    "ExecuteTime": {
     "end_time": "2024-02-23T02:24:22.762911Z",
     "start_time": "2024-02-23T02:24:22.761092Z"
    }
   },
   "id": "94ebc7baf862965c"
  },
  {
   "cell_type": "code",
   "execution_count": 111,
   "outputs": [
    {
     "data": {
      "text/plain": "98688"
     },
     "execution_count": 111,
     "metadata": {},
     "output_type": "execute_result"
    }
   ],
   "source": [
    "len(df)"
   ],
   "metadata": {
    "collapsed": false,
    "ExecuteTime": {
     "end_time": "2024-02-23T02:24:22.767752Z",
     "start_time": "2024-02-23T02:24:22.763796Z"
    }
   },
   "id": "bd0dffdb2335717e"
  },
  {
   "cell_type": "code",
   "execution_count": 112,
   "outputs": [
    {
     "data": {
      "text/plain": "                                          article_id newspaper_name edition  \\\n0  2_1958-07-12_p36_sn83045462_00280608804_195807...  Evening star.      01   \n1  3_1958-07-12_p36_sn83045462_00280608804_195807...  Evening star.      01   \n2  4_1958-07-12_p36_sn83045462_00280608804_195807...  Evening star.      01   \n3  5_1958-07-12_p36_sn83045462_00280608804_195807...  Evening star.      01   \n4  7_1958-07-12_p36_sn83045462_00280608804_195807...  Evening star.      01   \n5  12_1958-07-12_p36_sn83045462_00280608804_19580...  Evening star.      01   \n6  13_1958-07-12_p36_sn83045462_00280608804_19580...  Evening star.      01   \n7  14_1958-07-12_p36_sn83045462_00280608804_19580...  Evening star.      01   \n8  15_1958-07-12_p36_sn83045462_00280608804_19580...  Evening star.      01   \n9  22_1958-07-12_p36_sn83045462_00280608804_19580...  Evening star.      01   \n\n         date page                                           headline byline  \\\n0  1958-07-12  p36                      You Con Bleach\\nOld Furniture          \n1  1958-07-12  p36                            SeuIonts\\n\\n\\nDescribed          \n2  1958-07-12  p36              Dwellings Approved\\nIn Prince Georges          \n3  1958-07-12  p36                                                             \n4  1958-07-12  p36                  SILVER SPRING\\n\\nsloo Wire Avenue          \n5  1958-07-12  p36  MONTGOMERY ESTATE.\\n\\nBeltsviIIe, Near NSA\\nS1...          \n6  1958-07-12  p36             . ApELPHI HEIGHTS\\n\\n930s AdeIphi Road          \n7  1958-07-12  p36                 SILVER SPRING\\n\\noS0S Adelphi Road          \n8  1958-07-12  p36  HUGH Z. PECK\\n\\n\\nOFFERS\\nSELECT HOMES\\n\\nOPEN...          \n9  1958-07-12  p36       NEW HAMPSHIRE\\nGARDENS\\n\\nsllo Hammond Ave-.          \n\n                                             article  \n0  Sometimes when you take\\non the old finish fro...  \n1  New types Of coverings f0r\\nfloors, walls, cei...  \n2  Recent building permits is\\nsued By Prince Geo...  \n3  Edward Walters, Bi2f b3rd ave,\\nCamp springs o...  \n4  Lovely, large brick home on beau.\\niaininr. Il...  \n5  3ioioJV-tHS iSIWS\\n\\n\\nMore house for the mone...  \n6  NeW brick Rambler. Unusually\\nattractive moder...  \n7  Very attractive Cape COD brick.\\nJust 2 years ...  \n8  IluI0 FuFHGW UFIVl\\nNe this sparkllng 3 bedroo...  \n9  Oily Hummono ave.\\n\\n\\nModern brick and stone ...  ",
      "text/html": "<div>\n<style scoped>\n    .dataframe tbody tr th:only-of-type {\n        vertical-align: middle;\n    }\n\n    .dataframe tbody tr th {\n        vertical-align: top;\n    }\n\n    .dataframe thead th {\n        text-align: right;\n    }\n</style>\n<table border=\"1\" class=\"dataframe\">\n  <thead>\n    <tr style=\"text-align: right;\">\n      <th></th>\n      <th>article_id</th>\n      <th>newspaper_name</th>\n      <th>edition</th>\n      <th>date</th>\n      <th>page</th>\n      <th>headline</th>\n      <th>byline</th>\n      <th>article</th>\n    </tr>\n  </thead>\n  <tbody>\n    <tr>\n      <th>0</th>\n      <td>2_1958-07-12_p36_sn83045462_00280608804_195807...</td>\n      <td>Evening star.</td>\n      <td>01</td>\n      <td>1958-07-12</td>\n      <td>p36</td>\n      <td>You Con Bleach\\nOld Furniture</td>\n      <td></td>\n      <td>Sometimes when you take\\non the old finish fro...</td>\n    </tr>\n    <tr>\n      <th>1</th>\n      <td>3_1958-07-12_p36_sn83045462_00280608804_195807...</td>\n      <td>Evening star.</td>\n      <td>01</td>\n      <td>1958-07-12</td>\n      <td>p36</td>\n      <td>SeuIonts\\n\\n\\nDescribed</td>\n      <td></td>\n      <td>New types Of coverings f0r\\nfloors, walls, cei...</td>\n    </tr>\n    <tr>\n      <th>2</th>\n      <td>4_1958-07-12_p36_sn83045462_00280608804_195807...</td>\n      <td>Evening star.</td>\n      <td>01</td>\n      <td>1958-07-12</td>\n      <td>p36</td>\n      <td>Dwellings Approved\\nIn Prince Georges</td>\n      <td></td>\n      <td>Recent building permits is\\nsued By Prince Geo...</td>\n    </tr>\n    <tr>\n      <th>3</th>\n      <td>5_1958-07-12_p36_sn83045462_00280608804_195807...</td>\n      <td>Evening star.</td>\n      <td>01</td>\n      <td>1958-07-12</td>\n      <td>p36</td>\n      <td></td>\n      <td></td>\n      <td>Edward Walters, Bi2f b3rd ave,\\nCamp springs o...</td>\n    </tr>\n    <tr>\n      <th>4</th>\n      <td>7_1958-07-12_p36_sn83045462_00280608804_195807...</td>\n      <td>Evening star.</td>\n      <td>01</td>\n      <td>1958-07-12</td>\n      <td>p36</td>\n      <td>SILVER SPRING\\n\\nsloo Wire Avenue</td>\n      <td></td>\n      <td>Lovely, large brick home on beau.\\niaininr. Il...</td>\n    </tr>\n    <tr>\n      <th>5</th>\n      <td>12_1958-07-12_p36_sn83045462_00280608804_19580...</td>\n      <td>Evening star.</td>\n      <td>01</td>\n      <td>1958-07-12</td>\n      <td>p36</td>\n      <td>MONTGOMERY ESTATE.\\n\\nBeltsviIIe, Near NSA\\nS1...</td>\n      <td></td>\n      <td>3ioioJV-tHS iSIWS\\n\\n\\nMore house for the mone...</td>\n    </tr>\n    <tr>\n      <th>6</th>\n      <td>13_1958-07-12_p36_sn83045462_00280608804_19580...</td>\n      <td>Evening star.</td>\n      <td>01</td>\n      <td>1958-07-12</td>\n      <td>p36</td>\n      <td>. ApELPHI HEIGHTS\\n\\n930s AdeIphi Road</td>\n      <td></td>\n      <td>NeW brick Rambler. Unusually\\nattractive moder...</td>\n    </tr>\n    <tr>\n      <th>7</th>\n      <td>14_1958-07-12_p36_sn83045462_00280608804_19580...</td>\n      <td>Evening star.</td>\n      <td>01</td>\n      <td>1958-07-12</td>\n      <td>p36</td>\n      <td>SILVER SPRING\\n\\noS0S Adelphi Road</td>\n      <td></td>\n      <td>Very attractive Cape COD brick.\\nJust 2 years ...</td>\n    </tr>\n    <tr>\n      <th>8</th>\n      <td>15_1958-07-12_p36_sn83045462_00280608804_19580...</td>\n      <td>Evening star.</td>\n      <td>01</td>\n      <td>1958-07-12</td>\n      <td>p36</td>\n      <td>HUGH Z. PECK\\n\\n\\nOFFERS\\nSELECT HOMES\\n\\nOPEN...</td>\n      <td></td>\n      <td>IluI0 FuFHGW UFIVl\\nNe this sparkllng 3 bedroo...</td>\n    </tr>\n    <tr>\n      <th>9</th>\n      <td>22_1958-07-12_p36_sn83045462_00280608804_19580...</td>\n      <td>Evening star.</td>\n      <td>01</td>\n      <td>1958-07-12</td>\n      <td>p36</td>\n      <td>NEW HAMPSHIRE\\nGARDENS\\n\\nsllo Hammond Ave-.</td>\n      <td></td>\n      <td>Oily Hummono ave.\\n\\n\\nModern brick and stone ...</td>\n    </tr>\n  </tbody>\n</table>\n</div>"
     },
     "execution_count": 112,
     "metadata": {},
     "output_type": "execute_result"
    }
   ],
   "source": [
    "df.head(10)"
   ],
   "metadata": {
    "collapsed": false,
    "ExecuteTime": {
     "end_time": "2024-02-23T02:24:22.777826Z",
     "start_time": "2024-02-23T02:24:22.768992Z"
    }
   },
   "id": "cb31c1d3ece78301"
  },
  {
   "cell_type": "code",
   "execution_count": 113,
   "outputs": [
    {
     "data": {
      "text/plain": "'Sometimes when you take\\non the old finish from a piece\\nIof furniture with paint and\\nvarnish remover. the wood Il\\nstill dark from the original\\nstain.\\n\\n\\nII you want the wood 10\\nbe still lighter. so it viii har-\\nmonize with newly bought fur\\nniture, use a bleach which you\\ncan obtain from your paint\\ndealer.'"
     },
     "execution_count": 113,
     "metadata": {},
     "output_type": "execute_result"
    }
   ],
   "source": [
    "df.loc[0, \"article\"]\n"
   ],
   "metadata": {
    "collapsed": false,
    "ExecuteTime": {
     "end_time": "2024-02-23T02:24:22.777999Z",
     "start_time": "2024-02-23T02:24:22.771500Z"
    }
   },
   "id": "54885556f369252e"
  },
  {
   "cell_type": "code",
   "execution_count": 114,
   "outputs": [
    {
     "data": {
      "text/plain": "'I02l0 Green Forest D..\\n~ 4 Bedrooms, ; Baths\\n\\'a9 New Split Level Home\\nLiving room with fireplace. dininE\\n! room, heautifHl kitchens 26-ft.\\nrecreation room, 2-ear garage,\\nprestige location. Terms or trade.\\nDir: Ont Rep Hampshire Are. to\\nForest Dr., right to Peck\\'s Open\"\\nSt0R.'"
     },
     "execution_count": 114,
     "metadata": {},
     "output_type": "execute_result"
    }
   ],
   "source": [
    "df.loc[10, \"article\"]"
   ],
   "metadata": {
    "collapsed": false,
    "ExecuteTime": {
     "end_time": "2024-02-23T02:24:22.778728Z",
     "start_time": "2024-02-23T02:24:22.774763Z"
    }
   },
   "id": "54c9c7f2812225ac"
  },
  {
   "cell_type": "code",
   "execution_count": 115,
   "outputs": [
    {
     "data": {
      "text/plain": "\"/ After moving to Washing\\nton, she left the concert field\\nand. devoted herself increas-\\ningly to teaching. 1t was here\\nthat she served as a voice\\ncoach to Lindsey Bergen.\\n\\n\\nMrs. Couth was an early sup\\nporter of efforts to establish\\nthe National Symphony Or\\nchestra. She also had been\\nmusical director Of the Friday\\nMorning Music Club and was\\npast president of the Women's\\nCity Club.\\n\\n\\nAfter her husbands death in\\n1913, she made her home with\\nDR.. Doris M. Cochran, a cura-\\ntor at the National Museum.\\n\\n\\nShe is survived by a brother\\nRobert j. liant of Hudson,\\nOhio.\\n\\n\\nA memorial service will be\\nconducted at 10 am. tomorrow\\nin the Gasch funeral home,\\n1879 Baltimore avenue, Hyatts-\\nvile. Entombment will be in\\nCleveland.\""
     },
     "execution_count": 115,
     "metadata": {},
     "output_type": "execute_result"
    }
   ],
   "source": [
    "df.loc[68547, \"article\"]"
   ],
   "metadata": {
    "collapsed": false,
    "ExecuteTime": {
     "end_time": "2024-02-23T02:24:22.839273Z",
     "start_time": "2024-02-23T02:24:22.778895Z"
    }
   },
   "id": "67fd1cc192bb8615"
  },
  {
   "cell_type": "code",
   "execution_count": 116,
   "outputs": [
    {
     "data": {
      "text/plain": "\"ALTA VISTA--3-bedrm., 1Ja-bath\\nbrick Colonial, on large attractive\\ntfeed lot featuring separate liv-\\ning room, dinine rnl., modem\\nkitchen. lovely paneled recrea,\\nton room, full basement and ga\\nrage. Priced At only S22,550. Car\\nbe bought FLA with low. low\\ndown payment. EN- 2-S206. DIS\\nTRICT MARYLAND REALTY\\nINC Ewes. OIL. 4-3196.\\n\\n\\nAMER. UNIV, WEsTGATE = Ar\\nAlbert Walker home, in the most\\nexclusive community, Bfl;. Colo\\nNAL with liy. rrl., sep. din. rm.,\\nkit, bedrooms, :, baths, full\\nhsmt, scr. pch., att. gar. Priced\\nfor immed, sale u lower 20s\\n2-7006: ewes. OIL. 6-4592.\\n\\n\\nASHTON AREA : Country homes\\nbuilding sites and farms. ASHTON\\nREALTY CO., WA. 4-9S1l.\\n\\n\\nBATTERY PARK = owner hai\\nbought another home, must SELL\\nBrick home with bedrooms anC\\n. baths: bedroom and full BATH\\non trst floor; large screened pch\\nLot 70x160. EDW. II, JONES a\\nCO, INC. WO. $4,000. 9 til 8.\\nBEIHESDA-3-bedroom brick Co.\\nlonial; powder room on 1St floor\\nmodern kit, sep. din. rm., full\\nbsnt. rec rn., garage: immediatl\\noccupancy; S21,95 GEO. w\\nRoBERTSON, Realtor. 1885 Wis\\nave, OIL. 2-2l23; ewes. OIL\\n6-SUG6.\\n\\n\\nBEIHESDA-Unheard of Five twin\\nslZe hedrfnS 3lo bathS on Oni\\nLevel: Tor S29,95O! 2S-ft. livini\\nrm., 15xll dining rm,; full bsmt\\npatio; bus transportation: S2g. $50\\nANDRIs REALTY, OIL. 2-9070.\\nBETHEsDA's BIG CAPE COZ\\nVALUE, complete in every way\\nIn Immaculate condition, literall,\\nsparkles. On q large, beautiful lot\\nCall OIL. 6-2344, once open 3 ii\\n9, THOMAS J, FISHER 4 CO, INC\\nBETHESDA, PARKWooD = New\\nrambler; living rm. I2x23, fire'\\nern kitchen. fun bsmt., rec. room\\nlarge screened porch, well land\\nscaped corner lot: S19,50O. As,\\nsumo S13.250 AZ loan. Win con\\nslider 2nd trust. GEO. W. ROB\\nER1SON. Realtor. 1896 Wis. ave.\\nOIL. 2-2123; ewes. OIL. 2-2570.\\nBETHESDA. bordering the golf clul\\nTerrific rambler with tomorrow\\nkitchen, today's dining room ant\\nyesterdays old-time comfort:\\nbedrooms, 3 baths, terrific rec.\\nreation room, 2-ear garage; undei\\nS50,O00; $4,000 cash will handle\\nREALIST1NGS CORP, OIL. 2-020s\\ny RCTrTEonA u-o 5is., t.i,,l n~aa\\n\\n\\nThree-bedroom brick Colonial, II\\nen-, first-fioor powder room, base\\nment recreation room, screenel\\nporch: large fenced lot: top neigh\\nborhood. mid-20s. REALISTINGs\\nCORP, OIL. 2-020S.\\n\\n\\nBETHESDA BEAUTY-Unusual tai\\ntrees and large homes make thi\\nsuch Q popular section! This beau\\ntiful rambler is worthy Of care\\nful consideration. Entrance hal\\nluxury kitchen, recreation area,\\ntwin bedrooms, ga baths. 2-ee\\ngarage. A standout at $4,000\\nOIL. 6-S600; eVeS.. OIL. 4-2S02\\nALLIED REALTY.\\n\\n\\nBETHESDA sURPRISB-Big famii\\nroom. large kitchen make this ex\\n4 prize package at S15,e5o. HI\\nbsmt. Easiest terms. Oh. $4,000\\newes, OIL. 4-S157. ALLIE\\nREALTY.\\n\\n\\nlBETHESDA-SOMERGET AREA :\\n4 Brick split-level on lsVel lot Wit\\ntrees: 4 bedrooms, 3 full bath\\n\\n\\nscreened porch: esrport: dAyligE\\nrecreation room with droplac\\n\\n\\nfull basement; excellent neigf\\n.hcrnocd; sSs. .5s9, - Pr\""
     },
     "execution_count": 116,
     "metadata": {},
     "output_type": "execute_result"
    }
   ],
   "source": [
    "df.loc[5756, \"article\"]"
   ],
   "metadata": {
    "collapsed": false,
    "ExecuteTime": {
     "end_time": "2024-02-23T02:24:22.839860Z",
     "start_time": "2024-02-23T02:24:22.781237Z"
    }
   },
   "id": "e8ad1e37ced09778"
  },
  {
   "cell_type": "markdown",
   "source": [
    "Notice the specificities of the text, with errors coming from OCR and other items due to the use of organizing text in short columns."
   ],
   "metadata": {
    "collapsed": false
   },
   "id": "f09cb7c84ae49b7b"
  },
  {
   "cell_type": "code",
   "execution_count": 117,
   "outputs": [],
   "source": [
    "df['article'] = df['article'].str.replace('-\\n', '').str.replace('\\n', ' ')"
   ],
   "metadata": {
    "collapsed": false,
    "ExecuteTime": {
     "end_time": "2024-02-23T02:24:23.002956Z",
     "start_time": "2024-02-23T02:24:22.792030Z"
    }
   },
   "id": "39ac5b62517b3679"
  },
  {
   "cell_type": "code",
   "execution_count": 118,
   "outputs": [
    {
     "data": {
      "text/plain": "'Sometimes when you take on the old finish from a piece Iof furniture with paint and varnish remover. the wood Il still dark from the original stain.   II you want the wood 10 be still lighter. so it viii harmonize with newly bought fur niture, use a bleach which you can obtain from your paint dealer.'"
     },
     "execution_count": 118,
     "metadata": {},
     "output_type": "execute_result"
    }
   ],
   "source": [
    "df.loc[0, \"article\"]"
   ],
   "metadata": {
    "collapsed": false,
    "ExecuteTime": {
     "end_time": "2024-02-23T02:24:23.005859Z",
     "start_time": "2024-02-23T02:24:23.003941Z"
    }
   },
   "id": "d4a9fc64f83acf60"
  },
  {
   "cell_type": "markdown",
   "source": [
    "https://radimrehurek.com/gensim/parsing/preprocessing.html"
   ],
   "metadata": {
    "collapsed": false
   },
   "id": "ea56b80a5a439a07"
  },
  {
   "cell_type": "code",
   "execution_count": 119,
   "outputs": [
    {
     "data": {
      "text/plain": "['old',\n 'finish',\n 'piec',\n 'iof',\n 'furnitur',\n 'paint',\n 'varnish',\n 'remov',\n 'wood',\n 'dark',\n 'origin',\n 'stain',\n 'want',\n 'wood',\n 'lighter',\n 'viii',\n 'harmon',\n 'newli',\n 'bought',\n 'fur',\n 'nitur',\n 'us',\n 'bleach',\n 'obtain',\n 'paint',\n 'dealer']"
     },
     "execution_count": 119,
     "metadata": {},
     "output_type": "execute_result"
    }
   ],
   "source": [
    "from gensim.parsing.preprocessing import preprocess_string\n",
    "preprocess_string(df.loc[0, \"article\"])\n"
   ],
   "metadata": {
    "collapsed": false,
    "ExecuteTime": {
     "end_time": "2024-02-23T02:24:23.009844Z",
     "start_time": "2024-02-23T02:24:23.006981Z"
    }
   },
   "id": "3a3bfb4ba428f564"
  },
  {
   "cell_type": "code",
   "execution_count": 120,
   "outputs": [],
   "source": [
    "df['tokens'] = df['article'].apply(preprocess_string)\n"
   ],
   "metadata": {
    "collapsed": false,
    "ExecuteTime": {
     "end_time": "2024-02-23T02:24:50.150750Z",
     "start_time": "2024-02-23T02:24:23.015999Z"
    }
   },
   "id": "5c1b1d2d45b7b9df"
  },
  {
   "cell_type": "code",
   "execution_count": 121,
   "outputs": [],
   "source": [
    "from collections import Counter\n",
    "\n",
    "counts = Counter(df.loc[0,'tokens'])\n",
    "for i in range(1, len(df)):\n",
    "    counts += Counter(df.loc[i,'tokens'])"
   ],
   "metadata": {
    "collapsed": false,
    "ExecuteTime": {
     "end_time": "2024-02-23T02:30:25.454045Z",
     "start_time": "2024-02-23T02:24:50.161641Z"
    }
   },
   "id": "4dcc07362f2a251a"
  },
  {
   "cell_type": "code",
   "execution_count": 122,
   "outputs": [
    {
     "data": {
      "text/plain": "251560"
     },
     "execution_count": 122,
     "metadata": {},
     "output_type": "execute_result"
    }
   ],
   "source": [
    "len(counts)"
   ],
   "metadata": {
    "collapsed": false,
    "ExecuteTime": {
     "end_time": "2024-02-23T02:30:25.490182Z",
     "start_time": "2024-02-23T02:30:25.454484Z"
    }
   },
   "id": "83daf905d42c0c3"
  },
  {
   "cell_type": "code",
   "execution_count": 123,
   "outputs": [
    {
     "data": {
      "text/plain": "[('mr', 99203),\n ('year', 34225),\n ('new', 32124),\n ('state', 29086),\n ('school', 28273),\n ('dai', 28130),\n ('said', 27303),\n ('home', 24432),\n ('servic', 19317),\n ('church', 18432),\n ('time', 18281),\n ('week', 18054),\n ('sundai', 17834),\n ('meet', 16459),\n ('ing', 15457),\n ('counti', 14853),\n ('presid', 13750),\n ('member', 13392),\n ('hous', 13125),\n ('miss', 12837),\n ('son', 12418),\n ('work', 12336),\n ('john', 12240),\n ('held', 11997),\n ('high', 11883),\n ('sale', 11737),\n ('club', 11413),\n ('nation', 11283),\n ('william', 11044),\n ('offic', 10920),\n ('good', 10898),\n ('unit', 10663),\n ('citi', 10583),\n ('even', 10177),\n ('program', 10120),\n ('present', 10024),\n ('guest', 9718),\n ('famili', 9676),\n ('man', 9566),\n ('lot', 9565),\n ('street', 9502),\n ('milford', 9493),\n ('area', 9459),\n ('report', 9338),\n ('plan', 9335),\n ('washington', 9305),\n ('public', 9107),\n ('district', 9025),\n ('room', 9002),\n ('old', 8948)]"
     },
     "execution_count": 123,
     "metadata": {},
     "output_type": "execute_result"
    }
   ],
   "source": [
    "counts.most_common(50)"
   ],
   "metadata": {
    "collapsed": false,
    "ExecuteTime": {
     "end_time": "2024-02-23T02:30:25.494801Z",
     "start_time": "2024-02-23T02:30:25.474042Z"
    }
   },
   "id": "a8ec38776cff97c6"
  },
  {
   "cell_type": "code",
   "execution_count": 124,
   "outputs": [
    {
     "data": {
      "text/plain": "[('georc', 1),\n ('oovcr', 1),\n ('plainsfield', 1),\n ('siralso', 1),\n ('necmsn', 1),\n ('hocpit', 1),\n ('nanticko', 1),\n ('natinnt', 1),\n ('fetrowa', 1),\n ('rejerom', 1),\n ('tosnew', 1),\n ('thmai', 1),\n ('kiwaini', 1),\n ('itheta', 1),\n ('roiier', 1),\n ('sneao', 1),\n ('ohnstad', 1),\n ('semet', 1),\n ('cyld', 1),\n ('cancili', 1),\n ('speakmai', 1),\n ('licid', 1),\n ('ctoper', 1),\n ('fruitt', 1),\n ('spohsor', 1),\n ('deeh', 1),\n ('tlckaro', 1),\n ('ltingl', 1),\n ('clarnnc', 1),\n ('viaistud', 1),\n ('gereontolog', 1),\n ('earnos', 1),\n ('draction', 1),\n ('hcspi', 1),\n ('paneok', 1),\n ('okleosak', 1),\n ('einer', 1),\n ('walteria', 1),\n ('gorl', 1),\n ('kunayak', 1),\n ('macnamani', 1),\n ('ghou', 1),\n ('throa', 1),\n ('aoport', 1),\n ('koa', 1),\n ('ournod', 1),\n ('jeasen', 1),\n ('waor', 1),\n ('cenuri', 1),\n ('badmen', 1)]"
     },
     "execution_count": 124,
     "metadata": {},
     "output_type": "execute_result"
    }
   ],
   "source": [
    "counts.most_common()[::-1][:50]"
   ],
   "metadata": {
    "collapsed": false,
    "ExecuteTime": {
     "end_time": "2024-02-23T02:30:25.558545Z",
     "start_time": "2024-02-23T02:30:25.519571Z"
    }
   },
   "id": "ef725bb9b4d172f3"
  },
  {
   "cell_type": "markdown",
   "source": [
    "## Dimension Reduction\n",
    "\n",
    "Here we will reduce the dimensionality of the data. Dimensionality reduction can be used in several contexts where the excessive presence of noise can be detrimental. Clustering is one example, but it can also be used in prediction/classification tasks, as well as to create new variables to be used directly in the analysis.\n",
    " \n",
    "If we look at the documentation from scikit-learn for Principal Component Analysis we find\n",
    "\n",
    "https://scikit-learn.org/stable/modules/generated/sklearn.decomposition.PCA.html\n",
    "\n",
    "You will notice that the class does not support sparse input. We will therefore need to use another class: https://scikit-learn.org/stable/modules/generated/sklearn.decomposition.TruncatedSVD.html#sklearn.decomposition.TruncatedSVD\n",
    "\n",
    "See also the use guide by Scikit-learn\n",
    "https://scikit-learn.org/stable/modules/decomposition.html#truncated-singular-value-decomposition-and-latent-semantic-analysis"
   ],
   "metadata": {
    "collapsed": false
   },
   "id": "3fcdcf0af22c05ac"
  },
  {
   "cell_type": "code",
   "execution_count": 125,
   "outputs": [],
   "source": [
    "#Here we will use the TF-IDF vectorizer. See Problem Set 2 for more details.\n",
    "from sklearn.feature_extraction.text import TfidfVectorizer\n",
    "tfidf = TfidfVectorizer(tokenizer=None,\n",
    "                        max_features=10000,\n",
    "                        use_idf=True,\n",
    "                        lowercase=False,\n",
    "                        ngram_range=(1,2),\n",
    "                        max_df=0.3,\n",
    "                        min_df=0.001,\n",
    "                        sublinear_tf=True #Recommended in the TruncatedSVD guide\n",
    "                        )\n",
    "\n",
    "X = tfidf.fit_transform(df['tokens'].apply(lambda tokens: \" \".join(tokens)))"
   ],
   "metadata": {
    "collapsed": false,
    "ExecuteTime": {
     "end_time": "2024-02-23T02:30:37.844246Z",
     "start_time": "2024-02-23T02:30:25.659535Z"
    }
   },
   "id": "8f377c4589992c1d"
  },
  {
   "cell_type": "markdown",
   "source": [
    "Notice that we are being quite restrictive by limiting to a min_df=0.001. We need the token to appear in at least approximately 100 documents to be included. This leads us from 251560 tokens to 8364 (including bigrams)."
   ],
   "metadata": {
    "collapsed": false
   },
   "id": "753b236bda67d3cc"
  },
  {
   "cell_type": "code",
   "execution_count": 126,
   "outputs": [],
   "source": [
    "from sklearn.decomposition import TruncatedSVD\n",
    "\n",
    "svd = TruncatedSVD(n_components=50, algorithm='randomized')\n",
    "X_svd = svd.fit_transform(X)\n",
    "explained_variance_ratio = svd.explained_variance_ratio_"
   ],
   "metadata": {
    "collapsed": false,
    "ExecuteTime": {
     "end_time": "2024-02-23T02:30:39.705597Z",
     "start_time": "2024-02-23T02:30:37.845534Z"
    }
   },
   "id": "bf802bcc07736c3a"
  },
  {
   "cell_type": "code",
   "execution_count": 127,
   "outputs": [
    {
     "name": "stdout",
     "output_type": "stream",
     "text": [
      "[0.0032354  0.0063494  0.00490084 0.00397238 0.00377808 0.00355959\n",
      " 0.00341778 0.00291036 0.00278619 0.00255816 0.00226262 0.0021633\n",
      " 0.00205944 0.00203382 0.00195025 0.00185088 0.00180197 0.00177597\n",
      " 0.00173392 0.00165777 0.00163641 0.00159215 0.00158059 0.00156034\n",
      " 0.00151307 0.00148887 0.00144975 0.00141185 0.00139483 0.00136448\n",
      " 0.00132616 0.00132286 0.00130818 0.00129083 0.00125828 0.00124614\n",
      " 0.00122271 0.00121192 0.00119286 0.00115873 0.00113765 0.00112604\n",
      " 0.00110685 0.00108587 0.0010779  0.00106217 0.00103814 0.00103136\n",
      " 0.00102228 0.00101817]\n"
     ]
    }
   ],
   "source": [
    "print(explained_variance_ratio)"
   ],
   "metadata": {
    "collapsed": false,
    "ExecuteTime": {
     "end_time": "2024-02-23T02:30:39.715503Z",
     "start_time": "2024-02-23T02:30:39.708201Z"
    }
   },
   "id": "9574b31c819b300e"
  },
  {
   "cell_type": "code",
   "execution_count": 128,
   "outputs": [],
   "source": [
    "svd = TruncatedSVD(n_components=2000, algorithm='randomized') #Consider a smaller number\n",
    "X_svd = svd.fit_transform(X)\n",
    "explained_variance_ratio = svd.explained_variance_ratio_"
   ],
   "metadata": {
    "collapsed": false,
    "ExecuteTime": {
     "end_time": "2024-02-23T02:32:24.672214Z",
     "start_time": "2024-02-23T02:30:39.717067Z"
    }
   },
   "id": "463d17c74d0de60d"
  },
  {
   "cell_type": "code",
   "execution_count": 129,
   "outputs": [
    {
     "data": {
      "text/plain": "<Figure size 1000x600 with 1 Axes>",
      "image/png": "[encoded data removed]"
     },
     "metadata": {},
     "output_type": "display_data"
    }
   ],
   "source": [
    "# Calculate the cumulative sum of explained variance ratios\n",
    "cumulative_explained_variance = np.cumsum(explained_variance_ratio)\n",
    "\n",
    "# Create the plot\n",
    "plt.figure(figsize=(10, 6))\n",
    "plt.plot(cumulative_explained_variance, marker='o', linestyle='-', color='b')\n",
    "\n",
    "# Add title and labels\n",
    "plt.title('Cumulative Explained Variance as a Function of the Number of Components')\n",
    "plt.xlabel('Number of Components')\n",
    "plt.ylabel('Cumulative Explained Variance')\n",
    "\n",
    "plt.grid(True)\n",
    "plt.show()"
   ],
   "metadata": {
    "collapsed": false,
    "ExecuteTime": {
     "end_time": "2024-02-23T02:32:24.753026Z",
     "start_time": "2024-02-23T02:32:24.669210Z"
    }
   },
   "id": "365670f0728c39d"
  },
  {
   "cell_type": "code",
   "execution_count": 130,
   "outputs": [
    {
     "data": {
      "text/plain": "0.6639475066482898"
     },
     "execution_count": 130,
     "metadata": {},
     "output_type": "execute_result"
    }
   ],
   "source": [
    "cumulative_explained_variance[-1]"
   ],
   "metadata": {
    "collapsed": false,
    "ExecuteTime": {
     "end_time": "2024-02-23T02:32:24.759496Z",
     "start_time": "2024-02-23T02:32:24.752945Z"
    }
   },
   "id": "de37f4b620f783f5"
  },
  {
   "cell_type": "code",
   "execution_count": 131,
   "outputs": [
    {
     "name": "stdout",
     "output_type": "stream",
     "text": [
      "mr: 0.3890011042774671\n",
      "sundai: 0.20041775221060984\n",
      "church: 0.164743907069429\n",
      "said: -0.1261998897923721\n",
      "daughter: 0.12279847692803962\n",
      "rev: 0.1170933682055072\n",
      "state: -0.10827702405470714\n",
      "son: 0.10695376917398638\n",
      "guest: 0.10639399098057747\n",
      "even: 0.10193727692062003\n",
      "miss: 0.09853963145611044\n",
      "worship: 0.092926347916779\n",
      "servic: 0.09150529853620783\n",
      "home: 0.0845962411416884\n",
      "sale: -0.08192578438638945\n",
      "sundai school: 0.08083980310584656\n",
      "spent: 0.07834608110873355\n",
      "pastor: 0.07722474708488192\n",
      "saturdai: 0.07318221095475536\n",
      "funer: 0.07190031794033434\n"
     ]
    }
   ],
   "source": [
    "svd = TruncatedSVD(n_components=3, algorithm='randomized')\n",
    "svd.fit(X)\n",
    "\n",
    "# Loadings for the first component\n",
    "component_1_loadings = svd.components_[1]\n",
    "\n",
    "# Assuming you have feature names from CountVectorizer\n",
    "feature_names = tfidf.get_feature_names_out()\n",
    "high_weight_features = sorted(zip(feature_names, component_1_loadings), key=lambda x: abs(x[1]), reverse=True)\n",
    "\n",
    "for feature, loading in high_weight_features[:20]:  # Adjust the slice for more or fewer features\n",
    "    print(f\"{feature}: {loading}\")"
   ],
   "metadata": {
    "collapsed": false,
    "ExecuteTime": {
     "end_time": "2024-02-23T02:32:25.229602Z",
     "start_time": "2024-02-23T02:32:24.759245Z"
    }
   },
   "id": "39342dc77f6b1819"
  },
  {
   "cell_type": "code",
   "execution_count": 132,
   "outputs": [
    {
     "name": "stdout",
     "output_type": "stream",
     "text": [
      "bath: 0.2489962245032689\n",
      "sale: 0.22707711568768277\n",
      "phone: 0.21859392162295116\n",
      "bedrm: 0.19323295681840005\n",
      "room: 0.18532358535447935\n",
      "lot: 0.14868231612992386\n",
      "brick: 0.1426451585254114\n",
      "milford: 0.1398908374561819\n",
      "state: -0.11943600143817075\n",
      "bedroom: 0.117891270655742\n",
      "price: 0.1159399906698885\n",
      "kit: 0.11496845922700506\n",
      "home: 0.11157729332370146\n",
      "rent: 0.10538048331937828\n",
      "rambler: 0.10517210333886032\n",
      "bsmt: 0.10284188632999527\n",
      "din: 0.09988851187091327\n",
      "porch: 0.09982914352876196\n",
      "larg: 0.09203625858348531\n",
      "rec: 0.09122463315097619\n"
     ]
    }
   ],
   "source": [
    "# Loadings for the first component\n",
    "component_1_loadings = svd.components_[2]\n",
    "\n",
    "# Assuming you have feature names from CountVectorizer\n",
    "feature_names = tfidf.get_feature_names_out()\n",
    "high_weight_features = sorted(zip(feature_names, component_1_loadings), key=lambda x: abs(x[1]), reverse=True)\n",
    "\n",
    "for feature, loading in high_weight_features[:20]:  # Adjust the slice for more or fewer features\n",
    "    print(f\"{feature}: {loading}\")"
   ],
   "metadata": {
    "collapsed": false,
    "ExecuteTime": {
     "end_time": "2024-02-23T02:32:25.241668Z",
     "start_time": "2024-02-23T02:32:25.218543Z"
    }
   },
   "id": "686a0fef1f04018e"
  },
  {
   "cell_type": "markdown",
   "source": [
    "### Latent Dirichlet Allocation"
   ],
   "metadata": {
    "collapsed": false
   },
   "id": "23da3cb4d671d787"
  },
  {
   "cell_type": "code",
   "execution_count": 133,
   "outputs": [],
   "source": [
    "from gensim.corpora import Dictionary\n",
    "from gensim.models.ldamodel import LdaModel\n",
    "import re\n",
    "# Your documents' token lists\n",
    "texts = df['tokens'].tolist()\n",
    "\n",
    "# Create a dictionary representation of the documents\n",
    "dictionary = Dictionary(texts)\n",
    "\n",
    "# Filter out extremes to limit the number of features\n",
    "dictionary.filter_extremes(no_below=0.001, no_above=0.90, keep_n=10000)\n",
    "\n",
    "\n",
    "dictionary.compactify()\n",
    "\n",
    "# Convert document into a bag of word, following gensim package\n",
    "corpus = [dictionary.doc2bow(text) for text in texts]"
   ],
   "metadata": {
    "collapsed": false,
    "ExecuteTime": {
     "end_time": "2024-02-23T02:32:30.493514Z",
     "start_time": "2024-02-23T02:32:25.564925Z"
    }
   },
   "id": "100a3e3c07c3a37a"
  },
  {
   "cell_type": "code",
   "execution_count": 134,
   "outputs": [],
   "source": [
    "num_topics = 8\n",
    "passes = 15\n",
    "\n",
    "temp = dictionary[0]  # This is only to \"load\" the dictionary\n",
    "id2word = dictionary.id2token\n",
    "\n",
    "lda_model = LdaModel(corpus=corpus, id2word=id2word, num_topics=num_topics,\n",
    "                     passes=passes, eval_every=None)"
   ],
   "metadata": {
    "collapsed": false,
    "ExecuteTime": {
     "end_time": "2024-02-23T02:34:54.193483Z",
     "start_time": "2024-02-23T02:32:30.496182Z"
    }
   },
   "id": "b477a8eb604a9b7e"
  },
  {
   "cell_type": "code",
   "execution_count": 135,
   "outputs": [
    {
     "name": "stdout",
     "output_type": "stream",
     "text": [
      "(0, '0.016*\"room\" + 0.014*\"bath\" + 0.013*\"phone\" + 0.013*\"home\" + 0.013*\"lot\" + 0.011*\"hous\" + 0.011*\"av\" + 0.011*\"bedrm\" + 0.011*\"sale\" + 0.009*\"acr\"')\n",
      "(1, '0.027*\"school\" + 0.015*\"church\" + 0.014*\"meet\" + 0.012*\"servic\" + 0.011*\"member\" + 0.010*\"sundai\" + 0.009*\"club\" + 0.008*\"held\" + 0.008*\"presid\" + 0.007*\"year\"')\n",
      "(2, '0.016*\"state\" + 0.010*\"year\" + 0.010*\"said\" + 0.007*\"unit\" + 0.006*\"new\" + 0.006*\"nation\" + 0.005*\"presid\" + 0.004*\"senat\" + 0.004*\"govern\" + 0.004*\"work\"')\n",
      "(3, '0.009*\"year\" + 0.008*\"time\" + 0.008*\"new\" + 0.007*\"said\" + 0.007*\"dai\" + 0.005*\"like\" + 0.005*\"old\" + 0.004*\"man\" + 0.004*\"ing\" + 0.004*\"good\"')\n",
      "(4, '0.026*\"counti\" + 0.019*\"dai\" + 0.018*\"said\" + 0.013*\"court\" + 0.012*\"district\" + 0.010*\"land\" + 0.010*\"state\" + 0.010*\"sale\" + 0.009*\"offic\" + 0.009*\"street\"')\n",
      "(5, '0.103*\"mr\" + 0.013*\"home\" + 0.011*\"son\" + 0.010*\"miss\" + 0.010*\"daughter\" + 0.009*\"sundai\" + 0.009*\"guest\" + 0.008*\"william\" + 0.008*\"john\" + 0.007*\"week\"')\n",
      "(6, '0.010*\"new\" + 0.009*\"price\" + 0.008*\"farm\" + 0.008*\"white\" + 0.007*\"good\" + 0.006*\"plant\" + 0.006*\"sale\" + 0.006*\"size\" + 0.006*\"water\" + 0.005*\"food\"')\n",
      "(7, '0.014*\"game\" + 0.010*\"team\" + 0.009*\"plai\" + 0.009*\"win\" + 0.009*\"year\" + 0.008*\"run\" + 0.008*\"high\" + 0.008*\"race\" + 0.007*\"won\" + 0.007*\"second\"')\n"
     ]
    }
   ],
   "source": [
    "topics = lda_model.print_topics()\n",
    "for topic in topics:\n",
    "    print(topic)"
   ],
   "metadata": {
    "collapsed": false,
    "ExecuteTime": {
     "end_time": "2024-02-23T02:34:54.203699Z",
     "start_time": "2024-02-23T02:34:54.194448Z"
    }
   },
   "id": "b6280225fc251472"
  },
  {
   "cell_type": "code",
   "execution_count": 135,
   "outputs": [],
   "source": [],
   "metadata": {
    "collapsed": false,
    "ExecuteTime": {
     "end_time": "2024-02-23T02:34:54.206763Z",
     "start_time": "2024-02-23T02:34:54.196477Z"
    }
   },
   "id": "912d50f1b6cd8799"
  },
  {
   "cell_type": "code",
   "execution_count": 136,
   "outputs": [
    {
     "data": {
      "text/plain": "<IPython.core.display.HTML object>",
      "text/html": "\n<link rel=\"stylesheet\" type=\"text/css\" href=\"https://cdn.jsdelivr.net/gh/bmabey/pyLDAvis@3.4.0/pyLDAvis/js/ldavis.v1.0.0.css\">\n\n\n<div id=\"ldavis_el93862119010109922465686692\" style=\"background-color:white;\"></div>\n<script type=\"text/javascript\">\n\nvar ldavis_el93862119010109922465686692_data = {\"mdsDat\": {\"x\": [0.023536316890724853, 0.06562002586764921, -0.24993730634463693, -0.16940238715067, -0.09509331827690151, 0.15442885516245702, 0.29218291683105685, -0.021335102979680217], \"y\": [-0.23532654401921987, -0.07203618163868976, 0.2167184322463412, -0.06775480056002099, -0.1483873081875811, 0.16608165520291657, 0.05166350988081643, 0.08904123707543685], \"topics\": [1, 2, 3, 4, 5, 6, 7, 8], \"cluster\": [1, 1, 1, 1, 1, 1, 1, 1], \"Freq\": [20.94166985972282, 17.30256779497604, 16.314359930384615, 15.949760855710363, 8.449061881502978, 7.592911692235715, 6.853035936612684, 6.596632048854797]}, \"tinfo\": {\"Term\": [\"mr\", \"school\", \"counti\", \"said\", \"state\", \"home\", \"church\", \"meet\", \"sundai\", \"dai\", \"room\", \"sale\", \"court\", \"daughter\", \"bath\", \"lot\", \"member\", \"phone\", \"game\", \"club\", \"district\", \"presid\", \"guest\", \"son\", \"hous\", \"miss\", \"alaska\", \"av\", \"offic\", \"bedrm\", \"govern\", \"vote\", \"democrat\", \"republican\", \"legisl\", \"eisenhow\", \"soviet\", \"montana\", \"polit\", \"polici\", \"statement\", \"communist\", \"statehood\", \"rep\", \"subcommitte\", \"legislatur\", \"naacp\", \"weapon\", \"billion\", \"suprem\", \"nuclear\", \"resolut\", \"arab\", \"ernment\", \"unemploy\", \"resourc\", \"integr\", \"ballot\", \"fiscal\", \"jta\", \"congress\", \"gov\", \"feder\", \"agenc\", \"senat\", \"labor\", \"industri\", \"negro\", \"governor\", \"million\", \"candid\", \"increas\", \"support\", \"employ\", \"state\", \"tax\", \"unit\", \"develop\", \"union\", \"nation\", \"problem\", \"said\", \"committe\", \"year\", \"presid\", \"repres\", \"board\", \"report\", \"gener\", \"work\", \"public\", \"cent\", \"alaska\", \"continu\", \"new\", \"plan\", \"american\", \"hous\", \"peopl\", \"program\", \"ment\", \"com\", \"area\", \"plane\", \"flight\", \"fly\", \"goldfin\", \"kid\", \"francisco\", \"crew\", \"earth\", \"nixon\", \"rocket\", \"caught\", \"couldn\", \"knew\", \"aboard\", \"injur\", \"temperatur\", \"wave\", \"crash\", \"fighter\", \"healthi\", \"comedi\", \"murder\", \"milwauke\", \"cloudi\", \"wasn\", \"baron\", \"flame\", \"arctic\", \"pleasur\", \"yanke\", \"trick\", \"dear\", \"tell\", \"kill\", \"polic\", \"thing\", \"know\", \"san\", \"pilot\", \"arrest\", \"wind\", \"like\", \"coast\", \"accid\", \"got\", \"stop\", \"thought\", \"boat\", \"think\", \"go\", \"look\", \"awai\", \"weather\", \"littl\", \"air\", \"time\", \"life\", \"get\", \"old\", \"hour\", \"wai\", \"turn\", \"man\", \"stori\", \"came\", \"sai\", \"year\", \"come\", \"world\", \"new\", \"todai\", \"mile\", \"said\", \"dai\", \"good\", \"long\", \"live\", \"ing\", \"peopl\", \"night\", \"work\", \"men\", \"want\", \"home\", \"mr\", \"daughter\", \"funer\", \"lew\", \"cemeteri\", \"webb\", \"millsboro\", \"bridgevil\", \"grandchildren\", \"nanci\", \"joyc\", \"caller\", \"watson\", \"jane\", \"aunt\", \"linda\", \"hickman\", \"glendal\", \"beeb\", \"elmer\", \"clifton\", \"grandpar\", \"carei\", \"shocklei\", \"clara\", \"grier\", \"truitt\", \"davidson\", \"salli\", \"janet\", \"sister\", \"lynch\", \"weekend\", \"collin\", \"guest\", \"spent\", \"son\", \"bennett\", \"louis\", \"hudson\", \"margaret\", \"brother\", \"miss\", \"mari\", \"jame\", \"william\", \"hospit\", \"surviv\", \"inter\", \"visit\", \"ann\", \"ruth\", \"robert\", \"wed\", \"rehoboth\", \"charl\", \"john\", \"georg\", \"wilmington\", \"friend\", \"home\", \"harri\", \"sundai\", \"dinner\", \"famili\", \"mother\", \"even\", \"milford\", \"saturdai\", \"week\", \"dai\", \"church\", \"juli\", \"worship\", \"scout\", \"choir\", \"prayer\", \"bibl\", \"holi\", \"legion\", \"tucson\", \"baptist\", \"sermon\", \"clinic\", \"enrol\", \"fellowship\", \"belov\", \"pupil\", \"grang\", \"rabbi\", \"congreg\", \"auditorium\", \"scholarship\", \"communion\", \"rehears\", \"burial\", \"pope\", \"lutheran\", \"chairmen\", \"moder\", \"museum\", \"pta\", \"instructor\", \"student\", \"christian\", \"auxiliari\", \"christ\", \"teacher\", \"school\", \"graduat\", \"meet\", \"senior\", \"invit\", \"elementari\", \"class\", \"club\", \"church\", \"sponsor\", \"chapter\", \"member\", \"univers\", \"pastor\", \"danc\", \"attend\", \"held\", \"annual\", \"servic\", \"junior\", \"colleg\", \"program\", \"sundai\", \"vice\", \"presid\", \"hall\", \"rev\", \"morn\", \"present\", \"group\", \"even\", \"high\", \"chairman\", \"serv\", \"year\", \"new\", \"dai\", \"follow\", \"offic\", \"ing\", \"deed\", \"deceas\", \"clerk\", \"deposit\", \"undersign\", \"juneau\", \"parcel\", \"complaint\", \"virtu\", \"thereof\", \"folio\", \"probat\", \"exclud\", \"subscrib\", \"plaintiff\", \"duli\", \"bidder\", \"convei\", \"creditor\", \"indebt\", \"compli\", \"gomeri\", \"executor\", \"aforesaid\", \"forfeit\", \"fisheri\", \"default\", \"publicli\", \"gruen\", \"hattera\", \"plat\", \"bid\", \"notic\", \"equiti\", \"montgomeri\", \"premis\", \"court\", \"truste\", \"counti\", \"estat\", \"columbia\", \"trust\", \"circuit\", \"district\", \"highwai\", \"properti\", \"stamp\", \"file\", \"date\", \"land\", \"copi\", \"purchas\", \"maryland\", \"record\", \"anchorag\", \"feet\", \"street\", \"dai\", \"alaska\", \"shall\", \"said\", \"road\", \"sale\", \"offic\", \"person\", \"north\", \"state\", \"delawar\", \"citi\", \"public\", \"build\", \"lot\", \"bath\", \"bedrm\", \"bedroom\", \"kit\", \"rambler\", \"garag\", \"bsmt\", \"porch\", \"dine\", \"lge\", \"apt\", \"liv\", \"furnitur\", \"rm\", \"ew\", \"realti\", \"fireplac\", \"realtor\", \"fha\", \"stove\", \"furn\", \"incl\", \"blvd\", \"orphan\", \"arl\", \"ssss\", \"washer\", \"bungalow\", \"lamp\", \"brk\", \"phone\", \"av\", \"rent\", \"brick\", \"room\", \"sss\", \"din\", \"bed\", \"acr\", \"fenc\", \"basement\", \"kitchen\", \"rec\", \"lot\", \"owner\", \"larg\", \"hous\", \"sale\", \"oil\", \"floor\", \"home\", \"modern\", \"price\", \"area\", \"silver\", \"milford\", \"spring\", \"new\", \"street\", \"live\", \"milk\", \"meat\", \"soil\", \"egg\", \"dairi\", \"butter\", \"crop\", \"bread\", \"feed\", \"potato\", \"grain\", \"veget\", \"cotton\", \"sugar\", \"sedan\", \"pink\", \"bean\", \"can\", \"wore\", \"wagon\", \"hog\", \"yellow\", \"appl\", \"salad\", \"wool\", \"steer\", \"crab\", \"chevrolet\", \"tomato\", \"gallon\", \"corn\", \"model\", \"fruit\", \"food\", \"plant\", \"cup\", \"dry\", \"motor\", \"size\", \"dress\", \"market\", \"cow\", \"pound\", \"farm\", \"seed\", \"classifi\", \"price\", \"blue\", \"mix\", \"suppli\", \"white\", \"stock\", \"farmer\", \"water\", \"product\", \"black\", \"good\", \"green\", \"new\", \"store\", \"bui\", \"car\", \"sale\", \"power\", \"us\", \"cut\", \"cover\", \"oil\", \"equip\", \"game\", \"team\", \"score\", \"driver\", \"coach\", \"player\", \"footbal\", \"tractor\", \"champion\", \"basebal\", \"mod\", \"tournament\", \"purs\", \"basketbal\", \"summon\", \"pitch\", \"cop\", \"pitcher\", \"poni\", \"championship\", \"carolyn\", \"freezer\", \"stadium\", \"incumb\", \"har\", \"colt\", \"derbi\", \"firepl\", \"touchdown\", \"hurt\", \"golf\", \"manteo\", \"race\", \"leagu\", \"blair\", \"winner\", \"victori\", \"ball\", \"won\", \"in\", \"deer\", \"bob\", \"win\", \"hit\", \"plai\", \"run\", \"contest\", \"season\", \"second\", \"yard\", \"singl\", \"high\", \"hors\", \"point\", \"star\", \"doubl\", \"round\", \"year\", \"fourth\", \"lead\", \"club\", \"open\", \"field\", \"washington\", \"time\", \"old\", \"week\", \"man\", \"record\", \"john\"], \"Freq\": [98851.0, 27712.0, 16152.0, 28492.0, 28210.0, 24463.0, 18622.0, 16363.0, 18069.0, 27503.0, 9124.0, 11983.0, 7718.0, 9188.0, 6424.0, 8992.0, 13847.0, 6005.0, 5460.0, 11016.0, 8007.0, 13575.0, 9466.0, 12331.0, 12980.0, 12689.0, 8488.0, 5098.0, 11633.0, 4868.0, 5319.387387658563, 4608.610631502928, 4174.928724794905, 3201.7183999397366, 2744.8245440020232, 2642.7616259039123, 2611.4181642338012, 2589.177934040053, 2208.796839075004, 1813.8858620387164, 1797.8817614064542, 1304.3411587737144, 1115.466462887986, 1042.5311599958293, 1021.4377275335303, 1002.9634465353217, 944.1354986372896, 889.88692373068, 863.3966062034668, 863.7360049691945, 840.7559399765281, 830.8424405677004, 829.603764176298, 711.8197690151474, 682.723855891706, 672.3109410970453, 606.655426143404, 598.7230558570499, 590.3084481232381, 570.7972149577627, 3327.835022110011, 1845.0058311995274, 4073.6725601449984, 2292.502386569694, 5327.397542805744, 2489.2386251253024, 2482.2917090531737, 2207.9622566493895, 2153.799033503392, 3505.058844051362, 2216.58020240113, 3679.6744883264164, 2438.292661285196, 1289.227441970223, 19870.360381013135, 4018.8110304936913, 8078.8904262091255, 2976.4870098967253, 3363.0705240640277, 7205.675068223527, 2816.435962190503, 12404.536589204406, 4525.877950630877, 12892.394055615423, 6469.997975909793, 3187.11564611322, 4646.613538777493, 4784.888842005701, 4114.838790150681, 5255.1007284623, 4695.5254051966285, 3420.9880770902546, 4379.716431618797, 3995.3291114934605, 7281.700965539861, 4294.6690683782845, 3929.615141342425, 4679.468085231279, 3942.695334518294, 3905.4604496408997, 3600.0075853162125, 3626.826686432203, 3672.4874397378767, 1981.751511286526, 1168.5936860208749, 1000.0948409476314, 985.2834084462769, 860.0754902064459, 768.6117625970364, 759.7406545176117, 737.8217634926135, 724.2847264651031, 651.5857536753745, 644.1877412801541, 613.4273723890267, 602.7504805905145, 520.3960287149999, 504.66161506948725, 491.6943670436513, 469.9664427433433, 455.8257197501481, 455.2727310794122, 439.9112729286514, 422.07234375360497, 421.08859104197757, 402.5318699498451, 400.0934515466832, 380.0687904274598, 377.87339903374846, 369.28857807518585, 368.5090960540183, 362.7137226355307, 348.48763499783087, 348.8150488547473, 844.6768461379991, 1748.5262949150026, 1622.7537433306106, 3238.2364693601858, 3395.8151585837604, 3509.0902788043313, 1733.4865912504188, 804.1632777176368, 768.1520794679684, 902.594549983508, 5038.290653363073, 1299.214333104694, 1380.2395736117678, 2008.4740524910078, 1780.5659186349544, 1566.2270002180505, 1695.9620594868907, 2226.9079849062177, 2255.335448583729, 2902.902574950673, 2343.7593533507156, 1720.9991156382653, 3466.7444372541954, 3847.92219767467, 8370.759023379596, 2847.150839697073, 1630.2102457668766, 4838.340285043369, 3666.40134794142, 3961.5256206585564, 2409.5434047427952, 4439.299061631239, 2093.492379062651, 2286.7956238524716, 2352.8731328770314, 9342.028881708144, 3710.017970079378, 3074.180852551898, 8343.269770775878, 3637.090429824287, 2876.2408349438742, 7243.691607209102, 7046.957420761356, 4244.990760006432, 3012.2854703527337, 3325.5559968172183, 4368.793376490078, 3334.108461582862, 3112.4976962189508, 3433.1129599551505, 2713.429213010589, 2598.091829944644, 3428.9490853411453, 98850.12909710787, 9187.374225689779, 4562.731884058437, 2994.9566041804665, 2163.503852548934, 1459.8550711693756, 1293.5762100738673, 1251.7550254729983, 1232.6931978925231, 877.7166261977637, 707.5248900815735, 672.8945380767606, 647.11944891185, 643.4130910853825, 642.4566639172639, 641.6230518987347, 626.641056421277, 617.2063049933886, 603.8611370828447, 583.8966349156453, 577.1339231913615, 569.5669901531367, 560.7035135611918, 556.4238693676683, 555.9388109902401, 543.439771291814, 540.1484035090234, 529.0823562247804, 517.1670516800223, 515.2346407913027, 3705.6271936667686, 920.0543272876253, 3397.85444032641, 1545.740968071896, 8565.095006858315, 5434.640772927565, 10711.519395738122, 1267.1004375714438, 870.4808135309981, 973.4094077839808, 1299.2202311202925, 3241.638934131439, 10039.946042471209, 4981.256858410301, 6174.219970045103, 8029.194510051931, 5536.0907800611485, 1947.4041711216926, 1919.0194555935282, 6380.771136784873, 2436.005525349292, 1495.1583362071763, 5157.338245872095, 1763.1557438397838, 1727.0228339698149, 4466.83951388517, 7856.90374121987, 5027.284713326001, 2552.3191828798826, 4589.179048118372, 12159.136088115729, 3414.683803627221, 8705.351472213808, 3485.000449719169, 5463.31850148778, 3353.730834863854, 5090.530380550678, 4967.153343270353, 4674.358897600412, 6730.585337382917, 5017.731281562477, 3961.746733583656, 3593.9751477376153, 3612.5605461883815, 2751.4864140247537, 2455.235399437272, 2149.5415390374333, 1804.2592877669088, 1452.4206882700796, 1323.2944970329033, 1236.2181951756386, 1227.0268526730126, 1155.3672011326526, 1115.6911883443283, 952.5773074383505, 951.1790714010193, 934.3309717513193, 911.4288749692079, 848.1080003026792, 793.4335625100697, 780.5996829325394, 714.0613795221938, 678.8239849844273, 656.1460233195673, 651.2152692485564, 594.4941713772372, 515.4234755236803, 424.2752673442295, 422.64795243431854, 420.4019852692593, 411.5783926104883, 400.3345449261679, 392.9576152560915, 4363.073298973831, 1758.150493321917, 1406.078198959964, 1829.2479224331391, 3239.5717419909074, 24969.00910474744, 2587.5582611086, 13551.677452792255, 1900.3135585542952, 3268.2944688030907, 1129.5117431565154, 4047.3490233438533, 8794.615806546768, 14085.242052149244, 2570.7346344134526, 1806.4502727249212, 9931.596061757975, 4623.503555894828, 2823.772092482906, 2094.0574179136265, 5953.813596814679, 7846.319408832653, 3682.3335951429754, 10978.710753818506, 2524.8498112043203, 3016.8136654499913, 6103.357770692632, 9363.031641254624, 3042.0243047753756, 7104.902947342416, 3901.0400866543246, 4449.8063239417925, 3445.2033390240895, 5058.091223717856, 4135.083691380283, 4607.721122310773, 4948.124624538711, 3393.5055335831826, 3775.576863038934, 6683.563888273173, 5126.254520385058, 4870.469754658569, 3587.787360925622, 3613.9133324529726, 3605.2164747374195, 2090.055447222375, 2054.7867474549735, 1934.5138093920727, 1510.9239880058276, 950.5591495958836, 940.1610549786086, 790.2179192673036, 775.9726847472429, 747.0722854808425, 744.7633533366389, 721.204432310243, 718.7640076524004, 685.8000151376991, 641.1151318385863, 629.5375401139329, 625.0265713680836, 611.7759804833225, 609.0503467113896, 588.0869559487132, 572.54421673531, 563.5419568204765, 520.3479972202439, 422.87674072579324, 406.93049543620526, 395.50962982375887, 362.14522755746793, 358.5187369540874, 354.03948383212645, 342.26219363990623, 299.7436668655648, 981.5093157441303, 2691.15124923654, 3541.66473653177, 893.6307622209152, 4005.39808797759, 1092.1646644885834, 6658.013233683521, 2177.516257363791, 12974.70616409387, 4315.222230219738, 2225.5452869758847, 2225.338093666541, 1163.9850420349844, 5942.2809618737565, 2968.4747480239316, 2911.2113788404495, 1144.774286743493, 2092.2630398457236, 3369.5792338274446, 5072.336677677504, 1219.5832252138787, 2532.089061404185, 2544.036823074805, 4193.072630076177, 1546.2151433609454, 2661.515892474232, 4459.061613088425, 9253.253195269197, 4108.386358272726, 1835.1339436921692, 8843.328062010269, 3039.883748463402, 4735.075048258415, 4638.4062896487, 3583.051310696952, 3053.496464637705, 4756.2004317788715, 3019.2496098618576, 2970.5684422023674, 2835.0846214723692, 2617.721940405295, 2649.3384819065523, 6423.7791480089045, 4868.053484200424, 2914.184792340609, 2684.2380724333966, 2238.039461587522, 2106.3764975274707, 2009.2661026930039, 1918.4111367467797, 1563.2912418061985, 1259.854778833804, 1260.298013875922, 1256.411151500006, 1241.2420277058438, 1226.876572988284, 1121.1651714752163, 1082.115654559935, 1013.4089179419767, 968.4548362072309, 904.4572508663717, 762.8161412582997, 757.3420168528892, 738.6277408713484, 718.2509434017416, 725.7722603080675, 712.8242007287142, 695.7066007103249, 619.3867483302159, 591.2887048881131, 572.4394611837025, 541.8583237048955, 5991.524185239944, 4930.113463549842, 2247.487514252503, 3411.7814005253413, 7137.181395470557, 1800.602570431295, 2122.218951626169, 2207.9421274837187, 3876.457326680158, 1479.9381927814718, 1177.4648636403303, 2014.5807623437636, 2125.623570947577, 5678.568414966603, 2516.6269884964927, 3080.1619086545165, 5113.488985560664, 4770.010433795051, 2447.8782272465196, 2004.6943636408844, 5701.372811073953, 1789.8698538916, 2924.694487070799, 2913.6286941159756, 1954.2313103429929, 2776.248299674566, 2198.7976091658156, 3090.3297891748025, 2066.2781331750443, 2022.8463001158095, 2022.7943667130803, 1265.1514622737013, 1264.8030542333918, 1205.2077228048552, 943.9081706525636, 938.2472676079631, 902.0385559652153, 887.0227421276916, 820.685043839861, 786.0588144723598, 772.8288852327263, 671.5779974116153, 662.2658513350385, 660.3713415410721, 624.2384891536653, 610.6976120753076, 604.6964220616684, 594.5500588893836, 583.5460073171396, 579.8595103861776, 575.3129309822225, 569.5574855240968, 566.8558914621374, 560.178821771271, 537.1319256432189, 532.4712287579929, 530.2285925793678, 522.1774657950086, 511.65204105906173, 510.6103845763789, 975.8287688937742, 1282.8332407333307, 1046.5161692854979, 2144.3300945205324, 2480.3522336914702, 1470.76478177794, 906.5625090318719, 2046.2801292880276, 2409.104056898569, 1371.9298422460472, 1698.6419477577913, 1071.5015604316839, 1537.9819967786839, 3098.823729505318, 834.0707286545075, 936.8637750501609, 3656.847979431516, 1379.7958273824704, 921.8735918768798, 1660.7245251655322, 3083.7023886838797, 1450.7911712859743, 1544.0678243154541, 2303.3021770683035, 1505.98028170998, 1290.208112299595, 3009.241084224161, 1683.9964172161394, 4116.1153084411535, 1713.6498752370865, 1510.5040470062027, 1932.6224978099929, 2477.7309584326595, 1857.5047479129676, 1726.9930300484293, 1449.9141894739203, 1422.2320393544508, 1442.7386362233601, 1377.4181842617907, 5459.9882965881925, 3827.602568385191, 2192.7420786782404, 1317.267452288312, 1177.8829089539304, 922.65162019591, 873.3303572472113, 801.2149719799398, 777.3863552509198, 767.6817005583453, 733.9157650448753, 726.9002806960135, 709.1047536719512, 652.6573000187693, 586.7882384532628, 583.3930326782911, 568.9706153443439, 447.0951632837045, 427.86131217564844, 422.10277423263176, 410.9786833159205, 409.76918249105603, 351.36507307823416, 348.4936891104221, 339.8225799166754, 334.926602635886, 328.36465285493114, 326.6677955408607, 321.5759357900228, 309.61865528502466, 559.5733176439884, 670.7810600906821, 2976.0547032975105, 2740.602980201358, 742.019425090094, 1465.1923809442717, 935.1406526980317, 1393.3425101854214, 2857.1439674404123, 806.7304981758007, 621.700685134562, 1367.3182927136895, 3415.2959510370247, 1609.2478287605243, 3495.688466430833, 3015.605881838149, 1734.2258151408862, 2204.9477932825066, 2831.5589604897577, 1666.088538500634, 1220.251632024535, 3013.7926472918734, 963.5558563335801, 1995.9882366453578, 1549.6424424235413, 1209.3818946081471, 1056.292446683048, 3394.9198362702937, 1156.5759570746277, 1279.2313693003205, 1841.653093695046, 1576.8633730064066, 1272.8530565108942, 1567.3894393962005, 1584.2865730478284, 1447.5253636652653, 1552.443810269706, 1434.7697321843004, 1375.1897405297088, 1401.6723274999808], \"Total\": [98851.0, 27712.0, 16152.0, 28492.0, 28210.0, 24463.0, 18622.0, 16363.0, 18069.0, 27503.0, 9124.0, 11983.0, 7718.0, 9188.0, 6424.0, 8992.0, 13847.0, 6005.0, 5460.0, 11016.0, 8007.0, 13575.0, 9466.0, 12331.0, 12980.0, 12689.0, 8488.0, 5098.0, 11633.0, 4868.0, 5320.294609289715, 4609.518230098863, 4175.835809139265, 3202.625427925131, 2745.7315848846642, 2643.668628127687, 2612.325110850945, 2590.0849930379004, 2209.7040514719206, 1814.7927639550066, 1798.7892713508854, 1305.247985765024, 1116.3734751056227, 1043.4389734321446, 1022.3445425553911, 1003.8703420945734, 945.0425941753474, 890.7942957328512, 864.3033962493523, 864.6440445069932, 841.6629187930656, 831.7495698605103, 830.5105886587828, 712.726831448483, 683.6307481678658, 673.2179732637331, 607.5624812974777, 599.6304010682397, 591.2155013310278, 571.7043876131477, 3335.566847003008, 1894.999609143026, 4293.752258731421, 2374.789650898453, 5676.499116963369, 2606.020887256461, 2614.2749670975145, 2322.528664535574, 2283.7651301526457, 3854.203719763173, 2364.620466011223, 4087.0325288635636, 2654.407066337561, 1329.1719704038346, 28210.384095864854, 4782.9074899568195, 11037.372693395104, 3498.2399591633102, 4084.7242221326883, 10911.244260602065, 3422.7564182387487, 28492.20119562412, 6964.845972628046, 34775.88143858962, 13575.6825279957, 4258.006552747432, 8213.106393306565, 9296.998350607611, 7018.729759126439, 12053.815372183648, 9597.413409315926, 5052.239785654125, 8488.87339238303, 7037.917901333466, 31820.196439488904, 9069.459184274121, 7452.703062463554, 12980.432517517038, 8235.707224453066, 10009.599760249926, 6225.000276726447, 6938.284843459711, 9253.415384167081, 1982.6540446765814, 1169.4961459685007, 1000.9974778107769, 986.1866669373951, 860.9779389380119, 769.5141858640142, 760.6439688531186, 738.7240339885658, 725.1887724816038, 652.4881998666468, 645.0903974388614, 614.3300433574576, 603.6528250463708, 521.2983011872897, 505.564315145801, 492.59678626604386, 470.86921658392527, 456.7278763933015, 456.17540008774483, 440.81385745739686, 422.97458464425387, 421.9907512344211, 403.43447816498826, 400.9955416013777, 380.97105967001113, 378.7792132091008, 370.1908763657285, 369.4120033827619, 363.6173976971107, 349.39035888825254, 349.71872889165894, 855.9819298563104, 1846.505984364049, 1745.3218385001453, 3641.865485362229, 3918.5809145467633, 4061.1976709421874, 1945.2741537708432, 849.8333333850759, 811.3609468310763, 973.2249994156986, 6697.804964148004, 1469.005794731841, 1587.8932957403333, 2443.5381406816823, 2146.7322691813433, 1864.876123311119, 2061.6876676661664, 2840.809888162336, 2891.7253367590465, 3939.0452704703484, 3132.4429544011286, 2158.6162418960926, 5212.023153079846, 6022.016545727802, 17910.575831621525, 4342.486344216446, 2094.255054014913, 9032.86991932976, 6307.606545543164, 7140.298871111225, 3611.097058327123, 9189.07960312656, 3065.4691481597097, 3518.2578667701005, 3679.855043926418, 34775.88143858962, 7761.238479796654, 5763.278004387744, 31820.196439488904, 8005.906604904083, 5312.25887944268, 28492.20119562412, 27503.355796688447, 11068.706765150311, 5815.740184775794, 7576.311677184318, 15452.362859863757, 8235.707224453066, 7304.433686144981, 12053.815372183648, 5625.541368655657, 4940.1425818665975, 24463.46457079997, 98851.03514516917, 9188.280244656966, 4563.637636855366, 2995.8629342296413, 2164.410301612045, 1460.7616146904884, 1294.4829888426555, 1252.6624141758732, 1233.5988791592802, 878.6226453915326, 708.4313724361075, 673.8009914452318, 648.0260789180334, 644.3190475109068, 643.3630165635064, 642.5291380498777, 627.5468778697394, 618.1128957444678, 604.7668510114761, 584.8031764890009, 578.0404256586725, 570.4727010700788, 561.609479692864, 557.3298770999953, 556.8461982933815, 544.3464786064507, 541.0546961200608, 529.9884997249351, 518.0735292133655, 516.1413449229927, 3768.0623127071826, 932.5502919814528, 3538.513565728714, 1591.1172407408933, 9466.594687594492, 5932.710916685686, 12331.361994692606, 1321.2246968144848, 894.5513879622016, 1008.9888308388769, 1378.3558809466153, 3696.4487095883496, 12689.119707701233, 6083.407460465415, 7856.955833080309, 10633.665511767927, 7164.423147051512, 2220.484562340895, 2185.589755284708, 8629.751692730875, 2904.618769332636, 1658.0668125051868, 7060.158141932039, 2013.5158236017332, 1965.664094849246, 6094.930189460822, 12489.255535878601, 7368.210082432904, 3206.694311737186, 6850.880980255075, 24463.46457079997, 4816.306821688483, 18069.163683033134, 5027.898533891303, 9511.82281626955, 5095.349775367828, 9955.654776846792, 10018.264029467779, 9046.115840569777, 18450.35263245536, 27503.355796688447, 18622.671761939753, 8281.990859793967, 3613.4619080205557, 2752.3882029671845, 2456.137272253087, 2150.443178232306, 1805.160979104607, 1453.322643836196, 1324.1965235441212, 1237.120223928447, 1227.9287616276042, 1156.2687028305527, 1116.593332466441, 953.479236186372, 952.0807203884443, 935.2336527121879, 912.3927547612907, 849.010175458477, 794.3353299780467, 781.5014400382154, 714.9630091098772, 679.7256678160056, 657.0474455516202, 652.1167691160052, 595.3966251019599, 516.3265797564031, 425.1772040762284, 423.5495706080952, 421.3150729125668, 412.4806215950642, 401.2362717674741, 393.8595098992349, 4404.414899735628, 1797.2359980370738, 1432.145850461174, 1881.3077500652532, 3375.2377052823763, 27712.472704890668, 2727.265157568112, 16363.128847944337, 2045.8852734626876, 3674.536750902266, 1172.900926367168, 4705.186395013305, 11016.521847138789, 18622.671761939753, 2902.142525172047, 1978.1736903285753, 13847.339564645697, 6105.794334841346, 3462.651207118825, 2427.6753033285354, 8542.373612714333, 12220.456646133658, 4822.8923198847915, 19220.046702963275, 3068.2921965670603, 3873.1826712787547, 10009.599760249926, 18069.163683033134, 3997.692402979365, 13575.6825279957, 5870.420016067469, 7493.7990045332435, 5039.110516022374, 9993.69572541466, 7105.541446298262, 9955.654776846792, 11697.061513750916, 5469.179577583396, 7418.046769125045, 34775.88143858962, 31820.196439488904, 27503.355796688447, 8918.910071375116, 11633.855364404966, 15452.362859863757, 2090.945762052191, 2055.6771451016302, 1935.4229969327687, 1511.8146443602675, 951.4491636098093, 941.0519750029058, 791.1083742928251, 776.8639705969225, 747.9626873780055, 745.6533390430378, 722.0944079791318, 719.6541119952235, 686.6905877528415, 642.0055865312657, 630.4275806272298, 625.9167338600857, 612.6664375178725, 609.9440072114468, 588.9769384002698, 573.4342382223299, 564.4323805667027, 521.2393094218796, 423.76673371175275, 407.8205178967066, 396.3996717320872, 363.03675877136965, 359.40903815874964, 354.9308541814968, 343.15331630596745, 300.637345057363, 997.8740104415408, 2824.6322493536845, 3781.008916123077, 920.2332130807248, 4431.444827642088, 1144.7384272304294, 7718.894230047616, 2382.6090840975025, 16152.109786130779, 4979.658791648164, 2521.967814723432, 2525.8339303693715, 1243.6313768988164, 8007.583689290952, 3689.3184519740657, 3708.3017018329006, 1256.335718403703, 2558.4218275437474, 4884.784205726682, 8371.743037469916, 1395.7185200787342, 3595.8023113315426, 3725.482999269707, 7336.54736608224, 1941.3032730347193, 4253.518418140121, 9234.11836746043, 27503.355796688447, 8488.87339238303, 2557.8064584205517, 28492.20119562412, 5622.39953082748, 11983.438902127451, 11633.855364404966, 8103.537248079784, 6511.194956557854, 28210.384095864854, 7997.36049237657, 10466.52115815863, 9597.413409315926, 7733.173019812984, 8992.041943283359, 6424.670678157177, 4868.944816381329, 2915.0762569480016, 2685.129623724965, 2238.9309151802654, 2107.2682242770834, 2010.157455929563, 1919.3026294850113, 1564.183262899504, 1260.7461241118428, 1261.189863151323, 1257.3025346469458, 1242.1348237025231, 1227.7680666461858, 1122.056898476883, 1083.00716067179, 1014.3003533465735, 969.3463101999749, 905.3486977952932, 763.7083036303001, 758.2334195029658, 739.5194462921767, 719.1427202769972, 726.6748696059122, 713.7157533180938, 696.5989430156718, 620.2783604627259, 592.1806885345583, 573.3314000228878, 542.7496547182582, 6005.469883129578, 5098.317963910625, 2329.945108568281, 3597.439957484212, 9124.533479972724, 1985.0981877739798, 2385.0478599461876, 2498.7043458511002, 4781.333146611608, 1619.1815813210721, 1257.9269012701154, 2387.0539245951895, 2556.3176972770193, 8992.041943283359, 3540.211927427386, 5696.518574665184, 12980.432517517038, 11983.438902127451, 4345.278235397363, 3068.845148762256, 24463.46457079997, 2522.740109240344, 7287.194521738406, 9253.415384167081, 3193.563093756312, 10018.264029467779, 5181.87549900936, 31820.196439488904, 9234.11836746043, 7576.311677184318, 2023.6888541934138, 1266.045988814724, 1265.6981707586126, 1206.1024768380373, 944.8029834525937, 939.1415952042279, 902.9332263769771, 887.9174724721495, 821.5799178694737, 786.9533106406752, 773.7238373952443, 672.4726371932555, 663.1603086462324, 661.266504038773, 625.133031173632, 611.5921999138296, 605.5914617290954, 595.4451081825988, 584.4409518307721, 580.7545508238462, 576.2095548052979, 570.4522723770683, 567.7509581413539, 561.073607709068, 538.0271527946768, 533.3658231172259, 531.1235947325999, 523.0719251607842, 512.5464263366504, 511.5051905128801, 985.9618519385001, 1372.08531984985, 1113.96384272366, 2535.218718682065, 3106.0706740012693, 1705.423864412677, 979.2409308708227, 2535.9182042049083, 3090.2665473499383, 1663.8288910935075, 2241.866816510914, 1257.282481861185, 1996.9162223098822, 4941.716467595602, 920.5902355611546, 1073.7715535565796, 7287.194521738406, 1910.7644191709524, 1067.173807503612, 2544.8993027789124, 6990.957212570202, 2189.19018570316, 2516.794537347292, 5203.833944525548, 2494.7651669845845, 1983.1683979663303, 11068.706765150311, 3460.286484243156, 31820.196439488904, 3983.6398478414008, 2983.658408516974, 5693.003410899396, 11983.438902127451, 5539.814319305034, 5134.002510194374, 2933.055059882353, 3161.577685511955, 4345.278235397363, 3509.691581513849, 5460.886681586502, 3828.500865662487, 2193.6403568141545, 1318.1665493870198, 1178.7810066848622, 923.5498008773696, 874.2286036315259, 802.1139804318142, 778.2845727951262, 768.5798623452229, 734.8162363769641, 727.7983042544967, 710.0034686899361, 653.5557382524577, 587.6869943049643, 584.2915269257381, 569.8697060845612, 447.9933428925381, 428.760381061072, 423.00070962085294, 411.88073474163565, 410.66932140648197, 352.2631757902676, 349.3942365902248, 340.7227554639894, 335.8250087864131, 329.2629506735377, 327.57022869507597, 322.4738139396544, 310.5180889117493, 569.576407124138, 687.8990947917581, 3326.7093616082066, 3053.5142668211215, 773.2741434684739, 1617.7106084997256, 1014.4245680329154, 1574.7746569167027, 3563.147802520877, 888.2901749522186, 668.1943888514818, 1720.301857740229, 5223.82311085287, 2131.5777373058295, 5794.71094037618, 4887.741071893763, 2426.521203481643, 3772.704301657479, 5761.250499064205, 2708.6886245627193, 1935.6295342571398, 11697.061513750916, 1305.69390524408, 6190.091133769006, 3725.44384349923, 2192.6855939380735, 1666.4727968934862, 34775.88143858962, 2122.112871663401, 2850.1628682939872, 11016.521847138789, 8672.9853439086, 3564.826439168979, 9096.766980799495, 17910.575831621525, 9032.86991932976, 18450.35263245536, 9189.07960312656, 7336.54736608224, 12489.255535878601], \"Category\": [\"Default\", \"Default\", \"Default\", \"Default\", \"Default\", \"Default\", \"Default\", \"Default\", \"Default\", \"Default\", \"Default\", \"Default\", \"Default\", \"Default\", \"Default\", \"Default\", \"Default\", \"Default\", \"Default\", \"Default\", \"Default\", \"Default\", \"Default\", \"Default\", \"Default\", \"Default\", \"Default\", \"Default\", \"Default\", \"Default\", \"Topic1\", \"Topic1\", \"Topic1\", \"Topic1\", \"Topic1\", \"Topic1\", \"Topic1\", \"Topic1\", \"Topic1\", \"Topic1\", \"Topic1\", \"Topic1\", \"Topic1\", \"Topic1\", \"Topic1\", \"Topic1\", \"Topic1\", \"Topic1\", \"Topic1\", \"Topic1\", \"Topic1\", \"Topic1\", \"Topic1\", \"Topic1\", \"Topic1\", \"Topic1\", \"Topic1\", \"Topic1\", \"Topic1\", \"Topic1\", \"Topic1\", \"Topic1\", \"Topic1\", \"Topic1\", \"Topic1\", \"Topic1\", \"Topic1\", \"Topic1\", \"Topic1\", \"Topic1\", \"Topic1\", \"Topic1\", \"Topic1\", \"Topic1\", \"Topic1\", \"Topic1\", \"Topic1\", \"Topic1\", \"Topic1\", \"Topic1\", \"Topic1\", \"Topic1\", \"Topic1\", \"Topic1\", \"Topic1\", \"Topic1\", \"Topic1\", \"Topic1\", \"Topic1\", \"Topic1\", \"Topic1\", \"Topic1\", \"Topic1\", \"Topic1\", \"Topic1\", \"Topic1\", \"Topic1\", \"Topic1\", \"Topic1\", \"Topic1\", \"Topic1\", \"Topic1\", \"Topic1\", \"Topic2\", \"Topic2\", \"Topic2\", \"Topic2\", \"Topic2\", \"Topic2\", \"Topic2\", \"Topic2\", \"Topic2\", \"Topic2\", \"Topic2\", \"Topic2\", \"Topic2\", \"Topic2\", \"Topic2\", \"Topic2\", \"Topic2\", \"Topic2\", \"Topic2\", \"Topic2\", \"Topic2\", \"Topic2\", \"Topic2\", \"Topic2\", \"Topic2\", \"Topic2\", \"Topic2\", \"Topic2\", \"Topic2\", \"Topic2\", \"Topic2\", \"Topic2\", \"Topic2\", \"Topic2\", \"Topic2\", \"Topic2\", \"Topic2\", \"Topic2\", \"Topic2\", \"Topic2\", \"Topic2\", \"Topic2\", \"Topic2\", \"Topic2\", \"Topic2\", \"Topic2\", \"Topic2\", \"Topic2\", \"Topic2\", \"Topic2\", \"Topic2\", \"Topic2\", \"Topic2\", \"Topic2\", \"Topic2\", \"Topic2\", \"Topic2\", \"Topic2\", \"Topic2\", \"Topic2\", \"Topic2\", \"Topic2\", \"Topic2\", \"Topic2\", \"Topic2\", \"Topic2\", \"Topic2\", \"Topic2\", \"Topic2\", \"Topic2\", \"Topic2\", \"Topic2\", \"Topic2\", \"Topic2\", \"Topic2\", \"Topic2\", \"Topic2\", \"Topic2\", \"Topic2\", \"Topic2\", \"Topic2\", \"Topic2\", \"Topic2\", \"Topic2\", \"Topic3\", \"Topic3\", \"Topic3\", \"Topic3\", \"Topic3\", \"Topic3\", \"Topic3\", \"Topic3\", \"Topic3\", \"Topic3\", \"Topic3\", \"Topic3\", \"Topic3\", \"Topic3\", \"Topic3\", \"Topic3\", \"Topic3\", \"Topic3\", \"Topic3\", \"Topic3\", \"Topic3\", \"Topic3\", \"Topic3\", \"Topic3\", \"Topic3\", \"Topic3\", \"Topic3\", \"Topic3\", \"Topic3\", \"Topic3\", \"Topic3\", \"Topic3\", \"Topic3\", \"Topic3\", \"Topic3\", \"Topic3\", \"Topic3\", \"Topic3\", \"Topic3\", \"Topic3\", \"Topic3\", \"Topic3\", \"Topic3\", \"Topic3\", \"Topic3\", \"Topic3\", \"Topic3\", \"Topic3\", \"Topic3\", \"Topic3\", \"Topic3\", \"Topic3\", \"Topic3\", \"Topic3\", \"Topic3\", \"Topic3\", \"Topic3\", \"Topic3\", \"Topic3\", \"Topic3\", \"Topic3\", \"Topic3\", \"Topic3\", \"Topic3\", \"Topic3\", \"Topic3\", \"Topic3\", \"Topic3\", \"Topic3\", \"Topic3\", \"Topic3\", \"Topic3\", \"Topic3\", \"Topic4\", \"Topic4\", \"Topic4\", \"Topic4\", \"Topic4\", \"Topic4\", \"Topic4\", \"Topic4\", \"Topic4\", \"Topic4\", \"Topic4\", \"Topic4\", \"Topic4\", \"Topic4\", \"Topic4\", \"Topic4\", \"Topic4\", \"Topic4\", \"Topic4\", \"Topic4\", \"Topic4\", \"Topic4\", \"Topic4\", \"Topic4\", \"Topic4\", \"Topic4\", \"Topic4\", \"Topic4\", \"Topic4\", \"Topic4\", \"Topic4\", \"Topic4\", \"Topic4\", \"Topic4\", \"Topic4\", \"Topic4\", \"Topic4\", \"Topic4\", \"Topic4\", \"Topic4\", \"Topic4\", \"Topic4\", \"Topic4\", \"Topic4\", \"Topic4\", \"Topic4\", \"Topic4\", \"Topic4\", \"Topic4\", \"Topic4\", \"Topic4\", \"Topic4\", \"Topic4\", \"Topic4\", \"Topic4\", \"Topic4\", \"Topic4\", \"Topic4\", \"Topic4\", \"Topic4\", \"Topic4\", \"Topic4\", \"Topic4\", \"Topic4\", \"Topic4\", \"Topic4\", \"Topic4\", \"Topic4\", \"Topic4\", \"Topic4\", \"Topic4\", \"Topic4\", \"Topic4\", \"Topic4\", \"Topic4\", \"Topic5\", \"Topic5\", \"Topic5\", \"Topic5\", \"Topic5\", \"Topic5\", \"Topic5\", \"Topic5\", \"Topic5\", \"Topic5\", \"Topic5\", \"Topic5\", \"Topic5\", \"Topic5\", \"Topic5\", \"Topic5\", \"Topic5\", \"Topic5\", \"Topic5\", \"Topic5\", \"Topic5\", \"Topic5\", \"Topic5\", \"Topic5\", \"Topic5\", \"Topic5\", \"Topic5\", \"Topic5\", \"Topic5\", \"Topic5\", \"Topic5\", \"Topic5\", \"Topic5\", \"Topic5\", \"Topic5\", \"Topic5\", \"Topic5\", \"Topic5\", \"Topic5\", \"Topic5\", \"Topic5\", \"Topic5\", \"Topic5\", \"Topic5\", \"Topic5\", \"Topic5\", \"Topic5\", \"Topic5\", \"Topic5\", \"Topic5\", \"Topic5\", \"Topic5\", \"Topic5\", \"Topic5\", \"Topic5\", \"Topic5\", \"Topic5\", \"Topic5\", \"Topic5\", \"Topic5\", \"Topic5\", \"Topic5\", \"Topic5\", \"Topic5\", \"Topic5\", \"Topic5\", \"Topic5\", \"Topic5\", \"Topic5\", \"Topic5\", \"Topic5\", \"Topic5\", \"Topic6\", \"Topic6\", \"Topic6\", \"Topic6\", \"Topic6\", \"Topic6\", \"Topic6\", \"Topic6\", \"Topic6\", \"Topic6\", \"Topic6\", \"Topic6\", \"Topic6\", \"Topic6\", \"Topic6\", \"Topic6\", \"Topic6\", \"Topic6\", \"Topic6\", \"Topic6\", \"Topic6\", \"Topic6\", \"Topic6\", \"Topic6\", \"Topic6\", \"Topic6\", \"Topic6\", \"Topic6\", \"Topic6\", \"Topic6\", \"Topic6\", \"Topic6\", \"Topic6\", \"Topic6\", \"Topic6\", \"Topic6\", \"Topic6\", \"Topic6\", \"Topic6\", \"Topic6\", \"Topic6\", \"Topic6\", \"Topic6\", \"Topic6\", \"Topic6\", \"Topic6\", \"Topic6\", \"Topic6\", \"Topic6\", \"Topic6\", \"Topic6\", \"Topic6\", \"Topic6\", \"Topic6\", \"Topic6\", \"Topic6\", \"Topic6\", \"Topic6\", \"Topic6\", \"Topic6\", \"Topic7\", \"Topic7\", \"Topic7\", \"Topic7\", \"Topic7\", \"Topic7\", \"Topic7\", \"Topic7\", \"Topic7\", \"Topic7\", \"Topic7\", \"Topic7\", \"Topic7\", \"Topic7\", \"Topic7\", \"Topic7\", \"Topic7\", \"Topic7\", \"Topic7\", \"Topic7\", \"Topic7\", \"Topic7\", \"Topic7\", \"Topic7\", \"Topic7\", \"Topic7\", \"Topic7\", \"Topic7\", \"Topic7\", \"Topic7\", \"Topic7\", \"Topic7\", \"Topic7\", \"Topic7\", \"Topic7\", \"Topic7\", \"Topic7\", \"Topic7\", \"Topic7\", \"Topic7\", \"Topic7\", \"Topic7\", \"Topic7\", \"Topic7\", \"Topic7\", \"Topic7\", \"Topic7\", \"Topic7\", \"Topic7\", \"Topic7\", \"Topic7\", \"Topic7\", \"Topic7\", \"Topic7\", \"Topic7\", \"Topic7\", \"Topic7\", \"Topic7\", \"Topic7\", \"Topic7\", \"Topic7\", \"Topic7\", \"Topic7\", \"Topic7\", \"Topic7\", \"Topic7\", \"Topic7\", \"Topic7\", \"Topic7\", \"Topic8\", \"Topic8\", \"Topic8\", \"Topic8\", \"Topic8\", \"Topic8\", \"Topic8\", \"Topic8\", \"Topic8\", \"Topic8\", \"Topic8\", \"Topic8\", \"Topic8\", \"Topic8\", \"Topic8\", \"Topic8\", \"Topic8\", \"Topic8\", \"Topic8\", \"Topic8\", \"Topic8\", \"Topic8\", \"Topic8\", \"Topic8\", \"Topic8\", \"Topic8\", \"Topic8\", \"Topic8\", \"Topic8\", \"Topic8\", \"Topic8\", \"Topic8\", \"Topic8\", \"Topic8\", \"Topic8\", \"Topic8\", \"Topic8\", \"Topic8\", \"Topic8\", \"Topic8\", \"Topic8\", \"Topic8\", \"Topic8\", \"Topic8\", \"Topic8\", \"Topic8\", \"Topic8\", \"Topic8\", \"Topic8\", \"Topic8\", \"Topic8\", \"Topic8\", \"Topic8\", \"Topic8\", \"Topic8\", \"Topic8\", \"Topic8\", \"Topic8\", \"Topic8\", \"Topic8\", \"Topic8\", \"Topic8\", \"Topic8\", \"Topic8\", \"Topic8\", \"Topic8\", \"Topic8\", \"Topic8\", \"Topic8\", \"Topic8\"], \"logprob\": [30.0, 29.0, 28.0, 27.0, 26.0, 25.0, 24.0, 23.0, 22.0, 21.0, 20.0, 19.0, 18.0, 17.0, 16.0, 15.0, 14.0, 13.0, 12.0, 11.0, 10.0, 9.0, 8.0, 7.0, 6.0, 5.0, 4.0, 3.0, 2.0, 1.0, -5.4452, -5.5886, -5.6875, -5.9529, -6.1068, -6.1447, -6.1567, -6.1652, -6.3241, -6.5211, -6.53, -6.8509, -7.0073, -7.0749, -7.0954, -7.1136, -7.1741, -7.2332, -7.2634, -7.2631, -7.29, -7.3019, -7.3034, -7.4565, -7.4982, -7.5136, -7.6164, -7.6295, -7.6437, -7.6773, -5.9142, -6.5041, -5.712, -6.2869, -5.4437, -6.2046, -6.2074, -6.3245, -6.3493, -5.8624, -6.3206, -5.8137, -6.2253, -6.8625, -4.1273, -5.7256, -5.0273, -6.0258, -5.9037, -5.1417, -6.0811, -4.5985, -5.6068, -4.5599, -5.2494, -5.9574, -5.5804, -5.5511, -5.702, -5.4574, -5.57, -5.8866, -5.6396, -5.7314, -5.1312, -5.6592, -5.748, -5.5734, -5.7447, -5.7542, -5.8356, -5.8282, -5.8157, -6.2417, -6.7699, -6.9256, -6.9405, -7.0764, -7.1888, -7.2005, -7.2297, -7.2483, -7.354, -7.3654, -7.4144, -7.4319, -7.5788, -7.6095, -7.6356, -7.6808, -7.7113, -7.7125, -7.7469, -7.7883, -7.7906, -7.8357, -7.8417, -7.8931, -7.8989, -7.9219, -7.924, -7.9398, -7.9798, -7.9789, -7.0945, -6.3669, -6.4416, -5.7507, -5.7031, -5.6703, -6.3755, -7.1436, -7.1894, -7.0282, -5.3086, -6.6639, -6.6034, -6.2283, -6.3487, -6.477, -6.3974, -6.1251, -6.1124, -5.86, -6.0739, -6.3828, -5.6825, -5.5781, -4.8009, -5.8794, -6.437, -5.3491, -5.6265, -5.5491, -6.0462, -5.4352, -6.1868, -6.0985, -6.07, -4.6912, -5.6146, -5.8026, -4.8042, -5.6345, -5.8692, -4.9455, -4.9731, -5.4799, -5.823, -5.724, -5.4512, -5.7215, -5.7903, -5.6922, -5.9275, -5.9709, -5.6934, -2.2733, -4.649, -5.3489, -5.7699, -6.0951, -6.4885, -6.6095, -6.6423, -6.6577, -6.9973, -7.2129, -7.263, -7.3021, -7.3078, -7.3093, -7.3106, -7.3343, -7.3494, -7.3713, -7.4049, -7.4166, -7.4297, -7.4454, -7.4531, -7.454, -7.4767, -7.4828, -7.5035, -7.5263, -7.53, -5.557, -6.9502, -5.6437, -6.4314, -4.7192, -5.1741, -4.4956, -6.6301, -7.0056, -6.8938, -6.6051, -5.6908, -4.5603, -5.2612, -5.0465, -4.7838, -5.1556, -6.2004, -6.2151, -5.0136, -5.9765, -6.4646, -5.2265, -6.2998, -6.3205, -5.3702, -4.8055, -5.252, -5.9299, -5.3432, -4.3688, -5.6388, -4.7029, -5.6184, -5.1688, -5.6568, -5.2395, -5.264, -5.3248, -4.9602, -5.2539, -5.4902, -5.5876, -5.5599, -5.8321, -5.946, -6.079, -6.2541, -6.471, -6.5641, -6.6322, -6.6397, -6.6999, -6.7348, -6.8929, -6.8943, -6.9122, -6.937, -7.009, -7.0757, -7.092, -7.1811, -7.2317, -7.2656, -7.2732, -7.3643, -7.507, -7.7016, -7.7055, -7.7108, -7.732, -7.7597, -7.7783, -5.3711, -6.28, -6.5035, -6.2404, -5.6688, -3.6266, -5.8936, -4.2378, -6.2023, -5.66, -6.7225, -5.4462, -4.6701, -4.1991, -5.9001, -6.2529, -4.5485, -5.3131, -5.8062, -6.1052, -5.0602, -4.7842, -5.5407, -4.4483, -5.9181, -5.7401, -5.0354, -4.6075, -5.7317, -4.8835, -5.483, -5.3514, -5.6073, -5.2233, -5.4248, -5.3165, -5.2453, -5.6224, -5.5157, -4.9446, -5.2099, -5.2611, -5.5667, -5.5595, -5.5619, -5.4717, -5.4887, -5.549, -5.7962, -6.2596, -6.2706, -6.4443, -6.4625, -6.5005, -6.5036, -6.5357, -6.5391, -6.586, -6.6534, -6.6717, -6.6788, -6.7003, -6.7047, -6.7398, -6.7665, -6.7824, -6.8621, -7.0696, -7.108, -7.1365, -7.2246, -7.2347, -7.2472, -7.2811, -7.4137, -6.2275, -5.2189, -4.9443, -6.3213, -4.8212, -6.1207, -4.3131, -5.4307, -3.6459, -4.7467, -5.4089, -5.409, -6.057, -4.4268, -5.1208, -5.1403, -6.0737, -5.4706, -4.9941, -4.5851, -6.0104, -5.2798, -5.2751, -4.7754, -5.7731, -5.23, -4.7139, -3.9839, -4.7959, -5.6018, -4.0292, -5.0971, -4.6539, -4.6745, -4.9327, -5.0926, -4.6494, -5.1039, -5.1201, -5.1668, -5.2466, -5.2346, -4.242, -4.5193, -5.0325, -5.1146, -5.2964, -5.3571, -5.4043, -5.4505, -5.6552, -5.871, -5.8707, -5.8738, -5.8859, -5.8976, -5.9877, -6.0231, -6.0887, -6.1341, -6.2025, -6.3728, -6.38, -6.405, -6.433, -6.4226, -6.4406, -6.4649, -6.5811, -6.6275, -6.6599, -6.7148, -4.3117, -4.5067, -5.2922, -4.8748, -4.1367, -5.5139, -5.3496, -5.31, -4.7471, -5.71, -5.9387, -5.4016, -5.348, -4.3653, -5.1791, -4.9771, -4.4702, -4.5397, -5.2068, -5.4065, -4.3613, -5.5199, -5.0289, -5.0326, -5.432, -5.0809, -5.3141, -4.9738, -5.3763, -5.3975, -5.295, -5.7643, -5.7646, -5.8129, -6.0572, -6.0633, -6.1026, -6.1194, -6.1971, -6.2402, -6.2572, -6.3976, -6.4116, -6.4145, -6.4707, -6.4927, -6.5025, -6.5195, -6.5381, -6.5445, -6.5524, -6.5624, -6.5672, -6.579, -6.621, -6.6297, -6.634, -6.6493, -6.6696, -6.6717, -6.024, -5.7504, -5.9541, -5.2367, -5.0911, -5.6137, -6.0976, -5.2835, -5.1203, -5.6833, -5.4697, -5.9305, -5.569, -4.8685, -6.181, -6.0647, -4.7029, -5.6776, -6.0809, -5.4923, -4.8734, -5.6274, -5.5651, -5.1652, -5.5901, -5.7447, -4.8978, -5.4783, -4.5846, -5.4609, -5.5871, -5.3406, -5.0922, -5.3803, -5.4531, -5.628, -5.6473, -5.633, -5.6793, -4.2639, -4.6191, -5.1762, -5.6858, -5.7977, -6.0419, -6.0968, -6.183, -6.2132, -6.2258, -6.2707, -6.2804, -6.3051, -6.3881, -6.4945, -6.5003, -6.5253, -6.7664, -6.8103, -6.8239, -6.8506, -6.8535, -7.0073, -7.0155, -7.0407, -7.0552, -7.075, -7.0802, -7.0959, -7.1338, -6.542, -6.3607, -4.8708, -4.9532, -6.2598, -5.5794, -6.0284, -5.6297, -4.9116, -6.1761, -6.4367, -5.6485, -4.7331, -5.4856, -4.7099, -4.8576, -5.4108, -5.1707, -4.9206, -5.4509, -5.7623, -4.8582, -5.9985, -5.2702, -5.5234, -5.7713, -5.9066, -4.7391, -5.8159, -5.7151, -5.3507, -5.5059, -5.7201, -5.512, -5.5013, -5.5915, -5.5216, -5.6004, -5.6428, -5.6237], \"loglift\": [30.0, 29.0, 28.0, 27.0, 26.0, 25.0, 24.0, 23.0, 22.0, 21.0, 20.0, 19.0, 18.0, 17.0, 16.0, 15.0, 14.0, 13.0, 12.0, 11.0, 10.0, 9.0, 8.0, 7.0, 6.0, 5.0, 4.0, 3.0, 2.0, 1.0, 1.5633, 1.5632, 1.5632, 1.5631, 1.5631, 1.5631, 1.5631, 1.5631, 1.563, 1.5629, 1.5629, 1.5627, 1.5626, 1.5626, 1.5625, 1.5625, 1.5625, 1.5624, 1.5624, 1.5624, 1.5624, 1.5623, 1.5623, 1.5622, 1.5621, 1.5621, 1.5619, 1.5619, 1.5619, 1.5618, 1.5611, 1.5367, 1.5108, 1.5282, 1.5, 1.5176, 1.5116, 1.5128, 1.5048, 1.4685, 1.4988, 1.4584, 1.4785, 1.5329, 1.213, 1.3894, 1.2514, 1.4019, 1.369, 1.1485, 1.3685, 0.7319, 1.1324, 0.5711, 0.8223, 1.2737, 0.9938, 0.8992, 1.0294, 0.7332, 0.8485, 1.1735, 0.9017, 0.9972, 0.0887, 0.8159, 0.9234, 0.5432, 0.8268, 0.6223, 1.0158, 0.9147, 0.6393, 1.7539, 1.7535, 1.7534, 1.7534, 1.7533, 1.7531, 1.7531, 1.7531, 1.7531, 1.7529, 1.7529, 1.7528, 1.7528, 1.7526, 1.7525, 1.7525, 1.7524, 1.7523, 1.7523, 1.7523, 1.7522, 1.7522, 1.7521, 1.7521, 1.7519, 1.7519, 1.7519, 1.7519, 1.7518, 1.7517, 1.7517, 1.741, 1.6998, 1.6815, 1.6368, 1.6111, 1.6082, 1.639, 1.6991, 1.6996, 1.679, 1.4696, 1.6315, 1.6142, 1.5582, 1.5673, 1.5798, 1.559, 1.5108, 1.5058, 1.4491, 1.4643, 1.5278, 1.3466, 1.3064, 0.9937, 1.3322, 1.5038, 1.13, 1.2118, 1.1652, 1.3497, 1.0268, 1.3729, 1.3235, 1.3071, 0.4399, 1.0162, 1.1258, 0.4157, 0.9653, 1.1408, 0.3848, 0.3926, 0.7959, 1.0964, 0.9309, 0.491, 0.85, 0.9013, 0.4984, 1.0252, 1.1117, -0.2106, 1.8131, 1.813, 1.8129, 1.8128, 1.8127, 1.8125, 1.8124, 1.8124, 1.8124, 1.8121, 1.8118, 1.8118, 1.8117, 1.8117, 1.8117, 1.8117, 1.8117, 1.8117, 1.8116, 1.8116, 1.8116, 1.8115, 1.8115, 1.8115, 1.8115, 1.8115, 1.8114, 1.8114, 1.8114, 1.8114, 1.7964, 1.7996, 1.7726, 1.7842, 1.7131, 1.7254, 1.6723, 1.7713, 1.7858, 1.7772, 1.754, 1.6818, 1.579, 1.6132, 1.5721, 1.5322, 1.5553, 1.6819, 1.6831, 1.5112, 1.6372, 1.7097, 1.4991, 1.6803, 1.6837, 1.5023, 1.3496, 1.4308, 1.5849, 1.4124, 1.114, 1.4692, 1.0829, 1.4466, 1.2586, 1.3949, 1.1424, 1.1116, 1.1529, 0.8047, 0.1118, 0.2654, 0.9783, 1.8355, 1.8354, 1.8354, 1.8353, 1.8352, 1.8351, 1.835, 1.835, 1.835, 1.8349, 1.8349, 1.8348, 1.8348, 1.8348, 1.8347, 1.8347, 1.8346, 1.8346, 1.8345, 1.8344, 1.8344, 1.8343, 1.8342, 1.834, 1.8336, 1.8336, 1.8336, 1.8335, 1.8335, 1.8334, 1.8263, 1.8137, 1.8174, 1.8077, 1.7947, 1.7315, 1.7831, 1.6472, 1.7619, 1.7186, 1.798, 1.6851, 1.6105, 1.5565, 1.7145, 1.7449, 1.5034, 1.5576, 1.6318, 1.6879, 1.4747, 1.3927, 1.5659, 1.2757, 1.6408, 1.5859, 1.341, 1.1783, 1.5625, 1.1882, 1.427, 1.3145, 1.4555, 1.1548, 1.2944, 1.0653, 0.9754, 1.3585, 1.1604, 0.1865, 0.01, 0.1046, 0.9251, 0.6666, 0.3803, 2.4707, 2.4707, 2.4706, 2.4705, 2.4702, 2.4702, 2.47, 2.47, 2.4699, 2.4699, 2.4699, 2.4699, 2.4698, 2.4697, 2.4697, 2.4697, 2.4697, 2.4696, 2.4696, 2.4696, 2.4695, 2.4694, 2.469, 2.4689, 2.4689, 2.4687, 2.4686, 2.4686, 2.4685, 2.4681, 2.4546, 2.4227, 2.4057, 2.4418, 2.37, 2.4241, 2.3233, 2.3811, 2.2521, 2.3279, 2.3461, 2.3445, 2.4049, 2.1728, 2.2537, 2.2291, 2.3781, 2.27, 2.0998, 1.9701, 2.3362, 2.1204, 2.0897, 1.9117, 2.2436, 2.0023, 1.7431, 1.3818, 1.7454, 2.1391, 1.3011, 1.8562, 1.5426, 1.5516, 1.655, 1.7139, 0.6909, 1.497, 1.2117, 1.2517, 1.3879, 1.2491, 2.5778, 2.5778, 2.5776, 2.5776, 2.5776, 2.5775, 2.5775, 2.5775, 2.5774, 2.5772, 2.5772, 2.5772, 2.5772, 2.5772, 2.5772, 2.5771, 2.5771, 2.577, 2.577, 2.5768, 2.5768, 2.5767, 2.5767, 2.5767, 2.5767, 2.5767, 2.5765, 2.5764, 2.5764, 2.5763, 2.5756, 2.5444, 2.5419, 2.525, 2.3323, 2.4804, 2.4612, 2.4542, 2.3682, 2.488, 2.5119, 2.4083, 2.3935, 2.1183, 2.2367, 1.9631, 1.6464, 1.6568, 2.0041, 2.1521, 1.1215, 2.2348, 1.665, 1.4224, 2.0868, 1.2946, 1.7207, 0.2461, 1.0808, 1.2574, 2.68, 2.6798, 2.6798, 2.6797, 2.6795, 2.6795, 2.6795, 2.6795, 2.6794, 2.6793, 2.6793, 2.6791, 2.6791, 2.6791, 2.679, 2.679, 2.679, 2.679, 2.6789, 2.6789, 2.6789, 2.6789, 2.6789, 2.6789, 2.6788, 2.6788, 2.6788, 2.6788, 2.6787, 2.6787, 2.6701, 2.6132, 2.618, 2.513, 2.4555, 2.5324, 2.6034, 2.4659, 2.4315, 2.4876, 2.403, 2.5206, 2.4193, 2.2138, 2.5818, 2.5441, 1.991, 2.3549, 2.5341, 2.2536, 1.862, 2.2691, 2.1919, 1.8654, 2.1757, 2.2506, 1.378, 1.9603, 0.6353, 1.8369, 1.9998, 1.6001, 1.1043, 1.5878, 1.591, 1.9759, 1.8816, 1.5779, 1.7452, 2.7184, 2.7184, 2.7182, 2.7179, 2.7178, 2.7176, 2.7176, 2.7175, 2.7175, 2.7174, 2.7174, 2.7174, 2.7173, 2.7172, 2.7171, 2.7171, 2.717, 2.7166, 2.7165, 2.7165, 2.7164, 2.7164, 2.7161, 2.716, 2.716, 2.7159, 2.7159, 2.7159, 2.7158, 2.7157, 2.7009, 2.6934, 2.6072, 2.6105, 2.6774, 2.6196, 2.6372, 2.5962, 2.4978, 2.6223, 2.6465, 2.489, 2.2936, 2.4375, 2.2132, 2.2357, 2.3827, 2.1815, 2.0083, 2.2326, 2.2572, 1.3625, 2.4148, 1.5868, 1.8414, 2.1236, 2.2627, 0.392, 2.1117, 1.9175, 0.9299, 1.0138, 1.6888, 0.9601, 0.2934, 0.8876, 0.2434, 0.8616, 1.0443, 0.5314]}, \"token.table\": {\"Topic\": [2, 2, 3, 3, 5, 6, 7, 5, 1, 6, 1, 2, 3, 6, 7, 1, 5, 1, 2, 4, 5, 7, 8, 4, 5, 2, 3, 4, 5, 8, 1, 4, 5, 8, 7, 6, 1, 2, 1, 2, 4, 5, 6, 8, 6, 1, 2, 1, 3, 4, 4, 3, 3, 4, 4, 6, 1, 2, 3, 4, 6, 7, 2, 4, 7, 8, 1, 4, 2, 8, 3, 5, 6, 8, 6, 7, 2, 6, 6, 6, 3, 4, 3, 5, 4, 5, 6, 8, 5, 1, 2, 3, 7, 8, 3, 8, 2, 4, 7, 8, 6, 1, 4, 5, 6, 8, 2, 3, 6, 8, 3, 4, 8, 7, 5, 6, 3, 6, 2, 3, 8, 6, 1, 2, 6, 7, 1, 2, 4, 5, 6, 6, 4, 7, 3, 1, 2, 3, 4, 8, 7, 1, 4, 2, 3, 6, 7, 8, 3, 8, 2, 3, 1, 3, 5, 7, 1, 4, 5, 4, 8, 8, 1, 4, 5, 1, 3, 4, 5, 8, 7, 4, 3, 4, 1, 4, 3, 4, 6, 3, 5, 8, 1, 2, 3, 4, 5, 6, 8, 3, 1, 2, 4, 7, 8, 1, 7, 5, 3, 4, 2, 3, 4, 6, 8, 8, 1, 2, 3, 4, 1, 3, 4, 6, 8, 3, 6, 8, 8, 3, 5, 6, 1, 2, 3, 4, 5, 6, 7, 8, 1, 2, 3, 4, 7, 2, 1, 4, 4, 1, 5, 5, 4, 1, 6, 4, 8, 1, 2, 4, 5, 7, 8, 5, 8, 1, 2, 5, 6, 7, 7, 2, 1, 4, 5, 8, 1, 5, 1, 2, 3, 4, 6, 7, 3, 6, 7, 7, 2, 5, 2, 7, 7, 8, 1, 2, 7, 8, 1, 2, 3, 4, 5, 6, 7, 8, 7, 2, 4, 1, 2, 4, 5, 8, 3, 3, 2, 3, 5, 5, 3, 8, 5, 1, 3, 4, 5, 7, 1, 5, 8, 1, 2, 6, 7, 3, 6, 6, 3, 4, 7, 1, 4, 5, 6, 1, 3, 6, 7, 8, 2, 4, 7, 8, 5, 6, 7, 5, 2, 7, 1, 4, 6, 3, 1, 5, 4, 1, 2, 5, 6, 7, 5, 6, 1, 5, 6, 3, 4, 6, 6, 5, 5, 1, 2, 3, 4, 6, 7, 1, 3, 6, 7, 8, 1, 3, 5, 7, 1, 3, 5, 6, 7, 2, 5, 6, 7, 4, 2, 6, 8, 6, 1, 2, 3, 4, 5, 6, 7, 8, 2, 1, 2, 3, 5, 7, 8, 6, 1, 5, 2, 2, 1, 2, 6, 7, 8, 2, 5, 1, 2, 3, 4, 5, 7, 8, 2, 4, 7, 8, 5, 1, 2, 3, 4, 5, 8, 2, 8, 2, 3, 4, 6, 7, 3, 6, 6, 7, 8, 6, 1, 2, 3, 4, 5, 7, 8, 1, 2, 3, 4, 5, 6, 7, 8, 1, 2, 7, 8, 3, 1, 2, 4, 7, 8, 2, 6, 8, 5, 1, 2, 3, 4, 6, 7, 8, 1, 2, 8, 1, 3, 7, 1, 1, 4, 1, 3, 4, 7, 3, 3, 4, 3, 4, 5, 6, 7, 8, 3, 1, 2, 4, 7, 5, 3, 4, 3, 4, 5, 6, 8, 1, 3, 4, 5, 6, 8, 5, 2, 1, 3, 4, 5, 8, 3, 1, 2, 4, 6, 7, 8, 1, 2, 3, 5, 6, 2, 8, 7, 4, 1, 2, 3, 4, 6, 2, 8, 1, 2, 3, 4, 6, 1, 2, 4, 5, 7, 8, 1, 2, 3, 4, 5, 6, 3, 6, 7, 8, 3, 5, 6, 8, 6, 1, 5, 7, 8, 5, 1, 7, 1, 2, 3, 4, 5, 6, 7, 8, 2, 4, 1, 1, 3, 5, 1, 3, 4, 6, 8, 1, 3, 4, 5, 6, 3, 3, 1, 2, 3, 4, 5, 6, 8, 3, 1, 1, 2, 3, 4, 5, 6, 7, 8, 5, 4, 5, 6, 8, 2, 1, 2, 3, 6, 3, 6, 2, 1, 2, 1, 3, 7, 6, 1, 2, 3, 5, 6, 1, 2, 4, 6, 7, 1, 2, 4, 5, 7, 8, 4, 8, 4, 1, 1, 3, 6, 1, 2, 3, 4, 1, 2, 6, 7, 3, 1, 2, 3, 4, 6, 7, 8, 6, 1, 2, 3, 4, 6, 1, 2, 3, 6, 7, 8, 1, 2, 4, 6, 7, 2, 5, 6, 7, 3, 5, 4, 3, 6, 1, 2, 3, 4, 5, 8, 3, 8, 3, 4, 5, 3, 4, 5, 6, 1, 3, 6, 7, 3, 4, 5, 6, 8, 7, 1, 4, 8, 1, 3, 4, 1, 2, 4, 5, 8, 1, 2, 3, 4, 5, 6, 7, 2, 3, 5, 6, 7, 8, 3, 4, 5, 6, 8, 7, 1, 2, 7, 3, 2, 2, 3, 4, 7, 7, 8, 8, 6, 7, 4, 1, 2, 6, 7, 1, 4, 5, 8, 2, 3, 4, 2, 3, 4, 3, 7, 8, 3, 2, 4, 1, 3, 1, 2, 3, 4, 5, 8, 1, 2, 1, 2, 3, 4, 5, 6, 7, 8, 2, 3, 4, 8, 2, 1, 2, 3, 4, 5, 6, 8, 2, 5, 8, 1, 1, 2, 4, 5, 6, 1, 5, 6, 7, 1, 2, 3, 4, 6, 7, 8, 1, 2, 4, 5, 6, 7, 8, 6, 1, 2, 5, 6, 7, 8, 5, 3, 4, 1, 2, 4, 1, 2, 4, 5, 8, 6, 8, 2, 3, 4, 7, 8, 8, 2, 4, 8, 5, 1, 2, 3, 4, 5, 6, 7, 2, 1, 5, 6, 7, 5, 6, 8, 2, 1, 2, 3, 5, 7, 8, 1, 2, 5, 1, 1, 8, 4, 6, 7, 2, 7, 8, 1, 2, 5, 7, 8, 4, 5, 6, 1, 2, 3, 4, 5, 6, 1, 4, 3, 4, 5, 6, 7, 5, 1, 2, 6, 1, 2, 7, 1, 4, 1, 5, 6, 4, 1, 4, 5, 6, 5, 4, 1, 3, 4, 5, 6, 7, 8, 4, 1, 5, 8, 6, 6, 6, 1, 4, 5, 6, 8, 1, 2, 4, 5, 8, 4, 3, 6, 5, 6, 1, 1, 2, 3, 4, 5, 1, 4, 1, 1, 1, 3, 4, 6, 2, 3, 4, 5, 6, 8, 1, 2, 3, 4, 5, 6, 2, 2, 4, 5, 6, 2, 4, 6, 7, 8, 1, 2, 5, 7, 8, 3, 4, 5, 1, 2, 6, 7, 1, 2, 5, 7, 5, 6, 7, 3, 2, 3, 2, 3, 4, 8, 4, 1, 4, 6, 8, 4, 2, 4, 7, 8, 1, 2, 4, 5, 6, 7, 8, 7, 7, 8, 1, 8, 4, 8, 4, 1, 3, 4, 5, 7, 1, 3, 4, 5, 6, 8, 1, 2, 3, 4, 5, 3, 3, 4, 5, 6, 7, 8, 1, 2, 6, 8, 2, 3, 6, 7, 7, 2, 3, 4, 5, 6, 8, 1, 1, 2, 3, 1, 4, 2, 3, 4, 5, 6, 7, 8, 5, 6, 8, 6, 8, 2, 5, 2, 4, 5, 8, 1, 3, 4, 5, 8, 1, 1, 7, 1, 7, 8, 1, 2, 3, 6, 7, 8, 2, 3, 4, 5, 6, 7, 8, 2, 4, 5, 6, 6, 2, 3, 4, 5, 6, 1, 4, 1, 5, 7, 8, 3, 4, 1, 2, 3, 4, 7, 8, 1, 2, 4, 1, 1, 2, 3, 5, 1, 5, 6, 1, 4, 8, 1, 2, 2, 5, 1, 2, 5, 6, 7, 1, 2, 1, 2, 1, 2, 3, 4, 5, 7, 8, 1, 2, 4, 6, 7, 8, 7, 8, 8, 8, 2, 3, 1, 5, 6, 4, 5, 4, 1, 2, 6, 7, 8, 5, 1, 1, 3, 4, 5, 1, 2, 4, 5, 6, 7, 1, 2, 3, 4, 6, 7, 8, 1, 2, 3, 5, 6, 7, 7, 1, 4, 5, 1, 8, 5, 1, 2, 3, 4, 1, 7, 1, 2, 3, 4, 5, 6, 7, 8, 1, 2, 6, 7, 8, 6, 1, 2, 3, 4, 5, 6, 7, 8, 2, 1, 2, 5, 6, 7, 3, 2, 1, 2, 5, 7, 3, 3, 4, 7, 8, 1, 2, 3, 4, 5, 6, 7, 8, 3, 7, 1, 2, 3, 4, 6, 7, 8, 1, 3, 4, 5, 8, 1, 3, 4, 5, 1, 2, 3, 4, 5, 6, 8, 2, 6, 7, 8, 4, 8, 1, 2, 3, 4, 8, 7, 7, 1, 2, 4, 6, 7, 8, 1, 2, 4, 4, 2, 2, 3, 6, 8, 1, 2, 3, 4, 5, 6, 7, 8, 7], \"Freq\": [0.9975094850983924, 0.8690760290392145, 0.13036140435588217, 0.007947574208864635, 0.10959286540644916, 0.8106525693041927, 0.07173731456948867, 0.9979880416489628, 0.9655592018992041, 0.034529373988545456, 0.13915604409863375, 0.6389886129970676, 0.03537021168616824, 0.15078005732882988, 0.035536269018028185, 0.5159695282921907, 0.48392758498272126, 0.5273254505192785, 0.2487688003213085, 0.1667851234085148, 0.00322030809477422, 0.019187669064696395, 0.03475249152277179, 0.20295643935328259, 0.7963722214217637, 0.009984098535128253, 0.8386642769507733, 0.02960801634555275, 0.03477220524303288, 0.0867583734776662, 0.21377213746804705, 0.7634422988917063, 0.0058056448584920635, 0.016794901197780612, 0.9986773106578063, 0.9990565550944488, 0.9993852111390809, 0.9988847049392301, 0.39682645245591386, 0.1765834486146414, 0.09996309055602405, 0.005403410300325625, 0.3149107523029774, 0.006267955948377724, 0.9989971451312848, 0.05176487747412412, 0.9465577595268411, 0.012291665614311187, 0.29066862590794934, 0.6969959720724649, 0.9986530644276601, 0.9978814191546369, 0.01745632261682677, 0.9817435839703376, 0.03275590129570968, 0.966985589148795, 0.011173387834828559, 0.7482977452810897, 0.15642742968759982, 0.023304494626928136, 0.039585716900535466, 0.021069817059962425, 0.0076201378700716145, 0.07429634423319824, 0.033020597436976995, 0.8845710044174798, 0.9989486839441151, 0.9992436355783595, 0.997942830065834, 0.9992455405434987, 0.03179835009459805, 0.031003391342233094, 0.9356664515335474, 0.9991496696916109, 0.9998956089439017, 0.9990233321199631, 0.11606014952570196, 0.8836579660439653, 0.9998059504847642, 0.9996307962972028, 0.9987319890132974, 0.9986809149685639, 0.958958762317097, 0.04011429708193066, 0.99935685563889, 0.9526903902678795, 0.013099050330699198, 0.033986725182354675, 0.9989122343300336, 0.9984919690758958, 0.08622565798010623, 0.13463304491630623, 0.6504742619551873, 0.12807787793536246, 0.03879607284608901, 0.9595562017266016, 0.03925130657003818, 0.10781025537903821, 0.7222240408887026, 0.13031433781252677, 0.9984109965313185, 0.5658029711860503, 0.3518766057085615, 0.05357290882760106, 0.025690644915054146, 0.003043915274295515, 0.8226270286225628, 0.01358110660461778, 0.13969138221892574, 0.023766936558081115, 0.10637667986965202, 0.09823857321295733, 0.7946279856929744, 0.9989667142492477, 0.05142545871130413, 0.9484522439079441, 0.9994711949776915, 0.9986187836109314, 0.09982554310650593, 0.8770580237162391, 0.02299504380502169, 0.9994241963851396, 0.06401537101391458, 0.07641625440404463, 0.35359275612397845, 0.5064252649320677, 0.20767671897231632, 0.0684065904958626, 0.2184097000898146, 0.3385415007904883, 0.16694311593602765, 0.9980062022328353, 0.9976542945608388, 0.998784426959622, 0.9988112343920513, 0.16002238076905267, 0.6500376284526171, 0.11937726451687766, 0.007390021136759093, 0.06309941124463533, 0.9992524782276617, 0.9375711797588229, 0.062166424638947664, 0.41630047076075455, 0.0421570096972916, 0.15896705740020375, 0.3395395822702694, 0.043035280732651844, 0.9989147624552254, 0.9978616753167926, 0.9983096982326966, 0.999810432609871, 0.6771254226123544, 0.013261444991238745, 0.042753315195635355, 0.26681235594313174, 0.3475841253762549, 0.6205683963845393, 0.03181464377457567, 0.9987024644900331, 0.998349481873304, 0.9976342601842207, 0.021737221665736384, 0.9129633099609281, 0.06470614821428504, 0.0205088485207175, 0.7329042107363606, 0.12945185186276886, 0.10681008309589674, 0.01033645965444162, 0.9979507117296447, 0.9995369671451451, 0.027108802373365583, 0.9721960694291304, 0.021143578273250304, 0.9781687001151061, 0.21275142743466982, 0.7563361573491479, 0.030876342951775652, 0.009649161498259895, 0.9359686653312099, 0.05387448503195109, 0.2233789016112134, 0.19977984742046503, 0.11828189914229349, 0.07328127353969234, 0.283857449395601, 0.02226145597750758, 0.07910938004024153, 0.9984803734029704, 0.03464262333427475, 0.014239605910407413, 0.8601147032749075, 0.03251730901928857, 0.05802108079912274, 0.12665636331074012, 0.8726250913394374, 0.999781444710826, 0.998200081495188, 0.9994686225959003, 0.9975173250121386, 0.017428368287570387, 0.7983463494228206, 0.016974504530081574, 0.1672034082588784, 0.9993374454793273, 0.0245063703146056, 0.8842715288520189, 0.030632962893257003, 0.060585193277774965, 0.08132846465927228, 0.03278957146580184, 0.7789459615143633, 0.02065484816743423, 0.08623399109903791, 0.9716443015098719, 0.01634071917157611, 0.011312805580321925, 0.9975433372595017, 0.038858545072569466, 0.882644095219792, 0.07811360591118555, 0.5227516716064126, 0.06211909855593157, 0.001873661905399328, 0.26216853891702907, 0.05938066961727101, 0.03747323810798656, 0.03545544836371036, 0.01873661905399328, 0.16659712278727412, 0.47801649307098765, 0.004380744141351369, 0.3110328340359472, 0.03994207893585072, 0.9976958789496216, 0.6498349019902595, 0.3500436347883899, 0.9984058296570337, 0.9990438707597067, 0.9988878740299172, 0.9992339550642566, 0.9993583632575381, 0.9977314659396477, 0.0020985938285990186, 0.2851819300021357, 0.7146032754677794, 0.5676394717879661, 0.13270970379223038, 0.20986320396265984, 0.013782485297480029, 0.03466934445964048, 0.041347455892440085, 0.9984523051291829, 0.9984738509956306, 0.03797327271763235, 0.08812665177865621, 0.874101749349273, 0.009128142211897037, 0.9898963109790565, 0.9982503346006926, 0.9978349693754377, 0.05045780463303998, 0.14097229588887367, 0.8033006320413419, 0.005262470421850796, 0.13732536920556576, 0.8625587812930724, 0.20306317410512745, 0.14170140498301728, 0.0442816890571929, 0.14075251164607744, 0.020559355633696704, 0.44977544170948786, 0.0254517186564388, 0.12169102982609802, 0.8526325749906998, 0.9978844947885142, 0.9984063236974949, 0.9983412960057091, 0.9991533899176384, 0.9989664502870033, 0.862542169542462, 0.13720929141600008, 0.2836632736220684, 0.19945073926551682, 0.4943650802307682, 0.022502134686366, 0.020142996516327095, 0.2562232787916192, 0.18245046303055842, 0.17706930150634106, 0.336431672862048, 0.003163250355452089, 0.0037813567467473246, 0.020724743708134374, 0.9991501048719603, 0.13716826115231745, 0.8625535701289871, 0.07206050158517391, 0.09130393098576012, 0.13347570179981075, 0.6898974157444207, 0.013101909379122529, 0.9998606654757064, 0.9981348657085047, 0.9871703718580205, 0.012850738568565946, 0.9996705975433722, 0.9995476869513521, 0.06884224226885019, 0.930866841113583, 0.9988619146562225, 0.04313923329189286, 0.14967438333448044, 0.3698720350070118, 0.37749955161804216, 0.059769720329057356, 0.9997998462637263, 0.9994611479897311, 0.9961643097987362, 0.8507135115773429, 0.09776344790304141, 0.023440358853945603, 0.02772822937600882, 0.10985104508800564, 0.8897096094532365, 0.9992435266841364, 0.6931325237589494, 0.29197088805685445, 0.014916768803994606, 0.1090216517084321, 0.13874347657281566, 0.7420465686729709, 0.010115410983256587, 0.027363704201768264, 0.014593975574276406, 0.2175414484040577, 0.188809558992201, 0.5513786396656305, 0.12200773834777182, 0.05289005406208828, 0.8246040246952854, 0.9991150212485954, 0.006127194861702012, 0.06842034262233913, 0.9262276232606208, 0.9985353740993116, 0.9990198857012185, 0.9990859177729843, 0.9997470832310172, 0.9634232308946628, 0.0366612379897969, 0.9986265866512167, 0.9697766945900692, 0.029341575709086656, 0.9994973816228147, 0.09858416101928776, 0.02421865227352445, 0.06980670361192341, 0.41485126717943055, 0.3923421668310961, 0.9714928643002331, 0.02825370746287031, 0.9989802103465, 0.8665252340656506, 0.1333424693904037, 0.5113676713499349, 0.462852529872422, 0.025814474864846452, 0.9990580705146793, 0.9989943247145685, 0.9981906703599951, 0.04804547023503442, 0.14592366014491856, 0.5743378641006412, 0.08936247199076425, 0.1084965542287867, 0.03385260703650128, 0.15055497515461344, 0.07183738733855884, 0.0977393185479547, 0.6271100376399826, 0.05261329776908535, 0.3111100204569277, 0.06675157527045192, 0.008741277713987751, 0.6134787631998677, 0.9488204615707507, 0.008617171595021546, 0.02701599743304052, 0.015604067482876852, 0.9992941430810803, 0.30703993062079116, 0.6258348356145069, 0.016221864634635978, 0.05101658877849286, 0.9988648857546413, 0.05743642410020644, 0.9140420179387692, 0.027791818113003117, 0.9985103001765203, 0.274908194472563, 0.10940224065744854, 0.026088226618314652, 0.15400469261779295, 0.0019636299605183074, 0.011781779763109844, 0.06479978869710414, 0.3571001342485436, 0.9974233593316985, 0.1461838684979734, 0.0031269276684058483, 0.013289442590724856, 0.8176915852881294, 0.019543297927536552, 0.9982592169705179, 0.9987179799925306, 0.997944063834099, 0.9971442044191934, 0.9967830747817998, 0.9995757609204519, 0.07201406043219058, 0.032585547706873566, 0.653340231522815, 0.23233495515000852, 0.010101519789130806, 0.9990035161597426, 0.9984843976534943, 0.09900312851387, 0.06076975725313424, 0.11694254024911258, 0.4022913081628149, 0.23747296284527367, 0.0423818602245106, 0.0410364043443674, 0.09466638843877112, 0.05916649277423195, 0.8456864033863554, 0.9985946426067253, 0.9989917455523089, 0.10131412087966554, 0.011780711730193669, 0.08529235292660216, 0.2007433278825001, 0.05560495936651411, 0.5452113388733629, 0.9993318045677912, 0.9983701694487681, 0.2833212262180815, 0.6698408588947842, 0.04670932116939005, 0.06014557872559301, 0.9398868794879982, 0.9998602788156938, 0.9983732984180856, 0.9990863924906795, 0.9990123452855414, 0.9998376304731809, 0.9993981666583909, 0.5862884227233959, 0.06254693015202206, 0.07337510029223546, 0.1668393057130247, 0.05186123593470622, 0.041318017640287925, 0.01780949036219307, 0.025786452594910816, 0.012078917268142435, 0.6822552483927193, 0.09717421083134814, 0.056594477537251636, 0.03664390631908379, 0.013707535326768383, 0.07573073972610651, 0.17715129744524333, 0.7783197165384006, 0.01002743193086283, 0.03437976662010113, 0.9981995267334984, 0.16495342553335524, 0.7798112674585242, 0.024207001650597207, 0.004495586020825195, 0.02628188750636268, 0.998796711639714, 0.01580121628534812, 0.9831867910883275, 0.9976223792037976, 0.08140065674490425, 0.3835136380489662, 0.011473788464598046, 0.04598549864945201, 0.14238339071028758, 0.27184747629901984, 0.06342204332399864, 0.018006676166603713, 0.8217592214213695, 0.160013872298683, 0.9736149765404768, 0.015831137829926453, 0.010026387292286753, 0.9997566658644328, 0.9431793013916574, 0.0564856684677455, 0.01576671042809159, 0.03520009769992541, 0.9489359671604891, 0.9990644757725429, 0.9995145268292653, 0.9991713870458795, 0.9988101727309316, 0.2895713995250773, 0.03728015023825845, 0.01849557841277939, 0.030055314920766508, 0.48666490698625764, 0.1378498578577464, 0.9975264309417456, 0.3117285314202111, 0.031243220756337186, 0.5819401703939381, 0.07487114163230353, 0.9966390640825423, 0.9047604004029044, 0.09517678000735748, 0.1679607246672804, 0.6645180394797777, 0.04105328057283426, 0.1263964074068175, 0.9978787578686807, 0.10422924007653041, 0.7090495116759986, 0.047339176767826556, 0.0475468047361065, 0.013080562001636285, 0.07869099997809766, 0.9978800203373224, 0.9981537389452972, 0.07945693259402116, 0.23804347777137752, 0.6420382009605459, 0.022012270718632022, 0.01841175060108626, 0.999128546585084, 0.10455617409229291, 0.12156899391597753, 0.42301222355573614, 0.02590394174159015, 0.06728185528261203, 0.2576715525054545, 0.06505266572246746, 0.05312634367334842, 0.04445265491035276, 0.8044846327678475, 0.03279738563507734, 0.24488902790839465, 0.7548399346831551, 0.9979008421585327, 0.9990899172721174, 0.003638078316438956, 0.14016820839403574, 0.49702690168068836, 0.12606554525727798, 0.23304139867436502, 0.2611638138390905, 0.7383047405891004, 0.05443564568914426, 0.09435511919451671, 0.7727070116284682, 0.07607032538611185, 0.0022332572590418156, 0.045500618646353075, 0.5812030242422661, 0.26872316587306083, 0.03503706174510115, 0.0575495629568856, 0.011890405569604462, 0.3604656465557453, 0.10839392278348657, 0.03890471286827343, 0.08212361171797916, 0.01617819743037113, 0.3939005879118457, 0.9643317847146478, 0.03171491994950537, 0.002973273745266129, 0.9983315338775753, 0.03152123122549017, 0.012383340838585423, 0.04840760509628848, 0.9084869142489488, 0.9992975894078499, 0.9004087865733864, 0.02055280925874034, 0.07878576882517131, 0.9960095604213988, 0.9992427410269815, 0.9494028100477999, 0.05010949561493223, 0.22274910518315047, 0.2827399304314888, 0.06691533258552516, 0.23329765374353792, 0.06872735319712546, 0.04232362428523545, 0.04691839083607905, 0.03636984227569162, 0.998883791579241, 0.9978177246514758, 0.9990742000785228, 0.1098101779712708, 0.8780238813619528, 0.011896102613554336, 0.029663603166640132, 0.05578934540514888, 0.8893638087025684, 0.014967873157478967, 0.010069296487758577, 0.06007415722164662, 0.7858005226407759, 0.05791046935561274, 0.0842565510184959, 0.011836645384773593, 0.9979528037918444, 0.9977886969640787, 0.03130691007776659, 0.0026422711830340092, 0.6291007480332791, 0.12682901678563244, 0.08655439845029587, 0.011289704145690766, 0.11225649086708124, 0.9993910878980075, 0.9987679163770485, 0.14175335615248505, 0.05819856700638654, 0.4339536303339278, 0.08621115527502071, 0.1383725265338568, 0.006882403152207536, 0.011108440175492866, 0.12352102499488263, 0.998882128691242, 0.822933357789418, 0.00847376922872272, 0.01108108283756048, 0.15741655913357977, 0.9988641533147549, 0.049847539909753304, 0.9299144514198806, 0.02005360800967087, 0.9995793038388225, 0.15584063525631744, 0.8441367743050527, 0.9989185422161808, 0.1356742627778001, 0.8640308313744111, 0.9550959519055671, 0.02340733349386886, 0.02148869960092879, 0.9976777828271142, 0.10690724691312124, 0.19291084219518528, 0.027473370715103786, 0.6058475489869843, 0.06677223578149137, 0.1894139351706439, 0.0480995535095055, 0.05178601563979606, 0.5406811124426165, 0.16992834962482234, 0.2641954284004552, 0.14806171418989653, 0.08420571423122077, 0.05403199996503333, 0.00035085714263008655, 0.4487462854238807, 0.10217735131947145, 0.8976542306624078, 0.999096415431662, 0.9997335555708753, 0.9991330134400052, 0.9997119580406094, 0.9994081884547783, 0.16649447866725703, 0.6556151877810246, 0.027403655548276052, 0.15037468128591816, 0.08107133649106972, 0.7521867278858366, 0.04225264866845807, 0.12436910367782887, 0.9991764761805454, 0.0961239014650104, 0.6651927472638545, 0.11991504673778743, 0.009017611514681615, 0.01611658228155863, 0.05506498946199199, 0.038372814956091975, 0.9989640244801451, 0.1520528786413566, 0.43899989093850006, 0.10744014167887524, 0.034449480317182354, 0.267016470044674, 0.2041012772728878, 0.5179048417404701, 0.15561217854419837, 0.018054451654299256, 0.09577456734709225, 0.008597357930618695, 0.06245168133612893, 0.7369806134909849, 0.005838978336304737, 0.043411534587309134, 0.1510518308739704, 0.06917227520992664, 0.29459382159340136, 0.6315584419890247, 0.0046707967183551745, 0.9725545247678504, 0.025711211574322483, 0.9972312624831661, 0.9865419676671954, 0.012867938708702549, 0.15409595532486298, 0.48307340797109233, 0.09565702311479841, 0.09282757760742098, 0.01817374614353963, 0.15616362704179262, 0.02325922525722111, 0.9754337592247104, 0.9424271466871705, 0.034824097799064035, 0.021765061124415022, 0.8187845434273977, 0.10487543439202565, 0.07479360916672675, 0.001479434027473716, 0.17708456054399488, 0.040591171308573135, 0.024533125516170578, 0.7578505500358874, 0.06307906922298832, 0.10307388332607453, 0.6828644770352438, 0.002415794140454872, 0.1484371288523938, 0.9991738145186153, 0.1552881495716646, 0.8282034643822112, 0.016500511760861643, 0.25304499710155365, 0.02968079161208292, 0.7172496892730111, 0.2262893322752705, 0.4822646963572733, 0.20922430800313702, 0.00426625606803338, 0.07785917324160918, 0.5783132273036844, 0.029879516744023695, 0.03726907464845966, 0.10955822806142021, 0.12305220336517285, 0.10088352965186495, 0.021044175771328517, 0.5413892781335474, 0.009976923414839365, 0.08640392164926922, 0.13402961266727598, 0.12047605633013572, 0.10767547534505881, 0.495794479501642, 0.14663219053511417, 0.05130629403338917, 0.2770939148573703, 0.0291467662602133, 0.9996596046907179, 0.9093966626692399, 0.05396704874042851, 0.03658343207884817, 0.9996268866823138, 0.9989230514779885, 0.10859697376514381, 0.7912290396241246, 0.08739770965569266, 0.012766843069632291, 0.8639642329273336, 0.135872899972303, 0.9988891965956161, 0.064135953301818, 0.9350730464344602, 0.9968786473660303, 0.08720676346888827, 0.15974693489982714, 0.7095459391332273, 0.0432069873550401, 0.9995810975157893, 0.0512248282059248, 0.9037684447785411, 0.044906347193740245, 0.19388342384901605, 0.12224379640838678, 0.683652400368332, 0.3149930958143372, 0.6582472544307084, 0.026691003757476548, 0.1774505184172884, 0.8068083570706046, 0.015379044929498327, 0.999989528231367, 0.9976521968040225, 0.9988348020006235, 0.9988967754662348, 0.9992913392401181, 0.6604196394007208, 0.012739152078365278, 0.01402223214381214, 0.19612795286116327, 0.014847069328742265, 0.10182156805081888, 0.9506879435830446, 0.04908443186977676, 0.22884836722638924, 0.26219197030620234, 0.08940862465793427, 0.16109265729229214, 0.005782491014783798, 0.0971081371504453, 0.1293518098741854, 0.02617834247453752, 0.4260426110654996, 0.08556447041000555, 0.3096749313078921, 0.1785217110634356, 0.9983607406420044, 0.09445270862003492, 0.1744687430770076, 0.04100629788869809, 0.0932240554997743, 0.4688847470194579, 0.08231975905746133, 0.045767328729707984, 0.030679642014423653, 0.936787000130074, 0.03226652004965246, 0.9992123702039574, 0.25081969034340373, 0.031116082215322874, 0.310645085983914, 0.39866405888029693, 0.00868155885013152, 0.09688677621848554, 0.007594450392422857, 0.5633701382015501, 0.33208460352321767, 0.04162575165567083, 0.5355994322078071, 0.02092358261415369, 0.062438627483506245, 0.14480447650430173, 0.03431910375866478, 0.16030342658886002, 0.09420055120625948, 0.0998502782675896, 0.28975028785964513, 0.09247104292217882, 0.21169181397147172, 0.030324045247547417, 0.18182897093301248, 0.9990712908425219, 0.012428634472166777, 0.035873558590117746, 0.09801673095095163, 0.710974385600995, 0.10027648267316377, 0.04237034479147765, 0.9985989602324512, 0.18425188153179942, 0.8155600524228864, 0.47876884067620007, 0.4048225500417071, 0.11632273633471966, 0.2665502648873286, 0.1874490057240056, 0.092058563706457, 0.44215259217189734, 0.011846678439436825, 0.9977570642444786, 0.00216469323016993, 0.9460678563848378, 0.029417532847787246, 0.023534026278229796, 0.9990317078701901, 0.9977895847086239, 0.9977826838092627, 0.28871155390045955, 0.10785697620310054, 0.6033087820896632, 0.9993217609121664, 0.4735673773632791, 0.08479006127878036, 0.023595673749881658, 0.36099175634164743, 0.025470096430947026, 0.027895819900561027, 0.0036385852044210033, 0.9996701165902657, 0.16451653990915957, 0.020926761436585856, 0.01577555862142626, 0.7984364363497373, 0.9840921696772954, 0.016034088304314385, 0.999404687352163, 0.9983020677750272, 0.43068832790782086, 0.1187381549183227, 0.0213244033322702, 0.07528160570331752, 0.03166350797821939, 0.32245082614554027, 0.07084281422171711, 0.8891047769376744, 0.039814759930810004, 0.9995631655741899, 0.9996813820061327, 0.9982265594148642, 0.9974307351036839, 0.9993213006302394, 0.9987886058451179, 0.10666446474835968, 0.7701875435820524, 0.1231899452023309, 0.5294401275831828, 0.05415343957550455, 0.03682433891134309, 0.33539030243762485, 0.04422530898666205, 0.9997939130702025, 0.9539297135695669, 0.045425224455693664, 0.2871810468174843, 0.020312805750504984, 0.047429901112016566, 0.506119071359873, 0.13768680154036878, 0.0013008200726924374, 0.47658745603822134, 0.5233622681841673, 0.016604469612969065, 0.00411681064784357, 0.07602376996351125, 0.401389038164748, 0.5018392179721312, 0.9990910744699144, 0.8227287179988788, 0.1703305548982054, 0.006719730296155616, 0.2837942461958283, 0.11223501261981912, 0.6036640321623128, 0.3901254888839329, 0.6097146885169379, 0.038292461460137865, 0.7849954599328263, 0.17663072011542466, 0.9969188434484544, 0.4892985015568602, 0.1994287333858242, 0.2953920894194418, 0.015837600561465662, 0.9973773647161687, 0.9984735140058679, 0.07314083957596931, 0.017520429252038276, 0.047555450826961033, 0.7041543947009669, 0.059513839046606204, 0.09844812627335793, 0.9985866707217816, 0.9983189341734509, 0.09979831837173286, 0.005410752200877083, 0.8945776972116778, 0.9995842144239674, 0.9990700332293599, 0.9986111153611373, 0.04576895904786326, 0.007823753683395428, 0.09897048409495217, 0.8316650165449341, 0.015647507366790856, 0.09963814905353202, 0.08082821120211285, 0.060518930478479095, 0.5715222421087001, 0.1874178590268215, 0.9982874706357895, 0.8785834795097327, 0.12107867291448546, 0.035193962166082046, 0.9644004022827605, 0.9995793012880276, 0.5146822468444638, 0.23190280547474693, 0.00882005104310262, 0.13090246487141327, 0.11358504757946788, 0.7484723098755269, 0.251291299518925, 0.9998047139950624, 0.9990988034287339, 0.9981908188549565, 0.4060690709957913, 0.5938243069113609, 0.999374420408014, 0.16363120318214, 0.05833808113450209, 0.05033438097885394, 0.5406944105148974, 0.16754412325823467, 0.019742460383932108, 0.03144405486918015, 0.010906271283454375, 0.7304368962178469, 0.11076239147612106, 0.08979968823000097, 0.02662829871804445, 0.9992517874396095, 0.07836017058508699, 0.12581465151283897, 0.013480141233518459, 0.7821769754765955, 0.178820800768851, 0.023402722248272445, 0.02160251284455918, 0.14221654289334795, 0.6336737101070693, 0.06260560768237255, 0.17022178297952276, 0.11027589065620524, 0.03969113689666757, 0.61705396330077, 0.9016524477329066, 0.09106991278104942, 0.006634232056897641, 0.1934858823244009, 0.6394273611085889, 0.01766373925714334, 0.14946240909890518, 0.43538229688990054, 0.2542450107755292, 0.31036563090668207, 0.998086511833177, 0.3951286470162904, 0.3980493445127149, 0.20678538274685693, 0.9979278439201563, 0.8908769988233497, 0.10846800158784003, 0.041564800476434904, 0.5166858442203637, 0.33108132294394294, 0.11054468211817793, 0.9989324107498585, 0.04384307430587304, 0.9010022406118057, 0.05513762760442305, 0.9997080848680754, 0.9994956369287995, 0.12935018516707095, 0.09939819556895821, 0.18660354581479088, 0.5844613899454743, 0.08262095183629253, 0.1077890989292808, 0.19110434447848337, 0.08557170011616012, 0.026209587662353304, 0.015100888255792965, 0.4915599487402951, 0.9981875359049499, 0.9059405235724962, 0.09341832737078498, 0.9384305168093935, 0.06130539137406964, 0.9286933263780843, 0.07087396438148538, 0.9989027612461991, 0.1141810002500029, 0.05554022680401558, 0.5090288747863175, 0.17403503107763135, 0.14707375593005095, 0.17075921045987852, 0.1529652890774049, 0.5712264995853157, 0.06576466850130605, 0.022840735341830187, 0.016441167125326513, 0.10243151867001903, 0.11689703848219729, 0.03635927952790752, 0.026976239649737836, 0.717411590685057, 0.9976138420805373, 0.12118126012810518, 0.07233300023150464, 0.08454506520565477, 0.6118557681920349, 0.027242298788488762, 0.08266628597886246, 0.21130076430506983, 0.07491102891011034, 0.08317707347950182, 0.6302858984161007, 0.016454080334848763, 0.9835293825959599, 0.2200457434919764, 0.779544405988487, 0.9994483907974726, 0.04833204963543502, 0.8686793887496307, 0.003487043849536419, 0.039087328732012885, 0.01865162989286922, 0.021814297570355738, 0.9994927465783486, 0.0686027021568364, 0.015170130698071932, 0.9161073371557883, 0.1140536679811676, 0.8858972216905798, 0.05113978520917013, 0.1277529728621533, 0.1250512483605368, 0.057894096463211475, 0.4243637270753401, 0.11578819292642295, 0.09803400334437143, 0.01863887651899502, 0.9072599083975684, 0.07405175265654779, 0.9991401896002327, 0.996414113432567, 0.08835218037184864, 0.9113805993312315, 0.4917534868219196, 0.07327985911702187, 0.01878970746590304, 0.41605780817356736, 0.7043505658227671, 0.012194091325769093, 0.09907699202187388, 0.16859040216673782, 0.01577433325571874, 0.9987696992661952, 0.9995612207814133, 0.9974392376526051, 0.32706157951736997, 0.662802167429754, 0.010049378141595167, 0.09689144891799704, 0.8296330313603497, 0.009782309746528547, 0.015838025303903363, 0.04145836035433527, 0.006987364104663248, 0.1435872774266849, 0.016818789488790013, 0.06627105112000842, 0.05748511631243154, 0.2583064833427601, 0.43025977886247885, 0.02736191125788226, 0.6827666170629996, 0.02250878957350548, 0.1265711645582627, 0.16767417160553358, 0.9990725469044488, 0.04050197161408681, 0.028589627021708336, 0.2241686664202131, 0.48288313215832374, 0.2237354902532175, 0.009308841454164773, 0.9905969576712417, 0.9986848440037345, 0.9984336794688986, 0.9980847297858918, 0.9988310200640449, 0.4817599836219292, 0.5181756147791066, 0.23065745641056332, 0.04754608556333588, 0.0019647142794766894, 0.033793085606999056, 0.6526780836421562, 0.03340014275110372, 0.9184725398444066, 0.02448757796960067, 0.05688652728322617, 0.9992551333568018, 0.05629401893621886, 0.04998908881536235, 0.876835638950545, 0.016663029605120783, 0.8402838667565957, 0.1273284087720246, 0.032197988425109667, 0.03999718295061703, 0.9599323908148086, 0.9998691744680067, 0.05253164669997403, 0.9471943307036556, 0.9987884893229458, 0.9991238032355942, 0.09442193693805491, 0.8666402644368498, 0.0025519442415690517, 0.016077248721885023, 0.020160359508395505, 0.21578353502442138, 0.7839313743872536, 0.15979613673797055, 0.839734060844503, 0.195694434000935, 0.46737749130437284, 0.022389006571861606, 0.08564772090083717, 0.10876255561592621, 0.03171310656562941, 0.08843936760555807, 0.35836041332815083, 0.45428958636266453, 0.06070517981090321, 0.02810424991245519, 0.007744282198098763, 0.09080795416157744, 0.9989338988458941, 0.9985306901857679, 0.9989031243273995, 0.9986111943452045, 0.9979448372869912, 0.9980506663603067, 0.04077861127827099, 0.8808971853801258, 0.07799404293028529, 0.08562042399719642, 0.914123938558303, 0.999094490651127, 0.1570159956494408, 0.6673872125487695, 0.024092401448855997, 0.062307934781524126, 0.08916957777622564, 0.9995279163333276, 0.9990773554736146, 0.8233113956085225, 0.04480106613034779, 0.12803801959656771, 0.003672218535274409, 0.7319676724185068, 0.00045300635748143756, 0.1632634912363101, 0.07220921338254115, 0.010690950036561927, 0.021381900073123853, 0.13872068948781724, 0.006223596458721435, 0.009990510104789671, 0.7573134217138925, 0.01261097177161975, 0.03685024218979797, 0.038488030731566765, 0.3917021847976976, 0.2356835622104496, 0.0011686788208782623, 0.006038173907871022, 0.02921697052195656, 0.33638472060945984, 0.9992971651675997, 0.21487396062783923, 0.7609389851337449, 0.02401385357424047, 0.07787666277955983, 0.9217048063150435, 0.9987129205851428, 0.03429994402380437, 0.12213561149016826, 0.7394187257293773, 0.10405861396410919, 0.9998875739127185, 0.9987007405748679, 0.22295985486560474, 0.5548787342823656, 0.02128762433390196, 0.0306709850600298, 0.06036161899941937, 0.008262959445396156, 0.06400292316179734, 0.03767349306460281, 0.25464852059485976, 0.5258957523890665, 0.10262861680571853, 0.07732570339207984, 0.039472544925276354, 0.9979390535859218, 0.35012439108559834, 0.06870572823500752, 0.12850719409075806, 0.09739724034594666, 0.13873060645212718, 0.025613495486010805, 0.018578028914746032, 0.17225900183081086, 0.9974510933432785, 0.0370880397140721, 0.22579506043541306, 0.10165581869815618, 0.19293467291672742, 0.4425583184534096, 0.9984166086035511, 0.9981540169683818, 0.9991083286717752, 0.7972700133527681, 0.12508012992751158, 0.07736437665886826, 0.9994786180833142, 0.8755828880680878, 0.027315404902861502, 0.08442943333611737, 0.012416093137664319, 0.15815415879190567, 0.12726044031644776, 0.36481687554089004, 0.17370941704182924, 0.05907746164605113, 0.005690948140215934, 0.027099753048647306, 0.08411763346300123, 0.9602902283349656, 0.03956463565829758, 0.17479723632162467, 0.009440767264506733, 0.1616373789226153, 0.03247051771277316, 0.06780187399054836, 0.44114130672331464, 0.11271703946108039, 0.04109589487429208, 0.7550547824844189, 0.06507633696340988, 0.10382120810347471, 0.03498323316530126, 0.005301409597346516, 0.795835134848724, 0.1387721924011294, 0.059562896064304975, 0.09418389358893767, 0.05111199103302105, 0.016845899666314054, 0.121558480546698, 0.023545973397234417, 0.0388604276393381, 0.653735765459801, 0.92784299678095, 0.019522720862500606, 0.01541267436513206, 0.03699041847631694, 0.09395994512329106, 0.9056007868790882, 0.026661818500144405, 0.12769607807963898, 0.032555483642281585, 0.011226028842166065, 0.8018191100517111, 0.998090890414468, 0.9992455151724211, 0.43596154725638653, 0.2848060878651142, 0.1743846189025546, 0.026298727018130262, 0.03285266845167061, 0.04562870618287585, 0.33470535319160355, 0.5333770117734522, 0.13169588547041322, 0.999872170225586, 0.9960206146137615, 0.04725533929565782, 0.015505658206387721, 0.3215578166134216, 0.6150577755200464, 0.3707166998129394, 0.26863445622498294, 0.04586512071064524, 0.19220217356109892, 0.0035369340736108867, 0.009058001895832758, 0.012364891476851067, 0.09762513154397529, 0.9992071687694684], \"Term\": [\"aboard\", \"accid\", \"accid\", \"acr\", \"acr\", \"acr\", \"acr\", \"aforesaid\", \"agenc\", \"agenc\", \"air\", \"air\", \"air\", \"air\", \"air\", \"alaska\", \"alaska\", \"american\", \"american\", \"american\", \"american\", \"american\", \"american\", \"anchorag\", \"anchorag\", \"ann\", \"ann\", \"ann\", \"ann\", \"ann\", \"annual\", \"annual\", \"annual\", \"annual\", \"appl\", \"apt\", \"arab\", \"arctic\", \"area\", \"area\", \"area\", \"area\", \"area\", \"area\", \"arl\", \"arrest\", \"arrest\", \"attend\", \"attend\", \"attend\", \"auditorium\", \"aunt\", \"auxiliari\", \"auxiliari\", \"av\", \"av\", \"awai\", \"awai\", \"awai\", \"awai\", \"awai\", \"awai\", \"ball\", \"ball\", \"ball\", \"ball\", \"ballot\", \"baptist\", \"baron\", \"basebal\", \"basement\", \"basement\", \"basement\", \"basketbal\", \"bath\", \"bean\", \"bed\", \"bed\", \"bedrm\", \"bedroom\", \"beeb\", \"belov\", \"bennett\", \"bennett\", \"bibl\", \"bid\", \"bid\", \"bid\", \"bidder\", \"billion\", \"black\", \"black\", \"black\", \"black\", \"blair\", \"blair\", \"blue\", \"blue\", \"blue\", \"blue\", \"blvd\", \"board\", \"board\", \"board\", \"board\", \"board\", \"boat\", \"boat\", \"boat\", \"boat\", \"bob\", \"bob\", \"bob\", \"bread\", \"brick\", \"brick\", \"bridgevil\", \"brk\", \"brother\", \"brother\", \"brother\", \"bsmt\", \"bui\", \"bui\", \"bui\", \"bui\", \"build\", \"build\", \"build\", \"build\", \"build\", \"bungalow\", \"burial\", \"butter\", \"caller\", \"came\", \"came\", \"came\", \"came\", \"came\", \"can\", \"candid\", \"candid\", \"car\", \"car\", \"car\", \"car\", \"car\", \"carei\", \"carolyn\", \"caught\", \"cemeteri\", \"cent\", \"cent\", \"cent\", \"cent\", \"chairman\", \"chairman\", \"chairman\", \"chairmen\", \"champion\", \"championship\", \"chapter\", \"chapter\", \"chapter\", \"charl\", \"charl\", \"charl\", \"charl\", \"charl\", \"chevrolet\", \"choir\", \"christ\", \"christ\", \"christian\", \"christian\", \"church\", \"church\", \"church\", \"circuit\", \"circuit\", \"circuit\", \"citi\", \"citi\", \"citi\", \"citi\", \"citi\", \"citi\", \"citi\", \"clara\", \"class\", \"class\", \"class\", \"class\", \"class\", \"classifi\", \"classifi\", \"clerk\", \"clifton\", \"clinic\", \"cloudi\", \"club\", \"club\", \"club\", \"club\", \"coach\", \"coast\", \"coast\", \"coast\", \"coast\", \"colleg\", \"colleg\", \"colleg\", \"colleg\", \"colleg\", \"collin\", \"collin\", \"collin\", \"colt\", \"columbia\", \"columbia\", \"columbia\", \"com\", \"com\", \"com\", \"com\", \"com\", \"com\", \"com\", \"com\", \"come\", \"come\", \"come\", \"come\", \"come\", \"comedi\", \"committe\", \"committe\", \"communion\", \"communist\", \"complaint\", \"compli\", \"congreg\", \"congress\", \"congress\", \"contest\", \"contest\", \"continu\", \"continu\", \"continu\", \"continu\", \"continu\", \"continu\", \"convei\", \"cop\", \"copi\", \"copi\", \"copi\", \"corn\", \"corn\", \"cotton\", \"couldn\", \"counti\", \"counti\", \"counti\", \"counti\", \"court\", \"court\", \"cover\", \"cover\", \"cover\", \"cover\", \"cover\", \"cover\", \"cow\", \"cow\", \"cow\", \"crab\", \"crash\", \"creditor\", \"crew\", \"crop\", \"cup\", \"cup\", \"cut\", \"cut\", \"cut\", \"cut\", \"dai\", \"dai\", \"dai\", \"dai\", \"dai\", \"dai\", \"dai\", \"dai\", \"dairi\", \"danc\", \"danc\", \"date\", \"date\", \"date\", \"date\", \"date\", \"daughter\", \"davidson\", \"dear\", \"dear\", \"deceas\", \"deed\", \"deer\", \"deer\", \"default\", \"delawar\", \"delawar\", \"delawar\", \"delawar\", \"delawar\", \"democrat\", \"deposit\", \"derbi\", \"develop\", \"develop\", \"develop\", \"develop\", \"din\", \"din\", \"dine\", \"dinner\", \"dinner\", \"dinner\", \"district\", \"district\", \"district\", \"district\", \"doubl\", \"doubl\", \"doubl\", \"doubl\", \"doubl\", \"dress\", \"dress\", \"dress\", \"driver\", \"dry\", \"dry\", \"dry\", \"duli\", \"earth\", \"egg\", \"eisenhow\", \"elementari\", \"elementari\", \"elmer\", \"employ\", \"employ\", \"enrol\", \"equip\", \"equip\", \"equip\", \"equip\", \"equip\", \"equiti\", \"equiti\", \"ernment\", \"estat\", \"estat\", \"even\", \"even\", \"even\", \"ew\", \"exclud\", \"executor\", \"famili\", \"famili\", \"famili\", \"famili\", \"famili\", \"famili\", \"farm\", \"farm\", \"farm\", \"farm\", \"farm\", \"farmer\", \"farmer\", \"farmer\", \"farmer\", \"feder\", \"feder\", \"feder\", \"feder\", \"feed\", \"feet\", \"feet\", \"feet\", \"feet\", \"fellowship\", \"fenc\", \"fenc\", \"fenc\", \"fha\", \"field\", \"field\", \"field\", \"field\", \"field\", \"field\", \"field\", \"field\", \"fighter\", \"file\", \"file\", \"file\", \"file\", \"file\", \"firepl\", \"fireplac\", \"fiscal\", \"fisheri\", \"flame\", \"flight\", \"floor\", \"floor\", \"floor\", \"floor\", \"floor\", \"fly\", \"folio\", \"follow\", \"follow\", \"follow\", \"follow\", \"follow\", \"follow\", \"follow\", \"food\", \"food\", \"food\", \"footbal\", \"forfeit\", \"fourth\", \"fourth\", \"fourth\", \"fourth\", \"fourth\", \"fourth\", \"francisco\", \"freezer\", \"friend\", \"friend\", \"friend\", \"fruit\", \"fruit\", \"funer\", \"furn\", \"furnitur\", \"gallon\", \"game\", \"garag\", \"gener\", \"gener\", \"gener\", \"gener\", \"gener\", \"gener\", \"gener\", \"georg\", \"georg\", \"georg\", \"georg\", \"georg\", \"georg\", \"georg\", \"georg\", \"get\", \"get\", \"get\", \"get\", \"glendal\", \"go\", \"go\", \"go\", \"go\", \"go\", \"goldfin\", \"golf\", \"golf\", \"gomeri\", \"good\", \"good\", \"good\", \"good\", \"good\", \"good\", \"good\", \"got\", \"got\", \"got\", \"gov\", \"gov\", \"gov\", \"govern\", \"governor\", \"governor\", \"graduat\", \"graduat\", \"graduat\", \"grain\", \"grandchildren\", \"grandpar\", \"grang\", \"green\", \"green\", \"green\", \"green\", \"green\", \"green\", \"grier\", \"group\", \"group\", \"group\", \"group\", \"gruen\", \"guest\", \"guest\", \"hall\", \"hall\", \"hall\", \"hall\", \"har\", \"harri\", \"harri\", \"harri\", \"harri\", \"harri\", \"harri\", \"hattera\", \"healthi\", \"held\", \"held\", \"held\", \"held\", \"held\", \"hickman\", \"high\", \"high\", \"high\", \"high\", \"high\", \"high\", \"highwai\", \"highwai\", \"highwai\", \"highwai\", \"highwai\", \"hit\", \"hit\", \"hog\", \"holi\", \"home\", \"home\", \"home\", \"home\", \"home\", \"hors\", \"hors\", \"hospit\", \"hospit\", \"hospit\", \"hospit\", \"hospit\", \"hour\", \"hour\", \"hour\", \"hour\", \"hour\", \"hour\", \"hous\", \"hous\", \"hous\", \"hous\", \"hous\", \"hous\", \"hudson\", \"hudson\", \"hudson\", \"hurt\", \"in\", \"in\", \"in\", \"in\", \"incl\", \"increas\", \"increas\", \"increas\", \"incumb\", \"indebt\", \"industri\", \"industri\", \"ing\", \"ing\", \"ing\", \"ing\", \"ing\", \"ing\", \"ing\", \"ing\", \"injur\", \"instructor\", \"integr\", \"inter\", \"inter\", \"inter\", \"invit\", \"invit\", \"invit\", \"invit\", \"invit\", \"jame\", \"jame\", \"jame\", \"jame\", \"jame\", \"jane\", \"janet\", \"john\", \"john\", \"john\", \"john\", \"john\", \"john\", \"john\", \"joyc\", \"jta\", \"juli\", \"juli\", \"juli\", \"juli\", \"juli\", \"juli\", \"juli\", \"juli\", \"juneau\", \"junior\", \"junior\", \"junior\", \"junior\", \"kid\", \"kill\", \"kill\", \"kill\", \"kit\", \"kitchen\", \"kitchen\", \"knew\", \"know\", \"know\", \"labor\", \"labor\", \"labor\", \"lamp\", \"land\", \"land\", \"land\", \"land\", \"land\", \"larg\", \"larg\", \"larg\", \"larg\", \"larg\", \"lead\", \"lead\", \"lead\", \"lead\", \"lead\", \"lead\", \"leagu\", \"leagu\", \"legion\", \"legisl\", \"legislatur\", \"lew\", \"lge\", \"life\", \"life\", \"life\", \"life\", \"like\", \"like\", \"like\", \"like\", \"linda\", \"littl\", \"littl\", \"littl\", \"littl\", \"littl\", \"littl\", \"littl\", \"liv\", \"live\", \"live\", \"live\", \"live\", \"live\", \"long\", \"long\", \"long\", \"long\", \"long\", \"long\", \"look\", \"look\", \"look\", \"look\", \"look\", \"lot\", \"lot\", \"lot\", \"lot\", \"louis\", \"louis\", \"lutheran\", \"lynch\", \"lynch\", \"man\", \"man\", \"man\", \"man\", \"man\", \"man\", \"manteo\", \"manteo\", \"margaret\", \"margaret\", \"margaret\", \"mari\", \"mari\", \"mari\", \"mari\", \"market\", \"market\", \"market\", \"market\", \"maryland\", \"maryland\", \"maryland\", \"maryland\", \"maryland\", \"meat\", \"meet\", \"meet\", \"meet\", \"member\", \"member\", \"member\", \"men\", \"men\", \"men\", \"men\", \"men\", \"ment\", \"ment\", \"ment\", \"ment\", \"ment\", \"ment\", \"ment\", \"mile\", \"mile\", \"mile\", \"mile\", \"mile\", \"mile\", \"milford\", \"milford\", \"milford\", \"milford\", \"milford\", \"milk\", \"million\", \"million\", \"million\", \"millsboro\", \"milwauke\", \"miss\", \"miss\", \"miss\", \"miss\", \"mix\", \"mix\", \"mod\", \"model\", \"model\", \"moder\", \"modern\", \"modern\", \"modern\", \"modern\", \"montana\", \"montgomeri\", \"montgomeri\", \"montgomeri\", \"morn\", \"morn\", \"morn\", \"mother\", \"mother\", \"mother\", \"motor\", \"motor\", \"motor\", \"mr\", \"murder\", \"museum\", \"naacp\", \"nanci\", \"nation\", \"nation\", \"nation\", \"nation\", \"nation\", \"nation\", \"negro\", \"negro\", \"new\", \"new\", \"new\", \"new\", \"new\", \"new\", \"new\", \"new\", \"night\", \"night\", \"night\", \"night\", \"nixon\", \"north\", \"north\", \"north\", \"north\", \"north\", \"north\", \"north\", \"notic\", \"notic\", \"notic\", \"nuclear\", \"offic\", \"offic\", \"offic\", \"offic\", \"offic\", \"oil\", \"oil\", \"oil\", \"oil\", \"old\", \"old\", \"old\", \"old\", \"old\", \"old\", \"old\", \"open\", \"open\", \"open\", \"open\", \"open\", \"open\", \"open\", \"orphan\", \"owner\", \"owner\", \"owner\", \"owner\", \"owner\", \"owner\", \"parcel\", \"pastor\", \"pastor\", \"peopl\", \"peopl\", \"peopl\", \"person\", \"person\", \"person\", \"person\", \"person\", \"phone\", \"phone\", \"pilot\", \"pilot\", \"pilot\", \"pink\", \"pitch\", \"pitcher\", \"plai\", \"plai\", \"plai\", \"plaintiff\", \"plan\", \"plan\", \"plan\", \"plan\", \"plan\", \"plan\", \"plan\", \"plane\", \"plant\", \"plant\", \"plant\", \"plant\", \"plat\", \"plat\", \"player\", \"pleasur\", \"point\", \"point\", \"point\", \"point\", \"point\", \"point\", \"polic\", \"polic\", \"polic\", \"polici\", \"polit\", \"poni\", \"pope\", \"porch\", \"potato\", \"pound\", \"pound\", \"pound\", \"power\", \"power\", \"power\", \"power\", \"power\", \"prayer\", \"premis\", \"premis\", \"present\", \"present\", \"present\", \"present\", \"present\", \"present\", \"presid\", \"presid\", \"price\", \"price\", \"price\", \"price\", \"price\", \"probat\", \"problem\", \"problem\", \"problem\", \"product\", \"product\", \"product\", \"program\", \"program\", \"properti\", \"properti\", \"properti\", \"pta\", \"public\", \"public\", \"public\", \"public\", \"publicli\", \"pupil\", \"purchas\", \"purchas\", \"purchas\", \"purchas\", \"purchas\", \"purchas\", \"purs\", \"rabbi\", \"race\", \"race\", \"race\", \"rambler\", \"realti\", \"realtor\", \"rec\", \"rec\", \"rec\", \"rec\", \"rec\", \"record\", \"record\", \"record\", \"record\", \"record\", \"rehears\", \"rehoboth\", \"rehoboth\", \"rent\", \"rent\", \"rep\", \"report\", \"report\", \"report\", \"report\", \"report\", \"repres\", \"repres\", \"republican\", \"resolut\", \"resourc\", \"rev\", \"rev\", \"rm\", \"road\", \"road\", \"road\", \"road\", \"road\", \"road\", \"robert\", \"robert\", \"robert\", \"robert\", \"robert\", \"robert\", \"rocket\", \"room\", \"room\", \"room\", \"room\", \"round\", \"round\", \"round\", \"round\", \"round\", \"run\", \"run\", \"run\", \"run\", \"run\", \"ruth\", \"ruth\", \"ruth\", \"sai\", \"sai\", \"sai\", \"sai\", \"said\", \"said\", \"said\", \"salad\", \"sale\", \"sale\", \"sale\", \"salli\", \"san\", \"san\", \"saturdai\", \"saturdai\", \"saturdai\", \"saturdai\", \"scholarship\", \"school\", \"school\", \"school\", \"score\", \"scout\", \"season\", \"season\", \"season\", \"season\", \"second\", \"second\", \"second\", \"second\", \"second\", \"second\", \"second\", \"sedan\", \"seed\", \"seed\", \"senat\", \"senat\", \"senior\", \"senior\", \"sermon\", \"serv\", \"serv\", \"serv\", \"serv\", \"serv\", \"servic\", \"servic\", \"servic\", \"servic\", \"servic\", \"servic\", \"shall\", \"shall\", \"shall\", \"shall\", \"shall\", \"shocklei\", \"silver\", \"silver\", \"silver\", \"silver\", \"silver\", \"silver\", \"singl\", \"singl\", \"singl\", \"singl\", \"sister\", \"sister\", \"size\", \"size\", \"soil\", \"son\", \"son\", \"son\", \"son\", \"son\", \"son\", \"soviet\", \"spent\", \"spent\", \"spent\", \"sponsor\", \"sponsor\", \"spring\", \"spring\", \"spring\", \"spring\", \"spring\", \"spring\", \"spring\", \"sss\", \"sss\", \"sss\", \"ssss\", \"stadium\", \"stamp\", \"stamp\", \"star\", \"star\", \"star\", \"star\", \"state\", \"state\", \"state\", \"state\", \"state\", \"statehood\", \"statement\", \"steer\", \"stock\", \"stock\", \"stock\", \"stop\", \"stop\", \"stop\", \"stop\", \"stop\", \"stop\", \"store\", \"store\", \"store\", \"store\", \"store\", \"store\", \"store\", \"stori\", \"stori\", \"stori\", \"stori\", \"stove\", \"street\", \"street\", \"street\", \"street\", \"street\", \"student\", \"student\", \"subcommitte\", \"subscrib\", \"sugar\", \"summon\", \"sundai\", \"sundai\", \"suppli\", \"suppli\", \"suppli\", \"suppli\", \"suppli\", \"suppli\", \"support\", \"support\", \"support\", \"suprem\", \"surviv\", \"surviv\", \"surviv\", \"surviv\", \"tax\", \"tax\", \"tax\", \"teacher\", \"teacher\", \"team\", \"tell\", \"tell\", \"temperatur\", \"thereof\", \"thing\", \"thing\", \"thing\", \"thing\", \"thing\", \"think\", \"think\", \"thought\", \"thought\", \"time\", \"time\", \"time\", \"time\", \"time\", \"time\", \"time\", \"todai\", \"todai\", \"todai\", \"todai\", \"todai\", \"todai\", \"tomato\", \"touchdown\", \"tournament\", \"tractor\", \"trick\", \"truitt\", \"trust\", \"trust\", \"trust\", \"truste\", \"truste\", \"tucson\", \"turn\", \"turn\", \"turn\", \"turn\", \"turn\", \"undersign\", \"unemploy\", \"union\", \"union\", \"union\", \"union\", \"unit\", \"unit\", \"unit\", \"unit\", \"unit\", \"unit\", \"univers\", \"univers\", \"univers\", \"univers\", \"univers\", \"univers\", \"univers\", \"us\", \"us\", \"us\", \"us\", \"us\", \"us\", \"veget\", \"vice\", \"vice\", \"vice\", \"victori\", \"victori\", \"virtu\", \"visit\", \"visit\", \"visit\", \"visit\", \"vote\", \"wagon\", \"wai\", \"wai\", \"wai\", \"wai\", \"wai\", \"wai\", \"wai\", \"wai\", \"want\", \"want\", \"want\", \"want\", \"want\", \"washer\", \"washington\", \"washington\", \"washington\", \"washington\", \"washington\", \"washington\", \"washington\", \"washington\", \"wasn\", \"water\", \"water\", \"water\", \"water\", \"water\", \"watson\", \"wave\", \"weapon\", \"weather\", \"weather\", \"weather\", \"webb\", \"wed\", \"wed\", \"wed\", \"wed\", \"week\", \"week\", \"week\", \"week\", \"week\", \"week\", \"week\", \"week\", \"weekend\", \"weekend\", \"white\", \"white\", \"white\", \"white\", \"white\", \"white\", \"white\", \"william\", \"william\", \"william\", \"william\", \"william\", \"wilmington\", \"wilmington\", \"wilmington\", \"wilmington\", \"win\", \"win\", \"win\", \"win\", \"win\", \"win\", \"win\", \"wind\", \"wind\", \"wind\", \"wind\", \"winner\", \"winner\", \"won\", \"won\", \"won\", \"won\", \"won\", \"wool\", \"wore\", \"work\", \"work\", \"work\", \"work\", \"work\", \"work\", \"world\", \"world\", \"world\", \"worship\", \"yanke\", \"yard\", \"yard\", \"yard\", \"yard\", \"year\", \"year\", \"year\", \"year\", \"year\", \"year\", \"year\", \"year\", \"yellow\"]}, \"R\": 30, \"lambda.step\": 0.01, \"plot.opts\": {\"xlab\": \"PC1\", \"ylab\": \"PC2\"}, \"topic.order\": [3, 4, 6, 2, 5, 1, 7, 8]};\n\nfunction LDAvis_load_lib(url, callback){\n  var s = document.createElement('script');\n  s.src = url;\n  s.async = true;\n  s.onreadystatechange = s.onload = callback;\n  s.onerror = function(){console.warn(\"failed to load library \" + url);};\n  document.getElementsByTagName(\"head\")[0].appendChild(s);\n}\n\nif(typeof(LDAvis) !== \"undefined\"){\n   // already loaded: just create the visualization\n   !function(LDAvis){\n       new LDAvis(\"#\" + \"ldavis_el93862119010109922465686692\", ldavis_el93862119010109922465686692_data);\n   }(LDAvis);\n}else if(typeof define === \"function\" && define.amd){\n   // require.js is available: use it to load d3/LDAvis\n   require.config({paths: {d3: \"https://d3js.org/d3.v5\"}});\n   require([\"d3\"], function(d3){\n      window.d3 = d3;\n      LDAvis_load_lib(\"https://cdn.jsdelivr.net/gh/bmabey/pyLDAvis@3.4.0/pyLDAvis/js/ldavis.v3.0.0.js\", function(){\n        new LDAvis(\"#\" + \"ldavis_el93862119010109922465686692\", ldavis_el93862119010109922465686692_data);\n      });\n    });\n}else{\n    // require.js not available: dynamically load d3 & LDAvis\n    LDAvis_load_lib(\"https://d3js.org/d3.v5.js\", function(){\n         LDAvis_load_lib(\"https://cdn.jsdelivr.net/gh/bmabey/pyLDAvis@3.4.0/pyLDAvis/js/ldavis.v3.0.0.js\", function(){\n                 new LDAvis(\"#\" + \"ldavis_el93862119010109922465686692\", ldavis_el93862119010109922465686692_data);\n            })\n         });\n}\n</script>"
     },
     "execution_count": 136,
     "metadata": {},
     "output_type": "execute_result"
    }
   ],
   "source": [
    "import pyLDAvis.gensim_models as gensimvis\n",
    "import pyLDAvis\n",
    "\n",
    "# Prepare the visualization\n",
    "pyLDAvis.enable_notebook()\n",
    "vis = gensimvis.prepare(lda_model, corpus, dictionary)\n",
    "\n",
    "# Display the visualization\n",
    "pyLDAvis.display(vis)"
   ],
   "metadata": {
    "collapsed": false,
    "ExecuteTime": {
     "end_time": "2024-02-23T02:35:04.326703Z",
     "start_time": "2024-02-23T02:34:54.248612Z"
    }
   },
   "id": "934b6add770e42b6"
  },
  {
   "cell_type": "code",
   "execution_count": 137,
   "outputs": [
    {
     "data": {
      "text/plain": "<Figure size 640x480 with 1 Axes>",
      "image/png": "[encoded data removed]"
     },
     "metadata": {},
     "output_type": "display_data"
    },
    {
     "name": "stdout",
     "output_type": "stream",
     "text": [
      "Num Topics = 2, Coherence Value = 0.5139\n",
      "Num Topics = 8, Coherence Value = 0.6409\n",
      "Num Topics = 14, Coherence Value = 0.6489\n",
      "Num Topics = 20, Coherence Value = 0.6294\n",
      "Num Topics = 26, Coherence Value = 0.6028\n",
      "Num Topics = 32, Coherence Value = 0.6132\n",
      "Num Topics = 38, Coherence Value = 0.5849\n"
     ]
    }
   ],
   "source": [
    "from gensim.models import CoherenceModel, LdaModel\n",
    "import matplotlib.pyplot as plt\n",
    "import numpy as np\n",
    "\n",
    "def compute_coherence_values(dictionary, corpus, texts, start, limit, step):\n",
    "    coherence_values = []\n",
    "    for num_topics in range(start, limit + 1, step):\n",
    "        # Create a new LDA model for each number of topics\n",
    "        id2word = dictionary.id2token\n",
    "\n",
    "        model = LdaModel(corpus=corpus, id2word=id2word, num_topics=num_topics,\n",
    "                         passes=passes, eval_every=None)\n",
    "        # Compute the coherence score for the model\n",
    "        coherencemodel = CoherenceModel(model=model, texts=texts, dictionary=dictionary, coherence='c_v')\n",
    "        coherence_values.append(coherencemodel.get_coherence())\n",
    "\n",
    "    return coherence_values\n",
    "\n",
    "# Parameters for the coherence computation\n",
    "start, limit, step = 2, 40, 6\n",
    "\n",
    "# Ensure your 'texts', 'dictionary', and 'corpus' are correctly prepared before this step\n",
    "coherence_values = compute_coherence_values(dictionary, corpus, texts, start, limit, step)\n",
    "\n",
    "# Plotting the coherence scores\n",
    "x = range(start, limit + 1, step)\n",
    "plt.plot(x, coherence_values)\n",
    "plt.xlabel(\"Num Topics\")\n",
    "plt.ylabel(\"Coherence score\")\n",
    "plt.title(\"Coherence Scores by Number of Topics\")\n",
    "plt.show()\n",
    "\n",
    "# Printing the coherence scores for each number of topics\n",
    "for num_topics, coherence_value in zip(x, coherence_values):\n",
    "    print(f\"Num Topics = {num_topics}, Coherence Value = {round(coherence_value, 4)}\")"
   ],
   "metadata": {
    "collapsed": false,
    "ExecuteTime": {
     "end_time": "2024-02-23T02:55:13.175547Z",
     "start_time": "2024-02-23T02:35:04.324082Z"
    }
   },
   "id": "46ccabb26624f6d5"
  },
  {
   "cell_type": "code",
   "execution_count": 138,
   "outputs": [
    {
     "name": "stdout",
     "output_type": "stream",
     "text": [
      "(0, '0.029*\"new\" + 0.028*\"york\" + 0.023*\"citi\" + 0.018*\"san\" + 0.017*\"spring\" + 0.016*\"chicago\" + 0.014*\"lo\" + 0.013*\"silver\" + 0.013*\"angel\" + 0.012*\"loui\"')\n",
      "(1, '0.028*\"meet\" + 0.023*\"member\" + 0.021*\"club\" + 0.020*\"presid\" + 0.016*\"held\" + 0.010*\"year\" + 0.010*\"offic\" + 0.010*\"program\" + 0.010*\"chairman\" + 0.009*\"present\"')\n",
      "(2, '0.043*\"alaska\" + 0.025*\"state\" + 0.024*\"citi\" + 0.019*\"offic\" + 0.015*\"highwai\" + 0.013*\"depart\" + 0.012*\"build\" + 0.012*\"bid\" + 0.011*\"nome\" + 0.011*\"road\"')\n",
      "(3, '0.046*\"sundai\" + 0.041*\"church\" + 0.021*\"even\" + 0.021*\"servic\" + 0.017*\"dai\" + 0.017*\"visit\" + 0.017*\"week\" + 0.016*\"rev\" + 0.015*\"home\" + 0.015*\"school\"')\n",
      "(4, '0.026*\"home\" + 0.022*\"funer\" + 0.020*\"juli\" + 0.017*\"servic\" + 0.014*\"friend\" + 0.013*\"wife\" + 0.013*\"year\" + 0.012*\"di\" + 0.012*\"held\" + 0.012*\"brother\"')\n",
      "(5, '0.033*\"sale\" + 0.028*\"land\" + 0.026*\"lot\" + 0.024*\"record\" + 0.016*\"said\" + 0.016*\"properti\" + 0.016*\"feet\" + 0.015*\"purchas\" + 0.014*\"trust\" + 0.013*\"dai\"')\n",
      "(6, '0.030*\"said\" + 0.017*\"polic\" + 0.012*\"car\" + 0.009*\"year\" + 0.009*\"report\" + 0.008*\"kill\" + 0.008*\"drive\" + 0.008*\"charg\" + 0.007*\"accid\" + 0.007*\"hour\"')\n",
      "(7, '0.080*\"counti\" + 0.039*\"court\" + 0.034*\"dai\" + 0.031*\"said\" + 0.027*\"montgomeri\" + 0.026*\"estat\" + 0.021*\"district\" + 0.018*\"notic\" + 0.018*\"person\" + 0.016*\"maryland\"')\n",
      "(8, '0.022*\"game\" + 0.017*\"plai\" + 0.016*\"team\" + 0.014*\"year\" + 0.012*\"win\" + 0.012*\"second\" + 0.011*\"won\" + 0.011*\"race\" + 0.010*\"run\" + 0.010*\"season\"')\n",
      "(9, '0.018*\"year\" + 0.008*\"cent\" + 0.008*\"work\" + 0.008*\"tax\" + 0.007*\"state\" + 0.007*\"servic\" + 0.007*\"increas\" + 0.006*\"million\" + 0.006*\"compani\" + 0.006*\"new\"')\n",
      "(10, '0.014*\"sale\" + 0.013*\"phone\" + 0.009*\"good\" + 0.008*\"size\" + 0.008*\"store\" + 0.008*\"price\" + 0.007*\"tabl\" + 0.007*\"milk\" + 0.007*\"milford\" + 0.007*\"new\"')\n",
      "(11, '0.021*\"said\" + 0.020*\"state\" + 0.014*\"senat\" + 0.011*\"vote\" + 0.011*\"presid\" + 0.011*\"democrat\" + 0.010*\"hous\" + 0.009*\"elect\" + 0.009*\"committe\" + 0.008*\"republican\"')\n",
      "(12, '0.024*\"unit\" + 0.020*\"american\" + 0.017*\"state\" + 0.014*\"world\" + 0.014*\"new\" + 0.013*\"nation\" + 0.012*\"jewish\" + 0.012*\"countri\" + 0.012*\"war\" + 0.011*\"israel\"')\n",
      "(13, '0.013*\"time\" + 0.012*\"year\" + 0.010*\"good\" + 0.010*\"like\" + 0.009*\"dai\" + 0.009*\"peopl\" + 0.007*\"come\" + 0.007*\"know\" + 0.007*\"new\" + 0.007*\"thing\"')\n",
      "(14, '0.030*\"girl\" + 0.026*\"boi\" + 0.024*\"hill\" + 0.020*\"scout\" + 0.015*\"chapel\" + 0.014*\"white\" + 0.013*\"camp\" + 0.011*\"wed\" + 0.009*\"miss\" + 0.008*\"bride\"')\n",
      "(15, '0.032*\"new\" + 0.014*\"car\" + 0.012*\"star\" + 0.011*\"ford\" + 0.010*\"white\" + 0.009*\"av\" + 0.009*\"power\" + 0.008*\"motor\" + 0.008*\"radio\" + 0.007*\"movi\"')\n",
      "(16, '0.158*\"mr\" + 0.015*\"son\" + 0.014*\"miss\" + 0.014*\"daughter\" + 0.012*\"john\" + 0.012*\"william\" + 0.009*\"jame\" + 0.009*\"guest\" + 0.008*\"robert\" + 0.008*\"georg\"')\n",
      "(17, '0.025*\"bath\" + 0.024*\"room\" + 0.019*\"bedrm\" + 0.018*\"home\" + 0.017*\"hous\" + 0.015*\"lot\" + 0.013*\"brick\" + 0.011*\"bedroom\" + 0.011*\"acr\" + 0.010*\"kit\"')\n",
      "(18, '0.025*\"air\" + 0.015*\"mile\" + 0.012*\"fish\" + 0.011*\"forc\" + 0.011*\"area\" + 0.011*\"water\" + 0.010*\"north\" + 0.010*\"boat\" + 0.010*\"plane\" + 0.009*\"navi\"')\n",
      "(19, '0.088*\"school\" + 0.026*\"high\" + 0.025*\"univers\" + 0.019*\"student\" + 0.017*\"educ\" + 0.016*\"colleg\" + 0.014*\"class\" + 0.014*\"year\" + 0.014*\"teacher\" + 0.013*\"grade\"')\n"
     ]
    }
   ],
   "source": [
    "num_topics = 20\n",
    "passes = 15\n",
    "\n",
    "temp = dictionary[0]  # This is only to \"load\" the dictionary\n",
    "id2word = dictionary.id2token\n",
    "\n",
    "lda_model = LdaModel(corpus=corpus, id2word=id2word, num_topics=num_topics,\n",
    "                     passes=passes, eval_every=None)\n",
    "topics = lda_model.print_topics()\n",
    "for topic in topics:\n",
    "    print(topic)"
   ],
   "metadata": {
    "collapsed": false,
    "ExecuteTime": {
     "end_time": "2024-02-23T02:57:45.225531Z",
     "start_time": "2024-02-23T02:55:13.119619Z"
    }
   },
   "id": "a4a2ef39d5a2ad14"
  },
  {
   "cell_type": "code",
   "execution_count": 139,
   "outputs": [
    {
     "name": "stdout",
     "output_type": "stream",
     "text": [
      "Topic 0: 8.91%\n",
      "Topic 1: 16.31%\n",
      "Topic 4: 31.02%\n",
      "Topic 8: 3.92%\n",
      "Topic 12: 6.72%\n",
      "Topic 13: 5.90%\n",
      "Topic 15: 2.66%\n",
      "Topic 16: 13.74%\n",
      "Topic 19: 9.83%\n"
     ]
    }
   ],
   "source": [
    "document_topics = lda_model.get_document_topics(corpus[68547])\n",
    "\n",
    "for topic_id, topic_proportion in document_topics:\n",
    "    print(f\"Topic {topic_id}: {topic_proportion * 100:.2f}%\")"
   ],
   "metadata": {
    "collapsed": false,
    "ExecuteTime": {
     "end_time": "2024-02-23T02:57:45.273580Z",
     "start_time": "2024-02-23T02:57:45.215970Z"
    }
   },
   "id": "931f8f9df6b196b6"
  },
  {
   "cell_type": "code",
   "execution_count": 140,
   "outputs": [
    {
     "name": "stdout",
     "output_type": "stream",
     "text": [
      "Topic 4: 2.80%\n",
      "Topic 5: 1.25%\n",
      "Topic 6: 2.20%\n",
      "Topic 8: 1.26%\n",
      "Topic 10: 1.29%\n",
      "Topic 13: 2.36%\n",
      "Topic 14: 1.21%\n",
      "Topic 15: 2.02%\n",
      "Topic 17: 82.36%\n",
      "Topic 18: 1.28%\n"
     ]
    }
   ],
   "source": [
    "document_topics = lda_model.get_document_topics(corpus[5756])\n",
    "\n",
    "for topic_id, topic_proportion in document_topics:\n",
    "    print(f\"Topic {topic_id}: {topic_proportion * 100:.2f}%\")\n"
   ],
   "metadata": {
    "collapsed": false,
    "ExecuteTime": {
     "end_time": "2024-02-23T02:57:45.274295Z",
     "start_time": "2024-02-23T02:57:45.219128Z"
    }
   },
   "id": "ede2d582f445ff5f"
  },
  {
   "cell_type": "code",
   "execution_count": 141,
   "outputs": [
    {
     "name": "stdout",
     "output_type": "stream",
     "text": [
      "Topic 0: 2.51%\n",
      "Topic 1: 6.90%\n",
      "Topic 2: 3.63%\n",
      "Topic 3: 5.60%\n",
      "Topic 4: 3.92%\n",
      "Topic 5: 2.62%\n",
      "Topic 6: 3.84%\n",
      "Topic 7: 3.01%\n",
      "Topic 8: 4.10%\n",
      "Topic 9: 8.75%\n",
      "Topic 10: 6.71%\n",
      "Topic 11: 5.50%\n",
      "Topic 12: 4.57%\n",
      "Topic 13: 8.68%\n",
      "Topic 14: 2.67%\n",
      "Topic 15: 4.87%\n",
      "Topic 16: 7.89%\n",
      "Topic 17: 6.28%\n",
      "Topic 18: 3.91%\n",
      "Topic 19: 4.04%\n"
     ]
    }
   ],
   "source": [
    "num_topics = lda_model.num_topics\n",
    "topic_coverage = np.zeros(num_topics)\n",
    "\n",
    "for doc_bow in corpus:\n",
    "    for topic_id, proportion in lda_model.get_document_topics(doc_bow, minimum_probability=0):\n",
    "        topic_coverage[topic_id] += proportion\n",
    "\n",
    "# Normalize by the number of documents to get the average coverage\n",
    "topic_coverage /= len(corpus)\n",
    "\n",
    "for topic_id, coverage in enumerate(topic_coverage):\n",
    "    print(f\"Topic {topic_id}: {coverage * 100:.2f}%\")"
   ],
   "metadata": {
    "collapsed": false,
    "ExecuteTime": {
     "end_time": "2024-02-23T02:57:56.213132Z",
     "start_time": "2024-02-23T02:57:45.222799Z"
    }
   },
   "id": "a169cb12328773cf"
  },
  {
   "cell_type": "markdown",
   "source": [
    "We could be interested in studying how topics differ across newspaper or how they change over time. For this, we need to do something similar as what we have done above, but by group (newspaper or date, for example). "
   ],
   "metadata": {
    "collapsed": false
   },
   "id": "1afde695b7737b25"
  },
  {
   "cell_type": "code",
   "execution_count": 142,
   "outputs": [],
   "source": [
    "article_counts_newspaper = df.groupby('newspaper_name').size()\n"
   ],
   "metadata": {
    "collapsed": false,
    "ExecuteTime": {
     "end_time": "2024-02-23T02:57:56.220934Z",
     "start_time": "2024-02-23T02:57:56.214762Z"
    }
   },
   "id": "73146582f9c85d85"
  },
  {
   "cell_type": "markdown",
   "source": [],
   "metadata": {
    "collapsed": false
   },
   "id": "79ba00efa842b63e"
  },
  {
   "cell_type": "code",
   "execution_count": 143,
   "outputs": [],
   "source": [
    "newspapers = df['newspaper_name'].unique()\n",
    "\n",
    "# Dictionary to hold indices for each newspaper\n",
    "indices_by_newspaper = {}\n",
    "\n",
    "for newspaper in newspapers:\n",
    "    # Filter df for articles from the current newspaper\n",
    "    articles_from_newspaper = df[df['newspaper_name'] == newspaper]\n",
    "\n",
    "    # Store the indices of these articles\n",
    "    indices_by_newspaper[newspaper] = articles_from_newspaper.index.tolist()\n"
   ],
   "metadata": {
    "collapsed": false,
    "ExecuteTime": {
     "end_time": "2024-02-23T02:57:56.381096Z",
     "start_time": "2024-02-23T02:57:56.221225Z"
    }
   },
   "id": "8875b935e9ef4be"
  },
  {
   "cell_type": "code",
   "execution_count": 144,
   "outputs": [],
   "source": [
    "# Initialize a dictionary to hold topic coverage for each newspaper\n",
    "topic_coverage_by_newspaper = {}\n",
    "\n",
    "for newspaper, indices in indices_by_newspaper.items():\n",
    "    # Initialize an array to hold topic coverage for the current newspaper\n",
    "    topic_coverage = np.zeros(num_topics)\n",
    "\n",
    "    # Calculate topic coverage for articles from the current newspaper\n",
    "    for idx in indices:\n",
    "        doc_bow = corpus[idx]  # Get the document corresponding to the current index\n",
    "        doc_topics = lda_model.get_document_topics(doc_bow, minimum_probability=0)\n",
    "        for topic_id, proportion in doc_topics:\n",
    "            topic_coverage[topic_id] += proportion\n",
    "\n",
    "    # Normalize by the number of documents from this newspaper to get the average coverage\n",
    "    topic_coverage /= len(indices)\n",
    "\n",
    "    # Store the topic coverage for the current newspaper\n",
    "    topic_coverage_by_newspaper[newspaper] = topic_coverage\n",
    "\n"
   ],
   "metadata": {
    "collapsed": false,
    "ExecuteTime": {
     "end_time": "2024-02-23T02:58:07.324701Z",
     "start_time": "2024-02-23T02:57:56.382683Z"
    }
   },
   "id": "13608502903c5f11"
  },
  {
   "cell_type": "code",
   "execution_count": 145,
   "outputs": [
    {
     "data": {
      "text/plain": "              0          1          2          3          4          5   \\\ncount  36.000000  36.000000  36.000000  36.000000  36.000000  36.000000   \nmean    0.024245   0.078411   0.030565   0.061865   0.043287   0.020508   \nstd     0.011260   0.037965   0.024540   0.043579   0.036860   0.010217   \nmin     0.003902   0.003200   0.005604   0.005913   0.011543   0.003200   \n25%     0.017833   0.054015   0.014217   0.037142   0.023334   0.012697   \n50%     0.023252   0.073044   0.022524   0.047824   0.030066   0.018444   \n75%     0.030143   0.094678   0.035077   0.077033   0.046021   0.026356   \nmax     0.062946   0.177368   0.111833   0.189680   0.189093   0.040187   \n\n              6          7          8          9          10         11  \\\ncount  36.000000  36.000000  36.000000  36.000000  36.000000  36.000000   \nmean    0.037636   0.025190   0.044826   0.097319   0.051909   0.064385   \nstd     0.015492   0.026530   0.021959   0.062441   0.037401   0.053981   \nmin     0.012804   0.005897   0.013123   0.025394   0.008923   0.008425   \n25%     0.027341   0.014039   0.026336   0.065167   0.028717   0.028283   \n50%     0.035204   0.018357   0.042141   0.082754   0.045117   0.040239   \n75%     0.044252   0.026062   0.054498   0.095078   0.064918   0.090071   \nmax     0.071202   0.159069   0.103542   0.344742   0.216357   0.224293   \n\n              12         13         14         15         16         17  \\\ncount  36.000000  36.000000  36.000000  36.000000  36.000000  36.000000   \nmean    0.047463   0.114660   0.029429   0.031164   0.087397   0.026693   \nstd     0.045424   0.066827   0.012572   0.017636   0.052042   0.027776   \nmin     0.014358   0.030438   0.010062   0.005089   0.012003   0.003493   \n25%     0.021796   0.071837   0.022960   0.018476   0.052997   0.009816   \n50%     0.034232   0.091470   0.026426   0.027067   0.075436   0.017261   \n75%     0.051981   0.132593   0.034294   0.039082   0.114635   0.028419   \nmax     0.219793   0.320446   0.061177   0.079329   0.254144   0.131168   \n\n              18         19  \ncount  36.000000  36.000000  \nmean    0.033382   0.049666  \nstd     0.019073   0.022389  \nmin     0.010045   0.017665  \n25%     0.021472   0.034203  \n50%     0.027207   0.045860  \n75%     0.038572   0.063866  \nmax     0.099032   0.119588  ",
      "text/html": "<div>\n<style scoped>\n    .dataframe tbody tr th:only-of-type {\n        vertical-align: middle;\n    }\n\n    .dataframe tbody tr th {\n        vertical-align: top;\n    }\n\n    .dataframe thead th {\n        text-align: right;\n    }\n</style>\n<table border=\"1\" class=\"dataframe\">\n  <thead>\n    <tr style=\"text-align: right;\">\n      <th></th>\n      <th>0</th>\n      <th>1</th>\n      <th>2</th>\n      <th>3</th>\n      <th>4</th>\n      <th>5</th>\n      <th>6</th>\n      <th>7</th>\n      <th>8</th>\n      <th>9</th>\n      <th>10</th>\n      <th>11</th>\n      <th>12</th>\n      <th>13</th>\n      <th>14</th>\n      <th>15</th>\n      <th>16</th>\n      <th>17</th>\n      <th>18</th>\n      <th>19</th>\n    </tr>\n  </thead>\n  <tbody>\n    <tr>\n      <th>count</th>\n      <td>36.000000</td>\n      <td>36.000000</td>\n      <td>36.000000</td>\n      <td>36.000000</td>\n      <td>36.000000</td>\n      <td>36.000000</td>\n      <td>36.000000</td>\n      <td>36.000000</td>\n      <td>36.000000</td>\n      <td>36.000000</td>\n      <td>36.000000</td>\n      <td>36.000000</td>\n      <td>36.000000</td>\n      <td>36.000000</td>\n      <td>36.000000</td>\n      <td>36.000000</td>\n      <td>36.000000</td>\n      <td>36.000000</td>\n      <td>36.000000</td>\n      <td>36.000000</td>\n    </tr>\n    <tr>\n      <th>mean</th>\n      <td>0.024245</td>\n      <td>0.078411</td>\n      <td>0.030565</td>\n      <td>0.061865</td>\n      <td>0.043287</td>\n      <td>0.020508</td>\n      <td>0.037636</td>\n      <td>0.025190</td>\n      <td>0.044826</td>\n      <td>0.097319</td>\n      <td>0.051909</td>\n      <td>0.064385</td>\n      <td>0.047463</td>\n      <td>0.114660</td>\n      <td>0.029429</td>\n      <td>0.031164</td>\n      <td>0.087397</td>\n      <td>0.026693</td>\n      <td>0.033382</td>\n      <td>0.049666</td>\n    </tr>\n    <tr>\n      <th>std</th>\n      <td>0.011260</td>\n      <td>0.037965</td>\n      <td>0.024540</td>\n      <td>0.043579</td>\n      <td>0.036860</td>\n      <td>0.010217</td>\n      <td>0.015492</td>\n      <td>0.026530</td>\n      <td>0.021959</td>\n      <td>0.062441</td>\n      <td>0.037401</td>\n      <td>0.053981</td>\n      <td>0.045424</td>\n      <td>0.066827</td>\n      <td>0.012572</td>\n      <td>0.017636</td>\n      <td>0.052042</td>\n      <td>0.027776</td>\n      <td>0.019073</td>\n      <td>0.022389</td>\n    </tr>\n    <tr>\n      <th>min</th>\n      <td>0.003902</td>\n      <td>0.003200</td>\n      <td>0.005604</td>\n      <td>0.005913</td>\n      <td>0.011543</td>\n      <td>0.003200</td>\n      <td>0.012804</td>\n      <td>0.005897</td>\n      <td>0.013123</td>\n      <td>0.025394</td>\n      <td>0.008923</td>\n      <td>0.008425</td>\n      <td>0.014358</td>\n      <td>0.030438</td>\n      <td>0.010062</td>\n      <td>0.005089</td>\n      <td>0.012003</td>\n      <td>0.003493</td>\n      <td>0.010045</td>\n      <td>0.017665</td>\n    </tr>\n    <tr>\n      <th>25%</th>\n      <td>0.017833</td>\n      <td>0.054015</td>\n      <td>0.014217</td>\n      <td>0.037142</td>\n      <td>0.023334</td>\n      <td>0.012697</td>\n      <td>0.027341</td>\n      <td>0.014039</td>\n      <td>0.026336</td>\n      <td>0.065167</td>\n      <td>0.028717</td>\n      <td>0.028283</td>\n      <td>0.021796</td>\n      <td>0.071837</td>\n      <td>0.022960</td>\n      <td>0.018476</td>\n      <td>0.052997</td>\n      <td>0.009816</td>\n      <td>0.021472</td>\n      <td>0.034203</td>\n    </tr>\n    <tr>\n      <th>50%</th>\n      <td>0.023252</td>\n      <td>0.073044</td>\n      <td>0.022524</td>\n      <td>0.047824</td>\n      <td>0.030066</td>\n      <td>0.018444</td>\n      <td>0.035204</td>\n      <td>0.018357</td>\n      <td>0.042141</td>\n      <td>0.082754</td>\n      <td>0.045117</td>\n      <td>0.040239</td>\n      <td>0.034232</td>\n      <td>0.091470</td>\n      <td>0.026426</td>\n      <td>0.027067</td>\n      <td>0.075436</td>\n      <td>0.017261</td>\n      <td>0.027207</td>\n      <td>0.045860</td>\n    </tr>\n    <tr>\n      <th>75%</th>\n      <td>0.030143</td>\n      <td>0.094678</td>\n      <td>0.035077</td>\n      <td>0.077033</td>\n      <td>0.046021</td>\n      <td>0.026356</td>\n      <td>0.044252</td>\n      <td>0.026062</td>\n      <td>0.054498</td>\n      <td>0.095078</td>\n      <td>0.064918</td>\n      <td>0.090071</td>\n      <td>0.051981</td>\n      <td>0.132593</td>\n      <td>0.034294</td>\n      <td>0.039082</td>\n      <td>0.114635</td>\n      <td>0.028419</td>\n      <td>0.038572</td>\n      <td>0.063866</td>\n    </tr>\n    <tr>\n      <th>max</th>\n      <td>0.062946</td>\n      <td>0.177368</td>\n      <td>0.111833</td>\n      <td>0.189680</td>\n      <td>0.189093</td>\n      <td>0.040187</td>\n      <td>0.071202</td>\n      <td>0.159069</td>\n      <td>0.103542</td>\n      <td>0.344742</td>\n      <td>0.216357</td>\n      <td>0.224293</td>\n      <td>0.219793</td>\n      <td>0.320446</td>\n      <td>0.061177</td>\n      <td>0.079329</td>\n      <td>0.254144</td>\n      <td>0.131168</td>\n      <td>0.099032</td>\n      <td>0.119588</td>\n    </tr>\n  </tbody>\n</table>\n</div>"
     },
     "execution_count": 145,
     "metadata": {},
     "output_type": "execute_result"
    }
   ],
   "source": [
    "topics_by_newspaper = pd.DataFrame(topic_coverage_by_newspaper).transpose()\n",
    "\n",
    "topics_by_newspaper.describe()"
   ],
   "metadata": {
    "collapsed": false,
    "ExecuteTime": {
     "end_time": "2024-02-23T02:58:07.345712Z",
     "start_time": "2024-02-23T02:58:07.326185Z"
    }
   },
   "id": "f8ab081206adbab7"
  },
  {
   "cell_type": "code",
   "execution_count": 146,
   "outputs": [
    {
     "data": {
      "text/plain": "                              0         1         2         3         4   \\\nEvening star.           0.032148  0.032176  0.017667  0.016362  0.066099   \nThe Nome nugget.        0.025340  0.053666  0.085465  0.040096  0.029863   \nMinneapolis spokesman.  0.037887  0.058415  0.019980  0.059999  0.066202   \nThe people's voice.     0.008331  0.054131  0.024851  0.007613  0.011543   \nThe frontiersman.       0.020354  0.133197  0.111833  0.042573  0.022916   \n\n                              5         6         7         8         9   \\\nEvening star.           0.031661  0.039530  0.023095  0.053344  0.085165   \nThe Nome nugget.        0.017886  0.070261  0.037791  0.032452  0.088106   \nMinneapolis spokesman.  0.017606  0.028563  0.019148  0.064656  0.062368   \nThe people's voice.     0.016446  0.029337  0.026506  0.015301  0.344742   \nThe frontiersman.       0.022570  0.025026  0.030892  0.057959  0.090339   \n\n                              10        11        12        13        14  \\\nEvening star.           0.062335  0.061745  0.048668  0.087617  0.026182   \nThe Nome nugget.        0.032465  0.095259  0.061708  0.085795  0.024869   \nMinneapolis spokesman.  0.032850  0.112006  0.045248  0.146573  0.036221   \nThe people's voice.     0.020399  0.224293  0.035814  0.072492  0.010567   \nThe frontiersman.       0.066537  0.037862  0.016095  0.054345  0.036959   \n\n                              15        16        17        18        19  \nEvening star.           0.079329  0.041176  0.131168  0.037555  0.026979  \nThe Nome nugget.        0.026278  0.055887  0.011300  0.099032  0.026480  \nMinneapolis spokesman.  0.025476  0.080568  0.029746  0.019123  0.037365  \nThe people's voice.     0.009991  0.017975  0.006459  0.021505  0.041703  \nThe frontiersman.       0.067952  0.058684  0.027976  0.030111  0.045821  ",
      "text/html": "<div>\n<style scoped>\n    .dataframe tbody tr th:only-of-type {\n        vertical-align: middle;\n    }\n\n    .dataframe tbody tr th {\n        vertical-align: top;\n    }\n\n    .dataframe thead th {\n        text-align: right;\n    }\n</style>\n<table border=\"1\" class=\"dataframe\">\n  <thead>\n    <tr style=\"text-align: right;\">\n      <th></th>\n      <th>0</th>\n      <th>1</th>\n      <th>2</th>\n      <th>3</th>\n      <th>4</th>\n      <th>5</th>\n      <th>6</th>\n      <th>7</th>\n      <th>8</th>\n      <th>9</th>\n      <th>10</th>\n      <th>11</th>\n      <th>12</th>\n      <th>13</th>\n      <th>14</th>\n      <th>15</th>\n      <th>16</th>\n      <th>17</th>\n      <th>18</th>\n      <th>19</th>\n    </tr>\n  </thead>\n  <tbody>\n    <tr>\n      <th>Evening star.</th>\n      <td>0.032148</td>\n      <td>0.032176</td>\n      <td>0.017667</td>\n      <td>0.016362</td>\n      <td>0.066099</td>\n      <td>0.031661</td>\n      <td>0.039530</td>\n      <td>0.023095</td>\n      <td>0.053344</td>\n      <td>0.085165</td>\n      <td>0.062335</td>\n      <td>0.061745</td>\n      <td>0.048668</td>\n      <td>0.087617</td>\n      <td>0.026182</td>\n      <td>0.079329</td>\n      <td>0.041176</td>\n      <td>0.131168</td>\n      <td>0.037555</td>\n      <td>0.026979</td>\n    </tr>\n    <tr>\n      <th>The Nome nugget.</th>\n      <td>0.025340</td>\n      <td>0.053666</td>\n      <td>0.085465</td>\n      <td>0.040096</td>\n      <td>0.029863</td>\n      <td>0.017886</td>\n      <td>0.070261</td>\n      <td>0.037791</td>\n      <td>0.032452</td>\n      <td>0.088106</td>\n      <td>0.032465</td>\n      <td>0.095259</td>\n      <td>0.061708</td>\n      <td>0.085795</td>\n      <td>0.024869</td>\n      <td>0.026278</td>\n      <td>0.055887</td>\n      <td>0.011300</td>\n      <td>0.099032</td>\n      <td>0.026480</td>\n    </tr>\n    <tr>\n      <th>Minneapolis spokesman.</th>\n      <td>0.037887</td>\n      <td>0.058415</td>\n      <td>0.019980</td>\n      <td>0.059999</td>\n      <td>0.066202</td>\n      <td>0.017606</td>\n      <td>0.028563</td>\n      <td>0.019148</td>\n      <td>0.064656</td>\n      <td>0.062368</td>\n      <td>0.032850</td>\n      <td>0.112006</td>\n      <td>0.045248</td>\n      <td>0.146573</td>\n      <td>0.036221</td>\n      <td>0.025476</td>\n      <td>0.080568</td>\n      <td>0.029746</td>\n      <td>0.019123</td>\n      <td>0.037365</td>\n    </tr>\n    <tr>\n      <th>The people's voice.</th>\n      <td>0.008331</td>\n      <td>0.054131</td>\n      <td>0.024851</td>\n      <td>0.007613</td>\n      <td>0.011543</td>\n      <td>0.016446</td>\n      <td>0.029337</td>\n      <td>0.026506</td>\n      <td>0.015301</td>\n      <td>0.344742</td>\n      <td>0.020399</td>\n      <td>0.224293</td>\n      <td>0.035814</td>\n      <td>0.072492</td>\n      <td>0.010567</td>\n      <td>0.009991</td>\n      <td>0.017975</td>\n      <td>0.006459</td>\n      <td>0.021505</td>\n      <td>0.041703</td>\n    </tr>\n    <tr>\n      <th>The frontiersman.</th>\n      <td>0.020354</td>\n      <td>0.133197</td>\n      <td>0.111833</td>\n      <td>0.042573</td>\n      <td>0.022916</td>\n      <td>0.022570</td>\n      <td>0.025026</td>\n      <td>0.030892</td>\n      <td>0.057959</td>\n      <td>0.090339</td>\n      <td>0.066537</td>\n      <td>0.037862</td>\n      <td>0.016095</td>\n      <td>0.054345</td>\n      <td>0.036959</td>\n      <td>0.067952</td>\n      <td>0.058684</td>\n      <td>0.027976</td>\n      <td>0.030111</td>\n      <td>0.045821</td>\n    </tr>\n  </tbody>\n</table>\n</div>"
     },
     "execution_count": 146,
     "metadata": {},
     "output_type": "execute_result"
    }
   ],
   "source": [
    "topics_by_newspaper.head(5)"
   ],
   "metadata": {
    "collapsed": false,
    "ExecuteTime": {
     "end_time": "2024-02-23T02:58:07.401793Z",
     "start_time": "2024-02-23T02:58:07.349102Z"
    }
   },
   "id": "b70cb638183c62f9"
  },
  {
   "cell_type": "markdown",
   "source": [],
   "metadata": {
    "collapsed": false
   },
   "id": "616ea93d162cbb16"
  },
  {
   "cell_type": "markdown",
   "source": [
    "Something similar to what we did above could be done using the author-topic model from Gensim. Here we would direclty modify the estimation process to take into consideration the author (in this case the newspaper). \n",
    "\n",
    "A tutorial on author-topic model is available here: https://github.com/piskvorky/gensim/blob/develop/docs/notebooks/atmodel_tutorial.ipynb"
   ],
   "metadata": {
    "collapsed": false
   },
   "id": "e8d4f44dac25ce9d"
  }
 ],
 "metadata": {
  "kernelspec": {
   "display_name": "Python 3",
   "language": "python",
   "name": "python3"
  },
  "language_info": {
   "codemirror_mode": {
    "name": "ipython",
    "version": 2
   },
   "file_extension": ".py",
   "mimetype": "text/x-python",
   "name": "python",
   "nbconvert_exporter": "python",
   "pygments_lexer": "ipython2",
   "version": "2.7.6"
  }
 },
 "nbformat": 4,
 "nbformat_minor": 5
}
