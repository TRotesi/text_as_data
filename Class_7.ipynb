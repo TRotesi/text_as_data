{
 "cells": [
  {
   "cell_type": "markdown",
   "source": [
    "# Class 7: Word Embeddings\n",
    "\n",
    "In this class, we will explore three relatively simple applications of word embeddings:\n",
    "\n",
    "1. We will begin by importing embeddings from Word2Vec to demonstrate some basic operations with them.\n",
    "2. Next, we will transition to using SpaCy and its pre-trained embeddings to implement a k-means clustering algorithm. This serves as an example of how to incorporate embeddings into a pipeline with which you are already familiar.\n",
    "3. Finally, we will use the data we have to train our own embeddings. Given that our data comes from 1858 and 1958, this will enable us to compare how the meanings of words have evolved over time. This application exemplifies a type of task that is relatively novel to us.\n"
   ],
   "metadata": {
    "collapsed": false
   },
   "id": "c881fc42c741017b"
  },
  {
   "cell_type": "markdown",
   "source": [
    "### Pre-trained Embdeddings "
   ],
   "metadata": {
    "collapsed": false
   },
   "id": "bcb2f8e06003f632"
  },
  {
   "cell_type": "markdown",
   "source": [
    "Other options available directly from Gensim include:\n",
    "- `fasttext-wiki-news-subwords-300`\n",
    "- `conceptnet-numberbatch-17-06-300`\n",
    "- `word2vec-ruscorpora-300`\n",
    "- `word2vec-google-news-300`\n",
    "- `glove-wiki-gigaword-50`\n",
    "- `glove-wiki-gigaword-100`\n",
    "- `glove-wiki-gigaword-200`\n",
    "- `glove-wiki-gigaword-300`\n",
    "- `glove-twitter-25`\n",
    "- `glove-twitter-50`\n",
    "- `glove-twitter-100`\n",
    "- `glove-twitter-200`\n",
    "\n",
    "If the code below gives you problems, you can download the file directly from here:\n",
    "[https://drive.google.com/file/d/0B7XkCwpI5KDYNlNUTTlSS21pQmM/edit?resourcekey=0-wjGZdNAUop6WykTtMip30g](https://drive.google.com/file/d/0B7XkCwpI5KDYNlNUTTlSS21pQmM/edit?resourcekey=0-wjGZdNAUop6WykTtMip30g)\n",
    "\n",
    "Then, place it in a folder and specify its path in `model_path`:\n",
    "\n",
    "```python\n",
    "# Load the pre-trained Word2Vec model (this may take some time)\n",
    "# model_path = 'YOUR_MODEL_PATH_HERE'\n",
    "# word_vectors = KeyedVectors.load_word2vec_format(model_path, binary=True)\n"
   ],
   "metadata": {
    "collapsed": false
   },
   "id": "69ea449f875b9e8b"
  },
  {
   "cell_type": "code",
   "execution_count": 57,
   "outputs": [
    {
     "name": "stdout",
     "output_type": "stream",
     "text": [
      "[ 1.07421875e-01 -2.01171875e-01  1.23046875e-01  2.11914062e-01\n",
      " -9.13085938e-02  2.16796875e-01 -1.31835938e-01  8.30078125e-02\n",
      "  2.02148438e-01  4.78515625e-02  3.66210938e-02 -2.45361328e-02\n",
      "  2.39257812e-02 -1.60156250e-01 -2.61230469e-02  9.71679688e-02\n",
      " -6.34765625e-02  1.84570312e-01  1.70898438e-01 -1.63085938e-01\n",
      " -1.09375000e-01  1.49414062e-01 -4.65393066e-04  9.61914062e-02\n",
      "  1.68945312e-01  2.60925293e-03  8.93554688e-02  6.49414062e-02\n",
      "  3.56445312e-02 -6.93359375e-02 -1.46484375e-01 -1.21093750e-01\n",
      " -2.27539062e-01  2.45361328e-02 -1.24511719e-01 -3.18359375e-01\n",
      " -2.20703125e-01  1.30859375e-01  3.66210938e-02 -3.63769531e-02\n",
      " -1.13281250e-01  1.95312500e-01  9.76562500e-02  1.26953125e-01\n",
      "  6.59179688e-02  6.93359375e-02  1.02539062e-02  1.75781250e-01\n",
      " -1.68945312e-01  1.21307373e-03 -2.98828125e-01 -1.15234375e-01\n",
      "  5.66406250e-02 -1.77734375e-01 -2.08984375e-01  1.76757812e-01\n",
      "  2.38037109e-02 -2.57812500e-01 -4.46777344e-02  1.88476562e-01\n",
      "  5.51757812e-02  5.02929688e-02 -1.06933594e-01  1.89453125e-01\n",
      " -1.16210938e-01  8.49609375e-02 -1.71875000e-01  2.45117188e-01\n",
      " -1.73828125e-01 -8.30078125e-03  4.56542969e-02 -1.61132812e-02\n",
      "  1.86523438e-01 -6.05468750e-02 -4.17480469e-02  1.82617188e-01\n",
      "  2.20703125e-01 -1.22558594e-01 -2.55126953e-02 -3.08593750e-01\n",
      "  9.13085938e-02  1.60156250e-01  1.70898438e-01  1.19628906e-01\n",
      "  7.08007812e-02 -2.64892578e-02 -3.08837891e-02  4.06250000e-01\n",
      " -1.01562500e-01  5.71289062e-02 -7.26318359e-03 -9.17968750e-02\n",
      " -1.50390625e-01 -2.55859375e-01  2.16796875e-01 -3.63769531e-02\n",
      "  2.24609375e-01  8.00781250e-02  1.56250000e-01  5.27343750e-02\n",
      "  1.50390625e-01 -1.14746094e-01 -8.64257812e-02  1.19140625e-01\n",
      " -7.17773438e-02  2.73437500e-01 -1.64062500e-01  7.29370117e-03\n",
      "  4.21875000e-01 -1.12792969e-01 -1.35742188e-01 -1.31835938e-01\n",
      " -1.37695312e-01 -7.66601562e-02  6.25000000e-02  4.98046875e-02\n",
      " -1.91406250e-01 -6.03027344e-02  2.27539062e-01  5.88378906e-02\n",
      " -3.24218750e-01  5.41992188e-02 -1.35742188e-01  8.17871094e-03\n",
      " -5.24902344e-02 -1.74713135e-03 -9.81445312e-02 -2.86865234e-02\n",
      "  3.61328125e-02  2.15820312e-01  5.98144531e-02 -3.08593750e-01\n",
      " -2.27539062e-01  2.61718750e-01  9.86328125e-02 -5.07812500e-02\n",
      "  1.78222656e-02  1.31835938e-01 -5.35156250e-01 -1.81640625e-01\n",
      "  1.38671875e-01 -3.10546875e-01 -9.71679688e-02  1.31835938e-01\n",
      " -1.16210938e-01  7.03125000e-02  2.85156250e-01  3.51562500e-02\n",
      " -1.01562500e-01 -3.75976562e-02  1.41601562e-01  1.42578125e-01\n",
      " -5.68847656e-02  2.65625000e-01 -2.09960938e-01  9.64355469e-03\n",
      " -6.68945312e-02 -4.83398438e-02 -6.10351562e-02  2.45117188e-01\n",
      " -9.66796875e-02  1.78222656e-02 -1.27929688e-01 -4.78515625e-02\n",
      " -7.26318359e-03  1.79687500e-01  2.78320312e-02 -2.10937500e-01\n",
      " -1.43554688e-01 -1.27929688e-01  1.73339844e-02 -3.60107422e-03\n",
      " -2.04101562e-01  3.63159180e-03 -1.19628906e-01 -6.15234375e-02\n",
      "  5.93261719e-02 -3.23486328e-03 -1.70898438e-01 -3.14941406e-02\n",
      " -8.88671875e-02 -2.89062500e-01  3.44238281e-02 -1.87500000e-01\n",
      "  2.94921875e-01  1.58203125e-01 -1.19628906e-01  7.61718750e-02\n",
      "  6.39648438e-02 -4.68750000e-02 -6.83593750e-02  1.21459961e-02\n",
      " -1.44531250e-01  4.54101562e-02  3.68652344e-02  3.88671875e-01\n",
      "  1.45507812e-01 -2.55859375e-01 -4.46777344e-02 -1.33789062e-01\n",
      " -1.38671875e-01  6.59179688e-02  1.37695312e-01  1.14746094e-01\n",
      "  2.03125000e-01 -4.78515625e-02  1.80664062e-02 -8.54492188e-02\n",
      " -2.48046875e-01 -3.39843750e-01 -2.83203125e-02  1.05468750e-01\n",
      " -2.14843750e-01 -8.74023438e-02  7.12890625e-02  1.87500000e-01\n",
      " -1.12304688e-01  2.73437500e-01 -3.26171875e-01 -1.77734375e-01\n",
      " -4.24804688e-02 -2.69531250e-01  6.64062500e-02 -6.88476562e-02\n",
      " -1.99218750e-01 -7.03125000e-02 -2.43164062e-01 -3.66210938e-02\n",
      " -7.37304688e-02 -1.77734375e-01  9.17968750e-02 -1.25000000e-01\n",
      " -1.65039062e-01 -3.57421875e-01 -2.85156250e-01 -1.66992188e-01\n",
      "  1.97265625e-01 -1.53320312e-01  2.31933594e-02  2.06054688e-01\n",
      "  1.80664062e-01 -2.74658203e-02 -1.92382812e-01 -9.61914062e-02\n",
      " -1.06811523e-02 -4.73632812e-02  6.54296875e-02 -1.25732422e-02\n",
      "  1.78222656e-02 -8.00781250e-02 -2.59765625e-01  9.37500000e-02\n",
      " -7.81250000e-02  4.68750000e-02 -2.22167969e-02  1.86767578e-02\n",
      "  3.11279297e-02  1.04980469e-02 -1.69921875e-01  2.58789062e-02\n",
      " -3.41796875e-02 -1.44042969e-02 -5.46875000e-02 -8.78906250e-02\n",
      "  1.96838379e-03  2.23632812e-01 -1.36718750e-01  1.75781250e-01\n",
      " -1.63085938e-01  1.87500000e-01  3.44238281e-02 -5.63964844e-02\n",
      " -2.27689743e-05  4.27246094e-02  5.81054688e-02 -1.07910156e-01\n",
      " -3.88183594e-02 -2.69531250e-01  3.34472656e-02  9.81445312e-02\n",
      "  5.63964844e-02  2.23632812e-01 -5.49316406e-02  1.46484375e-01\n",
      "  5.93261719e-02 -2.19726562e-01  6.39648438e-02  1.66015625e-02\n",
      "  4.56542969e-02  3.26171875e-01 -3.80859375e-01  1.70898438e-01\n",
      "  5.66406250e-02 -1.04492188e-01  1.38671875e-01 -1.57226562e-01\n",
      "  3.23486328e-03 -4.80957031e-02 -2.48046875e-01 -6.20117188e-02]\n"
     ]
    }
   ],
   "source": [
    "import gensim.downloader as api\n",
    "\n",
    "# Download the \"word2vec-google-news-300\" model\n",
    "word_vectors = api.load('word2vec-google-news-300') #beware  the file is 1.6GB. You may want to download versions that are smaller.\n",
    "\n",
    "# Now you can use the model\n",
    "print(word_vectors['computer'])  # Example: Get the vector for the word \"computer\""
   ],
   "metadata": {
    "collapsed": false,
    "ExecuteTime": {
     "end_time": "2024-03-08T02:51:44.335627Z",
     "start_time": "2024-03-08T02:51:21.171742Z"
    }
   },
   "id": "ced86c9bca2f4ec2"
  },
  {
   "cell_type": "code",
   "execution_count": 58,
   "outputs": [
    {
     "name": "stdout",
     "output_type": "stream",
     "text": [
      "[('queen', 0.7118192911148071), ('monarch', 0.6189674735069275), ('princess', 0.5902431011199951), ('crown_prince', 0.5499460697174072), ('prince', 0.5377321243286133), ('kings', 0.5236844420433044), ('Queen_Consort', 0.5235945582389832), ('queens', 0.5181134343147278), ('sultan', 0.5098593235015869), ('monarchy', 0.5087411403656006)]\n"
     ]
    }
   ],
   "source": [
    "result = word_vectors.most_similar(positive=['woman', 'king'], negative=['man'])\n",
    "print(result)"
   ],
   "metadata": {
    "collapsed": false,
    "ExecuteTime": {
     "end_time": "2024-03-08T02:51:47.314192Z",
     "start_time": "2024-03-08T02:51:44.335935Z"
    }
   },
   "id": "2fb2e38c1e761973"
  },
  {
   "cell_type": "code",
   "execution_count": 59,
   "outputs": [
    {
     "name": "stdout",
     "output_type": "stream",
     "text": [
      "[('italy', 0.519952118396759), ('european', 0.5075846314430237), ('italian', 0.5057743191719055), ('epl', 0.490744411945343), ('spain', 0.4888668656349182), ('england', 0.4852672219276428), ('italians', 0.4842422604560852), ('kosovo', 0.48134922981262207), ('lampard', 0.4807734787464142), ('malta', 0.4788566529750824)]\n"
     ]
    }
   ],
   "source": [
    "result = word_vectors.most_similar(positive=['france', 'rome'], negative=['paris'])\n",
    "print(result)"
   ],
   "metadata": {
    "collapsed": false,
    "ExecuteTime": {
     "end_time": "2024-03-08T02:51:47.439251Z",
     "start_time": "2024-03-08T02:51:47.311557Z"
    }
   },
   "id": "c8ca237c9505335f"
  },
  {
   "cell_type": "code",
   "execution_count": 60,
   "outputs": [
    {
     "name": "stdout",
     "output_type": "stream",
     "text": [
      "[('kings', 0.7138046622276306), ('queen', 0.6510956287384033), ('monarch', 0.6413194537162781), ('crown_prince', 0.6204219460487366), ('prince', 0.6159993410110474), ('sultan', 0.5864824056625366), ('ruler', 0.5797566771507263), ('princes', 0.5646552443504333), ('Prince_Paras', 0.5432944297790527), ('throne', 0.5422105193138123)]\n"
     ]
    }
   ],
   "source": [
    "result = word_vectors.most_similar(positive=['king'])\n",
    "print(result)"
   ],
   "metadata": {
    "collapsed": false,
    "ExecuteTime": {
     "end_time": "2024-03-08T02:51:47.477444Z",
     "start_time": "2024-03-08T02:51:47.397820Z"
    }
   },
   "id": "e9d35ff77496e87c"
  },
  {
   "cell_type": "markdown",
   "source": [
    "### Using SpaCy\n",
    "\n",
    "We will download the medium model from SpaCy, there is also a large version which should perform better."
   ],
   "metadata": {
    "collapsed": false
   },
   "id": "ca813d2cb4c20580"
  },
  {
   "cell_type": "raw",
   "source": [
    "! python -m spacy download en_core_web_md\n"
   ],
   "metadata": {
    "collapsed": false
   },
   "id": "4c9b1498dad6062e"
  },
  {
   "cell_type": "code",
   "execution_count": 61,
   "outputs": [],
   "source": [
    "import spacy\n",
    "nlp = spacy.load('en_core_web_md')"
   ],
   "metadata": {
    "collapsed": false,
    "ExecuteTime": {
     "end_time": "2024-03-08T02:51:48.377467Z",
     "start_time": "2024-03-08T02:51:47.470416Z"
    }
   },
   "id": "d3b13cf3ad674f94"
  },
  {
   "cell_type": "markdown",
   "source": [
    "This documentation and resources explore how spaCy generates embeddings, notably using FastText enhanced by Floret instead of traditional Word2Vec:\n",
    "\n",
    "- [Vectors & Similarity in spaCy](https://spacy.io/usage/linguistic-features#vectors-similarity)\n",
    "- [spaCy Vectors Builder on GitHub](https://github.com/explosion/spacy-vectors-builder)\n",
    "- [Floret Vectors by Explosion AI](https://explosion.ai/blog/floret-vectors)\n",
    "\n",
    "#### Key Highlights:\n",
    "\n",
    "- **FastText and Floret**: FastText, known for handling out-of-vocabulary (OOV) words through subword information, is further improved by Floret. Floret enhances embedding quality by efficiently merging subword and word-level data.\n",
    "\n",
    "- **Advantages**: This approach is particularly effective for texts with typos and morphologically rich languages, thanks to its subword tokenization. It's faster and manages typographical variations well.\n",
    "\n",
    "- **Limitations**: While robust for general tasks, the precision in specific contexts, like word sense disambiguation, might be slightly compromised due to subword tokenization.\n",
    "\n",
    "- **FastText vs. Word2Vec**: Unlike Word2Vec, FastText with Floret can infer embeddings for unseen words, offering broader linguistic coverage and adaptability."
   ],
   "metadata": {
    "collapsed": false
   },
   "id": "bb6f814020c05f3d"
  },
  {
   "cell_type": "code",
   "execution_count": 62,
   "outputs": [
    {
     "name": "stdout",
     "output_type": "stream",
     "text": [
      "0.6108841628588695\n",
      "0.8273442557707831\n"
     ]
    }
   ],
   "source": [
    "king = nlp('king')\n",
    "queen = nlp('queen')\n",
    "man = nlp('man')\n",
    "woman = nlp('woman')\n",
    "\n",
    "print(king.similarity(queen))\n",
    "print(man.similarity(woman))"
   ],
   "metadata": {
    "collapsed": false,
    "ExecuteTime": {
     "end_time": "2024-03-08T02:51:48.417831Z",
     "start_time": "2024-03-08T02:51:48.383254Z"
    }
   },
   "id": "80ebb1492e1cc082"
  },
  {
   "cell_type": "code",
   "execution_count": 63,
   "outputs": [
    {
     "name": "stdout",
     "output_type": "stream",
     "text": [
      "0.6108842\n",
      "0.6642982\n",
      "0.6178015\n"
     ]
    }
   ],
   "source": [
    "from sklearn.metrics.pairwise import cosine_similarity\n",
    "import numpy as np\n",
    "\n",
    "def normalize_vector(vector):\n",
    "    \"\"\"Normalize a vector to unit length.\"\"\"\n",
    "    norm = np.linalg.norm(vector)\n",
    "    if norm == 0:\n",
    "        return vector\n",
    "    return vector / norm\n",
    "\n",
    "def calculate_similarity(vector1, vector2):\n",
    "    \"\"\"Calculate cosine similarity between two vectors.\"\"\"\n",
    "    vector1_normalized = normalize_vector(vector1).reshape(1, -1)\n",
    "    vector2_normalized = normalize_vector(vector2).reshape(1, -1)\n",
    "    return cosine_similarity(vector1_normalized, vector2_normalized)[0][0]\n",
    "\n",
    "# Example tokens\n",
    "king = nlp('king').vector\n",
    "queen = nlp('queen').vector\n",
    "man = nlp('man').vector\n",
    "woman = nlp('woman').vector\n",
    "\n",
    "# Direct similarity comparisons\n",
    "print(calculate_similarity(king, queen))\n",
    "print(calculate_similarity(king-man, queen-woman))\n",
    "print(calculate_similarity(woman-man+king, queen))\n"
   ],
   "metadata": {
    "collapsed": false,
    "ExecuteTime": {
     "end_time": "2024-03-08T02:51:48.423826Z",
     "start_time": "2024-03-08T02:51:48.399461Z"
    }
   },
   "id": "cf7394905139a39d"
  },
  {
   "cell_type": "markdown",
   "source": [
    "We can notice how the parallelogram operation here is les precise than before."
   ],
   "metadata": {
    "collapsed": false
   },
   "id": "33b4eb6b80df76d3"
  },
  {
   "cell_type": "markdown",
   "source": [
    "### Import the data"
   ],
   "metadata": {
    "collapsed": false
   },
   "id": "46ebc2517d292c8"
  },
  {
   "cell_type": "code",
   "execution_count": 64,
   "outputs": [],
   "source": [
    "from datasets import load_dataset\n",
    "dataset = load_dataset(\"dell-research-harvard/AmericanStories\",\n",
    "                       \"subset_years\",\n",
    "                       year_list=[\"1858\", \"1958\"],\n",
    "                       trust_remote_code=True\n",
    "                       )"
   ],
   "metadata": {
    "collapsed": false,
    "ExecuteTime": {
     "end_time": "2024-03-08T02:51:49.904583Z",
     "start_time": "2024-03-08T02:51:48.416714Z"
    }
   },
   "id": "c6c5444d3a5759cf"
  },
  {
   "cell_type": "code",
   "execution_count": 65,
   "outputs": [
    {
     "data": {
      "text/plain": "                                          article_id newspaper_name edition  \\\n0  2_1958-07-12_p36_sn83045462_00280608804_195807...  Evening star.      01   \n1  3_1958-07-12_p36_sn83045462_00280608804_195807...  Evening star.      01   \n2  4_1958-07-12_p36_sn83045462_00280608804_195807...  Evening star.      01   \n3  5_1958-07-12_p36_sn83045462_00280608804_195807...  Evening star.      01   \n4  7_1958-07-12_p36_sn83045462_00280608804_195807...  Evening star.      01   \n\n         date page                              headline byline  \\\n0  1958-07-12  p36          you con bleach old furniture          \n1  1958-07-12  p36                    seuionts described          \n2  1958-07-12  p36  dwellings approved in prince georges          \n3  1958-07-12  p36                                                \n4  1958-07-12  p36        silver spring sloo wire avenue          \n\n                                             article  \n0  sometimes when you take on the old finish from...  \n1  new types of coverings f0r floors, walls, ceil...  \n2  recent building permits is sued by prince geor...  \n3  edward walters, bi2f b3rd ave, camp springs ow...  \n4  lovely, large brick home on beau. iaininr. ily...  ",
      "text/html": "<div>\n<style scoped>\n    .dataframe tbody tr th:only-of-type {\n        vertical-align: middle;\n    }\n\n    .dataframe tbody tr th {\n        vertical-align: top;\n    }\n\n    .dataframe thead th {\n        text-align: right;\n    }\n</style>\n<table border=\"1\" class=\"dataframe\">\n  <thead>\n    <tr style=\"text-align: right;\">\n      <th></th>\n      <th>article_id</th>\n      <th>newspaper_name</th>\n      <th>edition</th>\n      <th>date</th>\n      <th>page</th>\n      <th>headline</th>\n      <th>byline</th>\n      <th>article</th>\n    </tr>\n  </thead>\n  <tbody>\n    <tr>\n      <th>0</th>\n      <td>2_1958-07-12_p36_sn83045462_00280608804_195807...</td>\n      <td>Evening star.</td>\n      <td>01</td>\n      <td>1958-07-12</td>\n      <td>p36</td>\n      <td>you con bleach old furniture</td>\n      <td></td>\n      <td>sometimes when you take on the old finish from...</td>\n    </tr>\n    <tr>\n      <th>1</th>\n      <td>3_1958-07-12_p36_sn83045462_00280608804_195807...</td>\n      <td>Evening star.</td>\n      <td>01</td>\n      <td>1958-07-12</td>\n      <td>p36</td>\n      <td>seuionts described</td>\n      <td></td>\n      <td>new types of coverings f0r floors, walls, ceil...</td>\n    </tr>\n    <tr>\n      <th>2</th>\n      <td>4_1958-07-12_p36_sn83045462_00280608804_195807...</td>\n      <td>Evening star.</td>\n      <td>01</td>\n      <td>1958-07-12</td>\n      <td>p36</td>\n      <td>dwellings approved in prince georges</td>\n      <td></td>\n      <td>recent building permits is sued by prince geor...</td>\n    </tr>\n    <tr>\n      <th>3</th>\n      <td>5_1958-07-12_p36_sn83045462_00280608804_195807...</td>\n      <td>Evening star.</td>\n      <td>01</td>\n      <td>1958-07-12</td>\n      <td>p36</td>\n      <td></td>\n      <td></td>\n      <td>edward walters, bi2f b3rd ave, camp springs ow...</td>\n    </tr>\n    <tr>\n      <th>4</th>\n      <td>7_1958-07-12_p36_sn83045462_00280608804_195807...</td>\n      <td>Evening star.</td>\n      <td>01</td>\n      <td>1958-07-12</td>\n      <td>p36</td>\n      <td>silver spring sloo wire avenue</td>\n      <td></td>\n      <td>lovely, large brick home on beau. iaininr. ily...</td>\n    </tr>\n  </tbody>\n</table>\n</div>"
     },
     "execution_count": 65,
     "metadata": {},
     "output_type": "execute_result"
    }
   ],
   "source": [
    "df = dataset['1958'].to_pandas()\n",
    "\n",
    "df['article'] = (df['article']\n",
    "                  .str.replace('-\\n', '')  # Remove hyphenated line breaks\n",
    "                  .str.replace('\\n', ' ')  # Replace newline characters with spaces\n",
    "                  .str.lower()  # Convert to lowercase\n",
    "                  .str.strip()  # Strip leading and trailing spaces\n",
    "                  .str.replace('\\s{2,}', ' ', regex=True)  # Replace sequences of spaces with a single space\n",
    "                  )\n",
    "\n",
    "\n",
    "df['headline'] = (df['headline']\n",
    "                  .str.replace('-\\n', '')  # Remove hyphenated line breaks\n",
    "                  .str.replace('\\n', ' ')  # Replace newline characters with spaces\n",
    "                  .str.lower()  # Convert to lowercase\n",
    "                  .str.strip()  # Strip leading and trailing spaces\n",
    "                  .str.replace('\\s{2,}', ' ', regex=True)  # Replace sequences of spaces with a single space\n",
    "                  )\n",
    "\n",
    "df.head()"
   ],
   "metadata": {
    "collapsed": false,
    "ExecuteTime": {
     "end_time": "2024-03-08T02:51:51.950514Z",
     "start_time": "2024-03-08T02:51:49.905823Z"
    }
   },
   "id": "54ecd4b0ee520bf1"
  },
  {
   "cell_type": "code",
   "execution_count": 66,
   "outputs": [
    {
     "data": {
      "text/plain": "39188"
     },
     "execution_count": 66,
     "metadata": {},
     "output_type": "execute_result"
    }
   ],
   "source": [
    "len(df.loc[df['headline']==''])"
   ],
   "metadata": {
    "collapsed": false,
    "ExecuteTime": {
     "end_time": "2024-03-08T02:51:51.962571Z",
     "start_time": "2024-03-08T02:51:51.954538Z"
    }
   },
   "id": "40184b1466029ec8"
  },
  {
   "cell_type": "code",
   "execution_count": 67,
   "outputs": [],
   "source": [
    "df1 = df.loc[df['headline']!='']"
   ],
   "metadata": {
    "collapsed": false,
    "ExecuteTime": {
     "end_time": "2024-03-08T02:51:51.977585Z",
     "start_time": "2024-03-08T02:51:51.964580Z"
    }
   },
   "id": "adcd65f277efbd6"
  },
  {
   "cell_type": "raw",
   "source": [
    "\n",
    "# Load spaCy model\n",
    "nlp = spacy.load(\"en_core_web_sm\", disable=[\"parser\", \"ner\"])\n",
    "\n",
    "def preprocess_text(texts):\n",
    "    processed_texts = []\n",
    "    for doc in nlp.pipe(texts, batch_size=50):\n",
    "        processed_tokens = [\"<s>\"]  # Start-of-sentence token\n",
    "        for sent in doc.sents:\n",
    "            for token in sent:\n",
    "                if token.is_oov:  # Check if the token is OOV\n",
    "                    # Option 1: Substitute with a special token\n",
    "                    processed_tokens.append(\"<OOV>\")\n",
    "\n",
    "                    # Option 2: Substitute with the token's POS tag\n",
    "                    # processed_tokens.append(f\"<{token.pos_}>\")\n",
    "                else:\n",
    "                    processed_tokens.append(token.text.lower())  # Use the lowercase token text\n",
    "            processed_tokens.append(\"</s>\")  # End-of-sentence token\n",
    "        processed_texts.append(' '.join(processed_tokens))\n",
    "    return processed_texts"
   ],
   "metadata": {
    "collapsed": false
   },
   "id": "ac9204290f3440db"
  },
  {
   "cell_type": "raw",
   "source": [
    "df['processed_headline'] = df['headline'].apply(preprocess_text)\n",
    "df['processed_article'] = df['article'].apply(preprocess_text)"
   ],
   "metadata": {
    "collapsed": false
   },
   "id": "f5224ecd25a0e0ef"
  },
  {
   "cell_type": "markdown",
   "source": [
    "The function described above could serve as a method for preprocessing text, adhering to the guidelines outlined in our class materials. Notably, it leverages spaCy for sentence splitting—a task at which this library excels, outperforming Gensim.\n",
    "\n",
    "Should you wish to execute the code mentioned previously, please ensure to select the cells above in the notebook and set them as `code`, not `raw`, as they currently are.\n",
    "\n",
    "Given that the execution of this code can be slow, we will proceed with cleaning the data using a more expedited process, albeit with the understanding that the results could potentially be enhanced.\n",
    "\n",
    "Before we train our own embeddings, let's explore whether pre-trained embeddings could be beneficial for tasks with which we are already familiar."
   ],
   "metadata": {
    "collapsed": false
   },
   "id": "ddb72ed5d5d301d0"
  },
  {
   "cell_type": "code",
   "execution_count": 68,
   "outputs": [
    {
     "name": "stderr",
     "output_type": "stream",
     "text": [
      "/var/folders/yb/r8nfzz157g74kd6zg_3x_nch0000gn/T/ipykernel_42248/4130295400.py:6: SettingWithCopyWarning: \n",
      "A value is trying to be set on a copy of a slice from a DataFrame.\n",
      "Try using .loc[row_indexer,col_indexer] = value instead\n",
      "\n",
      "See the caveats in the documentation: https://pandas.pydata.org/pandas-docs/stable/user_guide/indexing.html#returning-a-view-versus-a-copy\n",
      "  df1['headline_vector'] = df1['headline'].apply(get_headline_vector)\n"
     ]
    }
   ],
   "source": [
    "# Function to process a headline and return its vector\n",
    "def get_headline_vector(headline):\n",
    "    return nlp(headline).vector\n",
    "\n",
    "# Apply the function to each headline and store the result\n",
    "df1['headline_vector'] = df1['headline'].apply(get_headline_vector)\n"
   ],
   "metadata": {
    "collapsed": false,
    "ExecuteTime": {
     "end_time": "2024-03-08T02:54:11.150473Z",
     "start_time": "2024-03-08T02:51:51.972080Z"
    }
   },
   "id": "efc230c8a40d7dfe"
  },
  {
   "cell_type": "code",
   "execution_count": 69,
   "outputs": [],
   "source": [
    "import numpy as np\n",
    "from sklearn.cluster import KMeans\n",
    "from sklearn.metrics import silhouette_samples, silhouette_score"
   ],
   "metadata": {
    "collapsed": false,
    "ExecuteTime": {
     "end_time": "2024-03-08T02:54:11.154877Z",
     "start_time": "2024-03-08T02:54:11.149783Z"
    }
   },
   "id": "2eb0945f77f1379e"
  },
  {
   "cell_type": "code",
   "execution_count": 70,
   "outputs": [],
   "source": [
    "X = np.array(df1['headline_vector'].tolist())\n"
   ],
   "metadata": {
    "collapsed": false,
    "ExecuteTime": {
     "end_time": "2024-03-08T02:54:11.205290Z",
     "start_time": "2024-03-08T02:54:11.152274Z"
    }
   },
   "id": "dd59c28b846e6b67"
  },
  {
   "cell_type": "code",
   "execution_count": 71,
   "outputs": [
    {
     "name": "stdout",
     "output_type": "stream",
     "text": [
      "For n_clusters = 20, The average silhouette_score is : 0.05776038393378258\n"
     ]
    },
    {
     "data": {
      "text/plain": "<Figure size 1800x700 with 1 Axes>",
      "image/png": "[encoded data removed]"
     },
     "metadata": {},
     "output_type": "display_data"
    }
   ],
   "source": [
    "import matplotlib.pyplot as plt\n",
    "import matplotlib.cm as cm\n",
    "\n",
    "range_n_clusters = [20]\n",
    "\n",
    "for n_clusters in range_n_clusters:\n",
    "    # Create a subplot\n",
    "    fig, ax1 = plt.subplots(1)\n",
    "    fig.set_size_inches(18, 7)\n",
    "\n",
    "    # Set limits for the silhouette plot\n",
    "    ax1.set_xlim([-0.1, 1])\n",
    "    # Inserting blank space between silhouette plots of individual clusters\n",
    "    ax1.set_ylim([0, len(X) + (n_clusters + 1) * 10])\n",
    "\n",
    "    # Initialize the clusterer\n",
    "    clusterer = KMeans(n_clusters=n_clusters, n_init=\"auto\", random_state=10)\n",
    "    cluster_labels = clusterer.fit_predict(X)\n",
    "\n",
    "    # The silhouette_score gives the average value for all the samples\n",
    "    silhouette_avg = silhouette_score(X, cluster_labels)\n",
    "    print(f\"For n_clusters = {n_clusters}, The average silhouette_score is : {silhouette_avg}\")\n",
    "\n",
    "    # Compute the silhouette scores for each sample\n",
    "    sample_silhouette_values = silhouette_samples(X, cluster_labels)\n",
    "\n",
    "    y_lower = 10\n",
    "    for i in range(n_clusters):\n",
    "        # Aggregate and sort silhouette scores for samples belonging to cluster i\n",
    "        ith_cluster_silhouette_values = sample_silhouette_values[cluster_labels == i]\n",
    "        ith_cluster_silhouette_values.sort()\n",
    "\n",
    "        size_cluster_i = ith_cluster_silhouette_values.shape[0]\n",
    "        y_upper = y_lower + size_cluster_i\n",
    "\n",
    "        color = cm.nipy_spectral(float(i) / n_clusters)\n",
    "        ax1.fill_betweenx(np.arange(y_lower, y_upper),\n",
    "                          0, ith_cluster_silhouette_values,\n",
    "                          facecolor=color, edgecolor=color, alpha=0.7)\n",
    "\n",
    "        # Label the silhouette plots with their cluster numbers in the middle\n",
    "        ax1.text(-0.05, y_lower + 0.5 * size_cluster_i, str(i))\n",
    "\n",
    "        # Compute the new y_lower for next plot\n",
    "        y_lower = y_upper + 10  # 10 for the 0 samples\n",
    "\n",
    "    ax1.set_title(\"The silhouette plot for the various clusters.\")\n",
    "    ax1.set_xlabel(\"The silhouette coefficient values\")\n",
    "    ax1.set_ylabel(\"Cluster label\")\n",
    "\n",
    "    # The vertical line for average silhouette score of all the values\n",
    "    ax1.axvline(x=silhouette_avg, color=\"red\", linestyle=\"--\")\n",
    "\n",
    "    ax1.set_yticks([])  # Clear the yaxis labels / ticks\n",
    "    ax1.set_xticks([-0.1, 0, 0.2, 0.4, 0.6, 0.8, 1])\n",
    "\n",
    "    plt.suptitle(f\"Silhouette analysis for KMeans clustering on sample data with n_clusters = {n_clusters}\", fontsize=14, fontweight=\"bold\")\n",
    "\n",
    "plt.show()"
   ],
   "metadata": {
    "collapsed": false,
    "ExecuteTime": {
     "end_time": "2024-03-08T02:55:29.510896Z",
     "start_time": "2024-03-08T02:54:11.213624Z"
    }
   },
   "id": "328b606a0694ffaf"
  },
  {
   "cell_type": "raw",
   "source": [],
   "metadata": {
    "collapsed": false
   },
   "id": "675196004ab5edec"
  },
  {
   "cell_type": "markdown",
   "source": [
    "#### Let's now prepare the data for 1858"
   ],
   "metadata": {
    "collapsed": false
   },
   "id": "39145d070993ed38"
  },
  {
   "cell_type": "code",
   "execution_count": 72,
   "outputs": [],
   "source": [
    "df = dataset['1858'].to_pandas()\n",
    "\n",
    "df['article'] = (df['article']\n",
    "                 .str.replace('-\\n', '')  # Remove hyphenated line breaks\n",
    "                 .str.replace('\\n', ' ')  # Replace newline characters with spaces\n",
    "                 .str.lower()  # Convert to lowercase\n",
    "                 .str.strip()  # Strip leading and trailing spaces\n",
    "                 .str.replace('\\s{2,}', ' ', regex=True)  # Replace sequences of spaces with a single space\n",
    "                 )\n",
    "\n",
    "df['headline'] = (df['headline']\n",
    "                  .str.replace('-\\n', '')  # Remove hyphenated line breaks\n",
    "                  .str.replace('\\n', ' ')  # Replace newline characters with spaces\n",
    "                  .str.lower()  # Convert to lowercase\n",
    "                  .str.strip()  # Strip leading and trailing spaces\n",
    "                  .str.replace('\\s{2,}', ' ', regex=True)  # Replace sequences of spaces with a single space\n",
    "                  )\n",
    "\n",
    "df.head()\n",
    "len(df.loc[df['headline'] == ''])\n",
    "df2 = df.loc[df['headline'] != '']"
   ],
   "metadata": {
    "collapsed": false,
    "ExecuteTime": {
     "end_time": "2024-03-08T02:55:33.305682Z",
     "start_time": "2024-03-08T02:55:29.508996Z"
    }
   },
   "id": "a68fb77e109494eb"
  },
  {
   "cell_type": "code",
   "execution_count": 73,
   "outputs": [
    {
     "data": {
      "text/plain": "59500"
     },
     "execution_count": 73,
     "metadata": {},
     "output_type": "execute_result"
    }
   ],
   "source": [
    "len(df1) #1958"
   ],
   "metadata": {
    "collapsed": false,
    "ExecuteTime": {
     "end_time": "2024-03-08T02:55:33.309975Z",
     "start_time": "2024-03-08T02:55:33.305570Z"
    }
   },
   "id": "d1cf219c27843a50"
  },
  {
   "cell_type": "code",
   "execution_count": 74,
   "outputs": [
    {
     "data": {
      "text/plain": "92025"
     },
     "execution_count": 74,
     "metadata": {},
     "output_type": "execute_result"
    }
   ],
   "source": [
    "len(df2) #1858"
   ],
   "metadata": {
    "collapsed": false,
    "ExecuteTime": {
     "end_time": "2024-03-08T02:55:33.313048Z",
     "start_time": "2024-03-08T02:55:33.308396Z"
    }
   },
   "id": "f7756fb366bddb11"
  },
  {
   "cell_type": "markdown",
   "source": [
    "### Train Embeddings\n",
    "#### Starting with 1958 Data\n",
    "To train embeddings, with a focus on data from 1958, we must consider that the model necessitates sentences as input. This requirement is outlined in [Gensim's documentation on Word2Vec](https://radimrehurek.com/gensim/models/word2vec.html). Consequently, we need to modify our standard preprocessing approach to accommodate this specification.\n"
   ],
   "metadata": {
    "collapsed": false
   },
   "id": "d92f1a9c700a7773"
  },
  {
   "cell_type": "code",
   "execution_count": 75,
   "outputs": [
    {
     "name": "stderr",
     "output_type": "stream",
     "text": [
      "[nltk_data] Downloading package punkt to /Users/trotesi/nltk_data...\n",
      "[nltk_data]   Package punkt is already up-to-date!\n"
     ]
    },
    {
     "data": {
      "text/plain": "True"
     },
     "execution_count": 75,
     "metadata": {},
     "output_type": "execute_result"
    }
   ],
   "source": [
    "import nltk\n",
    "nltk.download('punkt')"
   ],
   "metadata": {
    "collapsed": false,
    "ExecuteTime": {
     "end_time": "2024-03-08T02:55:33.330918Z",
     "start_time": "2024-03-08T02:55:33.311115Z"
    }
   },
   "id": "96d750d74b5c54c5"
  },
  {
   "cell_type": "code",
   "execution_count": 76,
   "outputs": [],
   "source": [
    "from nltk.tokenize import sent_tokenize\n",
    "df1['sentences'] = df1['article'].apply(sent_tokenize)\n"
   ],
   "metadata": {
    "collapsed": false,
    "ExecuteTime": {
     "end_time": "2024-03-08T02:55:40.021377Z",
     "start_time": "2024-03-08T02:55:33.357589Z"
    }
   },
   "id": "4b37e87aad714695"
  },
  {
   "cell_type": "code",
   "execution_count": 77,
   "outputs": [
    {
     "data": {
      "text/plain": "                                          article_id newspaper_name edition  \\\n0  2_1958-07-12_p36_sn83045462_00280608804_195807...  Evening star.      01   \n1  3_1958-07-12_p36_sn83045462_00280608804_195807...  Evening star.      01   \n2  4_1958-07-12_p36_sn83045462_00280608804_195807...  Evening star.      01   \n4  7_1958-07-12_p36_sn83045462_00280608804_195807...  Evening star.      01   \n5  12_1958-07-12_p36_sn83045462_00280608804_19580...  Evening star.      01   \n\n         date page                                           headline byline  \\\n0  1958-07-12  p36                       you con bleach old furniture          \n1  1958-07-12  p36                                 seuionts described          \n2  1958-07-12  p36               dwellings approved in prince georges          \n4  1958-07-12  p36                     silver spring sloo wire avenue          \n5  1958-07-12  p36  montgomery estate. beltsviiie, near nsa s1s,65...          \n\n                                             article  \\\n0  sometimes when you take on the old finish from...   \n1  new types of coverings f0r floors, walls, ceil...   \n2  recent building permits is sued by prince geor...   \n4  lovely, large brick home on beau. iaininr. ily...   \n5  3ioiojv-ths isiws more house for the money tha...   \n\n                                     headline_vector  \\\n0  [-1.8688599, 2.38372, -4.40284, -2.475366, -0....   \n1  [-1.632, -1.23665, 1.5318, -1.47955, 2.2774, -...   \n2  [-3.5131779, -1.008728, -0.61284, -0.65502805,...   \n4  [-2.2147598, 0.96459997, -1.6297541, 1.7818, 1...   \n5  [-1.308685, -0.7233691, -1.8345046, 0.66632575...   \n\n                                           sentences  \n0  [sometimes when you take on the old finish fro...  \n1  [new types of coverings f0r floors, walls, cei...  \n2  [recent building permits is sued by prince geo...  \n4  [lovely, large brick home on beau., iaininr., ...  \n5  [3ioiojv-ths isiws more house for the money th...  ",
      "text/html": "<div>\n<style scoped>\n    .dataframe tbody tr th:only-of-type {\n        vertical-align: middle;\n    }\n\n    .dataframe tbody tr th {\n        vertical-align: top;\n    }\n\n    .dataframe thead th {\n        text-align: right;\n    }\n</style>\n<table border=\"1\" class=\"dataframe\">\n  <thead>\n    <tr style=\"text-align: right;\">\n      <th></th>\n      <th>article_id</th>\n      <th>newspaper_name</th>\n      <th>edition</th>\n      <th>date</th>\n      <th>page</th>\n      <th>headline</th>\n      <th>byline</th>\n      <th>article</th>\n      <th>headline_vector</th>\n      <th>sentences</th>\n    </tr>\n  </thead>\n  <tbody>\n    <tr>\n      <th>0</th>\n      <td>2_1958-07-12_p36_sn83045462_00280608804_195807...</td>\n      <td>Evening star.</td>\n      <td>01</td>\n      <td>1958-07-12</td>\n      <td>p36</td>\n      <td>you con bleach old furniture</td>\n      <td></td>\n      <td>sometimes when you take on the old finish from...</td>\n      <td>[-1.8688599, 2.38372, -4.40284, -2.475366, -0....</td>\n      <td>[sometimes when you take on the old finish fro...</td>\n    </tr>\n    <tr>\n      <th>1</th>\n      <td>3_1958-07-12_p36_sn83045462_00280608804_195807...</td>\n      <td>Evening star.</td>\n      <td>01</td>\n      <td>1958-07-12</td>\n      <td>p36</td>\n      <td>seuionts described</td>\n      <td></td>\n      <td>new types of coverings f0r floors, walls, ceil...</td>\n      <td>[-1.632, -1.23665, 1.5318, -1.47955, 2.2774, -...</td>\n      <td>[new types of coverings f0r floors, walls, cei...</td>\n    </tr>\n    <tr>\n      <th>2</th>\n      <td>4_1958-07-12_p36_sn83045462_00280608804_195807...</td>\n      <td>Evening star.</td>\n      <td>01</td>\n      <td>1958-07-12</td>\n      <td>p36</td>\n      <td>dwellings approved in prince georges</td>\n      <td></td>\n      <td>recent building permits is sued by prince geor...</td>\n      <td>[-3.5131779, -1.008728, -0.61284, -0.65502805,...</td>\n      <td>[recent building permits is sued by prince geo...</td>\n    </tr>\n    <tr>\n      <th>4</th>\n      <td>7_1958-07-12_p36_sn83045462_00280608804_195807...</td>\n      <td>Evening star.</td>\n      <td>01</td>\n      <td>1958-07-12</td>\n      <td>p36</td>\n      <td>silver spring sloo wire avenue</td>\n      <td></td>\n      <td>lovely, large brick home on beau. iaininr. ily...</td>\n      <td>[-2.2147598, 0.96459997, -1.6297541, 1.7818, 1...</td>\n      <td>[lovely, large brick home on beau., iaininr., ...</td>\n    </tr>\n    <tr>\n      <th>5</th>\n      <td>12_1958-07-12_p36_sn83045462_00280608804_19580...</td>\n      <td>Evening star.</td>\n      <td>01</td>\n      <td>1958-07-12</td>\n      <td>p36</td>\n      <td>montgomery estate. beltsviiie, near nsa s1s,65...</td>\n      <td></td>\n      <td>3ioiojv-ths isiws more house for the money tha...</td>\n      <td>[-1.308685, -0.7233691, -1.8345046, 0.66632575...</td>\n      <td>[3ioiojv-ths isiws more house for the money th...</td>\n    </tr>\n  </tbody>\n</table>\n</div>"
     },
     "execution_count": 77,
     "metadata": {},
     "output_type": "execute_result"
    }
   ],
   "source": [
    "df1.head()"
   ],
   "metadata": {
    "collapsed": false,
    "ExecuteTime": {
     "end_time": "2024-03-08T02:55:40.031751Z",
     "start_time": "2024-03-08T02:55:40.027186Z"
    }
   },
   "id": "84a7173b30f2a844"
  },
  {
   "cell_type": "code",
   "execution_count": 78,
   "outputs": [
    {
     "data": {
      "text/plain": "'sometimes when you take on the old finish from a piece iof furniture with paint and varnish remover. the wood il still dark from the original stain. ii you want the wood 10 be still lighter. so it viii harmonize with newly bought fur niture, use a bleach which you can obtain from your paint dealer.'"
     },
     "execution_count": 78,
     "metadata": {},
     "output_type": "execute_result"
    }
   ],
   "source": [
    "df1.loc[0, \"article\"]"
   ],
   "metadata": {
    "collapsed": false,
    "ExecuteTime": {
     "end_time": "2024-03-08T02:55:40.035597Z",
     "start_time": "2024-03-08T02:55:40.029765Z"
    }
   },
   "id": "56ee35dbe1b70833"
  },
  {
   "cell_type": "code",
   "execution_count": 79,
   "outputs": [
    {
     "data": {
      "text/plain": "['sometimes when you take on the old finish from a piece iof furniture with paint and varnish remover.',\n 'the wood il still dark from the original stain.',\n 'ii you want the wood 10 be still lighter.',\n 'so it viii harmonize with newly bought fur niture, use a bleach which you can obtain from your paint dealer.']"
     },
     "execution_count": 79,
     "metadata": {},
     "output_type": "execute_result"
    }
   ],
   "source": [
    "df1.loc[0, \"sentences\"]\n"
   ],
   "metadata": {
    "collapsed": false,
    "ExecuteTime": {
     "end_time": "2024-03-08T02:55:40.042944Z",
     "start_time": "2024-03-08T02:55:40.034374Z"
    }
   },
   "id": "fa33a16f8292490c"
  },
  {
   "cell_type": "code",
   "execution_count": 80,
   "outputs": [],
   "source": [
    "from gensim.parsing.preprocessing import preprocess_documents\n",
    "\n",
    "sentences_1958 = []\n",
    "for doc in df1['sentences']:\n",
    "    sentences_1958 += preprocess_documents(doc)\n",
    "from random import shuffle\n",
    "shuffle(sentences_1958) # stream in sentences in random order"
   ],
   "metadata": {
    "collapsed": false,
    "ExecuteTime": {
     "end_time": "2024-03-08T02:56:02.024921Z",
     "start_time": "2024-03-08T02:55:40.092754Z"
    }
   },
   "id": "5457f56009f7ab8f"
  },
  {
   "cell_type": "code",
   "execution_count": 81,
   "outputs": [
    {
     "data": {
      "text/plain": "[['recov',\n  'gunshot',\n  'wound',\n  'suffer',\n  'month',\n  'ago',\n  'captur',\n  'hicksvil',\n  'ohio',\n  'break',\n  'ing',\n  'allen',\n  'counti',\n  'jail'],\n ['complimentari', 'american', 'educ', 'iii', 'discuss', 'complaint', 'usual'],\n ['member',\n  'friend',\n  'houston',\n  'methodist',\n  'church',\n  'gener',\n  'public',\n  'cordial',\n  'invit',\n  'attend',\n  'servic'],\n ['wall', 'bank', 'chicago', 'cepeoa', 'san', 'francisco'],\n ['past',\n  'saturdai',\n  'anderson',\n  'won',\n  'race',\n  'take',\n  'leonard',\n  'richard',\n  'cavan',\n  'week',\n  'end',\n  'sussex',\n  'delawar',\n  'page'],\n ['uisi',\n  'funer',\n  'home',\n  'rhode',\n  'island',\n  'av',\n  'servic',\n  'viii',\n  'held',\n  'wednesdai'],\n ['tax', 'col', 'lector', 'magistr', 'month'],\n ['santa', 'anita', 'exception', 'interest', 'meet', 'race', 'standpoint'],\n ['montana',\n  'elec',\n  'metcaf',\n  'rep',\n  'leroi',\n  'anderson',\n  'state',\n  'replac',\n  'reaconari',\n  'senat',\n  'hbra',\n  'bent',\n  'exampl',\n  'achev',\n  'factori',\n  'farm',\n  'feder',\n  'aid',\n  'soar',\n  'cassroom',\n  'comprehens',\n  'develop',\n  'natur',\n  'uch',\n  'yeowta',\n  'paradis',\n  'bby',\n  'provid',\n  'firm',\n  'foundat',\n  'prosper',\n  'economi',\n  'montana',\n  'northwest',\n  'state'],\n ['washington', 'club', 'run', 'poor', 'eighth', 'stand'],\n ['thank',\n  'mr',\n  'barbara',\n  'kicker',\n  'terest',\n  'talk',\n  'histori',\n  'girl',\n  'scout'],\n ['studebak', 'silver', 'hawk', 'compl', 'equip', 'black', 'grai', 'finish'],\n ['diamond',\n  'state',\n  'perform',\n  'bobbi',\n  'won',\n  'scholarship',\n  'provid',\n  'year',\n  'food',\n  'store',\n  'encourag',\n  'better',\n  'product',\n  'market',\n  'veget',\n  'farm',\n  'youth'],\n ['toric',\n  'bldg',\n  'suitabl',\n  'town',\n  'hous',\n  'adapt',\n  'tourist',\n  'home',\n  'reduc',\n  'easili',\n  'financ'],\n [],\n ['wive',\n  'club',\n  'sponsor',\n  'jango',\n  'thrift',\n  'shop',\n  'mr',\n  'vernon',\n  'simmon',\n  'jango',\n  'swnrnv',\n  'aat'],\n ['carrboro',\n  'santa',\n  'clau',\n  'visit',\n  'follow',\n  'commun',\n  'sing',\n  'plant',\n  'number'],\n ['intent', 'fire', 'adam', 'word'],\n ['bid',\n  'item',\n  'po',\n  'bid',\n  'item',\n  'raberkief',\n  'beck',\n  'constructor',\n  'fourth',\n  'av',\n  'south',\n  'seattl',\n  'washington',\n  'bid',\n  'item',\n  'bid',\n  'item',\n  'oosoo',\n  'neu',\n  'releas',\n  'cont'],\n ['farmer',\n  'need',\n  'organ',\n  'town',\n  'need',\n  'promot',\n  'close',\n  'predict',\n  'know',\n  'natur',\n  'resourc',\n  'produc',\n  'food',\n  'excess',\n  'need',\n  'futur',\n  'growth'],\n ['rumpu', 'room', 'elk', 'club', 'april'],\n ['washington',\n  'presi',\n  'dent',\n  'eisenhow',\n  'accus',\n  'russia',\n  'todai',\n  'have',\n  'disrupt',\n  'dip',\n  'lomat',\n  'prepar',\n  'sum',\n  'init',\n  'confer'],\n ['warm', 'poppi', 'truli', 'red', 'radiant', 'red'],\n ['modern', 'ronsone'],\n ['le', 'detriment', 'worker', 'antil'],\n ['held', 'tuesdai'],\n [],\n ['even', 'servic'],\n ['young', 'man', 'modern', 'household', 'ident', 'gallantri', 'evid', 'home'],\n ['bath', 'teomplet', 'atttaet', 'nishedl'],\n ['marri', 'iiv', 'year', 'ago', 'hac'],\n ['mr', 'richard', 'bailei', 'mr', 'man', 'delhi', 'children'],\n ['ano'],\n ['alaskan', 'want', 'ala', 'grow', 'remain', 'solvent', 'expand'],\n ['need',\n  'fell',\n  'lowship',\n  'christian',\n  'believ',\n  'worship',\n  'prayer',\n  'song',\n  'prais',\n  'sundai',\n  'even'],\n ['address',\n  'come',\n  'given',\n  'kenneth',\n  'meredith',\n  'respons',\n  'bailei',\n  'thoma'],\n ['locat', 'larg', 'unsubdivfd', 'tract', 'land', 'macarthur', 'blvd'],\n ['pfh',\n  'pslb',\n  'bfand',\n  'new',\n  'spa',\n  'eioua',\n  'anq',\n  'complet',\n  'differ',\n  'rambler',\n  'pull',\n  'daylisht',\n  'btmt',\n  'bath',\n  'aud',\n  'halt',\n  'twin',\n  'sise',\n  'hedrma',\n  'drivewai'],\n ['roman', 'clan'],\n ['control', 'fall', 'larg', 'hand', 'militari', 'young', 'offic'],\n ['rheem', 'liquid', 'ga', 'hot', 'water', 'heater', 'complet', 'lot', 'misc'],\n ['convers'],\n ['opposit',\n  'chang',\n  'zone',\n  'acr',\n  'tract',\n  'new',\n  'rural',\n  'residenti',\n  'light',\n  'industri',\n  'voic',\n  'public',\n  'hear',\n  'counti',\n  'council',\n  'mondai',\n  'night'],\n ['reason', 'act', 'went'],\n ['game', 'schedul'],\n ['organist'],\n ['mr',\n  'charl',\n  'roelk',\n  'entertain',\n  'famili',\n  'dinner',\n  'sundai',\n  'honor',\n  'birthdai',\n  'mr',\n  'roland',\n  'green'],\n ['offic', 'morri', 'illinoi'],\n ['hous', 'sale', 'gov', 'ernor', 'avenu', 'greenwood'],\n ['proportion',\n  'assert',\n  'tea',\n  'cher',\n  'salari',\n  'risen',\n  'nation',\n  'capita',\n  'come',\n  'pai',\n  'public',\n  'employe',\n  'wage',\n  'worker',\n  'privat',\n  'industri'],\n ['contest', 'conflict', 'ideolog'],\n ['peopl',\n  'olden',\n  'time',\n  'went',\n  'tap',\n  'wood',\n  'sort',\n  'counter',\n  'magic',\n  'intimid',\n  'evil',\n  'spirit'],\n ['parent',\n  'know',\n  'boi',\n  'girl',\n  'love',\n  'bring',\n  'home',\n  'kind',\n  'pet',\n  'local',\n  'pond',\n  'stream',\n  'lizard',\n  'ana',\n  'turtl',\n  'tadpol',\n  'snail'],\n ['visit', 'gilbert', 'mother', 'mr', 'john', 'gilbert'],\n ['mr',\n  'harri',\n  'sapp',\n  'daughter',\n  'valeri',\n  'sundai',\n  'even',\n  'caller',\n  'mir'],\n ['posit', 'involv', 'file', 'gener', 'cleric', 'natur'],\n ['plai', 'hard'],\n ['payment'],\n ['strong',\n  'wind',\n  'rain',\n  'continu',\n  'night',\n  'near',\n  'new',\n  'england',\n  'coast'],\n ['recal',\n  'earli',\n  'dai',\n  'great',\n  'depress',\n  'begin',\n  'appear',\n  'histori',\n  'repeat',\n  'point',\n  'similar'],\n [],\n ['us',\n  'zero',\n  'mul',\n  'ipl',\n  'ten',\n  'finger',\n  'earli',\n  'ameri',\n  'can',\n  'zero',\n  'number',\n  'twqnty',\n  'multipl',\n  'afa',\n  'finger',\n  'toe'],\n [],\n ['malibu', 'beach', 'film', 'coloni', 'ocean', 'high', 'wai'],\n ['navi', 'blue', 'emerald', 'green'],\n ['mr', 'clarenc', 'kemp'],\n ['vim', 'turn', 'windwaro', 'mark', 'second', 'ahead', 'hel', 'rival'],\n ['repusiiesn', 'spssi', 'asr', 'land'],\n ['looo', 'wool'],\n ['mother', 'came', 'nice', 'time'],\n ['frank', 'paroni'],\n ['russian',\n  'scientist',\n  'engin',\n  'studi',\n  'somewhat',\n  'fantast',\n  'project',\n  'bring',\n  'new',\n  'gulf',\n  'stream',\n  'bere',\n  'strait',\n  'sepsjat',\n  'siberia',\n  'alaska'],\n ['dog', 'airedal'],\n ['administr'],\n ['ground',\n  'break',\n  'ceremoni',\n  'elimin',\n  'year',\n  'plan',\n  'prepar',\n  'concern',\n  'ing',\n  'parsonag'],\n ['brought', 'plane', 'tuesdai', 'night', 'treat', 'ment'],\n ['grade',\n  'section',\n  'mr',\n  'marjori',\n  'jewel',\n  'happen',\n  'room',\n  'weather',\n  'chart',\n  'gari',\n  'isaac',\n  'jill',\n  'hazard',\n  'dai',\n  'decid'],\n ['spald'],\n ['plai',\n  'fair',\n  'squar',\n  'editor',\n  'drum',\n  'try',\n  'solv',\n  'situat',\n  'gun',\n  'possibl'],\n ['solid', 'color', 'print'],\n ['harold', 'white', 'supt'],\n ['come', 'bring', 'friend'],\n ['approxim',\n  'grant',\n  'graduat',\n  'studi',\n  'abroad',\n  'academ',\n  'year',\n  'award',\n  'inter',\n  'nation',\n  'educ',\n  'exchang',\n  'program',\n  'depart',\n  'state'],\n ['sundai', 'noon'],\n ['joek', 'poor'],\n ['wednesdai', 'june', 'barnaba', 'holi', 'communion'],\n ['orang',\n  'defens',\n  'forc',\n  'consist',\n  'naval',\n  'plane',\n  'sub',\n  'marin',\n  'tri',\n  'outwit',\n  'vader'],\n ['ntea', 'sai', 'member', 'contributor'],\n ['studi', 'northwestern', 'ucla'],\n ['fast', 'result', 'try', 'frontrersman', 'classifi'],\n [],\n ['extra'],\n ['given',\n  'hand',\n  'dav',\n  'septemb',\n  'thoma',\n  'freeman',\n  'street',\n  'seal',\n  'attest'],\n ['garrett', 'van', 'meter'],\n ['fla', 'term', 'beauti', 'lot', 'trade'],\n ['driven', 'harri', 'pownal'],\n ['robert',\n  'dunbar',\n  'montana',\n  'state',\n  'colleg',\n  'speaker',\n  'observ',\n  'disclosur',\n  'clark',\n  'counti',\n  'farmer',\n  'union',\n  'picnic',\n  'sundai',\n  'june',\n  'picnic',\n  'held',\n  'baum',\n  'ranch'],\n ['board',\n  'educ',\n  'week',\n  'express',\n  'concern',\n  'grant',\n  'beer',\n  'wine',\n  'licens',\n  'walter',\n  'johnson',\n  'high',\n  'school'],\n ['ae'],\n ['sermon', 'ill'],\n ['quick',\n  'honest',\n  'courteou',\n  'servic',\n  'real',\n  'estat',\n  'farm',\n  'state',\n  'maryland'],\n ['mr', 'micki', 'blankenship', 'tron', 'grab', 'winchest', 'gun', 'start'],\n ['board', 'includ', 'republican', 'democrat'],\n ['big', 'door', 'prize', 'special', 'price', 'merchandis'],\n ['new', 'york'],\n ['lem',\n  'juic',\n  'remov',\n  'ink',\n  'boil',\n  'ing',\n  'water',\n  'remov',\n  'coffe',\n  'stain'],\n ['addit',\n  'record',\n  'lead',\n  'er',\n  'contest',\n  'judg',\n  'citizenship',\n  'appreci',\n  'persever',\n  'resourc',\n  'sens',\n  'honor'],\n ['small',\n  'gunboat',\n  'tender',\n  'sever',\n  'damag',\n  'believ',\n  'sunk',\n  'attack',\n  'amboina',\n  'harbor',\n  'broadcast',\n  'said'],\n ['author', 'analyz', 'rsychotherapi', 'philosopt', 'librari'],\n ['wsc', 'bethel', 'charg', 'refresh'],\n ['school', 'program', 'win', 'given'],\n ['pecan',\n  'stuart',\n  'cape',\n  'fear',\n  'stuart',\n  'standard',\n  'cape',\n  'fear',\n  'better',\n  'shell',\n  'thinner',\n  'meat',\n  'shell',\n  'ratio',\n  'higher',\n  'cape',\n  'fear',\n  'good',\n  'schlei',\n  'respect',\n  'shell',\n  'cent',\n  'meat'],\n ['discov', 'excel', 'qui', 'naker', 'ned', 'putesoi'],\n ['seq', 'write', 'joe', 'harri'],\n ['obvious',\n  'action',\n  'prompt',\n  'statement',\n  'governor',\n  'fish',\n  'game',\n  'commiss',\n  'spent',\n  'monei',\n  'taxpay',\n  'long',\n  'ago',\n  'stand',\n  'street',\n  'corner',\n  'hat',\n  'hand',\n  'wear',\n  'dark',\n  'glass',\n  'sell',\n  'lead',\n  'pencil',\n  'shoe',\n  'string',\n  'daili',\n  'bread'],\n ['vancouv',\n  'tri',\n  'fairbank',\n  'alaska',\n  'burbank',\n  'calif',\n  'won',\n  'award',\n  'annual',\n  'kiwani',\n  'dog',\n  'weekend',\n  'person'],\n ['tom',\n  'river',\n  'member',\n  'woman',\n  'societi',\n  'chri',\n  'tan',\n  'servic',\n  'answer',\n  'roll',\n  'fall',\n  'meet',\n  'ing',\n  'home',\n  'mr',\n  'john',\n  'far',\n  'row',\n  'tuesdai',\n  'even'],\n ['interest',\n  'citizen',\n  'name',\n  'commun',\n  'affect',\n  'said',\n  'rout',\n  'request',\n  'public',\n  'hear',\n  'held',\n  'propos',\n  'locat',\n  'econom',\n  'effect',\n  'locat',\n  'deliv',\n  'written',\n  'request',\n  'district',\n  'engin',\n  'maryland',\n  'state',\n  'road',\n  'commiss',\n  'address',\n  'box',\n  'cumberland',\n  'dai',\n  'novemb',\n  'event',\n  'request',\n  'receiv',\n  'notic',\n  'time',\n  'place',\n  'hear',\n  'publish'],\n ['di',\n  'trict',\n  'manag',\n  'bartlett',\n  'tree',\n  'expert',\n  'help',\n  'prevent',\n  'damag',\n  'anthracnos',\n  'leaf',\n  'fungu',\n  'diseas'],\n ['monpmsni',\n  'nszo',\n  'sussan',\n  'ass',\n  'saasfl',\n  'mania',\n  'ttplitl',\n  'father',\n  'ann',\n  'sllyerman',\n  'franc',\n  'cohen'],\n ['biggest',\n  'singl',\n  'holder',\n  'insur',\n  'counti',\n  'dem',\n  'ocrat',\n  'perri',\n  'wilkinson',\n  'chairman',\n  'counti',\n  'dele',\n  'cation',\n  'gener',\n  'sembl'],\n ['solid',\n  'favorit',\n  'round',\n  'tabl',\n  'postward',\n  'califonian',\n  'adopt',\n  'littl',\n  'travi',\n  'kerr',\n  'oklahoma',\n  'gilman',\n  'seen',\n  'win',\n  'recent',\n  'start',\n  'san',\n  'fernando',\n  'stake',\n  'finish',\n  'mere',\n  'galupng'],\n ['burg', 'shall', 'held', 'mondai', 'septemb', 'offic', 'mayor', 'council'],\n ['time', 'week', 'end'],\n ['white', 'came', 'weekend', 'return', 'home', 'sundai'],\n ['make',\n  'simil',\n  'donat',\n  'retail',\n  'clerk',\n  'union',\n  'northland',\n  'pioneer',\n  'grang'],\n ['rose', 'donsh', 'modern', 'blk'],\n ['snyder',\n  'specialist',\n  'literatur',\n  'author',\n  'work',\n  'robert',\n  'burn',\n  'faculti',\n  'member',\n  'north',\n  'western',\n  'presid',\n  'emeritu'],\n ['propos',\n  'amend',\n  'charter',\n  'montgomeri',\n  'coun',\n  'maryland',\n  'notic',\n  'given',\n  'propos',\n  'amend',\n  'til',\n  'charter',\n  'montgomeri',\n  'counti',\n  'maryland',\n  'submit',\n  'voter',\n  'montgomeri',\n  'counti',\n  'maryland',\n  'approv',\n  'reject',\n  'congress',\n  'sional',\n  'elect',\n  'novemb',\n  'propos',\n  'amend',\n  'follow'],\n ['view',\n  'stock',\n  'held',\n  'amer',\n  'ican',\n  'secur',\n  'corp',\n  'control',\n  'currenc',\n  'approv',\n  'merger'],\n ['god', 'nur', 'strength'],\n ['choir',\n  'rehears',\n  'todd',\n  'tuesdai',\n  'even',\n  'promptli',\n  'member',\n  'choir',\n  'ask',\n  'rehears',\n  'anniversari',\n  'program',\n  'todd',\n  'church',\n  'plan'],\n ['spoken', 'word', 'write', 'landscap', 'scan', 'landscap', 'mar'],\n ['sailor',\n  'marin',\n  'kidnap',\n  'june',\n  'bu',\n  'ride',\n  'cuban',\n  'countrysid',\n  'grab',\n  'near',\n  'base'],\n ['webb', 'down'],\n ['fuch', 'estim', 'man', 'parti', 'reach', 'american', 'base', 'pole', 'jan'],\n ['duke',\n  'expect',\n  'stai',\n  'mid',\n  'juli',\n  'examin',\n  'alfr',\n  'vanotti',\n  'professor',\n  'lausann',\n  'univers',\n  'switzerland',\n  'lead',\n  'specialist',\n  'circulatori',\n  'diseas'],\n ['iuxueiou', 'wall', 'wall', 'carpetin'],\n ['welcom', 'attend'],\n ['dai',\n  'strike',\n  'oper',\n  'engin',\n  'end',\n  'new',\n  'paper',\n  'yesterdai',\n  'com',\n  'promis',\n  'contract',\n  'durat',\n  'wage',\n  'reopen',\n  'provis'],\n ['mr',\n  'anni',\n  'davi',\n  'seventh',\n  'street',\n  'brother',\n  'jacob',\n  'weaklei',\n  'vero',\n  'beach',\n  'fla',\n  'funer',\n  'servic',\n  'conquot'],\n ['call', 'good', 'mood'],\n ['western', 'film'],\n ['wont',\n  'clip',\n  'section',\n  'guid',\n  'bai',\n  'fish',\n  'th',\n  'leisur',\n  'sportsman'],\n ['improv', 'particular', 'branch', 'bid'],\n ['ladi', 'came', 'share', 'trick'],\n ['allow', 'newer', 'on', 'remain'],\n ['januari', 'maryland', 'univers', 'hospit', 'baltimor'],\n [],\n ['dinst'],\n ['rambler', 'bsmt'],\n ['fairbank', 'end', 'road', 'complet', 'eureka', 'mile'],\n ['gone',\n  'com',\n  'plete',\n  'detect',\n  'unbound',\n  'optim',\n  'view',\n  'henri',\n  'wale'],\n ['north', 'georgetown'],\n ['rine', 'move', 'text', 'presid', 'settlement'],\n ['genuin',\n  'john',\n  'man',\n  'vile',\n  'shingl',\n  'appli',\n  'strict',\n  'accord',\n  'anc',\n  'specif',\n  'approv'],\n ['oakwood', 'gimghoul', 'westwood', 'laurel', 'hill'],\n ['hdloa'],\n ['topdress', 'nitrogen', 'viii', 'move'],\n ['fisher', 'long', 'public', 'romanc', 'culmi', 'mate', 'big', 'wed'],\n ['clayton', 'watkin', 'clerk', 'circuit', 'court', 'montgomeri', 'counti'],\n ['peter', 'tour'],\n ['committe',\n  'compos',\n  'mr',\n  'nose',\n  'basnight',\n  'mr',\n  'hofler',\n  'billi',\n  'harrington',\n  'school',\n  'faculti'],\n ['old', 'hydramat'],\n ['bargain', 'modern', 'cottag'],\n ['social',\n  'secur',\n  'district',\n  'offic',\n  'todai',\n  'shall',\n  'chang',\n  'social',\n  'secur',\n  'law',\n  'benefit',\n  'parent',\n  'deceas',\n  'worker',\n  'children'],\n ['occas',\n  'big',\n  'chariti',\n  'fete',\n  'princess',\n  'grace',\n  'kelli',\n  'sang',\n  'sinatra',\n  'movi',\n  'high',\n  'societi',\n  'sponsor',\n  'child',\n  'ren',\n  'fund'],\n ['think'],\n ['reserv', 'june', 'mr', 'dutton', 'cannon', 'street', 'seaford'],\n ['wsc',\n  'meet',\n  'offici',\n  'board',\n  'meet',\n  'postpon',\n  'week',\n  'special',\n  'servic',\n  'held',\n  'even',\n  'church'],\n ['mgr'],\n ['thor',\n  'ground',\n  'support',\n  'equip',\n  'ment',\n  'assembl',\n  'long',\n  'beach',\n  'plant',\n  'includ',\n  'missil',\n  'fuel',\n  'systenn',\n  'launch',\n  'control',\n  'equip',\n  'missil',\n  'shelter',\n  'requir',\n  'transport'],\n ['copi',\n  'constitut',\n  'state',\n  'alaska',\n  'present',\n  'school',\n  'jack',\n  'hinckel',\n  'signer',\n  'document',\n  'soon',\n  'hung',\n  'high',\n  'school',\n  'librari'],\n ['busi',\n  'includ',\n  'plan',\n  'christma',\n  'program',\n  'follow',\n  'mem',\n  'ber',\n  'nomin',\n  'visori',\n  'board',\n  'vivian',\n  'iceland'],\n [],\n ['capitol', 'bravado'],\n ['love'],\n ['plai'],\n ['record', 'ing', 'immens', 'dramat', 'worth', 'read'],\n ['hungari',\n  'itali',\n  'turkei',\n  'yugoslavia',\n  'egypt',\n  'formosa',\n  'gaia',\n  'hong',\n  'kong',\n  'india',\n  'indonesia',\n  'japan',\n  'jordon',\n  'keyna',\n  'korea',\n  'lebanon'],\n ['mr',\n  'elizabeth',\n  'schwartz',\n  'overnight',\n  'guest',\n  'saturdai',\n  'night',\n  'sister',\n  'mr',\n  'laura',\n  'minner',\n  'famili',\n  'houston'],\n ['worship', 'servic'],\n ['bedrmss', 'bath'],\n ['mr',\n  'elver',\n  'ryan',\n  'visit',\n  'mr',\n  'fred',\n  'wall',\n  'sun',\n  'dai',\n  'afternoon'],\n ['mar', 'rideau', 'vow', 'love'],\n ['dunbar', 'chaplain', 'rev'],\n ['secret', 'admir'],\n ['journei', 'near', 'far', 'expens', 'fatigu'],\n ['leo', 'bernstein', 'agent'],\n ['prayer', 'naatin'],\n ['total',\n  'school',\n  'particip',\n  'fall',\n  'season',\n  'supervis',\n  'recreat',\n  'activ',\n  'school',\n  'fairground',\n  'dur',\n  'ing',\n  'afternoor',\n  'school',\n  'hour'],\n ['leagu',\n  'suggest',\n  'alaska',\n  'governor',\n  'appoint',\n  'fish',\n  'game',\n  'commiss',\n  'stagger',\n  'term',\n  'member',\n  'alaskan',\n  'establish',\n  'knowledg',\n  'fish',\n  'wildlif',\n  'manag'],\n ['volunt',\n  'state',\n  'hospit',\n  'depart',\n  'past',\n  'nrat',\n  'capac',\n  'deal',\n  'menml',\n  'health',\n  'tune'],\n ['hospit',\n  'cart',\n  'fridai',\n  'august',\n  'mr',\n  'hume',\n  'mr',\n  'sim',\n  'richardson'],\n ['follow',\n  'feder',\n  'approv',\n  'mon',\n  'tana',\n  'plan',\n  'program',\n  'miss',\n  'miller',\n  'state',\n  'state',\n  'mon',\n  'tana',\n  'requir',\n  'alloc',\n  'match',\n  'fund',\n  'feder',\n  'aid',\n  'obtain'],\n ['jame', 'austin', 'merriek', 'club'],\n ['mr',\n  'jack',\n  'henderson',\n  'daughter',\n  'miss',\n  'dori',\n  'henderson',\n  'long',\n  'island',\n  'spent',\n  'holldai',\n  'weekend',\n  'children',\n  'mr',\n  'gordon',\n  'rett',\n  'children',\n  'dee',\n  'tommi'],\n ['lord',\n  'sai',\n  'fear',\n  'danger',\n  'face',\n  'real',\n  'imaginari',\n  'dark',\n  'storm',\n  'come',\n  'confid',\n  'heavenii',\n  'father',\n  'walk',\n  'home',\n  'accept',\n  'jesu',\n  'christ',\n  'oul',\n  'saviour',\n  'walk'],\n [],\n ['grace', 'sutofi', 'ua', 'return'],\n ['displai', 'locat'],\n ['boi'],\n ['citizen',\n  'town',\n  'hold',\n  'gener',\n  'recept',\n  'expect',\n  'help',\n  'entertain',\n  'peopl',\n  'friend',\n  'success',\n  'parti'],\n ['larg', 'live', 'room'],\n ['like', 'plai'],\n ['voucher', 'thereof'],\n ['fenc'],\n ['cure',\n  'section',\n  'student',\n  'council',\n  'lulu',\n  'ross',\n  'school',\n  'recent',\n  'organ',\n  'student',\n  'council'],\n ['dale',\n  'eugen',\n  'friend',\n  'friend',\n  'vile',\n  'speed',\n  'greater',\n  'reason',\n  'abl',\n  'proper',\n  'exist',\n  'road',\n  'condit'],\n ['expect', 'qualifi', 'limit'],\n ['fireplac', 'sep', 'din'],\n ['sesn', 'written', 'letter', 'santa', 'given', 'parent', 'mail'],\n ['ooncluuo', 'rage', 'ouj', 'ti', 'worn', 'replac', 'heavier', 'line'],\n ['vernon', 'spent', 'weekend', 'mr', 'florenc', 'vongorr'],\n ['seven', 'year', 'scholarship', 'allot', 'montgomeri', 'counti'],\n ['gen', 'anderson', 'said', 'attempt'],\n ['love', 'bedrm'],\n ['mai', 'pastor', 'lew', 'presbyterian', 'church', 'rev'],\n ['meet',\n  'held',\n  'council',\n  'chamber',\n  'citi',\n  'hall',\n  'citi',\n  'manag',\n  'poland',\n  'state',\n  'rebuild',\n  'citi',\n  'clorina',\n  'ton',\n  'plant',\n  'destroi',\n  'recentl',\n  'bid'],\n ['panel',\n  'mr',\n  'robert',\n  'imberman',\n  'mr',\n  'irv',\n  'vogel',\n  'mr',\n  'jerri',\n  'jacob',\n  'mr',\n  'morri',\n  'slavin',\n  'panel',\n  'oppon'],\n ['attend',\n  'rehedrs',\n  'match',\n  'screen',\n  'dnalys',\n  'script',\n  'net',\n  'york',\n  'hollywood',\n  'opinion',\n  'offer',\n  'guid',\n  'area',\n  'ptetper'],\n ['tion'],\n ['invest', 'human', 'person'],\n ['door', 'high', 'store', 'center', 'main', 'portion'],\n [],\n ['bailei', 'pastor'],\n ['seat', 'perfect', 'seat'],\n ['new', 'york', 'sgt'],\n ['cabbag'],\n ['decemb', 'dinner', 'social', 'meet'],\n ['bed', 'rm', 'bath'],\n ['templ',\n  'beth',\n  'israel',\n  'mem',\n  'ciup',\n  'elect',\n  'new',\n  'director',\n  'ana',\n  'set',\n  'annual',\n  'instal',\n  'dinner',\n  'june',\n  'koko',\n  'restaur'],\n ['june', 'dover', 'health', 'unit', 'ala', 'state', 'street'],\n ['tuesdai', 'browni', 'meet', 'school'],\n ['dawson', 'rep', 'john', 'devier'],\n ['hotel',\n  'guest',\n  'took',\n  'pet',\n  'poodl',\n  'del',\n  'mar',\n  'hors',\n  'race',\n  'wear',\n  'diamond',\n  'stud',\n  'collar',\n  'decid',\n  'cramp',\n  'share',\n  'room'],\n ['got', 'scare'],\n ['accompani', 'wive'],\n ['int', 'dnnew', 'ear', 'eond'],\n ['sale',\n  'record',\n  'desk',\n  'chair',\n  'sdeed',\n  'print',\n  'philco',\n  'carrier',\n  'consol',\n  'air',\n  'condttion',\n  'truck'],\n ['repeal',\n  'levi',\n  'promis',\n  'fail',\n  'session',\n  'high',\n  'prioriti',\n  'tax',\n  'adjust',\n  'propos',\n  'sure',\n  'come',\n  'congress'],\n [],\n ['mr', 'irv', 'kaplan', 'presid', 'invit', 'newcom', 'visitor', 'attend'],\n ['tex'],\n ['acr',\n  'stock',\n  'pond',\n  'plu',\n  'room',\n  'brick',\n  'home',\n  'broken',\n  'apart',\n  'thompson',\n  'vincent'],\n ['player',\n  'enter',\n  'grand',\n  'prize',\n  'competit',\n  'held',\n  'southern',\n  'state',\n  'annual',\n  'meet',\n  'richmond'],\n ['believ'],\n ['whew'],\n ['heenei',\n  'live',\n  'laytonsvil',\n  'assist',\n  'state',\n  'attornei',\n  'walter',\n  'dawson',\n  'predecessor',\n  'alger',\n  'barbe',\n  'present',\n  'state',\n  'attornei'],\n ['interest', 'marri', 'propos'],\n ['ing', 'call', 'wednesdai', 'octob', 'accord'],\n ['seen', 'citi', 'clerk', 'offic'],\n ['aaohooa',\n  'eaoah',\n  'live',\n  'word',\n  'soc',\n  'mickei',\n  'mous',\n  'club',\n  'kartoon',\n  'karniv',\n  'got',\n  'number',\n  'weather',\n  'new',\n  'hpioneer',\n  'pete',\n  'meat',\n  'cutter',\n  'ball',\n  'disneyland',\n  'abc',\n  'wyatt',\n  'earp',\n  'abc',\n  'pat',\n  'boon',\n  'chevi',\n  'room',\n  'peopl',\n  'choic',\n  'neg',\n  'million',\n  'dollar',\n  'movi',\n  'close',\n  'thought',\n  'dai'],\n ['methodist',\n  'christma',\n  'bazaar',\n  'decor',\n  'committe',\n  'meet',\n  'mr',\n  'milton',\n  'julian'],\n ['figur',\n  'dress',\n  'tell',\n  'half',\n  'truth',\n  'figur',\n  'scale',\n  'tell',\n  'awful',\n  'truth'],\n ['keller',\n  'look',\n  'singl',\n  'class',\n  'hors',\n  'hand',\n  'meet',\n  'continu',\n  'page',\n  'eighteen'],\n [],\n ['follow', 'badg', 'award', 'skate', 'linda', 'tden', 'yvonn', 'carter'],\n ['dramat',\n  'scriptur',\n  'special',\n  'easter',\n  'instrument',\n  'music',\n  'easter',\n  'carol',\n  'sing'],\n ['festiv', 'begin', 'street', 'parad', 'term', 'mate', 'athlet', 'field'],\n ['conveyanc', 'record', 'ing', 'ste', 'purchas', 'cost'],\n ['design', 'lot', 'suuar', 'subdivis', 'meoarvei'],\n ['anp'],\n ['hill', 'lew'],\n ['peopl', 'complet', 'impun', 'reasonab', 'low', 'physiolog', 'cost'],\n ['pridgen',\n  'clerk',\n  'treasur',\n  'citi',\n  'takoma',\n  'park',\n  'earl',\n  'rhode',\n  'director',\n  'public'],\n ['man', 'pref'],\n ['suzann', 'bodin'],\n [],\n ['mr',\n  'derrickson',\n  'surviv',\n  'daughter',\n  'mr',\n  'jenni',\n  'pusei',\n  'washington',\n  'grandchildren',\n  'great',\n  'grandchildren'],\n ['ontario', 'kei'],\n ['overw', 'nter', 'produc', 'good'],\n ['said',\n  'singl',\n  'concess',\n  'possibl',\n  'dividu',\n  'pride',\n  'moral',\n  'servic',\n  'submit',\n  'program'],\n ['report', 'sourc', 'point'],\n ['fisher', 'applianc', 'milford', 'delawar'],\n ['mere',\n  'intimaton',\n  'scandal',\n  'subsequ',\n  'refut',\n  'suffici',\n  'cruelti',\n  'public',\n  'servant'],\n ['saturdai',\n  'sth',\n  'small',\n  'identifi',\n  'call',\n  'dagsboro',\n  'compani',\n  'come',\n  'reed',\n  'street',\n  'frankford'],\n ['posit', 'certifi', 'check', 'set', 'payabl', 'treasur'],\n [],\n ['bui', 'adult', 'continu', 'page'],\n ['wish', 'express', 'deepest', 'approb', 'rel'],\n ['lst', 'floor', 'finish', 'room', 'bath'],\n ['direct', 'comdr'],\n ['new',\n  'york',\n  'celest',\n  'holm',\n  'star',\n  'fear',\n  'audi',\n  'enc',\n  'benefit',\n  'perform'],\n ['cahal', 'clark', 'street', 'store', 'harrington'],\n ['christ', 'salvat', 'sin'],\n ['loe'],\n ['given', 'hand', 'dai', 'septemb', 'frederick'],\n ['row', 'boat', 'footer'],\n ['kit'],\n ['cent', 'park', 'fee', 'assur', 'car', 'continu', 'page'],\n ['french', 'door', 'lead', 'color', 'patio', 'finish', 'rec'],\n [],\n ['true', 'joi', 'obedi', 'god'],\n ['mean', 'state', 'servic', 'expand', 'meet', 'need', 'peopi'],\n ['liam'],\n ['guest', 'expect'],\n ['eliza', 'beth', 'bovello'],\n ['stand', 'think', 'ond', 'ueein', 'beord', 'hope', 'wnsn', 'bad', 'feor'],\n ['dai',\n  'tomorrow',\n  'august',\n  'farm',\n  'worker',\n  'seek',\n  'ing',\n  'temporari',\n  'crop',\n  'work',\n  'tor',\n  'perman',\n  'employ',\n  'farm',\n  'ask',\n  'regist',\n  'employ',\n  'locat',\n  'servic',\n  'offer',\n  'fall',\n  'peopl',\n  'area',\n  'charg',\n  'extend',\n  'period',\n  'need'],\n ['town',\n  'manag',\n  'rex',\n  'gil',\n  'announc',\n  'follow',\n  'meet',\n  'town',\n  'council',\n  'fridai',\n  'night',\n  'fridai',\n  'fourth',\n  'juli',\n  'holidai',\n  'normal',\n  'garbag',\n  'trash',\n  'collect',\n  'instead',\n  'thursdai',\n  'juli',\n  'town',\n  'crew',\n  'dai',\n  'holidai',\n  'normal',\n  'opera',\n  'tion',\n  'resum',\n  'mondai',\n  'juli',\n  'georg',\n  'wright',\n  'repres',\n  'offic',\n  'town',\n  'attornei',\n  'david',\n  'buckson',\n  'present',\n  'bring',\n  'council',\n  'date',\n  'proceed',\n  'clarenc',\n  'down',\n  'properti'],\n ['good',\n  'health',\n  'look',\n  'hadn',\n  'sick',\n  'dai',\n  'life',\n  'group',\n  'friend',\n  'gave',\n  'sur',\n  'prise',\n  'housewarm',\n  'mr',\n  'william',\n  'morton',\n  'wednesdai',\n  'even',\n  'ton',\n  'new',\n  'home'],\n ['sss', 'sss'],\n ['arkansa', 'gov'],\n ['darkest',\n  'hour',\n  'man',\n  'life',\n  'sit',\n  'plan',\n  'monei',\n  'earn',\n  'mr',\n  'june',\n  'morri',\n  'entertain',\n  'aunt',\n  'new',\n  'york',\n  'grandmoth',\n  'norwai'],\n ['odsesssocka',\n  'twelvsi',\n  'tb',\n  'saiiotlp',\n  'tlhirti',\n  'sfsiosa',\n  'sci',\n  'tss',\n  'snd',\n  'shd',\n  'premis',\n  'stg',\n  'design',\n  'lot',\n  'number',\n  'eiehti',\n  'squar',\n  'term',\n  'sold',\n  'subject',\n  'prior',\n  'deed',\n  'trust',\n  'approxim',\n  'particular',\n  'announc',\n  'time',\n  'sale',\n  'purchas',\n  'price',\n  'said',\n  'trust',\n  'paid',\n  'cash'],\n ['miif', 'gfon'],\n ['conn', 'peggi', 'brother'],\n ['seattl', 'thenedr', 'pennsyl', 'tsr', 'continu', 'page'],\n ['ment', 'tine'],\n ['white', 'eleph', 'refresh'],\n ['monthli', 'allow', 'base', 'tut', 'tion', 'pai'],\n ['arl', 'rm'],\n ['output', 'grade', 'dairi', 'farm', 'repr', 'sent', 'farm', 'famili'],\n ['easi', 'financ'],\n ['park', 'linton', 'wai', 'lst', 'av', 'nue', 'avenu'],\n [],\n ['exactli',\n  'situat',\n  'secretari',\n  'state',\n  'dull',\n  'week',\n  'strove',\n  'balanc',\n  'fight',\n  'attack',\n  'press',\n  'polici',\n  'communist',\n  'china',\n  'back',\n  'assert',\n  'sovereignti',\n  'offshor',\n  'island',\n  'quemoi',\n  'matsu',\n  'presid',\n  'invit',\n  'pei',\n  'ping',\n  'regim',\n  'negoti',\n  'peac',\n  'abl',\n  'solut',\n  'peril',\n  'situat'],\n ['aim',\n  'bring',\n  'date',\n  'properti',\n  'valuat',\n  'cial',\n  'said',\n  'uncheck',\n  'year'],\n ['shore', 'patrol', 'said', 'grenad', 'contain', 'half', 'pound', 'tint'],\n ['carton', 'wrap', 'heavi', 'paper', 'secur', 'ti', 'strong', 'twine'],\n ['appropri',\n  'renam',\n  'letpsic',\n  'germani',\n  'import',\n  'european',\n  'fur',\n  'trad',\n  'ing',\n  'center',\n  'present',\n  'dai',\n  'smyrna',\n  'assum',\n  'name',\n  'portant',\n  'seaport',\n  'turkei',\n  'naca',\n  'hac',\n  'luosc',\n  'dcalcfc',\n  'ludl',\n  'select',\n  'biblic',\n  'background',\n  'contact',\n  'smyrna'],\n ['recip',\n  'porter',\n  'hospit',\n  'crepe',\n  'suzett',\n  'egg',\n  'cup',\n  'flour',\n  'larg',\n  'tablespoon',\n  'butter',\n  'melt',\n  'teaspoon',\n  'vanilla',\n  'cup',\n  'milk'],\n ['main', 'differ', 'evolv', 'gill', 'breath'],\n ['detach', 'rage', 'excel', 'condit'],\n ['morri'],\n ['skin', 'indic', 'anim', 'size', 'medium', 'size', 'colli'],\n ['bridal', 'coupl'],\n ['said'],\n ['rita'],\n ['titl', 'hoo', 'sundai', 'sermon', 'preach', 'rev'],\n ['shoe', 'scrambl', 'girl', 'lover', 'lb'],\n ['takoma', 'park', 'mayor', 'georg', 'miller', 'throp', 'smith'],\n ['blue'],\n ['understand',\n  'truste',\n  'viii',\n  'sell',\n  'public',\n  'auction',\n  'prsnllssa',\n  'efhnuarx',\n  'lnn',\n  'clock',\n  'follow',\n  'tssg',\n  'saint',\n  'enc',\n  'pssmiss',\n  'cesmp',\n  'ssnassa',\n  'ssasss',\n  'sse',\n  'susdi',\n  'yision',\n  'steuaft',\n  'flrethef',\n  'plat',\n  'record',\n  'lhi',\n  'surveyor',\n  'thl',\n  'district',\n  'columbia',\n  'liber',\n  'folio',\n  'subject',\n  'festrietiqni',\n  'coven',\n  'record',\n  'rrrme',\n  'eeld',\n  'subject',\n  'prle'],\n ['mr',\n  'william',\n  'lynch',\n  'tue',\n  'dai',\n  'decemb',\n  'afternoon',\n  'mr',\n  'johnson'],\n ['base', 'hit', 'stubb', 'dale', 'strahl', 'dalla', 'greenle'],\n ['classroom',\n  'abandon',\n  'bethesda',\n  'elemcntari',\n  'school',\n  'floor',\n  'threaten',\n  'collaps'],\n ['worship', 'prayer', 'song', 'prais', 'sundai', 'even'],\n ['alumni', 'friend', 'invit'],\n ['eagl', 'ey', 'sensit', 'ear', 'associ', 'press', 'david', 'wilki'],\n [],\n [],\n ['spent', 'thursdai', 'sister'],\n ['william',\n  'mosher',\n  'chairman',\n  'chem',\n  'istri',\n  'depart',\n  'univers',\n  'delawar'],\n ['outlook',\n  'extens',\n  'statehood',\n  'ty',\n  'theme',\n  'annual',\n  'lferanc',\n  'univers',\n  'hlaska',\n  'cooper',\n  'extens',\n  'serwlc',\n  'program',\n  'chairman',\n  'jame',\n  'matthew',\n  'fairbank',\n  'area',\n  'agri',\n  'rnliural',\n  'agent',\n  'larg',\n  'announ',\n  'rea',\n  'confer',\n  'haia',\n  'septemb',\n  'oeto',\n  'campu',\n  'uni',\n  'verhifv',\n  'colleg'],\n ['forieit', 'deposit', 'truste', 'avail'],\n ['car', 'swerv', 'sharpli', 'gust', 'wind'],\n ['west',\n  'virginia',\n  'state',\n  'polic',\n  'keyser',\n  'tuesdai',\n  'night',\n  'apprehend',\n  'year',\n  'old',\n  'hatchet',\n  'man',\n  'want',\n  'connect',\n  'sault',\n  'elk',\n  'garden',\n  'woman'],\n ['mr',\n  'sumner',\n  'underw',\n  'sur',\n  'gerri',\n  'time',\n  'mr',\n  'summer',\n  'stai',\n  'berkelei',\n  'happi',\n  'wife',\n  'home',\n  'said',\n  'rev'],\n ['sharp', 'door', 'open'],\n [],\n ['junior', 'scholast', 'week'],\n ['harri', 'smith', 'arthur', 'hudson', 'kent', 'counti'],\n ['shovel', 'hoe', 'small', 'beam', 'scale', 'thing', 'numer', 'mention'],\n ['thing',\n  'advic',\n  'compet',\n  'physician',\n  'recommend',\n  'right',\n  'kind',\n  'shoe'],\n ['john', 'greek'],\n ['mr', 'helen', 'deacon', 'accept', 'membership', 'auxiliari'],\n ['waterg',\n  'roman',\n  'carniv',\n  'overtur',\n  'berlioa',\n  'concerto',\n  'ershwini',\n  'peer',\n  'gynl',\n  'suit',\n  'reig',\n  'adagio',\n  'ballet',\n  'fortieth',\n  'parallel',\n  'jenkin',\n  'march',\n  'siav',\n  'tchaikovski'],\n [],\n ['abbott', 'preach'],\n ['white',\n  'sheep',\n  'famili',\n  'schedul',\n  'run',\n  'novemb',\n  'parish',\n  'hall',\n  'christ',\n  'episcop',\n  'church',\n  'south',\n  'washington',\n  'support',\n  'actor',\n  'includ',\n  'jean',\n  'everhart',\n  'hodg',\n  'smith'],\n [],\n ['dopplegang', 'potter'],\n ['new', 'rambler'],\n ['chiearo'],\n ['painter', 'hard', 'work', 'build'],\n ['ladi'],\n ['robert', 'young', 'stor'],\n ['charl',\n  'rockwel',\n  'ho',\n  'promin',\n  'activ',\n  'civic',\n  'enterpris',\n  'deyelop',\n  'sue',\n  'eess',\n  'busi',\n  'phoenix'],\n ['bsmt', 'ic', 'level', 'fenc', 'lot'],\n ['mass', 'junior', 'leagu', 'princ', 'greenvil', 'janet', 'haskel', 'miami'],\n ['tue', 'dai', 'thursdai'],\n ['mr', 'freda', 'neuer'],\n [],\n ['parent', 'quiri', 'een', 'teen', 'program', 'welcom'],\n ['fevefit', 'stori'],\n ['mr',\n  'david',\n  'mill',\n  'children',\n  'cross',\n  'point',\n  'mich',\n  'ligon',\n  'famili',\n  'thanksgiv'],\n ['compani',\n  'head',\n  'allen',\n  'vessel',\n  'presid',\n  'vessel',\n  'rehoboth',\n  'beach',\n  'secretari',\n  'treasur'],\n ['anchorag',\n  'jame',\n  'bert',\n  'paul',\n  'kunnuk',\n  'peter',\n  'mia',\n  'mari',\n  'page',\n  'iren',\n  'kakaruk',\n  'churchward',\n  'georg',\n  'bayer',\n  'jack',\n  'vim',\n  'henslei',\n  'cliff',\n  'holm'],\n ['den'],\n ['poni',\n  'ride',\n  'hddi',\n  'special',\n  'attract',\n  'crusad',\n  'lutheran',\n  'church',\n  'bazaar',\n  'novem',\n  'ber',\n  'veir'],\n ['millionair', 'industrialist', 'farm', 'hand', 'prosper', 'small'],\n ['electron', 'ey', 'low', 'mileag', 'perfect', 'condit'],\n ['special',\n  'committe',\n  'recogn',\n  'veral',\n  'respons',\n  'board',\n  'educ',\n  'school',\n  'admin',\n  'ation',\n  'polici',\n  'proce',\n  're',\n  'tend',\n  'improv',\n  'damag',\n  'lie',\n  'condit',\n  'gener',\n  'atmospher',\n  'nder',\n  'staff',\n  'work'],\n ['water',\n  'bag',\n  'umpir',\n  'game',\n  'incid',\n  'got',\n  'stop',\n  'terror',\n  'year',\n  'said'],\n ['desk', 'sideboard', 'sette', 'mirror'],\n ['augustu', 'selbi', 'presid', 'germantown', 'bank', 'vice', 'presid'],\n ['moochi', 'troubl'],\n ['reader', 'wonder', 'situat', 'affect', 'oil', 'invest'],\n ['new',\n  'smyrna',\n  'fla',\n  'children',\n  'passeng',\n  'runawai',\n  'plane',\n  'bounc',\n  'ross',\n  'municip',\n  'airport',\n  'ye',\n  'terdai',\n  'nose',\n  'wood',\n  'area',\n  'short',\n  'distanc',\n  'field'],\n ['miss',\n  'gibson',\n  'team',\n  'maria',\n  'bueno',\n  'brazil',\n  'gain',\n  'women',\n  'doubl',\n  'semifin'],\n ['usher',\n  'includ',\n  'franci',\n  'dill',\n  'brother',\n  'bride',\n  'charl',\n  'west',\n  'gene',\n  'wilei',\n  'brother',\n  'law',\n  'groom',\n  'theodor',\n  'yerk'],\n ['bryant', 'smith', 'drove', 'hilton'],\n ['vacanc', 'second', 'session'],\n ['diaz', 'condit'],\n ['sing'],\n ['hospit',\n  'spokesman',\n  'said',\n  'hoover',\n  'condit',\n  'liveri',\n  'satisfactori',\n  'time',\n  'chang'],\n ['nome', 'citi', 'council'],\n ['liv'],\n ['undersign',\n  'offer',\n  'public',\n  'sale',\n  'late',\n  'resid',\n  'edward',\n  'bailei',\n  'deceas',\n  'north',\n  'west',\n  'street',\n  'milford',\n  'delawar'],\n ['ghost',\n  'goblin',\n  'trick',\n  'treat',\n  'penni',\n  'nickel',\n  'dime',\n  'help',\n  'fund',\n  'provid',\n  'medicin',\n  'food',\n  'million',\n  'children',\n  'world'],\n ['wolli', 'cox', 'stor'],\n ['robertson',\n  'drink',\n  'chatterbar',\n  'titl',\n  'capit',\n  'ladi',\n  'major',\n  'bowl',\n  'leagu',\n  'lock'],\n ['choic', 'style', 'tick', 'famou', 'simmon', 'mattress', 'box', 'spring'],\n ['ing',\n  'better',\n  'commun',\n  'wish',\n  'reader',\n  'courag',\n  'wisdom',\n  'determin',\n  'continu',\n  'old',\n  'job',\n  'new',\n  'year'],\n ['linen', 'cloth', 'soft', 'strong'],\n ['featur', 'entertain'],\n ['live', 'soda', 'drink', 'chees', 'father', 'sent', 'town', 'bui'],\n ['new', 'york', 'cotton', 'futur', 'move', 'higher', 'ground', 'week'],\n ['better',\n  'boi',\n  'ohn',\n  'foster',\n  'dull',\n  'time',\n  'travel',\n  'form',\n  'world',\n  'toler',\n  'imprison',\n  'citizen',\n  'sec',\n  'ond',\n  'releas',\n  'detain'],\n ['dore', 'cogswel'],\n ['manor', 'countri', 'club'],\n ['survivor', 'husband'],\n ['rabbi', 'carol', 'klein'],\n ['alex'],\n ['nomin', 'committe', 'compris', 'mr', 'sam', 'webb'],\n ['hour', 'accid', 'bodi', 'jack', 'sham', 'burger'],\n ['consist',\n  'sfter',\n  'laud',\n  'subvers',\n  'cast',\n  'ridicul',\n  'individu',\n  'lifetim',\n  'good',\n  'american',\n  'support',\n  'presid',\n  'record',\n  'sound',\n  'moral',\n  'queston'],\n ['student', 'gra', 'duat', 'island', 'school', 'live', 'area'],\n ['john', 'hood'],\n ['tcdd',\n  'chapel',\n  'have',\n  'niver',\n  'sari',\n  'servic',\n  'sundai',\n  'novemb',\n  'todd',\n  'chapel',\n  'grew',\n  'meet',\n  'ing',\n  'held',\n  'home',\n  'widow',\n  'jump',\n  'levin',\n  'todd'],\n ['larg', 'live', 'room'],\n ['million',\n  'civil',\n  'defens',\n  'siren',\n  'won',\n  'sound',\n  'saturdai',\n  'continu',\n  'gentleman',\n  'agreement',\n  'caus',\n  'remain',\n  'silent',\n  'time',\n  'saturdai',\n  'august',\n  'end'],\n ['peopl', 'daili'],\n ['brent',\n  'bozel',\n  'republican',\n  'candid',\n  'hous',\n  'deleg',\n  'told',\n  'support',\n  'american',\n  'legion',\n  'hall',\n  'rock',\n  'vile',\n  'mondai',\n  'night',\n  'elect',\n  'introduc',\n  'legisl',\n  'resolut',\n  'petit',\n  'congress',\n  'return',\n  'power',\n  'deni',\n  'recent',\n  'suprem',\n  'court',\n  'decis',\n  'commumist',\n  'case'],\n ['ssu'],\n ['curti'],\n [],\n ['florida', 'owner', 'sell'],\n ['record', 'largest', 'loan', 'grant', 'tue'],\n ['profit',\n  'busi',\n  'start',\n  'small',\n  'scale',\n  'built',\n  'larg',\n  'profit',\n  'annual'],\n ['affair', 'sponsor', 'chamber', 'commerc'],\n ['glass', 'ag', 'group'],\n ['peopl',\n  'develop',\n  'interest',\n  'carri',\n  'later',\n  'year',\n  'mr',\n  'king',\n  'said'],\n ['charl', 'lofiand', 'di', 'mon', 'dai', 'morn', 'linger', 'ill', 'ness'],\n ['mr',\n  'aldr',\n  'roger',\n  'karen',\n  'springfield',\n  'spent',\n  'thursdai',\n  'sundai',\n  'afternoon',\n  'mother',\n  'mr',\n  'elsi',\n  'hickman'],\n ['edwurd', 'ciuddea', 'sundai', 'juli', 'sundai', 'school'],\n ['kid'],\n ['given', 'hand', 'dai', 'septemb'],\n [],\n ['mean', 'make', 'far', 'month', 'salesman', 'work', 'hard'],\n ['member',\n  'alaska',\n  'legi',\n  'lativ',\n  'council',\n  'meet',\n  'nome',\n  'week',\n  'inform',\n  'territori',\n  'revenu',\n  'come',\n  'encourag',\n  'pace',\n  'soft',\n  'spot',\n  'financ',\n  'pictur'],\n ['district', 'agent', 'said', 'week'],\n ['harold', 'orendorf', 'famili'],\n ['lb'],\n ['late', 'vacant', 'spot', 'bed', 'plant', 'mir', 'vapaa', 'sai'],\n ['window',\n  'room',\n  'decor',\n  'turkei',\n  'bulletin',\n  'board',\n  'hal',\n  'pictur',\n  'indian',\n  'pill'],\n ['sold',\n  'wool',\n  'unshorn',\n  'lamb',\n  'april',\n  'chanc',\n  'earn',\n  'payment',\n  'feder',\n  'wool',\n  'incent',\n  'program',\n  'georg',\n  'simpson',\n  'houston',\n  'chairman',\n  'delawar',\n  'agricultur',\n  'steril',\n  'conserv',\n  'committe',\n  'remind',\n  'farmer',\n  'todai'],\n ['opinion',\n  'advanc',\n  'time',\n  'fals',\n  'alarm',\n  'stand',\n  'prankster',\n  'justifi',\n  'put',\n  'fals',\n  'alarm'],\n ['cheechako',\n  'club',\n  'regular',\n  'meet',\n  'held',\n  'home',\n  'salli',\n  'harrison',\n  'septemb',\n  'bernic',\n  'lynn',\n  'hostess'],\n ['mr',\n  'frank',\n  'shapiro',\n  'chairman',\n  'recentlysform',\n  'lew',\n  'men',\n  'tai',\n  'health',\n  'committe',\n  'nounc',\n  'meet',\n  'open',\n  'public',\n  'interest',\n  'cordial',\n  'vite'],\n ['group', 'sing', 'led', 'bancroft'],\n ['wall', 'area', 'surround', 'win', 'dow', 'shadow'],\n ['retir', 'univers', 'maryland', 'professor'],\n ['arlineton', 'gee'],\n ['award',\n  'ger',\n  'tific',\n  'merit',\n  'club',\n  'presid',\n  'round',\n  'tabl',\n  'kansa',\n  'citi',\n  'missouri',\n  'recognit',\n  'represent',\n  'gwen',\n  'citizen',\n  'missouri',\n  'air',\n  'forc',\n  'associaton',\n  'present',\n  'senat',\n  'symington',\n  'gener'],\n ['youngest',\n  'player',\n  'win',\n  'publinx',\n  'titl',\n  'le',\n  'bolstad',\n  'new',\n  'golf',\n  'coach',\n  'univers',\n  'minnesota'],\n ['mr',\n  'joseph',\n  'wagner',\n  'mr',\n  'luther',\n  'wagner',\n  'daughter',\n  'susan',\n  'spent',\n  'saturdai',\n  'even',\n  'mr',\n  'john',\n  'hay',\n  'children'],\n ['heart', 'perfect', 'pstre', 'oil', 'ram', 'portrait', 'past', 'die'],\n ['sal', 'best', 'eifef'],\n ['neat', 'dress', 'stress', 'contrast', 'previou', 'dai'],\n ['worship', 'servic', 'rev'],\n ['lowest', 'mark', 'receiv', 'satisfactori'],\n ['nittani',\n  'nudel',\n  'beard',\n  'best',\n  'us',\n  'shore',\n  'line',\n  'humid',\n  'higher'],\n ['sea', 'level', 'calcul', 'mospher', 'billion', 'time', 'dens'],\n ['thursdai',\n  'even',\n  'choir',\n  'practic',\n  'loyal',\n  'worker',\n  'cla',\n  'hold',\n  'busi',\n  'meet',\n  'home',\n  'mr',\n  'william',\n  'benson',\n  'tuesdai',\n  'even',\n  'februari',\n  'textword',\n  'justifi'],\n ['graveyard',\n  'appear',\n  'town',\n  'kenai',\n  'fool',\n  'travel',\n  'pass',\n  'der',\n  'ground',\n  'lie',\n  'kei',\n  'unlock',\n  'futur',\n  'state',\n  'alaska'],\n ['letter',\n  'heart',\n  'tient',\n  'hospit',\n  'past',\n  'week',\n  'return',\n  'home',\n  'earlier',\n  'dai'],\n ['rai',\n  'kirwan',\n  'senior',\n  'junior',\n  'choir',\n  'special',\n  'number',\n  'minist',\n  'deliv',\n  'sermon'],\n ['father', 'dai', 'june'],\n ['larri', 'rem', 'ner', 'pastor', 'felton', 'methodist', 'church', 'offici'],\n ['secretari', 'renne', 'barn', 'treasur', 'franci', 'dinkl'],\n ['nov', 'hill', 'hall'],\n ['self', 'unwant'],\n [],\n ['free',\n  'telenlslon',\n  'sun',\n  'deck',\n  'aunderett',\n  'floor',\n  'modern',\n  'coffek',\n  'shop',\n  'phone',\n  'room',\n  'hotkt'],\n ['cromwel', 'bertram'],\n ['csytesmes',\n  'scirmki',\n  'eprgt',\n  'oisesgt',\n  'eettass',\n  'fieoisssshleaila',\n  'isssi',\n  'esailalrp',\n  'isrsht',\n  'pennsyigania',\n  'avenu'],\n ['provision', 'member', 'junior', 'leagu', 'wash', 'ton'],\n ['learn', 'new', 'danc', 'swell', 'time'],\n ['board', 'work', 'mem', 'circl', 'meet', 'june'],\n ['lighi', 'eiiyafi', 'eort', 'geqh', 'alli', 'motor'],\n ['new', 'power', 'mower'],\n ['decemb', 'sundai', 'school', 'preach', 'servic', 'rev'],\n ['linhf',\n  'tagnnr',\n  'tnv',\n  'trout',\n  'ltaph',\n  'flun',\n  'tin',\n  'tahhlpi',\n  'tea',\n  'rhia',\n  'hanf',\n  'bench',\n  'isanvetr',\n  'nell',\n  'discoveri',\n  'lfeaantr',\n  'royal'],\n ['revenu', 'stamp'],\n ['begin', 'juli', 'ic', 'milford', 'school', 'open', 'noon'],\n ['line',\n  'oak',\n  'tabl',\n  'chair',\n  'chrome',\n  'wood',\n  'kitchen',\n  'set',\n  'singl',\n  'dou',\n  'bile',\n  'white',\n  'util',\n  'cabinet',\n  'cabinet',\n  'base',\n  'wringer',\n  'washer',\n  'easi',\n  'spindryer',\n  'washer',\n  'refriger',\n  'ga',\n  'stove',\n  'small',\n  'norg',\n  'refriger',\n  'freezer',\n  'electr',\n  'roaster',\n  'motorola',\n  'consol',\n  'mahogani',\n  'phil',\n  'phonograph',\n  'oil',\n  'burner',\n  'mahogani',\n  'knee',\n  'hole',\n  'desk',\n  'mahogani',\n  'winthrop',\n  'desk',\n  'chair'],\n ['said', 'plea', 'like', 'heard', 'commusist', 'rule', 'land'],\n ['new',\n  'wai',\n  'recreat',\n  'shelter',\n  'design',\n  'citi',\n  'rockvil',\n  'architect',\n  'john',\n  'henri',\n  'sullivan'],\n ['burial', 'union', 'cemeteri', 'georgetown'],\n ['discuss', 'recent', 'public', 'build', 'research', 'institut'],\n ['edwin',\n  'hukk',\n  'ava',\n  'white',\n  'joe',\n  'nelson',\n  'harvei',\n  'weller',\n  'carol',\n  'tanner'],\n ['sundai',\n  'eskimo',\n  'sport',\n  'held',\n  'yesterdai',\n  'nomerama',\n  'theater',\n  'usual',\n  'larg',\n  'crowd',\n  'enjoi',\n  'fun',\n  'winner',\n  'blanket',\n  'toss',\n  'sammi',\n  'ahwinona',\n  'valeri',\n  'adam',\n  'bertha',\n  'macnamani'],\n ['hostess',\n  'mr',\n  'dolli',\n  'pinkston',\n  'asst',\n  'housekeep',\n  'women',\n  'pioneer',\n  'mr',\n  'polli',\n  'anna',\n  'swearingen'],\n ['todai',\n  'film',\n  'lectur',\n  'seri',\n  'path',\n  'art',\n  'nation',\n  'galleri',\n  'art',\n  'clock',\n  'win',\n  'gothic',\n  'viii',\n  'given',\n  'mar'],\n ['old', 'grade', 'welsh', 'palomino', 'stallion', 'old', 'reg'],\n ['houf'],\n ['tonight', 'high', 'tomorrow'],\n ['home',\n  'wait',\n  'wash',\n  'pet',\n  'fed',\n  'motheir',\n  'modern',\n  'conyeni',\n  'time',\n  'sort',\n  'thing',\n  'grandma'],\n ['lcdr',\n  'van',\n  'limburgh',\n  'singl',\n  'highest',\n  'award',\n  'present',\n  'member',\n  'com',\n  'nuniti',\n  'naval',\n  'station',\n  'annual',\n  'boi',\n  'scout',\n  'recognit',\n  'dinner',\n  'held',\n  'elk',\n  'club'],\n ['panel',\n  'discuss',\n  'elementari',\n  'school',\n  'read',\n  'program',\n  'follow',\n  'answer',\n  'question',\n  'present'],\n ['condit', 'improv'],\n ['tourist',\n  'committe',\n  'ask',\n  'citi',\n  'permiss',\n  'hold',\n  'bon',\n  'sand',\n  'spit',\n  'statehood',\n  'grant'],\n ['mot', 'bit', 'repli'],\n ['weather',\n  'record',\n  'report',\n  'follow',\n  'weather',\n  'condit',\n  'milford',\n  'record',\n  'instrument',\n  'locat',\n  'lake',\n  'view',\n  'avenu',\n  'week',\n  'begin',\n  'ming',\n  'thursdai'],\n [],\n ['dynamit',\n  'blast',\n  'cap',\n  'plode',\n  'hand',\n  'littl',\n  'girl',\n  'yesterdai',\n  'plai'],\n ['bu'],\n ['speed',\n  'plant',\n  'fall',\n  'plant',\n  'thing',\n  'establish',\n  'cold',\n  'weather',\n  'complet',\n  'soon',\n  'possibl'],\n ['wilson',\n  'john',\n  'score',\n  'victori',\n  'yesterdai',\n  'summer',\n  'basketbal',\n  'leagu',\n  'sponsor',\n  'jelleff',\n  'branch',\n  'boi',\n  'club',\n  'washington'],\n ['deposit', 'requir', 'conveyanc', 'record', 'regenu', 'stamp', 'pureha'],\n ['year',\n  'old',\n  'winner',\n  'youngest',\n  'scholarship',\n  'recipi',\n  'year',\n  'old',\n  'paula',\n  'mckai',\n  'daughter',\n  'mr',\n  'robert',\n  'lincoln',\n  'mckai',\n  'rockvil',\n  'won',\n  'observ',\n  'disclosur',\n  'nsal',\n  'scholarship',\n  'winner',\n  'receiv',\n  'year',\n  'ballet',\n  'scholarship'],\n ['steyer', 'respons', 'famili', 'herd', 'year'],\n ['come', 'great', 'pictur'],\n ['th', 'continu', 'page', 'sevsn'],\n ['live',\n  'rose',\n  'mari',\n  'hill',\n  'drive',\n  'silver',\n  'spring',\n  'chose',\n  'bright',\n  'blue',\n  'silk',\n  'shantung',\n  'fabric',\n  'doubl',\n  'breast',\n  'coachmen',\n  'dress'],\n ['stafford', 'broker', 'west', 'main', 'street', 'middletown', 'delawar'],\n ['postmast',\n  'mari',\n  'goldsborough',\n  'ask',\n  'cooper',\n  'patron',\n  'smyrna',\n  'post',\n  'offic',\n  'come',\n  'christma',\n  'rush',\n  'compli',\n  'follow',\n  'request'],\n ['place', 'issu', 'astoria'],\n ['move',\n  'pictur',\n  'color',\n  'shown',\n  'william',\n  'irwin',\n  'ing',\n  'scene',\n  'tom',\n  'thumb',\n  'wed',\n  'asburi',\n  'church',\n  'june'],\n ['paintinf', 'ceram', 'wood', 'carv', 'sort', 'handicraft'],\n ['colorless', 'odorless', 'ga'],\n [],\n ['pour',\n  'liter',\n  'gladi',\n  'benevol',\n  'god',\n  'watt',\n  'cens',\n  'greater',\n  'hap',\n  'piness',\n  'deeper',\n  'seren',\n  'life'],\n ['mr',\n  'sidnei',\n  'cuckman',\n  'alan',\n  'fern',\n  'north',\n  'extend',\n  'friend',\n  'hearti',\n  'wish',\n  'good',\n  'health',\n  'content',\n  'new',\n  'year'],\n ['clark', 'rena', 'corgatelli', 'opal', 'green', 'jim', 'beati'],\n ['kpainslbi', 'isb', 'thirti', 'clock'],\n ['new', 'process', 'appli', 'garment', 'press', 'problem', 'decreas'],\n ['mr',\n  'john',\n  'ost',\n  'tacoma',\n  'wash',\n  'announc',\n  'marriag',\n  'daughter',\n  'mona',\n  'leona',\n  'rev'],\n ['catch',\n  'king',\n  'crab',\n  'ambl',\n  'backward',\n  'hold',\n  'fish',\n  'boat',\n  'stare',\n  'periscop',\n  'ey'],\n ['fortifi', 'manur', 'treat', 'fol', 'weed', 'heavi', 'mat'],\n ['have',\n  'erect',\n  'partli',\n  'log',\n  'decemb',\n  'william',\n  'swain',\n  'donat',\n  'church',\n  'site',\n  'road',\n  'evan',\n  'saw',\n  'deep',\n  'creek',\n  'board',\n  'truste'],\n ['ew'],\n ['famili',\n  'primari',\n  'stitut',\n  'main',\n  'object',\n  'soil',\n  'stewardship',\n  'famili',\n  'strength',\n  'uniti',\n  'uniqu',\n  'relationship',\n  'exist',\n  'famili',\n  'us',\n  'sell',\n  'land',\n  'us',\n  'effici',\n  'udg',\n  'materi',\n  'yield',\n  'spiritu',\n  'social',\n  'valu',\n  'benefit',\n  'diyidu',\n  'famili',\n  'societi'],\n ['joyc', 'wyatt', 'year', 'queen'],\n ['borough', 'constitut', 'provid', 'alaska', 'divid', 'borough'],\n ['averag', 'dai', 'kill', 'collis', 'automobil'],\n ['welcom', 'inquiri', 'glad', 'time', 'sincer'],\n ['aasc',\n  'read',\n  'sign',\n  'carri',\n  'union',\n  'member',\n  'try',\n  'suad',\n  'fellow',\n  'employe',\n  'pension',\n  'room',\n  'younger',\n  'worker',\n  'furlough'],\n ['hartack',\n  'crutch',\n  'break',\n  'leg',\n  'ken',\n  'lucki',\n  'stai',\n  'home',\n  'charl',\n  'town',\n  'hope',\n  'ride',\n  'month'],\n ['special',\n  'note',\n  'ad',\n  'plan',\n  'us',\n  'automobil',\n  'shop',\n  'trip',\n  'whine',\n  'ion'],\n ['son',\n  'georg',\n  'wilson',\n  'mar',\n  'guerit',\n  'wilson',\n  'garland',\n  'kline',\n  'robert',\n  'peter',\n  'mari',\n  'baylor',\n  'peter',\n  'mari',\n  'norri',\n  'martha',\n  'burdett',\n  'john',\n  'oxlei',\n  'mami',\n  'plummer',\n  'mabel',\n  'mullen',\n  'samuel',\n  'hallman',\n  'evelyn',\n  'hallman',\n  'upton',\n  'hallman',\n  'chester',\n  'mcknight',\n  'ger',\n  'trude',\n  'mcknight',\n  'evelyn',\n  'smith',\n  'simon',\n  'smith',\n  'harri',\n  'welsh',\n  'elizabeth',\n  'mcdonald',\n  'neil',\n  'mcdonald',\n  'henri',\n  'crutchfield',\n  'elizabeth',\n  'brown'],\n ['bert', 'jump', 'augustu', 'lindal', 'sic'],\n ['miss',\n  'ethel',\n  'perri',\n  'instructor',\n  'physic',\n  'educ',\n  'dormitorv',\n  'counselor',\n  'freshman',\n  'women'],\n ['love', 'eontempofari', 'modern', 'hous'],\n ['messr',\n  'fred',\n  'john',\n  'cal',\n  'houn',\n  'twin',\n  'son',\n  'mr',\n  'john',\n  'calhoun',\n  'ocean',\n  'view',\n  'celebr',\n  'birthdai',\n  'fridai',\n  'even',\n  'entertain',\n  'boi',\n  'cousin'],\n ['rutherford', 'shullei'],\n ['ftnrd',\n  'mlth',\n  'ltn',\n  'maan',\n  'bat',\n  'thr',\n  'naval',\n  'ammunit',\n  'itepot',\n  'oah'],\n ['william',\n  'mosher',\n  'chairman',\n  'chemistri',\n  'depart',\n  'ment',\n  'univers',\n  'delawar'],\n ['bast', 'place', 'dress'],\n ['pasteur'],\n ['order', 'delrai', 'chevi', 'fuel', 'inject', 'like', 'blue', 'flame'],\n ['cya', 'film', 'martin', 'luther', 'prn', 'gospel', 'hour'],\n ['got', 'year', 'ago'],\n ['hour'],\n ['individuai', 'thermostat', 'bedrm', 'bath', 'eountri', 'size', 'kit'],\n ['announc',\n  'tht',\n  'servic',\n  'sai',\n  'famili',\n  'mr',\n  'ada',\n  'trawick',\n  'culbreth',\n  'request',\n  'flower'],\n ['continu', 'page', 'sikh'],\n ['clerk',\n  'type',\n  'oe',\n  'public',\n  'contact',\n  'cleric',\n  'hour',\n  'dai',\n  'week',\n  'downtown',\n  'air',\n  'condit',\n  'build',\n  'clerk',\n  'typist',\n  'downtown',\n  'air',\n  'condit',\n  'field',\n  'agci',\n  'elk'],\n ['record',\n  'convers',\n  'paper',\n  'show',\n  'lack',\n  'knowledg',\n  'peopl',\n  'gener',\n  'art'],\n ['roll', 'individu', 'scienc', 'joyc', 'wilgu'],\n ['sander',\n  'said',\n  'grant',\n  'guarante',\n  'home',\n  'loan',\n  'vetern',\n  'strict',\n  'requir',\n  'builder',\n  'grade',\n  'properti',\n  'properli',\n  'instal',\n  'adequ',\n  'drainag',\n  'facil'],\n ['chemic', 'failout', 'damag', 'car'],\n ['west', 'hadlev'],\n ['blous',\n  'beauti',\n  'season',\n  'loos',\n  'drawn',\n  'instanc',\n  'cool',\n  'overblous',\n  'varieti',\n  'team',\n  'usual',\n  'skirt'],\n ['wednesdai', 'even', 'prayer', 'meet'],\n ['major', 'present', 'press', 'faith', 'dai', 'match', 'russian', 'field'],\n ['mr', 'harold', 'wickham', 'past', 'presid', 'serv', 'marshal', 'ceremoni'],\n ['entri',\n  'mail',\n  'council',\n  'madison',\n  'av',\n  'detroit',\n  'mich',\n  'later',\n  'kivel',\n  'nurs',\n  'home',\n  'lii',\n  'brari',\n  'seek',\n  'contribut',\n  'book',\n  'record',\n  'album'],\n ['nehru', 'spoke', 'member', 'nation', 'committe', 'secretari', 'gener'],\n ['execut',\n  'director',\n  'princ',\n  'georg',\n  'chamber',\n  'commerc',\n  'new',\n  'presid',\n  'maryland',\n  'council',\n  'chamber',\n  'commerc'],\n ['hesit',\n  'advoc',\n  'better',\n  'road',\n  'better',\n  'school',\n  'bet',\n  'ter',\n  'playground',\n  'better',\n  'light',\n  'citi',\n  'balanc',\n  'budget',\n  'mean',\n  'cleaner',\n  'street',\n  'better',\n  'ard',\n  'polic',\n  'protect',\n  'good',\n  'sew',\n  'ct',\n  'adequ',\n  'water',\n  'pick',\n  'hat',\n  'sure',\n  'vote',\n  'getter'],\n ['ford', 'grown', 'victoria', 'hard'],\n ['fridai', 'moi', 'end'],\n ['countri',\n  'blood',\n  'free',\n  'men',\n  'stain',\n  'ballot',\n  'sheet',\n  'wht',\n  'shall',\n  'carelessli',\n  'mark'],\n ['tee',\n  'tour',\n  'includ',\n  'trip',\n  'aae',\n  'springer',\n  'visit',\n  'hugh',\n  'adam',\n  'farm'],\n ['receiv',\n  'star',\n  'final',\n  'prize',\n  'classificaton',\n  'entrant',\n  'sub',\n  'nit',\n  'origin',\n  'neg',\n  'print'],\n ['unsign'],\n ['saturdai',\n  'march',\n  'clock',\n  'rain',\n  'shine',\n  'offer',\n  'public',\n  'sale',\n  'home',\n  'mile',\n  'milton',\n  'mile',\n  'harbeson',\n  'cave',\n  'neck',\n  'road',\n  'near',\n  'diamond',\n  'hors',\n  'farm',\n  'follow',\n  'ing',\n  'bedroom',\n  'suit',\n  'chair',\n  'tabl',\n  'couch',\n  'oil',\n  'burner',\n  'complet',\n  'toilet',\n  'set',\n  'pot',\n  'pan',\n  'write',\n  'desk',\n  'dresser',\n  'cupboard',\n  'rock',\n  'chair'],\n [],\n ['kit'],\n ['need', 'alud'],\n ['mr',\n  'harri',\n  'quillen',\n  'daughter',\n  'inga',\n  'georgetown',\n  'spent',\n  'sundai',\n  'parent',\n  'mr',\n  'quillen'],\n [],\n ['briar',\n  'patch',\n  'honei',\n  'suckl',\n  'thicket',\n  'natur',\n  'cover',\n  'destroi',\n  'gentleman',\n  'farmer',\n  'clean',\n  'fenc',\n  'row',\n  'cattl',\n  'graze',\n  'game',\n  'commiss'],\n ['near', 'school', 'store', 'buse'],\n [],\n ['total', 'deposit', 'liabil', 'si', 'total', 'liabil', 'capit', 'account'],\n ['cit', 'period', 'score'],\n ['staff',\n  'member',\n  'weekli',\n  'london',\n  'england',\n  'unit',\n  'press',\n  'intern',\n  'went',\n  'month',\n  'charlott',\n  'charlott',\n  'obj',\n  'server'],\n ['seafofd',\n  'parent',\n  'teacher',\n  'sociat',\n  'invit',\n  'attend',\n  'meet',\n  'thursdai'],\n ['south', 'bend', 'ind'],\n ['desir',\n  'express',\n  'honor',\n  'neil',\n  'fralei',\n  'thank',\n  'approb',\n  'courtesi',\n  'extend',\n  'term'],\n ['cow',\n  'england',\n  'needl',\n  'lighthous',\n  'isl',\n  'wight',\n  'rock',\n  'base',\n  'lighthous',\n  'unit',\n  'kingdom',\n  'equip',\n  'televis'],\n ['houston', 'black'],\n ['joseph'],\n ['ststel'],\n ['gibraltar'],\n ['offset',\n  'dip',\n  'consider',\n  'extent',\n  'record',\n  'shipment',\n  'feed',\n  'grain',\n  'soybean'],\n ['high', 'bulk', 'busiasn', 'end'],\n ['rais', 'burden', 'surplu', 'consum', 'bui', 'bui', 'us'],\n ['pilgrimag',\n  'begin',\n  'short',\n  'program',\n  'lew',\n  'yacht',\n  'club',\n  'follow',\n  'picnic',\n  'lunch'],\n ['outsid', 'bulletin', 'board', 'insid', 'bulletin', 'board'],\n ['juneau',\n  'action',\n  'taken',\n  'local',\n  'bar',\n  'associ',\n  'alaska',\n  'ask',\n  'alaska',\n  'bar',\n  'associ',\n  'board',\n  'governor',\n  'rescind',\n  'elect',\n  'law',\n  'member',\n  'state',\n  'alaska',\n  'judici',\n  'council',\n  'meet',\n  'nome',\n  'learn',\n  'week'],\n ['dinner', 'serv', 'lawn'],\n ['woodi', 'lee', 'box', 'daytona', 'beach'],\n ['guin', 'present', 'oscar', 'outstand', 'formanc', 'bridg'],\n ['editori', 'dai', 'royalti', 'fine', 'item'],\n ['davi', 'powel', 'thought'],\n ['real', 'estat', 'sold', 'clock'],\n ['freshli', 'decor'],\n ['canada', 'given', 'attend', 'pin', 'promot', 'exercis'],\n ['fer',\n  'advic',\n  'hight',\n  'life',\n  'request',\n  'chanc',\n  'laugh',\n  'joke',\n  'statesmen',\n  'discourag',\n  'coupl',\n  'saleswomea',\n  'ind',\n  'phone',\n  'call',\n  'henri'],\n ['sussex',\n  'counti',\n  'home',\n  'come',\n  'servic',\n  'bring',\n  'mem',\n  'ber',\n  'near',\n  'far'],\n ['rebel', 'govern', 'form'],\n ['sussex', 'poultri', 'mil', 'ford', 'delawar'],\n ['love', 'mem'],\n ['freak', 'appl', 'grown', 'repres', 'johi', 'tar', 'burton', 'leipsic'],\n ['raider',\n  'denmark',\n  'local',\n  'businessman',\n  'contend',\n  'delai',\n  'action',\n  'drunk',\n  'caus',\n  'stomach',\n  'oper'],\n [],\n ['montreoi', 'tconodol', 'forum'],\n ['ihnr', 'sl', 'ttsougzzton', 'isass', 'son'],\n ['record',\n  'princip',\n  'ian',\n  'wallac',\n  'sari',\n  'baraba',\n  'jeannett',\n  'mon',\n  'lea',\n  'sinclair'],\n ['new',\n  'offic',\n  'highli',\n  'spirit',\n  'elect',\n  'esth',\n  'follow',\n  'offic',\n  'elect',\n  'season',\n  'christ',\n  'church'],\n ['ransom'],\n ['movi'],\n ['addit',\n  'husband',\n  'surviv',\n  'daughter',\n  'linda',\n  'brenda',\n  'belinda',\n  'son',\n  'frederick',\n  'sister',\n  'mr',\n  'dorothi',\n  'tharp',\n  'frankford'],\n ['lot',\n  'joseph',\n  'singewald',\n  'etal',\n  'truste',\n  'joseph',\n  'singewald',\n  'myron',\n  'ezick',\n  'ella',\n  'leweg',\n  'reho'],\n ['harrington', 'appoint'],\n ['tip',\n  'pudd',\n  'nhead',\n  'wilson',\n  'protect',\n  'chang',\n  'peopl',\n  'wake',\n  'demand',\n  'congress',\n  'stop',\n  'spend',\n  'spree'],\n ['offic',\n  'club',\n  'elect',\n  'mondai',\n  'mr',\n  'duan',\n  'lynn',\n  'vice',\n  'presid',\n  'mr',\n  'howard',\n  'isaac'],\n ['richard',\n  'quin',\n  'tu',\n  'oper',\n  'supervisor',\n  'bur',\n  'eau',\n  'land',\n  'manag',\n  'box',\n  'fairbank',\n  'alaska'],\n ['cathol'],\n ['pect',\n  'spend',\n  'time',\n  'gambel',\n  'savoonga',\n  'assist',\n  'water',\n  'problem',\n  'villag'],\n ['bath', 'oil', 'heat', 'lge'],\n ['rev'],\n ['region', 'director', 'attract', 'uniqu', 'gift', 'phoenix', 'chapter'],\n ['thnk', 'great', 'experi'],\n ['sundai',\n  'dinner',\n  'guest',\n  'mr',\n  'richard',\n  'chill',\n  'dren',\n  'mr',\n  'franklin',\n  'rich',\n  'ard',\n  'milford'],\n ['class'],\n ['vnveilint'],\n ['highwai',\n  'need',\n  'highwai',\n  'user',\n  'develop',\n  'willing',\n  'contribut',\n  'highwai',\n  'cost',\n  'accord',\n  'portion',\n  'cost',\n  'creat'],\n ['team',\n  'sponsor',\n  'uniform',\n  'look',\n  'smart',\n  'tnez',\n  'neil',\n  'sponsor',\n  'jack',\n  'rine',\n  'acr',\n  'hand',\n  'push',\n  'team'],\n ['leav',\n  'job',\n  'return',\n  'file',\n  'kei',\n  'desk',\n  'kei',\n  'locker',\n  'kei',\n  'clean',\n  'desk',\n  'locker'],\n ['death',\n  'leav',\n  'duchess',\n  'brunswick',\n  'child',\n  'germani',\n  'world',\n  'war',\n  'ruler',\n  'live'],\n ['sourc', 'report', 'dress', 'woman', 'pistol', 'hidden', 'fold', 'garment'],\n ['order',\n  'public',\n  'chang',\n  'salvator',\n  'ouastello',\n  'have',\n  'tile',\n  'complaint',\n  'judgment',\n  'chang',\n  'charl',\n  'costello',\n  'have',\n  'appli',\n  'court',\n  'order',\n  'public',\n  'notic',\n  'requir',\n  'law',\n  'case',\n  'court',\n  'dai',\n  'septemb',\n  'order',\n  'person',\n  'concern',\n  'caus'],\n ['conveyanc', 'record', 'revenu', 'stamp'],\n ['free',\n  'democrat',\n  'scan',\n  'ion',\n  'list',\n  'qualifi',\n  'democrat',\n  'mr',\n  'kulla',\n  'mr',\n  'terzian'],\n ['mr', 'hazel', 'roe', 'entertain', 'holidai', 'season'],\n ['eiemenfafv',\n  'echooi',\n  'emidetaeh',\n  'brick',\n  'bedroom',\n  'bath',\n  'car',\n  'garae',\n  'low',\n  'vacant'],\n ['approx', 'lge'],\n ['unconsci', 'bad', 'col', 'lector', 'prize'],\n ['winw',\n  'section',\n  'north',\n  'west',\n  'seward',\n  'meridian',\n  'contain',\n  'acr',\n  'file',\n  'land',\n  'offic',\n  'anchorag',\n  'alaska',\n  'protest',\n  'file',\n  'land',\n  'offic',\n  'period',\n  'public',\n  'thirti',\n  'dai',\n  'said',\n  'final',\n  'proof',\n  'accept',\n  'final',\n  'certi',\n  'ficat',\n  'issu'],\n ['get', 'acclim', 'short', 'space', 'time'],\n ['todai', 'messag', 'emphas', 'place', 'mother', 'christian', 'home'],\n ['wash', 'million', 'germ', 'hand', 'lunch', 'silli'],\n ['sundai', 'school', 'preach', 'ing', 'rev'],\n ['special',\n  'sing',\n  'render',\n  'william',\n  'boyc',\n  'laurel',\n  'cannon',\n  'choir',\n  'cannon'],\n ['instal',\n  'mr',\n  'carl',\n  'allen',\n  'mr',\n  'philip',\n  'jacob',\n  'mr',\n  'ben',\n  'iamin',\n  'orkin',\n  'director'],\n [],\n ['high',\n  'time',\n  'reevalu',\n  'lawyer',\n  'bar',\n  'associt',\n  'real',\n  'respons',\n  'inform',\n  'subject',\n  'opinion',\n  'known',\n  'respons',\n  'govern',\n  'offici',\n  'lawyer',\n  'peopl',\n  'want',\n  'secur',\n  'risk',\n  'depart',\n  'ment',\n  'govern',\n  'lawyer',\n  'peopl',\n  'insist',\n  'men',\n  'women',\n  'accus',\n  'secur',\n  'risk',\n  'given',\n  'dai',\n  'court',\n  'receiv',\n  'protect',\n  'want',\n  'member',\n  'famili',\n  'face',\n  'ser',\n  'iou',\n  'charg'],\n ['offici',\n  'said',\n  'char',\n  'ter',\n  'member',\n  'expect',\n  'form',\n  'new',\n  'associ'],\n ['felix', 'gront', 'host'],\n ['suprem', 'court', 'justifi', 'refus', 'case', 'time'],\n ['wore',\n  'blue',\n  'taffeta',\n  'tull',\n  'head',\n  'piec',\n  'carri',\n  'pink',\n  'carnat',\n  'ivi'],\n ['xnohti',\n  'osa',\n  'aaa',\n  'rais',\n  'half',\n  'billion',\n  'dollar',\n  'past',\n  'decad'],\n ['groom', 'member', 'year', 'graduat', 'olocc', 'milford', 'liph', 'school'],\n ['sorri', 'kent', 'murrai', 'move', 'pennsylvania', 'miss'],\n ['heritag',\n  'loos',\n  'pillow',\n  'french',\n  'provinci',\n  'soto',\n  'fruitwood',\n  'base',\n  'spring',\n  'gold',\n  'domosk'],\n [],\n ['crime'],\n ['washington',\n  'drive',\n  'alaska',\n  'statehood',\n  'shift',\n  'senat',\n  'southern',\n  'dem',\n  'ocrat',\n  'appear',\n  'readi',\n  'fight'],\n ['new',\n  'york',\n  'suprem',\n  'court',\n  'overrul',\n  'trial',\n  'judg',\n  'dismiss',\n  'bottl',\n  'case',\n  'ground',\n  'incid',\n  'reason',\n  'fore',\n  'seen',\n  'said',\n  'matter',\n  'gone',\n  'juri',\n  'decis'],\n ['regul',\n  'set',\n  'forth',\n  'inform',\n  'shown',\n  'preliminari',\n  'subdivis',\n  'plan',\n  'administr',\n  'process',\n  'review',\n  'state',\n  'counti',\n  'local',\n  'agenc',\n  'prior',\n  'approv',\n  'thereof'],\n ['unit',\n  'state',\n  'senat',\n  'urgent',\n  'approv',\n  'support',\n  'mansfield',\n  'gave',\n  'presid',\n  'author',\n  'act',\n  'thought',\n  'best'],\n ['fred', 'goodsel', 'retir', 'congreg', 'mission', 'leader'],\n ['ounc', 'prevent', 'sell'],\n [],\n ['sundai', 'dinner', 'guest', 'mr', 'lingo'],\n ['mr', 'charl', 'kalb', 'eastbourn', 'drive'],\n ['member',\n  'eta',\n  'chapter',\n  'beta',\n  'sigma',\n  'phi',\n  'meet',\n  'home',\n  'betti',\n  'rice',\n  'mondai',\n  'even',\n  'septemb',\n  'member',\n  'palmer',\n  'execut',\n  'committe',\n  'host',\n  'acquaint',\n  'picnic',\n  'palmer',\n  'school',\n  'teacher',\n  'sep',\n  'tember',\n  'picnic',\n  'held',\n  'king',\n  'lake',\n  'camp',\n  'game',\n  'group',\n  'sing',\n  'enjoi'],\n ['short',\n  'samuel',\n  'short',\n  'husband',\n  'mari',\n  'short',\n  'di',\n  'home',\n  'north',\n  'street',\n  'harrington',\n  'august',\n  'nativ',\n  'harrington',\n  'sec',\n  'ton',\n  'son',\n  'robert',\n  'mari',\n  'ann',\n  'harrington',\n  'short',\n  'farmer',\n  'retir',\n  'year',\n  'ago'],\n ['american', 'legion', 'home', 'rent', 'grade', 'taught'],\n ['new', 'member', 'troduc', 'club', 'mem', 'ber'],\n ['kermit', 'wsanss'],\n ['dai'],\n ['mr', 'helen', 'thoma', 'past'],\n ['school',\n  'norfolk',\n  'newport',\n  'new',\n  'promot',\n  'mid',\n  'term',\n  'admit',\n  'new',\n  'pupil',\n  'time'],\n ['folio',\n  'seq',\n  'land',\n  'rec',\n  'request',\n  'parti',\n  'secur',\n  'undersign',\n  'truste',\n  'sell'],\n [],\n ['great', 'honor', 'repres', 'unit', 'state'],\n ['detail'],\n ['month',\n  'june',\n  'friendli',\n  'greeter',\n  'mr',\n  'hubbard',\n  'macklin',\n  'mr',\n  'anna',\n  'hammond',\n  'flower',\n  'committe',\n  'mr',\n  'franci',\n  'simpson',\n  'mr',\n  'eugen',\n  'sharp'],\n ['spokan', 'statehood', 'alaska', 'sai', 'gov'],\n ['servic',\n  'choir',\n  'sing',\n  'prais',\n  'lord',\n  'jerusalem',\n  'maunder',\n  'mr',\n  'norma',\n  'heyd',\n  'sing',\n  'communion',\n  'hymn',\n  'beauti',\n  'inspir',\n  'number',\n  'design',\n  'lord',\n  'supper',\n  'meaning'],\n ['octob', 'sundai', 'school'],\n [],\n [],\n ['eds', 'night'],\n ['request', 'parti', 'secur'],\n ['accord',\n  'recent',\n  'gallup',\n  'poll',\n  'cent',\n  'great',\n  'britain',\n  'young',\n  'peopl',\n  'year',\n  'like',\n  'leav',\n  'nativ',\n  'isl',\n  'settl',\n  'corner',\n  'globe'],\n ['dai', 'week'],\n ['hair', 'look', 'love', 'dear', 'babi'],\n ['interest', 'peopl'],\n [],\n ['resid',\n  'area',\n  'favor',\n  'annex',\n  'mean',\n  'com',\n  'plete',\n  'need',\n  'water',\n  'said',\n  'thought'],\n ['act',\n  'amend',\n  'delawar',\n  'labor',\n  'code',\n  'provid',\n  'right',\n  'work',\n  'low',\n  'introduc',\n  'session',\n  'gener',\n  'assembl',\n  'dover'],\n ['candid', 'qual', 'continu', 'page'],\n ['sssa'],\n ['ayer', 'ride', 'hit', 'soft', 'spot', 'road', 'ju', 'eo'],\n ['wri', 'oylcesfr', 'photo', 'temp', 'control', 'pevel'],\n ['sardi',\n  'charg',\n  'church',\n  'school',\n  'worship',\n  'hour',\n  'sundai',\n  'afternoon',\n  'caller',\n  'mr',\n  'william',\n  'harper',\n  'mr',\n  'mami',\n  'bunt',\n  'daughter',\n  'miss',\n  'naomi',\n  'workman',\n  'ami',\n  'steve',\n  'quill',\n  'len',\n  'ocean',\n  'citi',\n  'mr',\n  'raymond',\n  'emori',\n  'mr',\n  'joan',\n  'emori',\n  'colleg',\n  'park'],\n ['bookkeep',\n  'question',\n  'stand',\n  'dai',\n  'differ',\n  'account',\n  'handl',\n  'teamster',\n  'show',\n  'loan',\n  'beck'],\n ['mr', 'franklin', 'tucker'],\n ['governor',\n  'theodor',\n  'keldin',\n  'maryland',\n  'week',\n  'indors',\n  'sentinel',\n  'drive',\n  'chang',\n  'spell',\n  'vier',\n  'road',\n  'veir',\n  'road',\n  'true',\n  'spell'],\n ['carniv', 'held'],\n ['school', 'bsnt'],\n ['patricia', 'pratt', 'highest', 'honor', 'class'],\n ['worship',\n  'servic',\n  'sun',\n  'dai',\n  'morn',\n  'church',\n  'par',\n  'ticip',\n  'nation',\n  'wide',\n  'servanc',\n  'youth',\n  'sundai'],\n ['repres', 'walter', 'dem', 'ocrat', 'pennsylvania'],\n ['degre', 'mason', 'member', 'milford', 'est', 'tall', 'cedar', 'lebanon'],\n ['fireplac'],\n ['seigerman', 'wife', 'beatric', 'expect', 'come', 'soon'],\n ['hole', 'ic', 'enlarg', 'dead', 'anim', 'roll', 'ic'],\n ['poland',\n  'chosen',\n  'rep',\n  'resent',\n  'associ',\n  'newli',\n  'form',\n  'advisori',\n  'com',\n  'mitte',\n  'alaska',\n  'fish',\n  'game',\n  'commiss'],\n ['board', 'approv', 'start', 'addit', 'section', 'grade', 'teacher'],\n ['udl', 'grain'],\n ['gain', 'renomin'],\n [],\n ['combin', 'model', 'pull', 'type'],\n ['lth', 'sun', 'ment', 'beth', 'sholom', 'cemeteri'],\n ['year',\n  'littl',\n  'girl',\n  'look',\n  'step',\n  'louisa',\n  'alcott',\n  'book',\n  'quaint',\n  'style',\n  'gener',\n  'ago',\n  'come',\n  'charm',\n  'youngest',\n  'glamor',\n  'set'],\n ['drew',\n  'said',\n  'canada',\n  'sought',\n  'intern',\n  'law',\n  'impos',\n  'restrict',\n  'emil',\n  'water',\n  'belt',\n  'trawler',\n  'countri'],\n ['david',\n  'cottrel',\n  'sheryh',\n  'oberg',\n  'jerri',\n  'hoskin',\n  'lila',\n  'hoskin',\n  'audrei',\n  'dinkel',\n  'kellin',\n  'palmquist',\n  'phoeb',\n  'martin',\n  'class',\n  'xvii',\n  'poultri',\n  'dem',\n  'ing'],\n ['drop', 'game', 'set'],\n ['said',\n  'wept',\n  'washington',\n  'water',\n  'power',\n  'noxon',\n  'rapid',\n  'dam',\n  'caus',\n  'move',\n  'northern',\n  'pacaf',\n  'track',\n  'state',\n  'high',\n  'wai',\n  'resid'],\n ['flee', 'supervisor', 'purcha'],\n ['rev'],\n ['includ',\n  'dancer',\n  'paul',\n  'dolan',\n  'commedian',\n  'ginger',\n  'kole',\n  'vocalist',\n  'valeri',\n  'nobl',\n  'comedi',\n  'ventriloquist',\n  'wait',\n  'walter',\n  'saxophon',\n  'gene',\n  'lewi',\n  'piano',\n  'accordian',\n  'joe',\n  'greco'],\n ['robert',\n  'gerholz',\n  'spokesman',\n  'nation',\n  'chamber',\n  'refer',\n  'wash',\n  'ton',\n  'program'],\n ['recent',\n  'congression',\n  'tion',\n  'admit',\n  'alaska',\n  'state',\n  'hood',\n  'precipit',\n  'rash',\n  'specul',\n  'sale',\n  'promot',\n  'natur',\n  'resourc',\n  'mr',\n  'fai',\n  'tor',\n  'report',\n  'gov'],\n ['homicid',\n  'detect',\n  'samuel',\n  'wallac',\n  'testifi',\n  'miss',\n  'hough',\n  'told',\n  'abdush',\n  'beer',\n  'psycholog',\n  'aggress'],\n ['so', 'wtop', 'mitch', 'miller', 'guest', 'dan', 'duryea', 'toni', 'randal'],\n ['blue'],\n ['father',\n  'coughlin',\n  'utter',\n  'unfortu',\n  'nate',\n  'word',\n  'subsequ',\n  'father',\n  'coughlin',\n  'cancel',\n  'broadcast'],\n ['regi', 'tere', 'holstein', 'bull'],\n ['cent', 'higher', 'rye', 'unchang', 'higher'],\n ['sese'],\n ['marjori', 'conrad', 'martin', 'pennington', 'dir'],\n ['januari',\n  'issu',\n  'eboni',\n  'stori',\n  'lawless',\n  'told',\n  'extens',\n  'give',\n  'commun',\n  'unit',\n  'state',\n  'world',\n  'intern',\n  'scene',\n  'best',\n  'known',\n  'gift',\n  'jewish',\n  'institut',\n  'state',\n  'israel'],\n ['presid',\n  'augusta',\n  'nation',\n  'golf',\n  'club',\n  'nov',\n  'fly',\n  'capit',\n  'late',\n  'tuesdai'],\n ['offic',\n  'elect',\n  'methodist',\n  'group',\n  'david',\n  'heiser',\n  'wilmington',\n  'vice',\n  'presid',\n  'joyc',\n  'davi',\n  'whine',\n  'ton',\n  'secretari',\n  'treasur'],\n ['anniversari',\n  'annual',\n  'babi',\n  'contest',\n  'sponsor',\n  'ladi',\n  'auxiliari',\n  'veter',\n  'an',\n  'foreign',\n  'war',\n  'katami',\n  'post',\n  'held',\n  'sundai',\n  'april',\n  'year'],\n ['fire',\n  'includ',\n  'round',\n  'littl',\n  'tan',\n  'islet',\n  'far',\n  'vulner',\n  'invas',\n  'quemoi',\n  'littl',\n  'quemoi'],\n ['fit'],\n ['dinati',\n  'good',\n  'manner',\n  'suggest',\n  'look',\n  'beam',\n  'ey',\n  'comment',\n  'moat',\n  'fellow'],\n ['georgou', 'ground'],\n ['daili'],\n ['delawar', 'state', 'highwai', 'depart'],\n ['includ',\n  'enter',\n  'tainment',\n  'expens',\n  'person',\n  'expens',\n  'get',\n  'suit',\n  'press'],\n ['sss'],\n ['camp',\n  'correct',\n  'institut',\n  'jurisdict',\n  'illinoi',\n  'youth',\n  'com',\n  'mission'],\n ['unwil',\n  'knew',\n  'lose',\n  'battl',\n  'financ',\n  'strength',\n  'fulfil',\n  'parti',\n  'oblig',\n  'democraci'],\n ['classmat', 'bought', 'bond', 'stamp'],\n ['hollei', 'realti', 'lee', 'hwy'],\n ['home', 'mr', 'darlington', 'rigg'],\n ['order',\n  'direct',\n  'nation',\n  'tax',\n  'equal',\n  'associ',\n  'reveal',\n  'list',\n  'member',\n  'request',\n  'nation',\n  'milk',\n  'produc',\n  'feder',\n  'suit',\n  'ntea'],\n ['weekdai', 'activ', 'wednesdai', 'worker', 'train', 'cours'],\n ['grin',\n  'wide',\n  'shout',\n  'bridg',\n  'wait',\n  'littl',\n  'parson',\n  'water',\n  'dirti',\n  'deep',\n  'teeth'],\n ['reput', 'abl', 'soft', 'languag', 'turn', 'awai', 'wrath'],\n ['march',\n  'depart',\n  'store',\n  'col',\n  'lection',\n  'washington',\n  'area',\n  'trail',\n  'month',\n  'recent',\n  'year',\n  'fed',\n  'eral',\n  'reserv',\n  'bank',\n  'rich',\n  'mond',\n  'report'],\n ['mr', 'abner', 'mackland', 'chri', 'ogden'],\n ['ante',\n  'lockwood',\n  'patku',\n  'oliv',\n  'addit',\n  'garag',\n  'remodel',\n  'plana',\n  'furn'],\n ['addi'],\n ['tcour', 'tesi', 'park', 'oppositel'],\n ['geneva', 'confer', 'scientif', 'expert', 'minor', 'import'],\n ['vice', 'presdent', 'arizona', 'judg', 'associ'],\n ['esq', 'sundai', 'school'],\n ['drake',\n  'wilson',\n  'arthur',\n  'koski',\n  'paul',\n  'winner',\n  'follow',\n  'pass',\n  'enigin',\n  'train',\n  'examin',\n  'given',\n  'barbendreierjai',\n  'luther',\n  'brand',\n  'jame',\n  'murphi',\n  'duan',\n  'butler',\n  'david',\n  'parker',\n  'daniel',\n  'dake',\n  'nick'],\n ['dustrial',\n  'uniform',\n  'swoboda',\n  'realti',\n  'game',\n  'jerand',\n  'women',\n  'loop'],\n ['miss',\n  'marjori',\n  'wormeck',\n  'extens',\n  'nutritionist',\n  'univers',\n  'delawar',\n  'recomend',\n  'high',\n  'vitamin',\n  'diet',\n  'build',\n  'gener',\n  'health'],\n [],\n ['seal',\n  'bid',\n  'address',\n  'secretari',\n  'state',\n  'hall',\n  'record',\n  'dover',\n  'delawar',\n  'octob',\n  'daylight',\n  'save',\n  'time',\n  'follow',\n  'ing',\n  'copi',\n  'governor',\n  'budget',\n  'state',\n  'delawar',\n  'fiscal',\n  'year',\n  'end',\n  'june',\n  'copi',\n  'budget',\n  'appropri',\n  'state',\n  'delawar'],\n ['down', 'milford', 'del', 'phone', 'milford'],\n ['leila',\n  'sundai',\n  'leila',\n  'wright',\n  'son',\n  'belov',\n  'wife',\n  'late',\n  'charl',\n  'wrightson',\n  'mother',\n  'lionel',\n  'samuel',\n  'wrightson',\n  'louis',\n  'capeto',\n  'mari',\n  'william',\n  'leila',\n  'dement'],\n ['candi', 'sesam', 'seed', 'honei', 'calori'],\n ['olsen',\n  'spoke',\n  'labor',\n  'union',\n  'servic',\n  'public',\n  'contribut',\n  'commun'],\n [],\n ['mr',\n  'georg',\n  'davidson',\n  'proud',\n  'parent',\n  'fine',\n  'babi',\n  'girl',\n  'born',\n  'saturdai',\n  'morn',\n  'milford',\n  'hospit'],\n ['program', 'especi', 'young', 'peopl'],\n ['evangelist', 'servic'],\n ['season', 'earn', 'lifetim', 'glean'],\n ['valu',\n  'new',\n  'ramb',\n  'sunshin',\n  'bedrn',\n  'big',\n  'lux',\n  'kit',\n  'ceram',\n  'tile',\n  'wall',\n  'easi',\n  'clean',\n  'larg',\n  'bright',\n  'basement',\n  'level',\n  'shade',\n  'lot',\n  'street',\n  'park'],\n ['septemb',\n  'palmer',\n  'high',\n  'school',\n  'lew',\n  'hank',\n  'act',\n  'clerx',\n  'palmer',\n  'school',\n  'board',\n  'palmer',\n  'alaska',\n  'publish',\n  'august',\n  'septemb'],\n ['gerald',\n  'beatti',\n  'presid',\n  'delawar',\n  'anli',\n  'tuberculosi',\n  'societi',\n  'said',\n  'offic',\n  'director',\n  'societi',\n  'grate',\n  'thousand',\n  'delawai',\n  'can',\n  'financi',\n  'support',\n  'ana',\n  'par',\n  'ticip',\n  'socleti',\n  'program',\n  'activ',\n  'year'],\n ['dist'],\n ['chill', 'dren', 'young', 'peopl'],\n [],\n ['fridai',\n  'februari',\n  'riddl',\n  'komic',\n  'mickei',\n  'mous',\n  'club',\n  'kartoon',\n  'karniv',\n  'got',\n  'number',\n  'weather',\n  'new',\n  'fashion',\n  'keniitv',\n  'sport',\n  'disk',\n  'father',\n  'know',\n  'best',\n  'code',\n  'bet',\n  'life',\n  'tba',\n  'tennesse',\n  'erni',\n  'ford',\n  'nightmar',\n  'wolf',\n  'london',\n  'close',\n  'thought',\n  'dai'],\n ['offici',\n  'point',\n  'known',\n  'pupil',\n  'enrol',\n  'make',\n  'essenti',\n  'addit',\n  'class',\n  'form',\n  'school',\n  'year'],\n ['capitol', 'step'],\n ['announc',\n  'recent',\n  'public',\n  'health',\n  'servic',\n  'kenneth',\n  'endicott',\n  'dickerson',\n  'associ',\n  'director',\n  'nation',\n  'stitut',\n  'health',\n  'bethesda'],\n ['recent',\n  'straw',\n  'vote',\n  'conduct',\n  'palmer',\n  'high',\n  'school',\n  'sponsor',\n  'voter',\n  'ser',\n  'fice',\n  'committe',\n  'palmer',\n  'leagu',\n  'women',\n  'voter',\n  'servic',\n  'work',\n  'voter',\n  'area',\n  'mr',\n  'earl',\n  'payn',\n  'chairman',\n  'committe',\n  'seri',\n  'card',\n  'parti',\n  'held',\n  'alpin',\n  'civic',\n  'club',\n  'novemb',\n  'term',\n  'biz',\n  'success'],\n ['veteran',\n  'world',\n  'war',\n  'mem',\n  'der',\n  'lesli',\n  'lawrenc',\n  'post',\n  'american',\n  'legion',\n  'member',\n  'veteran',\n  'foreign',\n  'war',\n  'mem',\n  'der',\n  'perfect',\n  'ashlar',\n  'lodg'],\n ['build', 'content', 'conduct', 'guest', 'pupil', 'attend'],\n ['aqua'],\n ['mr'],\n ['trust', 'kind', 'intern', 'agreement', 'possibl'],\n ['compil',\n  'period',\n  'blacklist',\n  'name',\n  'anti',\n  'semit',\n  'agit',\n  'soviet',\n  'union'],\n ['superintend', 'chapel', 'hill', 'school'],\n ['peh'],\n ['btu'],\n ['employe', 'ask', 'submit', 'list', 'work', 'respect', 'depart'],\n ['archi',\n  'lee',\n  'weigh',\n  'lb',\n  'born',\n  'decemb',\n  'von',\n  'nie',\n  'joseph',\n  'peterson'],\n ['minneapoli',\n  'earli',\n  'growth',\n  'develop',\n  'secur',\n  'place',\n  'histori',\n  'refer',\n  'slaveri',\n  'question',\n  'rememb',\n  'famou',\n  'dre',\n  'scott',\n  'bad',\n  'origin',\n  'fort',\n  'smell',\n  'refer',\n  'briefli',\n  'articl',\n  'drcd',\n  'scott',\n  'brought',\n  'fort',\n  'john',\n  'emerson',\n  'haf',\n  'ing',\n  'purchas',\n  'loui',\n  'dred',\n  'scott',\n  'taken'],\n ['typewrit', 'repairmen'],\n ['mr',\n  'dwight',\n  'conduct',\n  'privat',\n  'kindergarten',\n  'attend',\n  'youth',\n  'young',\n  'matron',\n  'present',\n  'dai'],\n ['probabl',\n  'turn',\n  'south',\n  'korean',\n  'ministri',\n  'reconstruct',\n  'proviso',\n  'spent',\n  'reconstruct'],\n [],\n ['heron', 'attornei', 'munsei', 'build', 'washington'],\n ['sing', 'said', 'kie'],\n ['burri',\n  'believ',\n  'hive',\n  'origin',\n  'barrel',\n  'store',\n  'room',\n  'caus',\n  'xiou',\n  'mcnent',\n  'burri',\n  'frozen',\n  'food',\n  'plant',\n  'wednesdai',\n  'prompt',\n  'arriv',\n  'carlisl',\n  'expert',\n  'handl',\n  'situat',\n  'kept',\n  'loss',\n  'minimum',\n  'loss',\n  'time',\n  'blaze'],\n ['harri', 'smith'],\n ['hamilton', 'ground', 'carri', 'mail', 'hualepai', 'hilltop'],\n ['morn',\n  'servic',\n  'broadcast',\n  'radio',\n  'station',\n  'wkse',\n  'month',\n  'septemb'],\n ['morn', 'worship', 'antioch', 'baptist', 'church', 'north', 'street', 'rev'],\n ['carl', 'cordeil', 'tour', 'miss', 'brook'],\n ['friendship', 'bibl', 'class', 'meet'],\n ['featur', 'bob', 'meewen'],\n ['miss',\n  'joyc',\n  'warrington',\n  'attend',\n  'youth',\n  'confer',\n  'jackson',\n  'mill',\n  'past',\n  'weekend'],\n ['wood', 'express', 'approb', 'senior'],\n ['mr',\n  'derrickson',\n  'start',\n  'teach',\n  'career',\n  'graduat',\n  'towson',\n  'state',\n  'normal',\n  'school',\n  'continu',\n  'seek',\n  'knowledg',\n  'chosen',\n  'profess',\n  'sion',\n  'addit',\n  'studi',\n  'cours',\n  'john',\n  'hopkin',\n  'column',\n  'bia',\n  'univers',\n  'william',\n  'mari',\n  'colleg',\n  'receiv',\n  'degre',\n  'univers',\n  'delawar'],\n ['toi', 'want', 'rec', 'ord', 'player', 'learn', 'pretti', 'song'],\n ['loui', 'polic', 'circu'],\n ['okla', 'ncaa', 'round', 'game', 'night'],\n ['jai', 'major', 'browni'],\n ['salem',\n  'sept',\n  'arpei',\n  'new',\n  'hampshir',\n  'bred',\n  'filli',\n  'own',\n  'peter',\n  'fuller',\n  'boston',\n  'won',\n  'new',\n  'eng',\n  'land',\n  'futur',\n  'todai',\n  'com',\n  'mon',\n  'gallop',\n  'crowd',\n  'rockingham',\n  'park'],\n ['special',\n  'new',\n  'pilgrim',\n  'hoiiness',\n  'church',\n  'special',\n  'servic',\n  'wednesdai',\n  'even',\n  'decemb',\n  'rev'],\n ['polic', 'citi', 'jail', 'an', 'wer', 'complaint', 'mate'],\n ['trophi',\n  'provid',\n  'northwood',\n  'athlet',\n  'associ',\n  'team',\n  'win',\n  'saturdai',\n  'game'],\n ['mr', 'marcu', 'longtim', 'resid', 'vallei'],\n ['record', 'secretari'],\n [],\n ['tuesdai', 'wsc', 'circl', 'meet'],\n ['eot', 'throw', 'hand', 'line', 'hoist', 'equip', 'wire'],\n ['que'],\n ['membership',\n  'card',\n  'kod',\n  'sak',\n  'outdoorsmen',\n  'print',\n  'expect',\n  'readi',\n  'distribut',\n  'meet'],\n ['poif', 'loo', 'poir', 'cotton', 'arsyi', 'good', 'color', 'choic'],\n ['broaden', 'deepen', 'on', 'person', 'resourc'],\n ['faculti', 'club', 'luncheon', 'carolina', 'inn'],\n ['oil'],\n ['wai'],\n ['mr',\n  'hudson',\n  'outlin',\n  'ornament',\n  'proper',\n  'set',\n  'ting',\n  'desir',\n  'result'],\n ['mgr', 'ifo', 'bernstein', 'agent'],\n ['lll', 'ew'],\n ['stevenson', 'spoke', 'church', 'work'],\n ['dai', 'guest', 'mr', 'smith'],\n ['individu', 'averag', 'tmen'],\n ['came',\n  'ninilchik',\n  'kenai',\n  'peninsula',\n  'woodiel',\n  'princip',\n  'territori',\n  'school',\n  'past',\n  'year'],\n ['vote',\n  'canvass',\n  'citi',\n  'council',\n  'meet',\n  'mondai',\n  'result',\n  'elect',\n  'result',\n  'certifi',\n  'judg',\n  'clerk',\n  'municip',\n  'elect',\n  'approv'],\n ['william', 'revel', 'pa', 'tor', 'asburi', 'methodist', 'church', 'offici'],\n ['point',\n  'american',\n  'export',\n  'year',\n  'amount',\n  'billion',\n  'wai',\n  'trade',\n  'involv',\n  'million',\n  'job',\n  'countri',\n  'estim',\n  'port',\n  'billion',\n  'essenti',\n  'raw',\n  'materi',\n  'warn',\n  'practic',\n  'reciproc',\n  'suffer',\n  'retali'],\n ['stark',\n  'fansler',\n  'ag',\n  'retir',\n  'free',\n  'methodist',\n  'minist',\n  'frienlsvil',\n  'di',\n  'sundai',\n  'octob',\n  'tucker',\n  'counti',\n  'hospit',\n  'par',\n  'son',\n  'ill',\n  'week'],\n ['harri',\n  'frankel',\n  'recent',\n  'iestal',\n  'presid',\n  'milford',\n  'rotari',\n  'club',\n  'announc',\n  'appoint',\n  'ment',\n  'follow',\n  'committe',\n  'program',\n  'georg',\n  'metz',\n  'irwin',\n  'burton',\n  'ronni',\n  'annett',\n  'attend',\n  'anc',\n  'van',\n  'nui',\n  'wilkerson',\n  'ted',\n  'yerk',\n  'classif',\n  'doc',\n  'jame',\n  'doc',\n  'nelson',\n  'club',\n  'bulletin',\n  'bob',\n  'yerk',\n  'frank',\n  'napl',\n  'magazin',\n  'wilson',\n  'sockrid',\n  'doc',\n  'emori',\n  'membership',\n  'jodi',\n  'holzmuel',\n  'frank',\n  'elton',\n  'rotari',\n  'inform',\n  'john',\n  'annett',\n  'ted',\n  'aber',\n  'cal',\n  'ball',\n  'public',\n  'inform',\n  'jerri',\n  'lorenz',\n  'col',\n  'georg',\n  'westphal',\n  'commun',\n  'servic',\n  'chester',\n  'dickerson',\n  'elton',\n  'lynch',\n  'harvei',\n  'marvel',\n  'enploy',\n  'employe',\n  'harri',\n  'mayhem',\n  'bert',\n  'atwel',\n  'harvei',\n  'shafer',\n  'trade',\n  'associ',\n  'fisher',\n  'john',\n  'wilkin',\n  'crippl',\n  'children',\n  'phil',\n  'portz',\n  'ross',\n  'gallowai',\n  'rural',\n  'urban',\n  'elton',\n  'lynch',\n  'georg',\n  'sheaffer',\n  'buyer',\n  'seller',\n  'fisher',\n  'hal',\n  'wall',\n  'vocat',\n  'servic',\n  'miller',\n  'charli',\n  'nugent',\n  'intern',\n  'ser',\n  'vice',\n  'clarenc',\n  'down',\n  'edward',\n  'kehimann',\n  'intern',\n  'forum',\n  'berri',\n  'holzmuel',\n  'rotari',\n  'foundat',\n  'john',\n  'annett'],\n ['grecharfinoff', 'stepp'],\n ['deleg',\n  'cheverlytuxedo',\n  'pta',\n  'plea',\n  'meet',\n  'exec',\n  'utiv',\n  'committe',\n  'pta',\n  'council'],\n ['harri', 'mcdowel', 'democrat', 'defeat', 'hal', 'haskel', 'congress'],\n ['read', 'convent', 'state', 'senat', 'robert', 'yerk', 'houston'],\n ['record'],\n ['busi', 'meet', 'follow'],\n ['guest', 'dougla', 'foirbonk'],\n ['redefinit', 'railroad', 'regul'],\n ['aero', 'mayfiow', 'transit', 'need', 'driver', 'long', 'term', 'contract'],\n ['chick', 'ghondler'],\n ['member',\n  'budget',\n  'staff',\n  'mem',\n  'bership',\n  'fee',\n  'commun',\n  'relat',\n  'committe',\n  'meet',\n  'blanchard',\n  'nov',\n  'preparatori',\n  'launch',\n  'self',\n  'studi',\n  'second',\n  'phase'],\n ['veil', 'chi', 'ldren', 'supai', 'vacat'],\n ['nation',\n  'holidai',\n  'declar',\n  'jordan',\n  'celebr',\n  'escap',\n  'year',\n  'old',\n  'king'],\n ['tor',\n  'entor',\n  'man',\n  'littl',\n  'enpericnc',\n  'interview',\n  'iressl',\n  'gener',\n  'auto',\n  'glass'],\n ['retir', 'personnet', 'reservist', 'benefiji'],\n ['son', 'flesch', 'tor', 'chang', 'civil'],\n ['special', 'famili', 'dinner', 'serv'],\n ['caus'],\n ['sdhuiddlco', 'icochacd', 'audienc', 'ball'],\n ['announc', 'meet', 'decem', 'der', 'tuesdai', 'close', 'christma'],\n ['funer', 'held', 'car', 'funer', 'home', 'georgetown', 'mondai', 'rev'],\n [],\n ['davi', 'slmm', 'jame'],\n ['offer',\n  'recommend',\n  'improv',\n  'collect',\n  'hand',\n  'ling',\n  'state',\n  'revenu',\n  'section',\n  'fiscal',\n  'affair'],\n ['kodiak',\n  'student',\n  'roll',\n  'autumn',\n  'quarter',\n  'univers',\n  'washington',\n  'roger',\n  'mcdonald',\n  'thoma',\n  'lee',\n  'franc',\n  'lindslei',\n  'cord',\n  'word',\n  'receiv',\n  'univers',\n  'week'],\n ['septemb'],\n ['franz', 'ew'],\n ['cairn', 'michael', 'member', 'washington', 'council'],\n ['experi',\n  'ment',\n  'station',\n  'receiv',\n  'num',\n  'der',\n  'inquiri',\n  'magazin',\n  'journal',\n  'plan',\n  'articl',\n  'alaska'],\n ['mr',\n  'charl',\n  'white',\n  'negro',\n  'elect',\n  'houston',\n  'school',\n  'board',\n  'told',\n  'polic',\n  'tuesdai',\n  'air',\n  'rifl',\n  'pellet',\n  'sprai',\n  'windshield',\n  'automobil',\n  'mondai',\n  'night'],\n ['phoenix', 'area', 'person', 'live', 'room', 'hous'],\n ['russian',\n  'accept',\n  'linz',\n  'ti',\n  'issu',\n  'ad',\n  'hope',\n  'accept',\n  'presag',\n  'agreement',\n  'begin',\n  'similar',\n  'discuss',\n  'measur',\n  'disarma'],\n ['jun'],\n ['unaffili',\n  'candid',\n  'high',\n  'sound',\n  'talk',\n  'independ',\n  'moder',\n  'bother',\n  'file'],\n ['film', 'start', 'tomorrow'],\n ['trade'],\n ['pinup',\n  'won',\n  'year',\n  'competit',\n  'new',\n  'hadassah',\n  'bowl',\n  'leagu',\n  'copa'],\n ['anglia', 'english', 'ford', 'line', 'clifford', 'motor'],\n ['absolut', 'necessari', 'schedul', 'test', 'said'],\n ['maryland',\n  'notic',\n  'given',\n  'propos',\n  'amend',\n  'charter',\n  'montgomeri',\n  'counti'],\n ['william', 'paskei', 'thonotari'],\n ['nose',\n  'cone',\n  'jupit',\n  'cozi',\n  'cabin',\n  'squirrel',\n  'monkei',\n  'reach',\n  'altitud',\n  'mile',\n  'roar',\n  'trip',\n  'cape',\n  'canavera'],\n ['circulatc', 'reserv', 'concern'],\n ['section', 'school', 'transform', 'summer'],\n ['anchorag',\n  'air',\n  'franc',\n  'definit',\n  'decid',\n  'oper',\n  'newli',\n  'franchis',\n  'pari',\n  'tokyo',\n  'transpolar',\n  'rout',\n  'anchorag',\n  'anchorag',\n  'chamber',\n  'com',\n  'merc',\n  'board',\n  'director',\n  'form',\n  'fridai'],\n ['mr', 'roi', 'kemp', 'thursdai'],\n ['viii', 'sell', 'market', 'seen', 'sundai'],\n [],\n ['fun',\n  'member',\n  'attend',\n  'concept',\n  'thereof',\n  'blood',\n  'sweat',\n  'tear',\n  'end',\n  'resuit'],\n ['fir', 'live', 'dine'],\n ['talk', 'carri', 'radio'],\n ['democrat', 'california'],\n ['plant', 'outsid', 'michigan'],\n ['special', 'policeman', 'park', 'steadili'],\n ['kei', 'end'],\n ['slip', 'rock'],\n ['alexandria',\n  'hospit',\n  'jame',\n  'gilbert',\n  'weast',\n  'so',\n  'highland',\n  'av',\n  'fall',\n  'church'],\n ['record', 'deed', 'record', 'book', 'vol'],\n ['afternoon', 'work', 'wood'],\n ['necessarili', 'repres', 'uelopoint', 'counti', 'school', 'sysena'],\n ['car',\n  'park',\n  'lot',\n  'project',\n  'site',\n  'top',\n  'preliminari',\n  'plan',\n  'save',\n  'monei',\n  'explain',\n  'councilman',\n  'joseph',\n  'rodger'],\n ['plane', 'pilot', 'suffer', 'bruis', 'seri', 'ousli', 'hurt'],\n ['inch',\n  'pounder',\n  'pre',\n  'tackl',\n  'past',\n  'year',\n  'jim',\n  'mutschel',\n  'notr',\n  'dane',\n  'nation',\n  'champion',\n  'long',\n  'gone',\n  'dupr',\n  'star',\n  'halfback',\n  'colt',\n  'scorer',\n  'basketbal',\n  'team',\n  'georg',\n  'shaw',\n  'american',\n  'quarterback',\n  'stanford',\n  'univers',\n  'led',\n  'nation',\n  'total',\n  'offens',\n  'senior',\n  'year',\n  'colleg'],\n ['rich',\n  'devotianl',\n  'servic',\n  'led',\n  'mr',\n  'robert',\n  'michael',\n  'philippian',\n  'text',\n  'central',\n  'theme',\n  'ing',\n  'movi',\n  'titl',\n  'martyr',\n  'men',\n  'tell',\n  'stori',\n  'men',\n  'gave',\n  'live',\n  'ecuador',\n  'attempt',\n  'reach',\n  'auca',\n  'indian',\n  'gospel'],\n ['juli', 'august', 'morn', 'servic', 'commenc'],\n ['sundai', 'school', 'glass', 'ag', 'group'],\n ['preston',\n  'mitchel',\n  'junior',\n  'nit',\n  'chell',\n  'visit',\n  'parent',\n  'mr',\n  'john',\n  'mitchel',\n  'week'],\n ['man',\n  'insid',\n  'battl',\n  'come',\n  'warn',\n  'seen',\n  'compar',\n  'fewer',\n  'fewer',\n  'manag',\n  'ment',\n  'safe',\n  'contest',\n  'raid',\n  'war',\n  'distribut',\n  'hall',\n  'syndi',\n  'cate',\n  'right',\n  'reserv'],\n ['admit',\n  'continu',\n  'suffer',\n  'sever',\n  'headach',\n  'gave',\n  'hin',\n  'tablet',\n  'conl',\n  'ing',\n  'aspirin',\n  'night'],\n [],\n ['truchio', 'playmak', 'kiss'],\n ['equiti', 'matter', 'mortgag'],\n ['sheriff', 'jessc', 'harlan'],\n ['junior',\n  'attend',\n  'jane',\n  'alava',\n  'saundra',\n  'jone',\n  'sophomor',\n  'attend',\n  'jane',\n  'clark',\n  'carol',\n  'scrulz'],\n ['present',\n  'petit',\n  'favor',\n  'dustrial',\n  'expans',\n  'land',\n  'signatur',\n  'councili',\n  'public',\n  'hear'],\n ['atrip',\n  'rona',\n  'staiai',\n  'slui',\n  'tof',\n  'mondai',\n  'august',\n  'accord',\n  'lhr',\n  'llno',\n  'tifaetasi',\n  'atiss',\n  'ieil',\n  'mri',\n  'tiio',\n  'hnaa',\n  'wish',\n  'af',\n  'bake',\n  'moefnl'],\n ['hough',\n  'district',\n  'engin',\n  'bpr',\n  'vise',\n  'definit',\n  'tide',\n  'variabl',\n  'comput',\n  'follow',\n  'show',\n  'foot',\n  'half'],\n ['wgl', 'boi', 'store', 'floor'],\n ['william', 'sent', 'telegram', 'stan', 'musial', 'read'],\n ['irepeot', 'bcsebcil'],\n ['chairman',\n  'legal',\n  'redress',\n  'committe',\n  'new',\n  'york',\n  'state',\n  'confer',\n  'naa',\n  'branch'],\n ['white', 'blue', 'bead', 'type', 'indian', 'moccas'],\n ['oblat', 'fatheir'],\n ['brick', 'rambler', 'din'],\n ['knight', 'pythia', 'hall'],\n ['graduat', 'univers', 'major', 'journal'],\n ['highli',\n  'respect',\n  'toi',\n  'bro',\n  'ker',\n  'rate',\n  'dun',\n  'bradstreet',\n  'sell',\n  'toi',\n  'nation'],\n ['thought',\n  'serious',\n  'outsid',\n  'usual',\n  'framework',\n  'polit',\n  'optim',\n  'versu',\n  'pessim'],\n ['durham', 'bat'],\n ['pursement', 'room', 'remain', 'open', 'mondai', 'fri', 'dai'],\n ['round',\n  'tree',\n  'bunt',\n  'red',\n  'green',\n  'foil',\n  'star',\n  'atop',\n  'tree',\n  'shine',\n  'cool',\n  'blue',\n  'light'],\n ['emil', 'pierr', 'citi', 'clerk', 'publish', 'august'],\n ['driver',\n  'destrian',\n  'know',\n  'obei',\n  'traffic',\n  'rule',\n  'regul',\n  'depend',\n  'fellow'],\n ['carl', 'heath', 'kopf', 'pastor', 'congreg', 'church', 'held', 'juli'],\n ['miss',\n  'nanci',\n  'torbert',\n  'daughter',\n  'mr',\n  'russel',\n  'torbert',\n  'receiv',\n  'diploma',\n  'bachelor',\n  'scienc'],\n ['fals', 'teeth', 'annoi', 'embatrass', 'slip'],\n ['huff', 'pastor'],\n ['octob', 'viii', 'lie', 'mon'],\n ['assist', 'admiss'],\n ['siever',\n  'invit',\n  'appear',\n  'senat',\n  'sub',\n  'committe',\n  'monopoli',\n  'nesdai',\n  'yost',\n  'repres',\n  'washington',\n  'ball',\n  'club',\n  'hear',\n  'hank',\n  'bauer',\n  'got',\n  'doubl',\n  'singl',\n  'game',\n  'replac',\n  'marv',\n  'throneberri',\n  'second',\n  'marv',\n  'contribut',\n  'tripl',\n  'doubl',\n  'singl'],\n ['transfer',\n  'frequent',\n  'dictat',\n  'whim',\n  'bureaucrat',\n  'produc',\n  'havoc',\n  'faith',\n  'alli'],\n ['poe'],\n ['lemon', 'export'],\n ['doak',\n  'daughter',\n  'margaret',\n  'miss',\n  'betti',\n  'flake',\n  'cumberland',\n  'mr',\n  'roi',\n  'harman',\n  'mr',\n  'jame',\n  'dill',\n  'lon',\n  'daughter',\n  'louis',\n  'miss',\n  'alma',\n  'esther',\n  'opel',\n  'friend',\n  'frostburg'],\n ['suffer', 'circulatori', 'cerebr', 'attack', 'bulletin', 'physician'],\n ['annual',\n  'meet',\n  'maj',\n  'tanuska',\n  'vallei',\n  'farmer',\n  'cooper',\n  'at',\n  'associ',\n  'member',\n  'held',\n  'saturdai',\n  'august',\n  'central',\n  'school',\n  'gymnasium',\n  'start',\n  'ann',\n  'meet',\n  'valuabl',\n  'door',\n  'prize',\n  'award',\n  'num',\n  'ber',\n  'lucki',\n  'member'],\n ['kitchen', 'breakfast', 'bar', 'larg', 'screen', 'porch'],\n ['council',\n  'instruct',\n  'secretari',\n  'charl',\n  'dahl',\n  'write',\n  'letter',\n  'protest',\n  'state',\n  'republican',\n  'cen',\n  'trail',\n  'committe',\n  'jack',\n  'holm',\n  'democrat',\n  'candid',\n  'railroad',\n  'public',\n  'servic',\n  'commiss',\n  'failur',\n  'label',\n  'alli',\n  'print',\n  'trade',\n  'council',\n  'polit',\n  'print'],\n ['unusu', 'beauti', 'hrepl'],\n ['hbp', 'zuverink', 'tsusc'],\n ['brick', 'apt'],\n ['piec', 'luck', 'north', 'carolina', 'franc', 'grai', 'patton'],\n ['theresa', 'robi'],\n ['hoffa',\n  'propos',\n  'group',\n  'plenti',\n  'scope',\n  'cours',\n  'make',\n  'troubl',\n  'labor',\n  'movement',\n  'nation',\n  'economi'],\n ['thoma', 'hunt'],\n ['hous',\n  'civil',\n  'servic',\n  'subcommitte',\n  'initi',\n  'hear',\n  'yesterdai',\n  'indic',\n  'win'],\n [],\n ['sofo', 'cush'],\n [],\n ['langlei', 'park', 'bedrm'],\n ['railroad',\n  'car',\n  'repair',\n  'man',\n  'washington',\n  'ter',\n  'minal',\n  'work',\n  'come',\n  'countri',\n  'retir',\n  'leav',\n  'wife'],\n ['anglia', 'lee', 'eegifr', 'ael', 'av'],\n ['june'],\n ['mr', 'helen', 'thoma', 'pastor'],\n ['stolen',\n  'bxse',\n  'mai',\n  'san',\n  'fran',\n  'cisco',\n  'ashburn',\n  'philadelphia',\n  'blasingam'],\n ['demonstr',\n  'devot',\n  'organlzaton',\n  'woman',\n  'pai',\n  'due',\n  'advanc',\n  'given',\n  'special',\n  'gold',\n  'mem',\n  'bership',\n  'card'],\n ['louisvil',\n  'entri',\n  'saturdai',\n  'kentucki',\n  'derbi',\n  'list',\n  'accord',\n  'post',\n  'posit',\n  'owner',\n  'jockei',\n  'probabl',\n  'odd'],\n ['saturdai',\n  'night',\n  'youth',\n  'center',\n  'come',\n  'enjoi',\n  'even',\n  'fun',\n  'relax'],\n ['assess', 'peopl', 'patron', 'transit'],\n ['mr',\n  'carl',\n  'milland',\n  'beltsvil',\n  'mr',\n  'charl',\n  'mathi',\n  'rockvil',\n  'grandchildren'],\n ['repeal',\n  'legisl',\n  'legisl',\n  'sembl',\n  'ty',\n  'hand',\n  'state',\n  'land',\n  'board',\n  'make',\n  'possibl',\n  'state',\n  'secur',\n  'greatest',\n  'possibl',\n  'revenu',\n  'oil',\n  'miner',\n  'deposit',\n  'underli',\n  'state',\n  'own',\n  'school',\n  'trust',\n  'land'],\n ['ssol', 'geal', 'gloat', 'goal', 'goat', 'golf'],\n ['scar', 'safa'],\n ...]"
     },
     "execution_count": 81,
     "metadata": {},
     "output_type": "execute_result"
    }
   ],
   "source": [
    "sentences_1958"
   ],
   "metadata": {
    "collapsed": false,
    "ExecuteTime": {
     "end_time": "2024-03-08T02:56:02.077722Z",
     "start_time": "2024-03-08T02:56:02.049931Z"
    }
   },
   "id": "ec4c87011bb567ec"
  },
  {
   "cell_type": "code",
   "execution_count": 82,
   "outputs": [
    {
     "data": {
      "text/plain": "array([ 4.2059857e-01, -1.1879179e+00, -1.2840992e+00, -1.2109919e-01,\n       -1.7069280e-02,  3.5838819e-01, -3.1302518e-01, -1.3058118e+00,\n       -4.1012865e-01,  1.0456164e+00, -1.7068243e+00, -4.1624928e-01,\n       -1.6891153e-01, -1.5972229e+00,  9.7121811e-01, -2.6850191e-01,\n        1.7229981e+00,  8.4598519e-02,  5.1210022e-01,  1.8439002e+00,\n        2.9725724e-01, -4.1038689e-01,  4.1874430e-01, -8.4528291e-01,\n       -3.5191005e-01, -3.5622412e-01,  6.5830600e-01, -4.6790984e-01,\n        2.4483192e-01, -2.2962959e-02,  9.0254480e-01, -1.2018313e+00,\n        3.2728615e-01,  1.8244337e-02,  1.5547373e+00,  4.7910951e-02,\n       -2.2698484e-01, -1.8332827e+00, -7.7719998e-01,  4.5406827e-01,\n        4.8681384e-01, -3.3820915e-01, -5.5948645e-01, -1.3181539e+00,\n       -1.6797330e+00,  3.5617957e-03, -5.4909986e-01, -6.9613963e-01,\n       -8.1422192e-01, -3.2191950e-01,  1.2753265e+00, -3.8853839e-01,\n        2.9755256e-01, -3.7818515e-01, -3.5177720e-01, -1.2636454e-03,\n       -8.1851137e-01, -1.0099745e+00,  1.4422250e+00, -2.1441624e-01,\n       -8.8736743e-01, -1.7756961e-01, -6.4520848e-01,  1.0832943e+00,\n        4.8922300e-01,  6.3157725e-01,  7.4484032e-01, -6.9821846e-01,\n       -6.1683911e-01, -9.0114819e-03,  1.4627452e+00, -1.9768597e+00,\n       -5.3760201e-02, -1.4825550e-01,  6.7140418e-01, -1.1394063e+00,\n        2.7855101e-01, -8.4902513e-01,  1.1097858e+00, -8.7647790e-01,\n        6.6459894e-01,  4.1774568e-01, -1.7134489e-01,  2.5742063e-01,\n       -2.7189475e-01,  7.9920754e-02, -1.5716536e+00, -8.4118187e-01,\n        5.0540328e-01, -1.9026273e+00,  8.8107795e-01, -6.6851902e-01,\n        1.0616833e+00, -1.7646615e-01,  9.5562863e-01,  1.6614150e+00,\n        2.3742516e-02, -2.3262142e-01, -5.9082115e-01, -6.9559062e-01,\n        3.4843904e-01,  6.0154301e-01, -2.6348987e-01, -4.5145023e-01,\n        4.8328876e-01, -7.4375695e-01,  6.2502980e-02,  3.8088959e-01,\n        1.3926445e-01, -1.7560754e+00, -8.2624108e-01, -2.1069671e-01,\n        3.2255241e-01,  1.2034990e+00, -2.6696312e-01,  2.1336216e-01,\n        2.7644649e-01, -3.5049742e-01, -1.7226167e-01,  2.1263203e-01,\n       -1.3593163e-01,  3.8858122e-01, -8.6258394e-01, -6.2696934e-01,\n        7.8545898e-01, -7.4812824e-01,  4.4445470e-01, -5.6765348e-01,\n        1.7244637e-01, -5.2813414e-02, -5.0773239e-01,  1.1595664e+00,\n       -3.2186028e-01,  2.3980761e-01, -1.0065378e+00,  5.9416163e-01,\n       -1.7815706e-01, -7.1481174e-01, -2.1462870e+00, -2.8912738e-01,\n       -9.9871017e-02, -4.1146967e-01,  1.4968313e-01,  5.6146276e-01,\n        7.8255576e-01, -1.8094324e+00,  1.2038276e+00, -5.2342051e-01,\n        1.2050761e+00,  1.4173869e+00, -5.1378340e-01, -1.0153418e-01,\n        2.7733567e-01, -4.4377235e-01,  9.3481731e-01, -5.2366340e-01,\n        2.5572178e-01, -1.7438568e+00,  5.6606925e-01, -1.2561113e+00,\n       -1.2998843e-01,  5.6607568e-01, -2.6053265e-01,  1.4610522e+00,\n       -1.2648579e+00,  6.1169356e-01,  1.2138247e+00,  2.5408568e+00,\n       -8.4305637e-02,  6.4180136e-01,  4.0346151e-03,  3.9227855e-01,\n       -8.0853516e-01,  3.5764918e-01,  3.1513673e-01, -1.9046612e-01,\n       -1.6297676e-01, -3.8027772e-01, -5.7325643e-01, -5.3620517e-01,\n        5.9076321e-01, -7.3377955e-01, -2.4803255e-01,  1.0719768e+00,\n       -5.3624660e-02, -1.5520687e-01,  3.3332202e-01, -1.6266532e-02,\n       -1.5098549e-01, -5.7754034e-01,  2.5389487e-01,  1.2104282e+00,\n       -2.3834942e-01,  5.1864624e-01, -8.4443134e-01, -7.5872612e-01,\n       -4.2967848e-02, -6.2843037e-01,  1.4639860e+00, -6.3484830e-01,\n       -2.7774307e-01, -1.8145481e-01, -6.5375185e-01, -1.2275866e+00,\n        4.8427722e-01, -1.7867998e+00,  1.2470939e+00, -5.2028447e-01,\n        3.8659751e-01,  3.3724293e-02,  1.1313808e-01,  1.5538754e+00,\n        6.7955643e-01, -2.4921268e-01,  3.5349292e-01, -8.3433747e-01,\n        1.2235243e-02, -2.5604051e-01,  2.1555393e+00, -5.0411880e-01,\n       -9.0959555e-01, -3.2558709e-01, -1.5201504e+00, -9.6560705e-01,\n       -2.7739784e-01,  1.8903704e+00, -1.6293397e+00, -1.5531902e+00,\n        4.0330333e-01,  1.8434094e-01,  8.7700635e-01,  6.3494945e-01,\n        3.2487959e-01, -2.1707878e-02, -1.6552253e-01, -1.2085201e+00,\n        2.9586259e-01, -1.2664150e+00, -1.7052510e-01,  3.7017828e-01,\n       -2.3956043e-01,  1.6737971e-01,  2.4114604e-01, -2.5583616e-01,\n        1.3444158e+00,  6.1894333e-01, -1.5219721e+00, -1.0540627e+00,\n        1.6288869e-01,  1.0002363e+00,  8.3562160e-01, -3.2248637e-01,\n       -1.5509212e+00,  6.3222088e-02,  4.1927674e-01, -5.3603828e-01,\n       -6.8224126e-01,  5.9832579e-01,  1.1739775e+00,  1.3676434e+00,\n        1.0224956e+00, -2.0509833e-01, -5.9376603e-01, -6.8592691e-01,\n       -9.7084209e-02, -1.7801462e-01, -3.3484212e-01,  7.4240690e-01,\n        7.4391067e-01,  3.5020840e-01, -6.9743675e-01, -5.6189865e-01,\n       -3.6971539e-01,  6.9594979e-01, -9.3673944e-01, -8.8702619e-01,\n        2.0023026e+00,  4.2589504e-02, -6.4064735e-01, -8.5426509e-01,\n        2.9036292e-01, -8.9967765e-02, -9.0198624e-01,  8.0912334e-01,\n       -4.9000986e-02,  1.9255413e-02,  4.9088982e-01,  9.2855144e-01,\n       -4.7895394e-02, -3.2421845e-01, -1.2098119e+00,  2.3899895e-01,\n       -8.3498085e-01, -3.8358054e-01, -3.7319458e-01,  8.5152489e-01,\n        5.2242476e-01, -8.3873254e-01, -6.5888971e-02, -1.0022761e+00],\n      dtype=float32)"
     },
     "execution_count": 82,
     "metadata": {},
     "output_type": "execute_result"
    }
   ],
   "source": [
    "\n",
    "# Train the embedding model (using Word2Vec)\n",
    "num_words= 300    # This is the dimension of our vectors!\n",
    "from gensim.models import Word2Vec\n",
    "w2v = Word2Vec(sentences_1958,  # list of tokenized sentences\n",
    "               workers = 8, # Number of threads to run in parallel\n",
    "               vector_size=num_words,  # Word vector dimensionality     \n",
    "               min_count =  25, # Minimum word count  \n",
    "               window = 6, # Context window size      \n",
    "               sample = 1e-3, # Downsample setting for frequent words\n",
    "               )\n",
    "\n",
    "w2v.save('/Users/trotesi/Dropbox/Brown/Text_as_data/Data/w2v-vectors-1958.pkl')\n",
    "\n",
    "w2v.wv['room']"
   ],
   "metadata": {
    "collapsed": false,
    "ExecuteTime": {
     "end_time": "2024-03-08T02:56:09.715676Z",
     "start_time": "2024-03-08T02:56:02.119078Z"
    }
   },
   "id": "94c878bde56071ee"
  },
  {
   "cell_type": "code",
   "execution_count": 83,
   "outputs": [
    {
     "data": {
      "text/plain": "[('automobil', 0.6227920651435852),\n ('truck', 0.6210629343986511),\n ('driven', 0.5521332621574402),\n ('auto', 0.5465046763420105),\n ('driver', 0.53855299949646),\n ('taxi', 0.5328409671783447),\n ('jeep', 0.5238681435585022),\n ('bike', 0.5125752091407776),\n ('motorcycl', 0.5008191466331482),\n ('chevrolet', 0.48696842789649963)]"
     },
     "execution_count": 83,
     "metadata": {},
     "output_type": "execute_result"
    }
   ],
   "source": [
    "w2v.wv.most_similar('car')"
   ],
   "metadata": {
    "collapsed": false,
    "ExecuteTime": {
     "end_time": "2024-03-08T02:56:09.751814Z",
     "start_time": "2024-03-08T02:56:09.710696Z"
    }
   },
   "id": "bed4da0317d6aec7"
  },
  {
   "cell_type": "code",
   "execution_count": 88,
   "outputs": [
    {
     "data": {
      "text/plain": "[('refuge', 0.7904563546180725),\n ('emigr', 0.7638174891471863),\n ('egypt', 0.7608716487884521),\n ('palestin', 0.7447360157966614),\n ('rael', 0.7373723983764648),\n ('arab', 0.7342485189437866),\n ('jew', 0.7300805449485779),\n ('isra', 0.7124883532524109),\n ('nazi', 0.7054153084754944),\n ('homeland', 0.6970959901809692)]"
     },
     "execution_count": 88,
     "metadata": {},
     "output_type": "execute_result"
    }
   ],
   "source": [
    "w2v.wv.most_similar('immigr')"
   ],
   "metadata": {
    "collapsed": false,
    "ExecuteTime": {
     "end_time": "2024-03-08T03:04:50.855863Z",
     "start_time": "2024-03-08T03:04:50.753537Z"
    }
   },
   "id": "eb60b459d1845f30"
  },
  {
   "cell_type": "code",
   "execution_count": 100,
   "outputs": [
    {
     "data": {
      "text/plain": "[('russian', 0.8662828207015991),\n ('egypt', 0.8540340065956116),\n ('japan', 0.8320132493972778),\n ('arab', 0.8271293640136719),\n ('yugoslavia', 0.8206051588058472),\n ('iraq', 0.8158578276634216),\n ('regim', 0.8152689933776855),\n ('soviet', 0.8132008910179138),\n ('crisi', 0.8077139258384705),\n ('cairo', 0.8062064051628113)]"
     },
     "execution_count": 100,
     "metadata": {},
     "output_type": "execute_result"
    }
   ],
   "source": [
    "w2v.wv.most_similar('russia')"
   ],
   "metadata": {
    "collapsed": false,
    "ExecuteTime": {
     "end_time": "2024-03-08T03:08:21.864426Z",
     "start_time": "2024-03-08T03:08:21.813113Z"
    }
   },
   "id": "5e9f43ed5df7a158"
  },
  {
   "cell_type": "markdown",
   "source": [
    "### Now 1858"
   ],
   "metadata": {
    "collapsed": false
   },
   "id": "56e68383fc4bdb47"
  },
  {
   "cell_type": "code",
   "execution_count": 85,
   "outputs": [
    {
     "name": "stderr",
     "output_type": "stream",
     "text": [
      "/var/folders/yb/r8nfzz157g74kd6zg_3x_nch0000gn/T/ipykernel_42248/2164550830.py:1: SettingWithCopyWarning: \n",
      "A value is trying to be set on a copy of a slice from a DataFrame.\n",
      "Try using .loc[row_indexer,col_indexer] = value instead\n",
      "\n",
      "See the caveats in the documentation: https://pandas.pydata.org/pandas-docs/stable/user_guide/indexing.html#returning-a-view-versus-a-copy\n",
      "  df2['sentences'] = df2['article'].apply(sent_tokenize)\n"
     ]
    },
    {
     "data": {
      "text/plain": "[('locomot', 0.6483879685401917),\n ('track', 0.5960816144943237),\n ('tram', 0.5471490621566772),\n ('brake', 0.5335702300071716),\n ('baggag', 0.5212299823760986),\n ('conductor', 0.5149582624435425),\n ('train', 0.49800756573677063),\n ('wheel', 0.49285784363746643),\n ('cart', 0.4838224947452545),\n ('driver', 0.4778854250907898)]"
     },
     "execution_count": 85,
     "metadata": {},
     "output_type": "execute_result"
    }
   ],
   "source": [
    "df2['sentences'] = df2['article'].apply(sent_tokenize)\n",
    "\n",
    "\n",
    "sentences_1858 = []\n",
    "for doc in df2['sentences']:\n",
    "    sentences_1858 += preprocess_documents(doc)\n",
    "\n",
    "shuffle(sentences_1858)  # stream in sentences in random order\n",
    "sentences_1858\n",
    "\n",
    "num_words = 300  \n",
    "\n",
    "w2v1858 = Word2Vec(sentences_1858,  # list of tokenized sentences\n",
    "               workers=8,  # Number of threads to run in parallel\n",
    "               vector_size=num_words,  # Word vector dimensionality     \n",
    "               min_count=25,  # Minimum word count  \n",
    "               window=6,  # Context window size      \n",
    "               sample=1e-3,  # Downsample setting for frequent words\n",
    "               )\n",
    "\n",
    "\n",
    "w2v1858.save('/Users/trotesi/Dropbox/Brown/Text_as_data/Data/w2v-vectors-1858.pkl')\n",
    "\n",
    "w2v1858.wv.most_similar('car')"
   ],
   "metadata": {
    "collapsed": false,
    "ExecuteTime": {
     "end_time": "2024-03-08T02:57:29.133332Z",
     "start_time": "2024-03-08T02:56:09.797790Z"
    }
   },
   "id": "962095ab1e152e96"
  },
  {
   "cell_type": "code",
   "execution_count": 89,
   "outputs": [
    {
     "data": {
      "text/plain": "[('emigr', 0.7243762612342834),\n ('popul', 0.6355099678039551),\n ('influx', 0.5916978120803833),\n ('inhabit', 0.55515456199646),\n ('populaton', 0.5076773762702942),\n ('anticip', 0.5028190016746521),\n ('monopoli', 0.5028095841407776),\n ('retard', 0.4964640438556671),\n ('resourc', 0.4930956959724426),\n ('frontier', 0.48805344104766846)]"
     },
     "execution_count": 89,
     "metadata": {},
     "output_type": "execute_result"
    }
   ],
   "source": [
    "w2v1858.wv.most_similar('immigr')"
   ],
   "metadata": {
    "collapsed": false,
    "ExecuteTime": {
     "end_time": "2024-03-08T03:05:03.778347Z",
     "start_time": "2024-03-08T03:05:03.693999Z"
    }
   },
   "id": "2cae159abf04089d"
  },
  {
   "cell_type": "code",
   "execution_count": 102,
   "outputs": [
    {
     "data": {
      "text/plain": "[('austria', 0.7141702771186829),\n ('franc', 0.6947147250175476),\n ('prussia', 0.6877424120903015),\n ('portug', 0.681168794631958),\n ('england', 0.6627368330955505),\n ('russian', 0.6610620617866516),\n ('belgium', 0.6600338816642761),\n ('spain', 0.6540874242782593),\n ('brazil', 0.6474943161010742),\n ('austrian', 0.6467029452323914)]"
     },
     "execution_count": 102,
     "metadata": {},
     "output_type": "execute_result"
    }
   ],
   "source": [
    "w2v1858.wv.most_similar('russia')"
   ],
   "metadata": {
    "collapsed": false,
    "ExecuteTime": {
     "end_time": "2024-03-08T03:08:41.947192Z",
     "start_time": "2024-03-08T03:08:41.888084Z"
    }
   },
   "id": "7e63c83586e7dd23"
  }
 ],
 "metadata": {
  "kernelspec": {
   "display_name": "Python 3",
   "language": "python",
   "name": "python3"
  },
  "language_info": {
   "codemirror_mode": {
    "name": "ipython",
    "version": 2
   },
   "file_extension": ".py",
   "mimetype": "text/x-python",
   "name": "python",
   "nbconvert_exporter": "python",
   "pygments_lexer": "ipython2",
   "version": "2.7.6"
  }
 },
 "nbformat": 4,
 "nbformat_minor": 5
}
