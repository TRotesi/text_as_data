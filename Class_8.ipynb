{
 "cells": [
  {
   "cell_type": "markdown",
   "source": [
    "# Class 8: Parsing - application to gendered language, Named Entities\n"
   ],
   "metadata": {
    "collapsed": false
   },
   "id": "c634e64de2e7ff97"
  },
  {
   "cell_type": "code",
   "execution_count": 1,
   "outputs": [],
   "source": [
    "import spacy\n",
    "from spacy import displacy\n",
    "import pandas as pd "
   ],
   "metadata": {
    "collapsed": false,
    "ExecuteTime": {
     "end_time": "2024-03-15T02:12:43.430850Z",
     "start_time": "2024-03-15T02:12:40.995309Z"
    }
   },
   "id": "d3b2181899f5ef06"
  },
  {
   "cell_type": "code",
   "execution_count": 2,
   "outputs": [
    {
     "data": {
      "text/plain": "           Id                                              Title  Price  \\\n0  0802841899  The Church of Christ: A Biblical Ecclesiology ...  25.97   \n1  0974289108  The Ultimate Guide to Law School Admission: In...  14.95   \n2  0809080699  The Repeal of Reticence: A History of America'...    NaN   \n3  B000NKGYMK                                   Alaska Sourdough    NaN   \n4  B000NKGYMK                                   Alaska Sourdough    NaN   \n\n          User_id          profileName review/helpfulness  review/score  \\\n0   ARI272XF8TOL4  Christopher J. Bray              74/81           5.0   \n1  A1KZ0RDJZQSY4O               sayock              27/29           3.0   \n2  A18YY5TBNSDW3O             Bartleby              29/29           5.0   \n3             NaN                  NaN              36/37           5.0   \n4   AC58Z72OB2DDX       Gary W. Marian              29/30           5.0   \n\n   review/time                                     review/summary  \\\n0    955411200                          Ecclesiological Milestone   \n1   1090368000                     No &quot;Insider&quot; Secrets   \n2    899164800  Great treatment of the defeat of reticence by ...   \n3    949104000                             Real Alaskan Sourdough   \n4    945734400                               True Alaskan cooking   \n\n                                         review/text  review_positive_help  \\\n0  With the publication of Everett Ferguson's boo...                    74   \n1  If you are someone who is fairly new to the la...                    27   \n2  Using a quiet, restrained writing style that i...                    29   \n3  Ruth Allman has written an excellent book abou...                    36   \n4  I have been using this book since 1988, the ei...                    29   \n\n   review_tot_help  \n0               81  \n1               29  \n2               29  \n3               37  \n4               30  ",
      "text/html": "<div>\n<style scoped>\n    .dataframe tbody tr th:only-of-type {\n        vertical-align: middle;\n    }\n\n    .dataframe tbody tr th {\n        vertical-align: top;\n    }\n\n    .dataframe thead th {\n        text-align: right;\n    }\n</style>\n<table border=\"1\" class=\"dataframe\">\n  <thead>\n    <tr style=\"text-align: right;\">\n      <th></th>\n      <th>Id</th>\n      <th>Title</th>\n      <th>Price</th>\n      <th>User_id</th>\n      <th>profileName</th>\n      <th>review/helpfulness</th>\n      <th>review/score</th>\n      <th>review/time</th>\n      <th>review/summary</th>\n      <th>review/text</th>\n      <th>review_positive_help</th>\n      <th>review_tot_help</th>\n    </tr>\n  </thead>\n  <tbody>\n    <tr>\n      <th>0</th>\n      <td>0802841899</td>\n      <td>The Church of Christ: A Biblical Ecclesiology ...</td>\n      <td>25.97</td>\n      <td>ARI272XF8TOL4</td>\n      <td>Christopher J. Bray</td>\n      <td>74/81</td>\n      <td>5.0</td>\n      <td>955411200</td>\n      <td>Ecclesiological Milestone</td>\n      <td>With the publication of Everett Ferguson's boo...</td>\n      <td>74</td>\n      <td>81</td>\n    </tr>\n    <tr>\n      <th>1</th>\n      <td>0974289108</td>\n      <td>The Ultimate Guide to Law School Admission: In...</td>\n      <td>14.95</td>\n      <td>A1KZ0RDJZQSY4O</td>\n      <td>sayock</td>\n      <td>27/29</td>\n      <td>3.0</td>\n      <td>1090368000</td>\n      <td>No &amp;quot;Insider&amp;quot; Secrets</td>\n      <td>If you are someone who is fairly new to the la...</td>\n      <td>27</td>\n      <td>29</td>\n    </tr>\n    <tr>\n      <th>2</th>\n      <td>0809080699</td>\n      <td>The Repeal of Reticence: A History of America'...</td>\n      <td>NaN</td>\n      <td>A18YY5TBNSDW3O</td>\n      <td>Bartleby</td>\n      <td>29/29</td>\n      <td>5.0</td>\n      <td>899164800</td>\n      <td>Great treatment of the defeat of reticence by ...</td>\n      <td>Using a quiet, restrained writing style that i...</td>\n      <td>29</td>\n      <td>29</td>\n    </tr>\n    <tr>\n      <th>3</th>\n      <td>B000NKGYMK</td>\n      <td>Alaska Sourdough</td>\n      <td>NaN</td>\n      <td>NaN</td>\n      <td>NaN</td>\n      <td>36/37</td>\n      <td>5.0</td>\n      <td>949104000</td>\n      <td>Real Alaskan Sourdough</td>\n      <td>Ruth Allman has written an excellent book abou...</td>\n      <td>36</td>\n      <td>37</td>\n    </tr>\n    <tr>\n      <th>4</th>\n      <td>B000NKGYMK</td>\n      <td>Alaska Sourdough</td>\n      <td>NaN</td>\n      <td>AC58Z72OB2DDX</td>\n      <td>Gary W. Marian</td>\n      <td>29/30</td>\n      <td>5.0</td>\n      <td>945734400</td>\n      <td>True Alaskan cooking</td>\n      <td>I have been using this book since 1988, the ei...</td>\n      <td>29</td>\n      <td>30</td>\n    </tr>\n  </tbody>\n</table>\n</div>"
     },
     "execution_count": 2,
     "metadata": {},
     "output_type": "execute_result"
    }
   ],
   "source": [
    "df = pd.read_csv(\"Text_as_data/Data/Class6/book_reviews.csv\")\n",
    "\n",
    "df.head()"
   ],
   "metadata": {
    "collapsed": false,
    "ExecuteTime": {
     "end_time": "2024-03-15T02:12:45.720169Z",
     "start_time": "2024-03-15T02:12:43.432031Z"
    }
   },
   "id": "7ab5f215ecb6cccf"
  },
  {
   "cell_type": "code",
   "execution_count": 3,
   "outputs": [
    {
     "data": {
      "text/plain": "'With the publication of Everett Ferguson\\'s book on ecclesiology, another milestone has been reached in the scholarly presentation of the distinctive theological perspective of Churches of Christ. The book is divided into six chapters, each roughly sixty to seventy pages in length. Within each chapter, Ferguson neatly and systematically outlines his thoughts and arguments. The first chapter, entitled \"The People and the Messiah: History and Eschatology,\" deals mainly with background issues. It examines the Old Testament teaching on the importance of covenant and the meaning of the phrase \"kingdom of God\" in its relationship to an and distinction from the church. Ferguson enters into the New Testament and ecclesiology proper via a consideration of Jesus as Messiah, including a careful exegesis of Matt. 16:13-23, where he concludes that the \"rock\" of Matt. 16:18 is not Peter, but the fact of Jesus\\' Messiahship. Ferguson\\'s analysis of Matt. 16:13-23 is insightful and carefully articulated. Within this section, he gives attention to \"the gates of Hades will not prevail\" and concludes with some interesting yet encouraging insight. In the second chapter, \"The Church and Her Lord: The Nature of the Church,\" Ferguson deals with and focuses on three images, \"people of God,\" \"body of Christ,\" and \"community of the Spirit.\" A peculiar feature in this chapter is placing the discussion of the word ekklesia last rather than first. The latter would seem more appropriate and would seem to set the stage for the chapter, especially for a work of biblical ecclesiology. This great section will open the eyes of the reader and renew his focus of church. That is to say, this chapter correctly puts Christ as the head of the church and gives Him His appropriate place. The third chapter concentrates on, \"The Church and Her Savior: Salvation and Church Membership.\" Essentially this section covers soteriology, which determines ecclesiology, but it is not ecclesiology itself. His full treatment of the nature of sin, the meaning of the cross, and the human response to God\\'s saving work is only loosely linked to his topic of ecclesiology. This is not to say that this section is uninteresting or uninformative because it is quite helpful for a fuller understanding of these matters. Far more important is the content of Ferguson\\'s soteriology. Ferguson is strong when it comes to the necessity of baptism. A few statements will give the reader an idea of his position: \"Baptism is the time at which one is incorporated into Christ and so becomes a child of God\" (pg. 170); \"Baptism is a `calling on the name\\' of the Lord\" (pg. 180); and, \"Baptism is the appointed time at which God pronounces forgiveness\" (pg. 183). He concludes: There must be an objective necessity about baptism, or New Testament writers could not speak of baptism in the way they do\" (pg. 185). How refreshing! In our world of relativity and ecumenism, people need to hear Ferguson\\'s words, especially those in Churches of Christ. The last three chapters move into a more familiar territory for a treatise on the church. Chapter four, \"The Church and Her High Priest: Worship and Assembly\" is a great section for anyone interested in the dynamics of worship. Here, Ferguson begins with a type of etymology as a way of introduction, concentrating on both the Greek and English words. This introduction to the subject sets the stage for the entire chapter. Worship is a hot topic today, thus chapter four is rather applicable for our day with all the differing views. This section is multitudinously faceted and exhaustive. \"The Church and Her Bishop: The Continuing Ministry\" is appropriately the title for the fifth chapter. In this section, Ferguson again touches on some hot topics in the church. It is unfortunate however that he only briefly deals with the debates on miraculous gifts and women\\'s roles. Ferguson advocates a cessasionist position on miraculous gifts and a complementarian position on women\\'s roles, but leaves the reader thirsting for more information and a more comprehensive treatment of the issues. In a day where these two in particular issues are so widely discussed and debated, one would think that they might have received a little concentration. Again, this is not to eradicate what was accomplished in this chapter because it was insightful and obliging, especially given the fact that his discussion on deaconesses was amazingly insightful and well balanced. In chapter six Ferguson adequately covers, \"The Church and Her Teacher: The New Way of Life.\" In this section, he includes an unusually prominent consideration of ethics and a very healthy discussion of the importance of Christian fellowship and its concomitant, church discipline. One last thing that must be mentioned about this chapter is Ferguson\\'s section on unity. Although this section is brief, it is significant and insightful. Ferguson lays out the various aspects of unity and does so in just a few short pages. It serves as an excellent conclusion to a monumental work. Of course, any reader is free to take issue with some of Ferguson\\'s conclusions. For example, the distinction that is made between the temporary and permanent endowments of the Spirit still awaits additional clarification, and there will be those who will score Ferguson, despite his disclaimer, for his synchronic rather than diachronic approach to the New Testament writings. This is a courageous book. Its Reformed-Restorationist slant that the proper doctrine of the church entails a return to the faith and practice of the apostolic church is unmistakable. There are numerous nuggets of exegesis and important points of emphases that make this book worth reading. It is astounding that Ferguson deals with so many facets of ecclesiology in a one-volume work. Not only that, but he also includes a helpful subject index as well as a number of bibliographies. Just a glance at his copious footnotes and it is clear that this book is well researched and well documented. This book should be one that every minister, church leader, and ministry student is required to read and ponder.'"
     },
     "execution_count": 3,
     "metadata": {},
     "output_type": "execute_result"
    }
   ],
   "source": [
    "df.loc[0, 'review/text']"
   ],
   "metadata": {
    "collapsed": false,
    "ExecuteTime": {
     "end_time": "2024-03-15T02:12:45.720991Z",
     "start_time": "2024-03-15T02:12:45.715612Z"
    }
   },
   "id": "e9f43796b26d544d"
  },
  {
   "cell_type": "markdown",
   "source": [
    "### Dependency Parsing"
   ],
   "metadata": {
    "collapsed": false
   },
   "id": "2e37555d04c7350c"
  },
  {
   "cell_type": "code",
   "execution_count": 4,
   "outputs": [
    {
     "data": {
      "text/plain": "<IPython.core.display.HTML object>",
      "text/html": "<span class=\"tex2jax_ignore\"><svg xmlns=\"http://www.w3.org/2000/svg\" xmlns:xlink=\"http://www.w3.org/1999/xlink\" xml:lang=\"en\" id=\"25e30dd5ca32442b96e47d313acaee66-0\" class=\"displacy\" width=\"2675\" height=\"574.5\" direction=\"ltr\" style=\"max-width: none; height: 574.5px; color: #000000; background: #ffffff; font-family: Arial; direction: ltr\">\n<text class=\"displacy-token\" fill=\"currentColor\" text-anchor=\"middle\" y=\"484.5\">\n    <tspan class=\"displacy-word\" fill=\"currentColor\" x=\"50\">The</tspan>\n    <tspan class=\"displacy-tag\" dy=\"2em\" fill=\"currentColor\" x=\"50\">DET</tspan>\n</text>\n\n<text class=\"displacy-token\" fill=\"currentColor\" text-anchor=\"middle\" y=\"484.5\">\n    <tspan class=\"displacy-word\" fill=\"currentColor\" x=\"225\">book</tspan>\n    <tspan class=\"displacy-tag\" dy=\"2em\" fill=\"currentColor\" x=\"225\">NOUN</tspan>\n</text>\n\n<text class=\"displacy-token\" fill=\"currentColor\" text-anchor=\"middle\" y=\"484.5\">\n    <tspan class=\"displacy-word\" fill=\"currentColor\" x=\"400\">is</tspan>\n    <tspan class=\"displacy-tag\" dy=\"2em\" fill=\"currentColor\" x=\"400\">AUX</tspan>\n</text>\n\n<text class=\"displacy-token\" fill=\"currentColor\" text-anchor=\"middle\" y=\"484.5\">\n    <tspan class=\"displacy-word\" fill=\"currentColor\" x=\"575\">divided</tspan>\n    <tspan class=\"displacy-tag\" dy=\"2em\" fill=\"currentColor\" x=\"575\">VERB</tspan>\n</text>\n\n<text class=\"displacy-token\" fill=\"currentColor\" text-anchor=\"middle\" y=\"484.5\">\n    <tspan class=\"displacy-word\" fill=\"currentColor\" x=\"750\">into</tspan>\n    <tspan class=\"displacy-tag\" dy=\"2em\" fill=\"currentColor\" x=\"750\">ADP</tspan>\n</text>\n\n<text class=\"displacy-token\" fill=\"currentColor\" text-anchor=\"middle\" y=\"484.5\">\n    <tspan class=\"displacy-word\" fill=\"currentColor\" x=\"925\">six</tspan>\n    <tspan class=\"displacy-tag\" dy=\"2em\" fill=\"currentColor\" x=\"925\">NUM</tspan>\n</text>\n\n<text class=\"displacy-token\" fill=\"currentColor\" text-anchor=\"middle\" y=\"484.5\">\n    <tspan class=\"displacy-word\" fill=\"currentColor\" x=\"1100\">chapters,</tspan>\n    <tspan class=\"displacy-tag\" dy=\"2em\" fill=\"currentColor\" x=\"1100\">NOUN</tspan>\n</text>\n\n<text class=\"displacy-token\" fill=\"currentColor\" text-anchor=\"middle\" y=\"484.5\">\n    <tspan class=\"displacy-word\" fill=\"currentColor\" x=\"1275\">each</tspan>\n    <tspan class=\"displacy-tag\" dy=\"2em\" fill=\"currentColor\" x=\"1275\">DET</tspan>\n</text>\n\n<text class=\"displacy-token\" fill=\"currentColor\" text-anchor=\"middle\" y=\"484.5\">\n    <tspan class=\"displacy-word\" fill=\"currentColor\" x=\"1450\">roughly</tspan>\n    <tspan class=\"displacy-tag\" dy=\"2em\" fill=\"currentColor\" x=\"1450\">ADV</tspan>\n</text>\n\n<text class=\"displacy-token\" fill=\"currentColor\" text-anchor=\"middle\" y=\"484.5\">\n    <tspan class=\"displacy-word\" fill=\"currentColor\" x=\"1625\">sixty</tspan>\n    <tspan class=\"displacy-tag\" dy=\"2em\" fill=\"currentColor\" x=\"1625\">NUM</tspan>\n</text>\n\n<text class=\"displacy-token\" fill=\"currentColor\" text-anchor=\"middle\" y=\"484.5\">\n    <tspan class=\"displacy-word\" fill=\"currentColor\" x=\"1800\">to</tspan>\n    <tspan class=\"displacy-tag\" dy=\"2em\" fill=\"currentColor\" x=\"1800\">PART</tspan>\n</text>\n\n<text class=\"displacy-token\" fill=\"currentColor\" text-anchor=\"middle\" y=\"484.5\">\n    <tspan class=\"displacy-word\" fill=\"currentColor\" x=\"1975\">seventy</tspan>\n    <tspan class=\"displacy-tag\" dy=\"2em\" fill=\"currentColor\" x=\"1975\">NUM</tspan>\n</text>\n\n<text class=\"displacy-token\" fill=\"currentColor\" text-anchor=\"middle\" y=\"484.5\">\n    <tspan class=\"displacy-word\" fill=\"currentColor\" x=\"2150\">pages</tspan>\n    <tspan class=\"displacy-tag\" dy=\"2em\" fill=\"currentColor\" x=\"2150\">NOUN</tspan>\n</text>\n\n<text class=\"displacy-token\" fill=\"currentColor\" text-anchor=\"middle\" y=\"484.5\">\n    <tspan class=\"displacy-word\" fill=\"currentColor\" x=\"2325\">in</tspan>\n    <tspan class=\"displacy-tag\" dy=\"2em\" fill=\"currentColor\" x=\"2325\">ADP</tspan>\n</text>\n\n<text class=\"displacy-token\" fill=\"currentColor\" text-anchor=\"middle\" y=\"484.5\">\n    <tspan class=\"displacy-word\" fill=\"currentColor\" x=\"2500\">length.</tspan>\n    <tspan class=\"displacy-tag\" dy=\"2em\" fill=\"currentColor\" x=\"2500\">NOUN</tspan>\n</text>\n\n<g class=\"displacy-arrow\">\n    <path class=\"displacy-arc\" id=\"arrow-25e30dd5ca32442b96e47d313acaee66-0-0\" stroke-width=\"2px\" d=\"M70,439.5 C70,352.0 205.0,352.0 205.0,439.5\" fill=\"none\" stroke=\"currentColor\"/>\n    <text dy=\"1.25em\" style=\"font-size: 0.8em; letter-spacing: 1px\">\n        <textPath xlink:href=\"#arrow-25e30dd5ca32442b96e47d313acaee66-0-0\" class=\"displacy-label\" startOffset=\"50%\" side=\"left\" fill=\"currentColor\" text-anchor=\"middle\">det</textPath>\n    </text>\n    <path class=\"displacy-arrowhead\" d=\"M70,441.5 L62,429.5 78,429.5\" fill=\"currentColor\"/>\n</g>\n\n<g class=\"displacy-arrow\">\n    <path class=\"displacy-arc\" id=\"arrow-25e30dd5ca32442b96e47d313acaee66-0-1\" stroke-width=\"2px\" d=\"M245,439.5 C245,264.5 560.0,264.5 560.0,439.5\" fill=\"none\" stroke=\"currentColor\"/>\n    <text dy=\"1.25em\" style=\"font-size: 0.8em; letter-spacing: 1px\">\n        <textPath xlink:href=\"#arrow-25e30dd5ca32442b96e47d313acaee66-0-1\" class=\"displacy-label\" startOffset=\"50%\" side=\"left\" fill=\"currentColor\" text-anchor=\"middle\">nsubjpass</textPath>\n    </text>\n    <path class=\"displacy-arrowhead\" d=\"M245,441.5 L237,429.5 253,429.5\" fill=\"currentColor\"/>\n</g>\n\n<g class=\"displacy-arrow\">\n    <path class=\"displacy-arc\" id=\"arrow-25e30dd5ca32442b96e47d313acaee66-0-2\" stroke-width=\"2px\" d=\"M420,439.5 C420,352.0 555.0,352.0 555.0,439.5\" fill=\"none\" stroke=\"currentColor\"/>\n    <text dy=\"1.25em\" style=\"font-size: 0.8em; letter-spacing: 1px\">\n        <textPath xlink:href=\"#arrow-25e30dd5ca32442b96e47d313acaee66-0-2\" class=\"displacy-label\" startOffset=\"50%\" side=\"left\" fill=\"currentColor\" text-anchor=\"middle\">auxpass</textPath>\n    </text>\n    <path class=\"displacy-arrowhead\" d=\"M420,441.5 L412,429.5 428,429.5\" fill=\"currentColor\"/>\n</g>\n\n<g class=\"displacy-arrow\">\n    <path class=\"displacy-arc\" id=\"arrow-25e30dd5ca32442b96e47d313acaee66-0-3\" stroke-width=\"2px\" d=\"M595,439.5 C595,352.0 730.0,352.0 730.0,439.5\" fill=\"none\" stroke=\"currentColor\"/>\n    <text dy=\"1.25em\" style=\"font-size: 0.8em; letter-spacing: 1px\">\n        <textPath xlink:href=\"#arrow-25e30dd5ca32442b96e47d313acaee66-0-3\" class=\"displacy-label\" startOffset=\"50%\" side=\"left\" fill=\"currentColor\" text-anchor=\"middle\">prep</textPath>\n    </text>\n    <path class=\"displacy-arrowhead\" d=\"M730.0,441.5 L738.0,429.5 722.0,429.5\" fill=\"currentColor\"/>\n</g>\n\n<g class=\"displacy-arrow\">\n    <path class=\"displacy-arc\" id=\"arrow-25e30dd5ca32442b96e47d313acaee66-0-4\" stroke-width=\"2px\" d=\"M945,439.5 C945,352.0 1080.0,352.0 1080.0,439.5\" fill=\"none\" stroke=\"currentColor\"/>\n    <text dy=\"1.25em\" style=\"font-size: 0.8em; letter-spacing: 1px\">\n        <textPath xlink:href=\"#arrow-25e30dd5ca32442b96e47d313acaee66-0-4\" class=\"displacy-label\" startOffset=\"50%\" side=\"left\" fill=\"currentColor\" text-anchor=\"middle\">nummod</textPath>\n    </text>\n    <path class=\"displacy-arrowhead\" d=\"M945,441.5 L937,429.5 953,429.5\" fill=\"currentColor\"/>\n</g>\n\n<g class=\"displacy-arrow\">\n    <path class=\"displacy-arc\" id=\"arrow-25e30dd5ca32442b96e47d313acaee66-0-5\" stroke-width=\"2px\" d=\"M770,439.5 C770,264.5 1085.0,264.5 1085.0,439.5\" fill=\"none\" stroke=\"currentColor\"/>\n    <text dy=\"1.25em\" style=\"font-size: 0.8em; letter-spacing: 1px\">\n        <textPath xlink:href=\"#arrow-25e30dd5ca32442b96e47d313acaee66-0-5\" class=\"displacy-label\" startOffset=\"50%\" side=\"left\" fill=\"currentColor\" text-anchor=\"middle\">pobj</textPath>\n    </text>\n    <path class=\"displacy-arrowhead\" d=\"M1085.0,441.5 L1093.0,429.5 1077.0,429.5\" fill=\"currentColor\"/>\n</g>\n\n<g class=\"displacy-arrow\">\n    <path class=\"displacy-arc\" id=\"arrow-25e30dd5ca32442b96e47d313acaee66-0-6\" stroke-width=\"2px\" d=\"M1295,439.5 C1295,89.5 2145.0,89.5 2145.0,439.5\" fill=\"none\" stroke=\"currentColor\"/>\n    <text dy=\"1.25em\" style=\"font-size: 0.8em; letter-spacing: 1px\">\n        <textPath xlink:href=\"#arrow-25e30dd5ca32442b96e47d313acaee66-0-6\" class=\"displacy-label\" startOffset=\"50%\" side=\"left\" fill=\"currentColor\" text-anchor=\"middle\">det</textPath>\n    </text>\n    <path class=\"displacy-arrowhead\" d=\"M1295,441.5 L1287,429.5 1303,429.5\" fill=\"currentColor\"/>\n</g>\n\n<g class=\"displacy-arrow\">\n    <path class=\"displacy-arc\" id=\"arrow-25e30dd5ca32442b96e47d313acaee66-0-7\" stroke-width=\"2px\" d=\"M1470,439.5 C1470,177.0 1965.0,177.0 1965.0,439.5\" fill=\"none\" stroke=\"currentColor\"/>\n    <text dy=\"1.25em\" style=\"font-size: 0.8em; letter-spacing: 1px\">\n        <textPath xlink:href=\"#arrow-25e30dd5ca32442b96e47d313acaee66-0-7\" class=\"displacy-label\" startOffset=\"50%\" side=\"left\" fill=\"currentColor\" text-anchor=\"middle\">advmod</textPath>\n    </text>\n    <path class=\"displacy-arrowhead\" d=\"M1470,441.5 L1462,429.5 1478,429.5\" fill=\"currentColor\"/>\n</g>\n\n<g class=\"displacy-arrow\">\n    <path class=\"displacy-arc\" id=\"arrow-25e30dd5ca32442b96e47d313acaee66-0-8\" stroke-width=\"2px\" d=\"M1645,439.5 C1645,264.5 1960.0,264.5 1960.0,439.5\" fill=\"none\" stroke=\"currentColor\"/>\n    <text dy=\"1.25em\" style=\"font-size: 0.8em; letter-spacing: 1px\">\n        <textPath xlink:href=\"#arrow-25e30dd5ca32442b96e47d313acaee66-0-8\" class=\"displacy-label\" startOffset=\"50%\" side=\"left\" fill=\"currentColor\" text-anchor=\"middle\">quantmod</textPath>\n    </text>\n    <path class=\"displacy-arrowhead\" d=\"M1645,441.5 L1637,429.5 1653,429.5\" fill=\"currentColor\"/>\n</g>\n\n<g class=\"displacy-arrow\">\n    <path class=\"displacy-arc\" id=\"arrow-25e30dd5ca32442b96e47d313acaee66-0-9\" stroke-width=\"2px\" d=\"M1820,439.5 C1820,352.0 1955.0,352.0 1955.0,439.5\" fill=\"none\" stroke=\"currentColor\"/>\n    <text dy=\"1.25em\" style=\"font-size: 0.8em; letter-spacing: 1px\">\n        <textPath xlink:href=\"#arrow-25e30dd5ca32442b96e47d313acaee66-0-9\" class=\"displacy-label\" startOffset=\"50%\" side=\"left\" fill=\"currentColor\" text-anchor=\"middle\">quantmod</textPath>\n    </text>\n    <path class=\"displacy-arrowhead\" d=\"M1820,441.5 L1812,429.5 1828,429.5\" fill=\"currentColor\"/>\n</g>\n\n<g class=\"displacy-arrow\">\n    <path class=\"displacy-arc\" id=\"arrow-25e30dd5ca32442b96e47d313acaee66-0-10\" stroke-width=\"2px\" d=\"M1995,439.5 C1995,352.0 2130.0,352.0 2130.0,439.5\" fill=\"none\" stroke=\"currentColor\"/>\n    <text dy=\"1.25em\" style=\"font-size: 0.8em; letter-spacing: 1px\">\n        <textPath xlink:href=\"#arrow-25e30dd5ca32442b96e47d313acaee66-0-10\" class=\"displacy-label\" startOffset=\"50%\" side=\"left\" fill=\"currentColor\" text-anchor=\"middle\">nummod</textPath>\n    </text>\n    <path class=\"displacy-arrowhead\" d=\"M1995,441.5 L1987,429.5 2003,429.5\" fill=\"currentColor\"/>\n</g>\n\n<g class=\"displacy-arrow\">\n    <path class=\"displacy-arc\" id=\"arrow-25e30dd5ca32442b96e47d313acaee66-0-11\" stroke-width=\"2px\" d=\"M1120,439.5 C1120,2.0 2150.0,2.0 2150.0,439.5\" fill=\"none\" stroke=\"currentColor\"/>\n    <text dy=\"1.25em\" style=\"font-size: 0.8em; letter-spacing: 1px\">\n        <textPath xlink:href=\"#arrow-25e30dd5ca32442b96e47d313acaee66-0-11\" class=\"displacy-label\" startOffset=\"50%\" side=\"left\" fill=\"currentColor\" text-anchor=\"middle\">appos</textPath>\n    </text>\n    <path class=\"displacy-arrowhead\" d=\"M2150.0,441.5 L2158.0,429.5 2142.0,429.5\" fill=\"currentColor\"/>\n</g>\n\n<g class=\"displacy-arrow\">\n    <path class=\"displacy-arc\" id=\"arrow-25e30dd5ca32442b96e47d313acaee66-0-12\" stroke-width=\"2px\" d=\"M2170,439.5 C2170,352.0 2305.0,352.0 2305.0,439.5\" fill=\"none\" stroke=\"currentColor\"/>\n    <text dy=\"1.25em\" style=\"font-size: 0.8em; letter-spacing: 1px\">\n        <textPath xlink:href=\"#arrow-25e30dd5ca32442b96e47d313acaee66-0-12\" class=\"displacy-label\" startOffset=\"50%\" side=\"left\" fill=\"currentColor\" text-anchor=\"middle\">prep</textPath>\n    </text>\n    <path class=\"displacy-arrowhead\" d=\"M2305.0,441.5 L2313.0,429.5 2297.0,429.5\" fill=\"currentColor\"/>\n</g>\n\n<g class=\"displacy-arrow\">\n    <path class=\"displacy-arc\" id=\"arrow-25e30dd5ca32442b96e47d313acaee66-0-13\" stroke-width=\"2px\" d=\"M2345,439.5 C2345,352.0 2480.0,352.0 2480.0,439.5\" fill=\"none\" stroke=\"currentColor\"/>\n    <text dy=\"1.25em\" style=\"font-size: 0.8em; letter-spacing: 1px\">\n        <textPath xlink:href=\"#arrow-25e30dd5ca32442b96e47d313acaee66-0-13\" class=\"displacy-label\" startOffset=\"50%\" side=\"left\" fill=\"currentColor\" text-anchor=\"middle\">pobj</textPath>\n    </text>\n    <path class=\"displacy-arrowhead\" d=\"M2480.0,441.5 L2488.0,429.5 2472.0,429.5\" fill=\"currentColor\"/>\n</g>\n</svg></span>"
     },
     "metadata": {},
     "output_type": "display_data"
    }
   ],
   "source": [
    "text = 'The book is divided into six chapters, each roughly sixty to seventy pages in length.'\n",
    "nlp = spacy.load('en_core_web_md')\n",
    "doc = nlp(text)\n",
    "# We can see the dependency tree\n",
    "displacy.render(doc, style=\"dep\")"
   ],
   "metadata": {
    "collapsed": false,
    "ExecuteTime": {
     "end_time": "2024-03-15T02:12:46.497428Z",
     "start_time": "2024-03-15T02:12:45.720786Z"
    }
   },
   "id": "38de1cbe5b563f57"
  },
  {
   "cell_type": "code",
   "execution_count": 5,
   "outputs": [
    {
     "name": "stdout",
     "output_type": "stream",
     "text": [
      "The, POS Tag: DET, Dependency Tag: det\n",
      "book, POS Tag: NOUN, Dependency Tag: nsubjpass\n",
      "is, POS Tag: AUX, Dependency Tag: auxpass\n",
      "divided, POS Tag: VERB, Dependency Tag: ROOT\n",
      "into, POS Tag: ADP, Dependency Tag: prep\n",
      "six, POS Tag: NUM, Dependency Tag: nummod\n",
      "chapters, POS Tag: NOUN, Dependency Tag: pobj\n",
      ",, POS Tag: PUNCT, Dependency Tag: punct\n",
      "each, POS Tag: DET, Dependency Tag: det\n",
      "roughly, POS Tag: ADV, Dependency Tag: advmod\n",
      "sixty, POS Tag: NUM, Dependency Tag: quantmod\n",
      "to, POS Tag: PART, Dependency Tag: quantmod\n",
      "seventy, POS Tag: NUM, Dependency Tag: nummod\n",
      "pages, POS Tag: NOUN, Dependency Tag: appos\n",
      "in, POS Tag: ADP, Dependency Tag: prep\n",
      "length, POS Tag: NOUN, Dependency Tag: pobj\n",
      "., POS Tag: PUNCT, Dependency Tag: punct\n"
     ]
    }
   ],
   "source": [
    "\n",
    "for token in doc:\n",
    "    print(f\"{token.text}, POS Tag: {token.pos_}, Dependency Tag: {token.dep_}\")\n"
   ],
   "metadata": {
    "collapsed": false,
    "ExecuteTime": {
     "end_time": "2024-03-15T02:12:46.499674Z",
     "start_time": "2024-03-15T02:12:46.496894Z"
    }
   },
   "id": "5821016c48015667"
  },
  {
   "cell_type": "markdown",
   "source": [
    "List of labels can be found here: https://github.com/clir/clearnlp-guidelines/blob/master/md/specifications/dependency_labels.md"
   ],
   "metadata": {
    "collapsed": false
   },
   "id": "3b38d3767706d610"
  },
  {
   "cell_type": "code",
   "execution_count": 6,
   "outputs": [
    {
     "name": "stdout",
     "output_type": "stream",
     "text": [
      "sentence: The book is divided into six chapters, each roughly sixty to seventy pages in length.\n",
      "root: divided\n",
      "[(book, 'nsubjpass'), (is, 'auxpass'), (into, 'prep'), (., 'punct')]\n"
     ]
    }
   ],
   "source": [
    "for sent in doc.sents:\n",
    "    print(\"sentence:\", sent)\n",
    "    print(\"root:\", sent.root)\n",
    "    print([(w, w.dep_) for w in sent.root.children])   \n",
    "    print()"
   ],
   "metadata": {
    "collapsed": false,
    "ExecuteTime": {
     "end_time": "2024-03-15T02:12:46.502299Z",
     "start_time": "2024-03-15T02:12:46.500763Z"
    }
   },
   "id": "a9170cd85c2ba5ec"
  },
  {
   "cell_type": "code",
   "execution_count": 7,
   "outputs": [],
   "source": [
    "df = df.sample(n=30000, random_state=12)\n",
    "df[\"processed\"] = df['review/text'].apply(lambda x: nlp(x))\n",
    "\n",
    "def extract_subject_verb_pairs(sent):\n",
    "    subjs = [w for w in sent if w.dep_ == \"nsubj\"]\n",
    "    pairs = [(w.lemma_.lower(), w.head.lemma_.lower()) for w in subjs]\n",
    "    return pairs\n",
    "\n",
    "df[\"subj-verb-pairs\"] = df[\"processed\"].apply(lambda x: extract_subject_verb_pairs(x))\n"
   ],
   "metadata": {
    "collapsed": false,
    "ExecuteTime": {
     "end_time": "2024-03-15T02:27:36.055634Z",
     "start_time": "2024-03-15T02:12:46.503459Z"
    }
   },
   "id": "20fd5ecfea78403f"
  },
  {
   "cell_type": "code",
   "execution_count": 8,
   "outputs": [
    {
     "data": {
      "text/plain": "157418    [(i, own), (book, be), (he, start), (shankar, ...\n216111    [(book, be), (that, pass), (character, be), (i...\n103276    [(book, be), (i, read), (i, gain), (that, incr...\n29987     [(they, expect), (percent, respond), (they, do...\n179080    [(i, browse), (fool, disclose), (that, annoys)...\n63415     [(past, be), (it, be), (picture, be), (book, b...\n121872    [(it, be), (it, be), (it, be), (it, be), (it, ...\n172430    [(lounge, imagine), (i, imagine), (they, serve...\n182427    [(i, check), (who, love), (it, be), (that, det...\n11693     [(i, use), (it, be), (it, feel), (suggestion, ...\nName: subj-verb-pairs, dtype: object"
     },
     "execution_count": 8,
     "metadata": {},
     "output_type": "execute_result"
    }
   ],
   "source": [
    "df[\"subj-verb-pairs\"].head(10)"
   ],
   "metadata": {
    "collapsed": false,
    "ExecuteTime": {
     "end_time": "2024-03-15T02:27:36.067957Z",
     "start_time": "2024-03-15T02:27:36.061543Z"
    }
   },
   "id": "4e8ffd305123c7e7"
  },
  {
   "cell_type": "code",
   "execution_count": 9,
   "outputs": [
    {
     "data": {
      "text/plain": "\"I own about a dozen or more books on quantum mechanics and Shankar's is by far my favorite. He starts out with an excellent chapter on the mathematical prerequisites of the subject and then develops the theory from the postulates, always having the student in mind. Shankar is obviously a man with high exposition skills (I wonder if he plays the sitar as well as he writes quantum mechanics?).I highly recommend this book over Cohen-Tannoudji (too thick!) or Griffiths (which deceptively looks like a good book until you actually start reading the text and attempting the poor selection of problems).\""
     },
     "execution_count": 9,
     "metadata": {},
     "output_type": "execute_result"
    }
   ],
   "source": [
    "df.loc[157418, 'review/text']"
   ],
   "metadata": {
    "collapsed": false,
    "ExecuteTime": {
     "end_time": "2024-03-15T02:27:36.074416Z",
     "start_time": "2024-03-15T02:27:36.067384Z"
    }
   },
   "id": "3b1126eb4fdc9ae"
  },
  {
   "cell_type": "code",
   "execution_count": 10,
   "outputs": [
    {
     "data": {
      "text/plain": "[('i', 'own'),\n ('book', 'be'),\n ('he', 'start'),\n ('shankar', 'be'),\n ('i', 'wonder'),\n ('he', 'play'),\n ('he', 'write'),\n ('mechanics?).i', 'recommend'),\n ('which', 'look'),\n ('you', 'start')]"
     },
     "execution_count": 10,
     "metadata": {},
     "output_type": "execute_result"
    }
   ],
   "source": [
    "df.loc[157418, \"subj-verb-pairs\"]"
   ],
   "metadata": {
    "collapsed": false,
    "ExecuteTime": {
     "end_time": "2024-03-15T02:27:36.076736Z",
     "start_time": "2024-03-15T02:27:36.072722Z"
    }
   },
   "id": "9a5c7ac662ba535d"
  },
  {
   "cell_type": "code",
   "execution_count": 11,
   "outputs": [
    {
     "data": {
      "text/plain": "  Subject   Verb  Count\n0      it     be  32954\n1    this     be  13333\n2       i     be  11753\n3    book     be  11194\n4    that     be   8654\n5       i   read   7307\n6      he     be   5671\n7       i  think   5465\n8       i   have   5391\n9       i   find   5023",
      "text/html": "<div>\n<style scoped>\n    .dataframe tbody tr th:only-of-type {\n        vertical-align: middle;\n    }\n\n    .dataframe tbody tr th {\n        vertical-align: top;\n    }\n\n    .dataframe thead th {\n        text-align: right;\n    }\n</style>\n<table border=\"1\" class=\"dataframe\">\n  <thead>\n    <tr style=\"text-align: right;\">\n      <th></th>\n      <th>Subject</th>\n      <th>Verb</th>\n      <th>Count</th>\n    </tr>\n  </thead>\n  <tbody>\n    <tr>\n      <th>0</th>\n      <td>it</td>\n      <td>be</td>\n      <td>32954</td>\n    </tr>\n    <tr>\n      <th>1</th>\n      <td>this</td>\n      <td>be</td>\n      <td>13333</td>\n    </tr>\n    <tr>\n      <th>2</th>\n      <td>i</td>\n      <td>be</td>\n      <td>11753</td>\n    </tr>\n    <tr>\n      <th>3</th>\n      <td>book</td>\n      <td>be</td>\n      <td>11194</td>\n    </tr>\n    <tr>\n      <th>4</th>\n      <td>that</td>\n      <td>be</td>\n      <td>8654</td>\n    </tr>\n    <tr>\n      <th>5</th>\n      <td>i</td>\n      <td>read</td>\n      <td>7307</td>\n    </tr>\n    <tr>\n      <th>6</th>\n      <td>he</td>\n      <td>be</td>\n      <td>5671</td>\n    </tr>\n    <tr>\n      <th>7</th>\n      <td>i</td>\n      <td>think</td>\n      <td>5465</td>\n    </tr>\n    <tr>\n      <th>8</th>\n      <td>i</td>\n      <td>have</td>\n      <td>5391</td>\n    </tr>\n    <tr>\n      <th>9</th>\n      <td>i</td>\n      <td>find</td>\n      <td>5023</td>\n    </tr>\n  </tbody>\n</table>\n</div>"
     },
     "execution_count": 11,
     "metadata": {},
     "output_type": "execute_result"
    }
   ],
   "source": [
    "import pandas as pd\n",
    "\n",
    "# Assuming 'df' is your existing DataFrame\n",
    "\n",
    "# Step 1: Flatten the list of subject-verb pairs from the 'subj-verb-pairs' column\n",
    "all_subj_verb_pairs = [pair for sublist in df['subj-verb-pairs'] for pair in sublist]\n",
    "\n",
    "# Step 2: Convert the list of pairs to a DataFrame and count the occurrences\n",
    "subj_verb_df = pd.DataFrame(all_subj_verb_pairs, columns=['Subject', 'Verb'])\n",
    "subj_verb_counts = subj_verb_df.groupby(['Subject', 'Verb']).size().reset_index(name='Count')\n",
    "\n",
    "# Step 3: Sort the pairs by their count in descending order to see the most common pairs\n",
    "most_common_pairs = subj_verb_counts.sort_values(by='Count', ascending=False).reset_index(drop=True)\n",
    "\n",
    "# Optional: Filter or display only the top N for clarity\n",
    "most_common_pairs.head(10)  # Adjust N to your preference"
   ],
   "metadata": {
    "collapsed": false,
    "ExecuteTime": {
     "end_time": "2024-03-15T02:27:36.274048Z",
     "start_time": "2024-03-15T02:27:36.111040Z"
    }
   },
   "id": "5f5a69ce3ea9a771"
  },
  {
   "cell_type": "code",
   "execution_count": 12,
   "outputs": [
    {
     "data": {
      "text/plain": "       Subject        Verb  Count\n6           he          be   5671\n30          he        have   1606\n52          he          do   1072\n58          he       write    927\n67          he         say    834\n...        ...         ...    ...\n134245      he      unseat      1\n134246      he     unravel      1\n134247      he   unpopular      1\n134248      he  unpleasant      1\n134249      he      unlock      1\n\n[2241 rows x 3 columns]",
      "text/html": "<div>\n<style scoped>\n    .dataframe tbody tr th:only-of-type {\n        vertical-align: middle;\n    }\n\n    .dataframe tbody tr th {\n        vertical-align: top;\n    }\n\n    .dataframe thead th {\n        text-align: right;\n    }\n</style>\n<table border=\"1\" class=\"dataframe\">\n  <thead>\n    <tr style=\"text-align: right;\">\n      <th></th>\n      <th>Subject</th>\n      <th>Verb</th>\n      <th>Count</th>\n    </tr>\n  </thead>\n  <tbody>\n    <tr>\n      <th>6</th>\n      <td>he</td>\n      <td>be</td>\n      <td>5671</td>\n    </tr>\n    <tr>\n      <th>30</th>\n      <td>he</td>\n      <td>have</td>\n      <td>1606</td>\n    </tr>\n    <tr>\n      <th>52</th>\n      <td>he</td>\n      <td>do</td>\n      <td>1072</td>\n    </tr>\n    <tr>\n      <th>58</th>\n      <td>he</td>\n      <td>write</td>\n      <td>927</td>\n    </tr>\n    <tr>\n      <th>67</th>\n      <td>he</td>\n      <td>say</td>\n      <td>834</td>\n    </tr>\n    <tr>\n      <th>...</th>\n      <td>...</td>\n      <td>...</td>\n      <td>...</td>\n    </tr>\n    <tr>\n      <th>134245</th>\n      <td>he</td>\n      <td>unseat</td>\n      <td>1</td>\n    </tr>\n    <tr>\n      <th>134246</th>\n      <td>he</td>\n      <td>unravel</td>\n      <td>1</td>\n    </tr>\n    <tr>\n      <th>134247</th>\n      <td>he</td>\n      <td>unpopular</td>\n      <td>1</td>\n    </tr>\n    <tr>\n      <th>134248</th>\n      <td>he</td>\n      <td>unpleasant</td>\n      <td>1</td>\n    </tr>\n    <tr>\n      <th>134249</th>\n      <td>he</td>\n      <td>unlock</td>\n      <td>1</td>\n    </tr>\n  </tbody>\n</table>\n<p>2241 rows × 3 columns</p>\n</div>"
     },
     "execution_count": 12,
     "metadata": {},
     "output_type": "execute_result"
    }
   ],
   "source": [
    "most_common_pairs.loc[most_common_pairs['Subject']==\"he\"]"
   ],
   "metadata": {
    "collapsed": false,
    "ExecuteTime": {
     "end_time": "2024-03-15T02:27:36.284596Z",
     "start_time": "2024-03-15T02:27:36.279682Z"
    }
   },
   "id": "ba65f07d40b727fb"
  },
  {
   "cell_type": "code",
   "execution_count": 13,
   "outputs": [
    {
     "data": {
      "text/plain": "      Subject       Verb  Count\n18        she         be   2530\n65        she       have    843\n140       she         do    401\n142       she      write    397\n196       she        say    291\n...       ...        ...    ...\n61112     she      wrong      1\n61113     she     writte      1\n61114     she     writhe      1\n61120     she      worry      1\n61124     she  withstand      1\n\n[1395 rows x 3 columns]",
      "text/html": "<div>\n<style scoped>\n    .dataframe tbody tr th:only-of-type {\n        vertical-align: middle;\n    }\n\n    .dataframe tbody tr th {\n        vertical-align: top;\n    }\n\n    .dataframe thead th {\n        text-align: right;\n    }\n</style>\n<table border=\"1\" class=\"dataframe\">\n  <thead>\n    <tr style=\"text-align: right;\">\n      <th></th>\n      <th>Subject</th>\n      <th>Verb</th>\n      <th>Count</th>\n    </tr>\n  </thead>\n  <tbody>\n    <tr>\n      <th>18</th>\n      <td>she</td>\n      <td>be</td>\n      <td>2530</td>\n    </tr>\n    <tr>\n      <th>65</th>\n      <td>she</td>\n      <td>have</td>\n      <td>843</td>\n    </tr>\n    <tr>\n      <th>140</th>\n      <td>she</td>\n      <td>do</td>\n      <td>401</td>\n    </tr>\n    <tr>\n      <th>142</th>\n      <td>she</td>\n      <td>write</td>\n      <td>397</td>\n    </tr>\n    <tr>\n      <th>196</th>\n      <td>she</td>\n      <td>say</td>\n      <td>291</td>\n    </tr>\n    <tr>\n      <th>...</th>\n      <td>...</td>\n      <td>...</td>\n      <td>...</td>\n    </tr>\n    <tr>\n      <th>61112</th>\n      <td>she</td>\n      <td>wrong</td>\n      <td>1</td>\n    </tr>\n    <tr>\n      <th>61113</th>\n      <td>she</td>\n      <td>writte</td>\n      <td>1</td>\n    </tr>\n    <tr>\n      <th>61114</th>\n      <td>she</td>\n      <td>writhe</td>\n      <td>1</td>\n    </tr>\n    <tr>\n      <th>61120</th>\n      <td>she</td>\n      <td>worry</td>\n      <td>1</td>\n    </tr>\n    <tr>\n      <th>61124</th>\n      <td>she</td>\n      <td>withstand</td>\n      <td>1</td>\n    </tr>\n  </tbody>\n</table>\n<p>1395 rows × 3 columns</p>\n</div>"
     },
     "execution_count": 13,
     "metadata": {},
     "output_type": "execute_result"
    }
   ],
   "source": [
    "most_common_pairs.loc[most_common_pairs['Subject']==\"she\"]\n"
   ],
   "metadata": {
    "collapsed": false,
    "ExecuteTime": {
     "end_time": "2024-03-15T02:27:36.303575Z",
     "start_time": "2024-03-15T02:27:36.290168Z"
    }
   },
   "id": "792eb2f6234e8449"
  },
  {
   "cell_type": "code",
   "execution_count": 14,
   "outputs": [],
   "source": [
    "male_nouns = [ \"man\", \"boy\", \"father\", \"son\", \"brother\", \"husband\", \"uncle\", \"nephew\", \"emperor\",\n",
    "    \"king\", \"prince\", \"duke\", \"lord\", \"knight\", \"waiter\", \"actor\", \"god\", \"policeman\",\n",
    "    \"postman\", \"hero\", \"wizard\", \"steward\", \"he\", \"men\", \"boys\", \"fathers\",\n",
    "    \"sons\", \"brothers\", \"husbands\", \"uncles\", \"nephews\", \"emperors\", \"kings\", \"princes\",\n",
    "    \"dukes\", \"lords\", \"knights\", \"waiters\", \"actors\", \"gods\", \"policemen\", \"postmen\",\n",
    "    \"heros\", \"wizards\", \"stewards\"]\n",
    "\n",
    "female_nouns = [ \"woman\", \"girl\", \"mother\", \"daughter\", \"sister\", \"wife\", \"aunt\", \"niece\", \"empress\",\n",
    "    \"queen\", \"princess\", \"duchess\", \"lady\", \"dame\", \"waitress\", \"actress\", \"goddess\",\n",
    "    \"policewoman\", \"postwoman\", \"heroine\", \"witch\", \"stewardess\", \"she\", \"women\", \"girls\",\n",
    "    \"mothers\", \"daughters\", \"sisters\", \"wives\", \"aunts\", \"nieces\", \"empresses\", \"queens\",\n",
    "    \"princesses\", \"duchesses\", \"ladies\", \"dames\", \"waitresses\", \"actresses\", \"goddesses\",\n",
    "    \"policewomen\", \"postwomen\", \"heroines\", \"witches\", \"stewardesses\"]\n"
   ],
   "metadata": {
    "collapsed": false,
    "ExecuteTime": {
     "end_time": "2024-03-15T02:27:36.326715Z",
     "start_time": "2024-03-15T02:27:36.299619Z"
    }
   },
   "id": "6f9b00dc475c2632"
  },
  {
   "cell_type": "markdown",
   "source": [
    "We can try to build our own PMI to see which words are associated with male and female nouns. "
   ],
   "metadata": {
    "collapsed": false
   },
   "id": "d39899b21c87359d"
  },
  {
   "cell_type": "code",
   "execution_count": 15,
   "outputs": [],
   "source": [
    "#replace them using <MALE> or <FEMALE>\n",
    "subj_verb_counts_gender = subj_verb_counts.copy(deep=True)\n",
    "subj_verb_counts_gender['Subject'] = subj_verb_counts_gender['Subject'].apply(lambda x: \"<MALE>\" if x in male_nouns else x)\n",
    "subj_verb_counts_gender['Subject'] = subj_verb_counts_gender['Subject'].apply(lambda x: \"<FEMALE>\" if x in female_nouns else x)"
   ],
   "metadata": {
    "collapsed": false,
    "ExecuteTime": {
     "end_time": "2024-03-15T02:27:36.474083Z",
     "start_time": "2024-03-15T02:27:36.303193Z"
    }
   },
   "id": "f66e6184373d63e2"
  },
  {
   "cell_type": "code",
   "execution_count": 16,
   "outputs": [
    {
     "data": {
      "text/plain": "       Subject     Verb  Count\n2098    <MALE>       be      6\n2099    <MALE>     come      2\n2100    <MALE>  deliver      2\n2101    <MALE>  develop      1\n2102    <MALE>       do      2\n...        ...      ...    ...\n131590  <MALE>       be      1\n131591  <MALE>   flaunt      1\n131592  <MALE>  provide      1\n131593  <MALE>     rule      1\n131594  <MALE>     seem      1\n\n[4033 rows x 3 columns]",
      "text/html": "<div>\n<style scoped>\n    .dataframe tbody tr th:only-of-type {\n        vertical-align: middle;\n    }\n\n    .dataframe tbody tr th {\n        vertical-align: top;\n    }\n\n    .dataframe thead th {\n        text-align: right;\n    }\n</style>\n<table border=\"1\" class=\"dataframe\">\n  <thead>\n    <tr style=\"text-align: right;\">\n      <th></th>\n      <th>Subject</th>\n      <th>Verb</th>\n      <th>Count</th>\n    </tr>\n  </thead>\n  <tbody>\n    <tr>\n      <th>2098</th>\n      <td>&lt;MALE&gt;</td>\n      <td>be</td>\n      <td>6</td>\n    </tr>\n    <tr>\n      <th>2099</th>\n      <td>&lt;MALE&gt;</td>\n      <td>come</td>\n      <td>2</td>\n    </tr>\n    <tr>\n      <th>2100</th>\n      <td>&lt;MALE&gt;</td>\n      <td>deliver</td>\n      <td>2</td>\n    </tr>\n    <tr>\n      <th>2101</th>\n      <td>&lt;MALE&gt;</td>\n      <td>develop</td>\n      <td>1</td>\n    </tr>\n    <tr>\n      <th>2102</th>\n      <td>&lt;MALE&gt;</td>\n      <td>do</td>\n      <td>2</td>\n    </tr>\n    <tr>\n      <th>...</th>\n      <td>...</td>\n      <td>...</td>\n      <td>...</td>\n    </tr>\n    <tr>\n      <th>131590</th>\n      <td>&lt;MALE&gt;</td>\n      <td>be</td>\n      <td>1</td>\n    </tr>\n    <tr>\n      <th>131591</th>\n      <td>&lt;MALE&gt;</td>\n      <td>flaunt</td>\n      <td>1</td>\n    </tr>\n    <tr>\n      <th>131592</th>\n      <td>&lt;MALE&gt;</td>\n      <td>provide</td>\n      <td>1</td>\n    </tr>\n    <tr>\n      <th>131593</th>\n      <td>&lt;MALE&gt;</td>\n      <td>rule</td>\n      <td>1</td>\n    </tr>\n    <tr>\n      <th>131594</th>\n      <td>&lt;MALE&gt;</td>\n      <td>seem</td>\n      <td>1</td>\n    </tr>\n  </tbody>\n</table>\n<p>4033 rows × 3 columns</p>\n</div>"
     },
     "execution_count": 16,
     "metadata": {},
     "output_type": "execute_result"
    }
   ],
   "source": [
    "subj_verb_counts_gender.loc[subj_verb_counts_gender['Subject']==\"<MALE>\"]"
   ],
   "metadata": {
    "collapsed": false,
    "ExecuteTime": {
     "end_time": "2024-03-15T02:27:36.476063Z",
     "start_time": "2024-03-15T02:27:36.428510Z"
    }
   },
   "id": "cd75404c0f0f6016"
  },
  {
   "cell_type": "code",
   "execution_count": 17,
   "outputs": [
    {
     "data": {
      "text/plain": "         Subject    Verb  Count\n2117    <FEMALE>      be      4\n2118    <FEMALE>  launch      1\n2119    <FEMALE>    look      1\n7812    <FEMALE>      be      4\n7813    <FEMALE>     beg      1\n...          ...     ...    ...\n132054  <FEMALE>      be     18\n132055  <FEMALE>    live      1\n132056  <FEMALE>   lousy      2\n132057  <FEMALE>    need      1\n132058  <FEMALE>    shut      1\n\n[2465 rows x 3 columns]",
      "text/html": "<div>\n<style scoped>\n    .dataframe tbody tr th:only-of-type {\n        vertical-align: middle;\n    }\n\n    .dataframe tbody tr th {\n        vertical-align: top;\n    }\n\n    .dataframe thead th {\n        text-align: right;\n    }\n</style>\n<table border=\"1\" class=\"dataframe\">\n  <thead>\n    <tr style=\"text-align: right;\">\n      <th></th>\n      <th>Subject</th>\n      <th>Verb</th>\n      <th>Count</th>\n    </tr>\n  </thead>\n  <tbody>\n    <tr>\n      <th>2117</th>\n      <td>&lt;FEMALE&gt;</td>\n      <td>be</td>\n      <td>4</td>\n    </tr>\n    <tr>\n      <th>2118</th>\n      <td>&lt;FEMALE&gt;</td>\n      <td>launch</td>\n      <td>1</td>\n    </tr>\n    <tr>\n      <th>2119</th>\n      <td>&lt;FEMALE&gt;</td>\n      <td>look</td>\n      <td>1</td>\n    </tr>\n    <tr>\n      <th>7812</th>\n      <td>&lt;FEMALE&gt;</td>\n      <td>be</td>\n      <td>4</td>\n    </tr>\n    <tr>\n      <th>7813</th>\n      <td>&lt;FEMALE&gt;</td>\n      <td>beg</td>\n      <td>1</td>\n    </tr>\n    <tr>\n      <th>...</th>\n      <td>...</td>\n      <td>...</td>\n      <td>...</td>\n    </tr>\n    <tr>\n      <th>132054</th>\n      <td>&lt;FEMALE&gt;</td>\n      <td>be</td>\n      <td>18</td>\n    </tr>\n    <tr>\n      <th>132055</th>\n      <td>&lt;FEMALE&gt;</td>\n      <td>live</td>\n      <td>1</td>\n    </tr>\n    <tr>\n      <th>132056</th>\n      <td>&lt;FEMALE&gt;</td>\n      <td>lousy</td>\n      <td>2</td>\n    </tr>\n    <tr>\n      <th>132057</th>\n      <td>&lt;FEMALE&gt;</td>\n      <td>need</td>\n      <td>1</td>\n    </tr>\n    <tr>\n      <th>132058</th>\n      <td>&lt;FEMALE&gt;</td>\n      <td>shut</td>\n      <td>1</td>\n    </tr>\n  </tbody>\n</table>\n<p>2465 rows × 3 columns</p>\n</div>"
     },
     "execution_count": 17,
     "metadata": {},
     "output_type": "execute_result"
    }
   ],
   "source": [
    "subj_verb_counts_gender.loc[subj_verb_counts_gender['Subject']==\"<FEMALE>\"]\n"
   ],
   "metadata": {
    "collapsed": false,
    "ExecuteTime": {
     "end_time": "2024-03-15T02:27:36.476673Z",
     "start_time": "2024-03-15T02:27:36.447266Z"
    }
   },
   "id": "78732a6491d5e02f"
  },
  {
   "cell_type": "code",
   "execution_count": 18,
   "outputs": [
    {
     "data": {
      "text/plain": "        Subject   Verb  Count\n58894        it     be  32954\n116359     this     be  13333\n53512         i     be  11753\n16525      book     be  11194\n111718     that     be   8654\n...         ...    ...    ...\n50864   hiaasen  outdo      1\n50863   hiaasen  forge      1\n50862   hiaasen   dumb      1\n50861        hi   want      1\n133544    ~this     be      1\n\n[133545 rows x 3 columns]",
      "text/html": "<div>\n<style scoped>\n    .dataframe tbody tr th:only-of-type {\n        vertical-align: middle;\n    }\n\n    .dataframe tbody tr th {\n        vertical-align: top;\n    }\n\n    .dataframe thead th {\n        text-align: right;\n    }\n</style>\n<table border=\"1\" class=\"dataframe\">\n  <thead>\n    <tr style=\"text-align: right;\">\n      <th></th>\n      <th>Subject</th>\n      <th>Verb</th>\n      <th>Count</th>\n    </tr>\n  </thead>\n  <tbody>\n    <tr>\n      <th>58894</th>\n      <td>it</td>\n      <td>be</td>\n      <td>32954</td>\n    </tr>\n    <tr>\n      <th>116359</th>\n      <td>this</td>\n      <td>be</td>\n      <td>13333</td>\n    </tr>\n    <tr>\n      <th>53512</th>\n      <td>i</td>\n      <td>be</td>\n      <td>11753</td>\n    </tr>\n    <tr>\n      <th>16525</th>\n      <td>book</td>\n      <td>be</td>\n      <td>11194</td>\n    </tr>\n    <tr>\n      <th>111718</th>\n      <td>that</td>\n      <td>be</td>\n      <td>8654</td>\n    </tr>\n    <tr>\n      <th>...</th>\n      <td>...</td>\n      <td>...</td>\n      <td>...</td>\n    </tr>\n    <tr>\n      <th>50864</th>\n      <td>hiaasen</td>\n      <td>outdo</td>\n      <td>1</td>\n    </tr>\n    <tr>\n      <th>50863</th>\n      <td>hiaasen</td>\n      <td>forge</td>\n      <td>1</td>\n    </tr>\n    <tr>\n      <th>50862</th>\n      <td>hiaasen</td>\n      <td>dumb</td>\n      <td>1</td>\n    </tr>\n    <tr>\n      <th>50861</th>\n      <td>hi</td>\n      <td>want</td>\n      <td>1</td>\n    </tr>\n    <tr>\n      <th>133544</th>\n      <td>~this</td>\n      <td>be</td>\n      <td>1</td>\n    </tr>\n  </tbody>\n</table>\n<p>133545 rows × 3 columns</p>\n</div>"
     },
     "execution_count": 18,
     "metadata": {},
     "output_type": "execute_result"
    }
   ],
   "source": [
    "#We need to aggregate because we created new duplicates \n",
    "subj_verb_counts_gender = subj_verb_counts_gender.groupby(['Subject', 'Verb'])['Count'].sum().reset_index()\n",
    "subj_verb_counts_gender.sort_values(by='Count', ascending=False)"
   ],
   "metadata": {
    "collapsed": false,
    "ExecuteTime": {
     "end_time": "2024-03-15T02:27:36.539965Z",
     "start_time": "2024-03-15T02:27:36.457740Z"
    }
   },
   "id": "b48c43f325c872f7"
  },
  {
   "cell_type": "code",
   "execution_count": 19,
   "outputs": [],
   "source": [
    "import numpy as np\n",
    "\n",
    "import numpy as np\n",
    "\n",
    "def calculate_pmi(subject, verb, dataframe):\n",
    "    try:\n",
    "        total_count = dataframe['Count'].sum()\n",
    "\n",
    "        # Sum of \"Counts\" for all rows containing the specified subject\n",
    "        subject_sum = dataframe[dataframe['Subject'] == subject]['Count'].sum()\n",
    "\n",
    "        # Sum of \"Counts\" for all rows containing the specified verb\n",
    "        verb_sum = dataframe[dataframe['Verb'] == verb]['Count'].sum()\n",
    "\n",
    "        # Check if subject or verb is not in the dataset\n",
    "        if subject_sum == 0 or verb_sum == 0:\n",
    "            raise ValueError(f\"Either subject '{subject}' or verb '{verb}' does not exist in the dataset.\")\n",
    "\n",
    "        # Number of \"Counts\" for the row that corresponds to the \"Verb\" and \"Subject\"\n",
    "        specific_pair_count = dataframe[(dataframe['Subject'] == subject) & (dataframe['Verb'] == verb)]['Count'].sum()\n",
    "\n",
    "        # Check if the specific subject-verb pair never occurs together\n",
    "        if specific_pair_count == 0:\n",
    "            raise ValueError(f\"The specific subject-verb pair ('{subject}', '{verb}') never occurs together in the dataset.\")\n",
    "\n",
    "        # Calculate probabilities\n",
    "        p_x_y = specific_pair_count / total_count\n",
    "        p_x = subject_sum / total_count\n",
    "        p_y = verb_sum / total_count\n",
    "\n",
    "        # Calculate PMI\n",
    "        pmi = np.log(p_x_y / (p_x * p_y))\n",
    "        return pmi\n",
    "\n",
    "    except ValueError as e:\n",
    "        # Return the error message instead of raising an exception, or handle it as desired\n",
    "        return str(e)\n",
    "\n"
   ],
   "metadata": {
    "collapsed": false,
    "ExecuteTime": {
     "end_time": "2024-03-15T02:27:36.551659Z",
     "start_time": "2024-03-15T02:27:36.506699Z"
    }
   },
   "id": "6966409079b13914"
  },
  {
   "cell_type": "code",
   "execution_count": 20,
   "outputs": [
    {
     "data": {
      "text/plain": "0.5080249426507637"
     },
     "execution_count": 20,
     "metadata": {},
     "output_type": "execute_result"
    }
   ],
   "source": [
    "calculate_pmi(\"<MALE>\", \"fight\", subj_verb_counts_gender)"
   ],
   "metadata": {
    "collapsed": false,
    "ExecuteTime": {
     "end_time": "2024-03-15T02:27:36.566516Z",
     "start_time": "2024-03-15T02:27:36.508784Z"
    }
   },
   "id": "667cc4af6319cc2"
  },
  {
   "cell_type": "code",
   "execution_count": 21,
   "outputs": [],
   "source": [
    "# Step 1: Identify verbs that appear at least 50 times\n",
    "verbs_at_least_50 = subj_verb_counts_gender.groupby('Verb')['Count'].sum()\n",
    "verbs_at_least_50 = verbs_at_least_50[verbs_at_least_50 >= 50].index.tolist()\n",
    "\n",
    "# Initialize lists to store PMI results\n",
    "male_pmi_list = []\n",
    "female_pmi_list = []\n",
    "\n",
    "# Step 2 & 3: Calculate the PMI for \"<MALE>\" and \"<FEMALE>\" with these verbs\n",
    "for verb in verbs_at_least_50:\n",
    "    male_pmi = calculate_pmi(\"<MALE>\", verb, subj_verb_counts_gender)\n",
    "    female_pmi = calculate_pmi(\"<FEMALE>\", verb, subj_verb_counts_gender)\n",
    "\n",
    "    # Append the results to the lists\n",
    "    male_pmi_list.append({'Verb': verb, 'PMI': male_pmi})\n",
    "    female_pmi_list.append({'Verb': verb, 'PMI': female_pmi})\n",
    "\n",
    "# Step 4: Store the PMI values in separate dataframes\n",
    "male_df = pd.DataFrame(male_pmi_list)\n",
    "female_df = pd.DataFrame(female_pmi_list)\n",
    "\n",
    "# Optionally, you might want to handle or filter out potential errors or 'NaN' values from the PMI calculation\n",
    "male_df = male_df.dropna()  # This removes rows where PMI couldn't be calculated\n",
    "female_df = female_df.dropna()\n"
   ],
   "metadata": {
    "collapsed": false,
    "ExecuteTime": {
     "end_time": "2024-03-15T02:27:58.064301Z",
     "start_time": "2024-03-15T02:27:36.534437Z"
    }
   },
   "id": "cd3ee7649144bbfe"
  },
  {
   "cell_type": "code",
   "execution_count": 22,
   "outputs": [
    {
     "data": {
      "text/plain": "        Verb                                                PMI\n0         's  The specific subject-verb pair ('<MALE>', ''s'...\n1    abandon                                           0.866159\n2     abound  The specific subject-verb pair ('<MALE>', 'abo...\n3     absorb                                          -1.283735\n4      abuse                                           1.229029\n..       ...                                                ...\n738    worth                                          -2.003315\n739    would                                          -0.572569\n740    write                                           1.088192\n741    wrong                                          -1.136504\n742    yield  The specific subject-verb pair ('<MALE>', 'yie...\n\n[743 rows x 2 columns]",
      "text/html": "<div>\n<style scoped>\n    .dataframe tbody tr th:only-of-type {\n        vertical-align: middle;\n    }\n\n    .dataframe tbody tr th {\n        vertical-align: top;\n    }\n\n    .dataframe thead th {\n        text-align: right;\n    }\n</style>\n<table border=\"1\" class=\"dataframe\">\n  <thead>\n    <tr style=\"text-align: right;\">\n      <th></th>\n      <th>Verb</th>\n      <th>PMI</th>\n    </tr>\n  </thead>\n  <tbody>\n    <tr>\n      <th>0</th>\n      <td>'s</td>\n      <td>The specific subject-verb pair ('&lt;MALE&gt;', ''s'...</td>\n    </tr>\n    <tr>\n      <th>1</th>\n      <td>abandon</td>\n      <td>0.866159</td>\n    </tr>\n    <tr>\n      <th>2</th>\n      <td>abound</td>\n      <td>The specific subject-verb pair ('&lt;MALE&gt;', 'abo...</td>\n    </tr>\n    <tr>\n      <th>3</th>\n      <td>absorb</td>\n      <td>-1.283735</td>\n    </tr>\n    <tr>\n      <th>4</th>\n      <td>abuse</td>\n      <td>1.229029</td>\n    </tr>\n    <tr>\n      <th>...</th>\n      <td>...</td>\n      <td>...</td>\n    </tr>\n    <tr>\n      <th>738</th>\n      <td>worth</td>\n      <td>-2.003315</td>\n    </tr>\n    <tr>\n      <th>739</th>\n      <td>would</td>\n      <td>-0.572569</td>\n    </tr>\n    <tr>\n      <th>740</th>\n      <td>write</td>\n      <td>1.088192</td>\n    </tr>\n    <tr>\n      <th>741</th>\n      <td>wrong</td>\n      <td>-1.136504</td>\n    </tr>\n    <tr>\n      <th>742</th>\n      <td>yield</td>\n      <td>The specific subject-verb pair ('&lt;MALE&gt;', 'yie...</td>\n    </tr>\n  </tbody>\n</table>\n<p>743 rows × 2 columns</p>\n</div>"
     },
     "execution_count": 22,
     "metadata": {},
     "output_type": "execute_result"
    }
   ],
   "source": [
    "male_df"
   ],
   "metadata": {
    "collapsed": false,
    "ExecuteTime": {
     "end_time": "2024-03-15T02:27:58.076037Z",
     "start_time": "2024-03-15T02:27:58.066792Z"
    }
   },
   "id": "e5dfafa6705ec974"
  },
  {
   "cell_type": "code",
   "execution_count": 23,
   "outputs": [],
   "source": [
    "# Convert the 'PMI' column to numeric, coercing errors to NaN, then drop NaN values for male_df\n",
    "male_df['PMI'] = pd.to_numeric(male_df['PMI'], errors='coerce')\n",
    "male_df = male_df.dropna(subset=['PMI'])\n",
    "\n",
    "# Repeat the process for female_df\n",
    "female_df['PMI'] = pd.to_numeric(female_df['PMI'], errors='coerce')\n",
    "female_df = female_df.dropna(subset=['PMI'])"
   ],
   "metadata": {
    "collapsed": false,
    "ExecuteTime": {
     "end_time": "2024-03-15T02:27:58.076242Z",
     "start_time": "2024-03-15T02:27:58.071065Z"
    }
   },
   "id": "f2c86e43b8003908"
  },
  {
   "cell_type": "code",
   "execution_count": 24,
   "outputs": [
    {
     "data": {
      "text/plain": "         Verb       PMI\n80      bless  2.518474\n295    forbid  2.066488\n112      cite  1.684599\n361   inherit  1.575182\n122   command  1.549479\n..        ...       ...\n323    happen -2.508035\n356  increase -2.605490\n576    result -2.709421\n377   involve -3.010955\n148   contain -4.373965\n\n[699 rows x 2 columns]",
      "text/html": "<div>\n<style scoped>\n    .dataframe tbody tr th:only-of-type {\n        vertical-align: middle;\n    }\n\n    .dataframe tbody tr th {\n        vertical-align: top;\n    }\n\n    .dataframe thead th {\n        text-align: right;\n    }\n</style>\n<table border=\"1\" class=\"dataframe\">\n  <thead>\n    <tr style=\"text-align: right;\">\n      <th></th>\n      <th>Verb</th>\n      <th>PMI</th>\n    </tr>\n  </thead>\n  <tbody>\n    <tr>\n      <th>80</th>\n      <td>bless</td>\n      <td>2.518474</td>\n    </tr>\n    <tr>\n      <th>295</th>\n      <td>forbid</td>\n      <td>2.066488</td>\n    </tr>\n    <tr>\n      <th>112</th>\n      <td>cite</td>\n      <td>1.684599</td>\n    </tr>\n    <tr>\n      <th>361</th>\n      <td>inherit</td>\n      <td>1.575182</td>\n    </tr>\n    <tr>\n      <th>122</th>\n      <td>command</td>\n      <td>1.549479</td>\n    </tr>\n    <tr>\n      <th>...</th>\n      <td>...</td>\n      <td>...</td>\n    </tr>\n    <tr>\n      <th>323</th>\n      <td>happen</td>\n      <td>-2.508035</td>\n    </tr>\n    <tr>\n      <th>356</th>\n      <td>increase</td>\n      <td>-2.605490</td>\n    </tr>\n    <tr>\n      <th>576</th>\n      <td>result</td>\n      <td>-2.709421</td>\n    </tr>\n    <tr>\n      <th>377</th>\n      <td>involve</td>\n      <td>-3.010955</td>\n    </tr>\n    <tr>\n      <th>148</th>\n      <td>contain</td>\n      <td>-4.373965</td>\n    </tr>\n  </tbody>\n</table>\n<p>699 rows × 2 columns</p>\n</div>"
     },
     "execution_count": 24,
     "metadata": {},
     "output_type": "execute_result"
    }
   ],
   "source": [
    "male_df.sort_values(by=['PMI'], ascending=False)"
   ],
   "metadata": {
    "collapsed": false,
    "ExecuteTime": {
     "end_time": "2024-03-15T02:27:58.091515Z",
     "start_time": "2024-03-15T02:27:58.073577Z"
    }
   },
   "id": "3d8a8d45d2389773"
  },
  {
   "cell_type": "code",
   "execution_count": 25,
   "outputs": [
    {
     "data": {
      "text/plain": "          Verb       PMI\n418      marry  2.048892\n625      sleep  1.772397\n135    conduct  1.765883\n440       obey  1.741626\n370  interview  1.660076\n..         ...       ...\n109      check -1.839712\n115      clear -1.882454\n23      affect -2.103084\n669    suspect -2.229036\n148    contain -3.521572\n\n[629 rows x 2 columns]",
      "text/html": "<div>\n<style scoped>\n    .dataframe tbody tr th:only-of-type {\n        vertical-align: middle;\n    }\n\n    .dataframe tbody tr th {\n        vertical-align: top;\n    }\n\n    .dataframe thead th {\n        text-align: right;\n    }\n</style>\n<table border=\"1\" class=\"dataframe\">\n  <thead>\n    <tr style=\"text-align: right;\">\n      <th></th>\n      <th>Verb</th>\n      <th>PMI</th>\n    </tr>\n  </thead>\n  <tbody>\n    <tr>\n      <th>418</th>\n      <td>marry</td>\n      <td>2.048892</td>\n    </tr>\n    <tr>\n      <th>625</th>\n      <td>sleep</td>\n      <td>1.772397</td>\n    </tr>\n    <tr>\n      <th>135</th>\n      <td>conduct</td>\n      <td>1.765883</td>\n    </tr>\n    <tr>\n      <th>440</th>\n      <td>obey</td>\n      <td>1.741626</td>\n    </tr>\n    <tr>\n      <th>370</th>\n      <td>interview</td>\n      <td>1.660076</td>\n    </tr>\n    <tr>\n      <th>...</th>\n      <td>...</td>\n      <td>...</td>\n    </tr>\n    <tr>\n      <th>109</th>\n      <td>check</td>\n      <td>-1.839712</td>\n    </tr>\n    <tr>\n      <th>115</th>\n      <td>clear</td>\n      <td>-1.882454</td>\n    </tr>\n    <tr>\n      <th>23</th>\n      <td>affect</td>\n      <td>-2.103084</td>\n    </tr>\n    <tr>\n      <th>669</th>\n      <td>suspect</td>\n      <td>-2.229036</td>\n    </tr>\n    <tr>\n      <th>148</th>\n      <td>contain</td>\n      <td>-3.521572</td>\n    </tr>\n  </tbody>\n</table>\n<p>629 rows × 2 columns</p>\n</div>"
     },
     "execution_count": 25,
     "metadata": {},
     "output_type": "execute_result"
    }
   ],
   "source": [
    "female_df.sort_values(by=['PMI'], ascending=False)"
   ],
   "metadata": {
    "collapsed": false,
    "ExecuteTime": {
     "end_time": "2024-03-15T02:27:58.100920Z",
     "start_time": "2024-03-15T02:27:58.084453Z"
    }
   },
   "id": "9ee2213f4bd357fb"
  },
  {
   "cell_type": "markdown",
   "source": [
    "### Named Entities"
   ],
   "metadata": {
    "collapsed": false
   },
   "id": "c6d741e14589fa40"
  },
  {
   "cell_type": "code",
   "execution_count": 26,
   "outputs": [],
   "source": [
    "def extract_named_entities(sent):\n",
    "    # Extract named entities and their labels from the sentence\n",
    "    entities = [(ent.text, ent.label_) for ent in sent.ents]\n",
    "    return entities\n",
    "\n",
    "# Apply the function to the 'processed' column to create a new 'named_entities' column\n",
    "df[\"named_entities\"] = df[\"processed\"].apply(lambda x: extract_named_entities(x))\n"
   ],
   "metadata": {
    "collapsed": false,
    "ExecuteTime": {
     "end_time": "2024-03-15T02:27:59.052819Z",
     "start_time": "2024-03-15T02:27:58.121928Z"
    }
   },
   "id": "430ee3b7a8491e62"
  },
  {
   "cell_type": "code",
   "execution_count": 27,
   "outputs": [
    {
     "data": {
      "text/plain": "157418    [(about a dozen, CARDINAL), (Shankar, PERSON),...\n216111    [(these days, DATE), (Two, CARDINAL), (bush, P...\n103276    [(three, CARDINAL), (ages 13, 18, DATE), (22, ...\n29987     [(several years ago, DATE), (MIT, ORG), (half,...\n179080    [(first, ORDINAL), (first, ORDINAL), (Wednesda...\n63415            [(Rome, GPE), (Hadrian, ORG), (Rome, GPE)]\n121872    [(The Seven Pillars, WORK_OF_ART), (Lawrence, ...\n172430       [(Etta's &amp, ORG), (the Dahlia Lounge, ORG)]\n182427                                                   []\n11693                                                    []\nName: named_entities, dtype: object"
     },
     "execution_count": 27,
     "metadata": {},
     "output_type": "execute_result"
    }
   ],
   "source": [
    "df[\"named_entities\"].head(10)\n"
   ],
   "metadata": {
    "collapsed": false,
    "ExecuteTime": {
     "end_time": "2024-03-15T02:27:59.064998Z",
     "start_time": "2024-03-15T02:27:59.055311Z"
    }
   },
   "id": "e90d98b98a91f296"
  },
  {
   "cell_type": "code",
   "execution_count": 28,
   "outputs": [
    {
     "data": {
      "text/plain": "          Entity        Label  Count\n0          first      ORDINAL   9176\n1            one     CARDINAL   8621\n2            two     CARDINAL   4876\n3       American         NORP   2813\n4          today         DATE   2438\n5      Christian         NORP   2137\n6            One     CARDINAL   2096\n7          three     CARDINAL   1899\n8        English     LANGUAGE   1874\n9         second      ORDINAL   1788\n10       America          GPE   1755\n11         Bible  WORK_OF_ART   1692\n12         Jesus       PERSON   1439\n13  Christianity         NORP   1081\n14             2     CARDINAL   1050\n15    Christians         NORP    954\n16         First      ORDINAL    891\n17            US          GPE    885\n18          four     CARDINAL    843\n19             3     CARDINAL    835",
      "text/html": "<div>\n<style scoped>\n    .dataframe tbody tr th:only-of-type {\n        vertical-align: middle;\n    }\n\n    .dataframe tbody tr th {\n        vertical-align: top;\n    }\n\n    .dataframe thead th {\n        text-align: right;\n    }\n</style>\n<table border=\"1\" class=\"dataframe\">\n  <thead>\n    <tr style=\"text-align: right;\">\n      <th></th>\n      <th>Entity</th>\n      <th>Label</th>\n      <th>Count</th>\n    </tr>\n  </thead>\n  <tbody>\n    <tr>\n      <th>0</th>\n      <td>first</td>\n      <td>ORDINAL</td>\n      <td>9176</td>\n    </tr>\n    <tr>\n      <th>1</th>\n      <td>one</td>\n      <td>CARDINAL</td>\n      <td>8621</td>\n    </tr>\n    <tr>\n      <th>2</th>\n      <td>two</td>\n      <td>CARDINAL</td>\n      <td>4876</td>\n    </tr>\n    <tr>\n      <th>3</th>\n      <td>American</td>\n      <td>NORP</td>\n      <td>2813</td>\n    </tr>\n    <tr>\n      <th>4</th>\n      <td>today</td>\n      <td>DATE</td>\n      <td>2438</td>\n    </tr>\n    <tr>\n      <th>5</th>\n      <td>Christian</td>\n      <td>NORP</td>\n      <td>2137</td>\n    </tr>\n    <tr>\n      <th>6</th>\n      <td>One</td>\n      <td>CARDINAL</td>\n      <td>2096</td>\n    </tr>\n    <tr>\n      <th>7</th>\n      <td>three</td>\n      <td>CARDINAL</td>\n      <td>1899</td>\n    </tr>\n    <tr>\n      <th>8</th>\n      <td>English</td>\n      <td>LANGUAGE</td>\n      <td>1874</td>\n    </tr>\n    <tr>\n      <th>9</th>\n      <td>second</td>\n      <td>ORDINAL</td>\n      <td>1788</td>\n    </tr>\n    <tr>\n      <th>10</th>\n      <td>America</td>\n      <td>GPE</td>\n      <td>1755</td>\n    </tr>\n    <tr>\n      <th>11</th>\n      <td>Bible</td>\n      <td>WORK_OF_ART</td>\n      <td>1692</td>\n    </tr>\n    <tr>\n      <th>12</th>\n      <td>Jesus</td>\n      <td>PERSON</td>\n      <td>1439</td>\n    </tr>\n    <tr>\n      <th>13</th>\n      <td>Christianity</td>\n      <td>NORP</td>\n      <td>1081</td>\n    </tr>\n    <tr>\n      <th>14</th>\n      <td>2</td>\n      <td>CARDINAL</td>\n      <td>1050</td>\n    </tr>\n    <tr>\n      <th>15</th>\n      <td>Christians</td>\n      <td>NORP</td>\n      <td>954</td>\n    </tr>\n    <tr>\n      <th>16</th>\n      <td>First</td>\n      <td>ORDINAL</td>\n      <td>891</td>\n    </tr>\n    <tr>\n      <th>17</th>\n      <td>US</td>\n      <td>GPE</td>\n      <td>885</td>\n    </tr>\n    <tr>\n      <th>18</th>\n      <td>four</td>\n      <td>CARDINAL</td>\n      <td>843</td>\n    </tr>\n    <tr>\n      <th>19</th>\n      <td>3</td>\n      <td>CARDINAL</td>\n      <td>835</td>\n    </tr>\n  </tbody>\n</table>\n</div>"
     },
     "execution_count": 28,
     "metadata": {},
     "output_type": "execute_result"
    }
   ],
   "source": [
    "# Step 1: Flatten the list of tuples from the 'named_entities' column\n",
    "all_entities = [entity for sublist in df['named_entities'] for entity in sublist]\n",
    "\n",
    "# Step 2: Convert the list of entities to a DataFrame and count the occurrences\n",
    "entities_df = pd.DataFrame(all_entities, columns=['Entity', 'Label'])\n",
    "entity_counts = entities_df.groupby(['Entity', 'Label']).size().reset_index(name='Count')\n",
    "\n",
    "# Step 3: Sort the entities by their count in descending order to see the most common entities\n",
    "most_common_entities = entity_counts.sort_values(by='Count', ascending=False).reset_index(drop=True)\n",
    "\n",
    "# Optional: you might want to filter or display only the top N for clarity\n",
    "most_common_entities.head(20)  # Adjust N to your preference\n"
   ],
   "metadata": {
    "collapsed": false,
    "ExecuteTime": {
     "end_time": "2024-03-15T02:27:59.214070Z",
     "start_time": "2024-03-15T02:27:59.086361Z"
    }
   },
   "id": "6960430c8e4c0398"
  },
  {
   "cell_type": "code",
   "execution_count": 29,
   "outputs": [
    {
     "data": {
      "text/plain": "           Entity   Label  Count\n12          Jesus  PERSON   1439\n28          Lewis  PERSON    717\n31           Bush  PERSON    677\n36          Kerry  PERSON    613\n38         Hitler  PERSON    606\n46          Smith  PERSON    493\n53        Clinton  PERSON    441\n55          Joyce  PERSON    430\n63         Darwin  PERSON    372\n64    Shakespeare  PERSON    369\n69        Dickens  PERSON    338\n80   Joseph Smith  PERSON    294\n82           Paul  PERSON    283\n85         Austen  PERSON    280\n95          James  PERSON    245\n106        Jordan  PERSON    230\n107      Heinlein  PERSON    227\n110          John  PERSON    223\n114         Alice  PERSON    217\n115        Reagan  PERSON    213",
      "text/html": "<div>\n<style scoped>\n    .dataframe tbody tr th:only-of-type {\n        vertical-align: middle;\n    }\n\n    .dataframe tbody tr th {\n        vertical-align: top;\n    }\n\n    .dataframe thead th {\n        text-align: right;\n    }\n</style>\n<table border=\"1\" class=\"dataframe\">\n  <thead>\n    <tr style=\"text-align: right;\">\n      <th></th>\n      <th>Entity</th>\n      <th>Label</th>\n      <th>Count</th>\n    </tr>\n  </thead>\n  <tbody>\n    <tr>\n      <th>12</th>\n      <td>Jesus</td>\n      <td>PERSON</td>\n      <td>1439</td>\n    </tr>\n    <tr>\n      <th>28</th>\n      <td>Lewis</td>\n      <td>PERSON</td>\n      <td>717</td>\n    </tr>\n    <tr>\n      <th>31</th>\n      <td>Bush</td>\n      <td>PERSON</td>\n      <td>677</td>\n    </tr>\n    <tr>\n      <th>36</th>\n      <td>Kerry</td>\n      <td>PERSON</td>\n      <td>613</td>\n    </tr>\n    <tr>\n      <th>38</th>\n      <td>Hitler</td>\n      <td>PERSON</td>\n      <td>606</td>\n    </tr>\n    <tr>\n      <th>46</th>\n      <td>Smith</td>\n      <td>PERSON</td>\n      <td>493</td>\n    </tr>\n    <tr>\n      <th>53</th>\n      <td>Clinton</td>\n      <td>PERSON</td>\n      <td>441</td>\n    </tr>\n    <tr>\n      <th>55</th>\n      <td>Joyce</td>\n      <td>PERSON</td>\n      <td>430</td>\n    </tr>\n    <tr>\n      <th>63</th>\n      <td>Darwin</td>\n      <td>PERSON</td>\n      <td>372</td>\n    </tr>\n    <tr>\n      <th>64</th>\n      <td>Shakespeare</td>\n      <td>PERSON</td>\n      <td>369</td>\n    </tr>\n    <tr>\n      <th>69</th>\n      <td>Dickens</td>\n      <td>PERSON</td>\n      <td>338</td>\n    </tr>\n    <tr>\n      <th>80</th>\n      <td>Joseph Smith</td>\n      <td>PERSON</td>\n      <td>294</td>\n    </tr>\n    <tr>\n      <th>82</th>\n      <td>Paul</td>\n      <td>PERSON</td>\n      <td>283</td>\n    </tr>\n    <tr>\n      <th>85</th>\n      <td>Austen</td>\n      <td>PERSON</td>\n      <td>280</td>\n    </tr>\n    <tr>\n      <th>95</th>\n      <td>James</td>\n      <td>PERSON</td>\n      <td>245</td>\n    </tr>\n    <tr>\n      <th>106</th>\n      <td>Jordan</td>\n      <td>PERSON</td>\n      <td>230</td>\n    </tr>\n    <tr>\n      <th>107</th>\n      <td>Heinlein</td>\n      <td>PERSON</td>\n      <td>227</td>\n    </tr>\n    <tr>\n      <th>110</th>\n      <td>John</td>\n      <td>PERSON</td>\n      <td>223</td>\n    </tr>\n    <tr>\n      <th>114</th>\n      <td>Alice</td>\n      <td>PERSON</td>\n      <td>217</td>\n    </tr>\n    <tr>\n      <th>115</th>\n      <td>Reagan</td>\n      <td>PERSON</td>\n      <td>213</td>\n    </tr>\n  </tbody>\n</table>\n</div>"
     },
     "execution_count": 29,
     "metadata": {},
     "output_type": "execute_result"
    }
   ],
   "source": [
    "most_common_entities.loc[most_common_entities['Label']==\"PERSON\"].head(20)  # Adjust N to your preference\n"
   ],
   "metadata": {
    "collapsed": false,
    "ExecuteTime": {
     "end_time": "2024-03-15T02:27:59.228127Z",
     "start_time": "2024-03-15T02:27:59.217145Z"
    }
   },
   "id": "38a12a7b2317c0"
  },
  {
   "cell_type": "markdown",
   "source": [
    "### Semantic Role Labeling\n",
    "\n",
    "Please open the following notebook for more details on Semantic Role Labeling:\n",
    "\n",
    "[Class 8 - Google Colab](https://colab.research.google.com/drive/1TA7GxMYPbGb2__BEZCMtSw90rvB4oM03?usp=sharing)\n"
   ],
   "metadata": {
    "collapsed": false
   },
   "id": "12bb925d50abaf02"
  },
  {
   "cell_type": "code",
   "execution_count": null,
   "outputs": [],
   "source": [],
   "metadata": {
    "collapsed": false
   },
   "id": "c75051845fd67785"
  }
 ],
 "metadata": {
  "kernelspec": {
   "display_name": "Python 3",
   "language": "python",
   "name": "python3"
  },
  "language_info": {
   "codemirror_mode": {
    "name": "ipython",
    "version": 2
   },
   "file_extension": ".py",
   "mimetype": "text/x-python",
   "name": "python",
   "nbconvert_exporter": "python",
   "pygments_lexer": "ipython2",
   "version": "2.7.6"
  }
 },
 "nbformat": 4,
 "nbformat_minor": 5
}
